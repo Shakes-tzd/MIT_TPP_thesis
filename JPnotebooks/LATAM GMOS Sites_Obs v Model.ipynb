{
 "cells": [
  {
   "cell_type": "markdown",
   "metadata": {},
   "source": [
    "# Model vs Observations"
   ]
  },
  {
   "cell_type": "markdown",
   "metadata": {},
   "source": [
    "## Import Needed Libraries"
   ]
  },
  {
   "cell_type": "code",
   "execution_count": 1,
   "metadata": {
    "execution": {
     "iopub.execute_input": "2022-06-08T21:29:58.866157Z",
     "iopub.status.busy": "2022-06-08T21:29:58.865870Z",
     "iopub.status.idle": "2022-06-08T21:29:58.870347Z",
     "shell.execute_reply": "2022-06-08T21:29:58.869973Z",
     "shell.execute_reply.started": "2022-06-08T21:29:58.866136Z"
    },
    "tags": []
   },
   "outputs": [],
   "source": [
    "%matplotlib inline\n",
    "#import needed modules to plot data\n",
    "import numpy as np\n",
    "import pandas as pd\n",
    "import csv\n",
    "import xarray as xr\n",
    "import csv\n",
    "import datetime\n",
    "from scipy import stats\n",
    "#import cartopy.crs as ccrs\n",
    "# from gamap_colormap import WhGrYlRd  # import the \"WhGrYlRd\" variable from my custom Python script\n",
    "# type(WhGrYlRd)  # our custom colormap"
   ]
  },
  {
   "cell_type": "code",
   "execution_count": 2,
   "metadata": {
    "execution": {
     "iopub.execute_input": "2022-06-07T17:50:46.443761Z",
     "iopub.status.busy": "2022-06-07T17:50:46.443546Z",
     "iopub.status.idle": "2022-06-07T17:50:46.922148Z",
     "shell.execute_reply": "2022-06-07T17:50:46.921737Z",
     "shell.execute_reply.started": "2022-06-07T17:50:46.443741Z"
    },
    "tags": []
   },
   "outputs": [],
   "source": [
    "#Upload baseline ATM Hg at Chacaltaya\n",
    "ds_baseCHC=xr.open_mfdataset('/net/fs03/d1/tzd/RAworkflow/GCrun/baseMDD/merra2_2x25_Hg/OutputDir/GEOSChem.SpeciesConcCHC.201*.nc4',\n",
    "                             concat_dim=['time'], combine='nested')"
   ]
  },
  {
   "cell_type": "code",
   "execution_count": 3,
   "metadata": {
    "execution": {
     "iopub.execute_input": "2022-06-07T17:50:46.922998Z",
     "iopub.status.busy": "2022-06-07T17:50:46.922807Z",
     "iopub.status.idle": "2022-06-07T17:50:47.303142Z",
     "shell.execute_reply": "2022-06-07T17:50:47.302731Z",
     "shell.execute_reply.started": "2022-06-07T17:50:46.922979Z"
    }
   },
   "outputs": [],
   "source": [
    "#Upload ATM Hg at Chacaltaya after 2x emission increase in MDD\n",
    "ds_CHC_mdd=xr.open_mfdataset('/net/fs03/d1/tzd/RAworkflow/GCrun/2xMDD/merra2_2x25_Hg/OutputDir/GEOSChem.SpeciesConcCHC.201*.nc4',\n",
    "                             concat_dim=['time'], combine='nested')"
   ]
  },
  {
   "cell_type": "code",
   "execution_count": 4,
   "metadata": {
    "execution": {
     "iopub.execute_input": "2022-06-07T17:50:47.304181Z",
     "iopub.status.busy": "2022-06-07T17:50:47.303899Z",
     "iopub.status.idle": "2022-06-07T17:50:47.685622Z",
     "shell.execute_reply": "2022-06-07T17:50:47.685209Z",
     "shell.execute_reply.started": "2022-06-07T17:50:47.304162Z"
    }
   },
   "outputs": [],
   "source": [
    "#Upload ATM Hg at Chacaltaya after 2x emission increase in Arequipa\n",
    "ds_CHC_aqp=xr.open_mfdataset('/net/fs03/d1/tzd/RAworkflow/GCrun/aqp_updated/merra2_2x25_Hg/OutputDir/GEOSChem.SpeciesConcCHC.201*.nc4',\n",
    "                             concat_dim=['time'], combine='nested')"
   ]
  },
  {
   "cell_type": "code",
   "execution_count": 5,
   "metadata": {
    "execution": {
     "iopub.execute_input": "2022-06-07T17:50:47.686641Z",
     "iopub.status.busy": "2022-06-07T17:50:47.686366Z",
     "iopub.status.idle": "2022-06-07T17:50:48.068710Z",
     "shell.execute_reply": "2022-06-07T17:50:48.068294Z",
     "shell.execute_reply.started": "2022-06-07T17:50:47.686622Z"
    }
   },
   "outputs": [],
   "source": [
    "#Upload ATM Hg at Chacaltaya after 2x emission increase in South Puno\n",
    "ds_CHC_Spuno=xr.open_mfdataset('/net/fs03/d1/tzd/RAworkflow/GCrun/Puno/SouthPuno_C/merra2_2x25_Hg/OutputDir/GEOSChem.SpeciesConcCHC.201*.nc4',\n",
    "                             concat_dim=['time'], combine='nested')"
   ]
  },
  {
   "cell_type": "code",
   "execution_count": 6,
   "metadata": {
    "execution": {
     "iopub.execute_input": "2022-06-07T17:50:48.069720Z",
     "iopub.status.busy": "2022-06-07T17:50:48.069449Z",
     "iopub.status.idle": "2022-06-07T17:50:48.553444Z",
     "shell.execute_reply": "2022-06-07T17:50:48.553024Z",
     "shell.execute_reply.started": "2022-06-07T17:50:48.069701Z"
    },
    "tags": []
   },
   "outputs": [],
   "source": [
    "#Upload ATM Hg at Chacaltaya after 2x emission increase in North Puno\n",
    "ds_CHC_Npuno=xr.open_mfdataset('/net/fs03/d1/tzd/RAworkflow/GCrun/Puno/merra2_2x25_Hg/OutputDir/GEOSChem.SpeciesConcCHC.201*.nc4',\n",
    "                             concat_dim=['time'], combine='nested')"
   ]
  },
  {
   "cell_type": "code",
   "execution_count": 7,
   "metadata": {
    "execution": {
     "iopub.execute_input": "2022-06-07T17:50:48.555323Z",
     "iopub.status.busy": "2022-06-07T17:50:48.555128Z",
     "iopub.status.idle": "2022-06-07T17:50:48.961868Z",
     "shell.execute_reply": "2022-06-07T17:50:48.961427Z",
     "shell.execute_reply.started": "2022-06-07T17:50:48.555305Z"
    },
    "tags": []
   },
   "outputs": [],
   "source": [
    "#Upload ATM Hg at Chacaltaya after 2x emission increase in Apurímac\n",
    "ds_CHC_aprc=xr.open_mfdataset('/net/fs03/d1/tzd/RAworkflow/GCrun/150percent_MDD_emit/merra2_2x25_Hg/OutputDir/GEOSChem.SpeciesConcCHC.201*.nc4',\n",
    "                             concat_dim=['time'], combine='nested')\n"
   ]
  },
  {
   "cell_type": "code",
   "execution_count": 8,
   "metadata": {
    "execution": {
     "iopub.execute_input": "2022-06-08T21:30:15.604885Z",
     "iopub.status.busy": "2022-06-08T21:30:15.604624Z",
     "iopub.status.idle": "2022-06-08T21:30:15.651673Z",
     "shell.execute_reply": "2022-06-08T21:30:15.651299Z",
     "shell.execute_reply.started": "2022-06-08T21:30:15.604865Z"
    }
   },
   "outputs": [
    {
     "data": {
      "text/html": [
       "<div><svg style=\"position: absolute; width: 0; height: 0; overflow: hidden\">\n",
       "<defs>\n",
       "<symbol id=\"icon-database\" viewBox=\"0 0 32 32\">\n",
       "<path d=\"M16 0c-8.837 0-16 2.239-16 5v4c0 2.761 7.163 5 16 5s16-2.239 16-5v-4c0-2.761-7.163-5-16-5z\"></path>\n",
       "<path d=\"M16 17c-8.837 0-16-2.239-16-5v6c0 2.761 7.163 5 16 5s16-2.239 16-5v-6c0 2.761-7.163 5-16 5z\"></path>\n",
       "<path d=\"M16 26c-8.837 0-16-2.239-16-5v6c0 2.761 7.163 5 16 5s16-2.239 16-5v-6c0 2.761-7.163 5-16 5z\"></path>\n",
       "</symbol>\n",
       "<symbol id=\"icon-file-text2\" viewBox=\"0 0 32 32\">\n",
       "<path d=\"M28.681 7.159c-0.694-0.947-1.662-2.053-2.724-3.116s-2.169-2.030-3.116-2.724c-1.612-1.182-2.393-1.319-2.841-1.319h-15.5c-1.378 0-2.5 1.121-2.5 2.5v27c0 1.378 1.122 2.5 2.5 2.5h23c1.378 0 2.5-1.122 2.5-2.5v-19.5c0-0.448-0.137-1.23-1.319-2.841zM24.543 5.457c0.959 0.959 1.712 1.825 2.268 2.543h-4.811v-4.811c0.718 0.556 1.584 1.309 2.543 2.268zM28 29.5c0 0.271-0.229 0.5-0.5 0.5h-23c-0.271 0-0.5-0.229-0.5-0.5v-27c0-0.271 0.229-0.5 0.5-0.5 0 0 15.499-0 15.5 0v7c0 0.552 0.448 1 1 1h7v19.5z\"></path>\n",
       "<path d=\"M23 26h-14c-0.552 0-1-0.448-1-1s0.448-1 1-1h14c0.552 0 1 0.448 1 1s-0.448 1-1 1z\"></path>\n",
       "<path d=\"M23 22h-14c-0.552 0-1-0.448-1-1s0.448-1 1-1h14c0.552 0 1 0.448 1 1s-0.448 1-1 1z\"></path>\n",
       "<path d=\"M23 18h-14c-0.552 0-1-0.448-1-1s0.448-1 1-1h14c0.552 0 1 0.448 1 1s-0.448 1-1 1z\"></path>\n",
       "</symbol>\n",
       "</defs>\n",
       "</svg>\n",
       "<style>/* CSS stylesheet for displaying xarray objects in jupyterlab.\n",
       " *\n",
       " */\n",
       "\n",
       ":root {\n",
       "  --xr-font-color0: var(--jp-content-font-color0, rgba(0, 0, 0, 1));\n",
       "  --xr-font-color2: var(--jp-content-font-color2, rgba(0, 0, 0, 0.54));\n",
       "  --xr-font-color3: var(--jp-content-font-color3, rgba(0, 0, 0, 0.38));\n",
       "  --xr-border-color: var(--jp-border-color2, #e0e0e0);\n",
       "  --xr-disabled-color: var(--jp-layout-color3, #bdbdbd);\n",
       "  --xr-background-color: var(--jp-layout-color0, white);\n",
       "  --xr-background-color-row-even: var(--jp-layout-color1, white);\n",
       "  --xr-background-color-row-odd: var(--jp-layout-color2, #eeeeee);\n",
       "}\n",
       "\n",
       "html[theme=dark],\n",
       "body.vscode-dark {\n",
       "  --xr-font-color0: rgba(255, 255, 255, 1);\n",
       "  --xr-font-color2: rgba(255, 255, 255, 0.54);\n",
       "  --xr-font-color3: rgba(255, 255, 255, 0.38);\n",
       "  --xr-border-color: #1F1F1F;\n",
       "  --xr-disabled-color: #515151;\n",
       "  --xr-background-color: #111111;\n",
       "  --xr-background-color-row-even: #111111;\n",
       "  --xr-background-color-row-odd: #313131;\n",
       "}\n",
       "\n",
       ".xr-wrap {\n",
       "  display: block;\n",
       "  min-width: 300px;\n",
       "  max-width: 700px;\n",
       "}\n",
       "\n",
       ".xr-text-repr-fallback {\n",
       "  /* fallback to plain text repr when CSS is not injected (untrusted notebook) */\n",
       "  display: none;\n",
       "}\n",
       "\n",
       ".xr-header {\n",
       "  padding-top: 6px;\n",
       "  padding-bottom: 6px;\n",
       "  margin-bottom: 4px;\n",
       "  border-bottom: solid 1px var(--xr-border-color);\n",
       "}\n",
       "\n",
       ".xr-header > div,\n",
       ".xr-header > ul {\n",
       "  display: inline;\n",
       "  margin-top: 0;\n",
       "  margin-bottom: 0;\n",
       "}\n",
       "\n",
       ".xr-obj-type,\n",
       ".xr-array-name {\n",
       "  margin-left: 2px;\n",
       "  margin-right: 10px;\n",
       "}\n",
       "\n",
       ".xr-obj-type {\n",
       "  color: var(--xr-font-color2);\n",
       "}\n",
       "\n",
       ".xr-sections {\n",
       "  padding-left: 0 !important;\n",
       "  display: grid;\n",
       "  grid-template-columns: 150px auto auto 1fr 20px 20px;\n",
       "}\n",
       "\n",
       ".xr-section-item {\n",
       "  display: contents;\n",
       "}\n",
       "\n",
       ".xr-section-item input {\n",
       "  display: none;\n",
       "}\n",
       "\n",
       ".xr-section-item input + label {\n",
       "  color: var(--xr-disabled-color);\n",
       "}\n",
       "\n",
       ".xr-section-item input:enabled + label {\n",
       "  cursor: pointer;\n",
       "  color: var(--xr-font-color2);\n",
       "}\n",
       "\n",
       ".xr-section-item input:enabled + label:hover {\n",
       "  color: var(--xr-font-color0);\n",
       "}\n",
       "\n",
       ".xr-section-summary {\n",
       "  grid-column: 1;\n",
       "  color: var(--xr-font-color2);\n",
       "  font-weight: 500;\n",
       "}\n",
       "\n",
       ".xr-section-summary > span {\n",
       "  display: inline-block;\n",
       "  padding-left: 0.5em;\n",
       "}\n",
       "\n",
       ".xr-section-summary-in:disabled + label {\n",
       "  color: var(--xr-font-color2);\n",
       "}\n",
       "\n",
       ".xr-section-summary-in + label:before {\n",
       "  display: inline-block;\n",
       "  content: '►';\n",
       "  font-size: 11px;\n",
       "  width: 15px;\n",
       "  text-align: center;\n",
       "}\n",
       "\n",
       ".xr-section-summary-in:disabled + label:before {\n",
       "  color: var(--xr-disabled-color);\n",
       "}\n",
       "\n",
       ".xr-section-summary-in:checked + label:before {\n",
       "  content: '▼';\n",
       "}\n",
       "\n",
       ".xr-section-summary-in:checked + label > span {\n",
       "  display: none;\n",
       "}\n",
       "\n",
       ".xr-section-summary,\n",
       ".xr-section-inline-details {\n",
       "  padding-top: 4px;\n",
       "  padding-bottom: 4px;\n",
       "}\n",
       "\n",
       ".xr-section-inline-details {\n",
       "  grid-column: 2 / -1;\n",
       "}\n",
       "\n",
       ".xr-section-details {\n",
       "  display: none;\n",
       "  grid-column: 1 / -1;\n",
       "  margin-bottom: 5px;\n",
       "}\n",
       "\n",
       ".xr-section-summary-in:checked ~ .xr-section-details {\n",
       "  display: contents;\n",
       "}\n",
       "\n",
       ".xr-array-wrap {\n",
       "  grid-column: 1 / -1;\n",
       "  display: grid;\n",
       "  grid-template-columns: 20px auto;\n",
       "}\n",
       "\n",
       ".xr-array-wrap > label {\n",
       "  grid-column: 1;\n",
       "  vertical-align: top;\n",
       "}\n",
       "\n",
       ".xr-preview {\n",
       "  color: var(--xr-font-color3);\n",
       "}\n",
       "\n",
       ".xr-array-preview,\n",
       ".xr-array-data {\n",
       "  padding: 0 5px !important;\n",
       "  grid-column: 2;\n",
       "}\n",
       "\n",
       ".xr-array-data,\n",
       ".xr-array-in:checked ~ .xr-array-preview {\n",
       "  display: none;\n",
       "}\n",
       "\n",
       ".xr-array-in:checked ~ .xr-array-data,\n",
       ".xr-array-preview {\n",
       "  display: inline-block;\n",
       "}\n",
       "\n",
       ".xr-dim-list {\n",
       "  display: inline-block !important;\n",
       "  list-style: none;\n",
       "  padding: 0 !important;\n",
       "  margin: 0;\n",
       "}\n",
       "\n",
       ".xr-dim-list li {\n",
       "  display: inline-block;\n",
       "  padding: 0;\n",
       "  margin: 0;\n",
       "}\n",
       "\n",
       ".xr-dim-list:before {\n",
       "  content: '(';\n",
       "}\n",
       "\n",
       ".xr-dim-list:after {\n",
       "  content: ')';\n",
       "}\n",
       "\n",
       ".xr-dim-list li:not(:last-child):after {\n",
       "  content: ',';\n",
       "  padding-right: 5px;\n",
       "}\n",
       "\n",
       ".xr-has-index {\n",
       "  font-weight: bold;\n",
       "}\n",
       "\n",
       ".xr-var-list,\n",
       ".xr-var-item {\n",
       "  display: contents;\n",
       "}\n",
       "\n",
       ".xr-var-item > div,\n",
       ".xr-var-item label,\n",
       ".xr-var-item > .xr-var-name span {\n",
       "  background-color: var(--xr-background-color-row-even);\n",
       "  margin-bottom: 0;\n",
       "}\n",
       "\n",
       ".xr-var-item > .xr-var-name:hover span {\n",
       "  padding-right: 5px;\n",
       "}\n",
       "\n",
       ".xr-var-list > li:nth-child(odd) > div,\n",
       ".xr-var-list > li:nth-child(odd) > label,\n",
       ".xr-var-list > li:nth-child(odd) > .xr-var-name span {\n",
       "  background-color: var(--xr-background-color-row-odd);\n",
       "}\n",
       "\n",
       ".xr-var-name {\n",
       "  grid-column: 1;\n",
       "}\n",
       "\n",
       ".xr-var-dims {\n",
       "  grid-column: 2;\n",
       "}\n",
       "\n",
       ".xr-var-dtype {\n",
       "  grid-column: 3;\n",
       "  text-align: right;\n",
       "  color: var(--xr-font-color2);\n",
       "}\n",
       "\n",
       ".xr-var-preview {\n",
       "  grid-column: 4;\n",
       "}\n",
       "\n",
       ".xr-var-name,\n",
       ".xr-var-dims,\n",
       ".xr-var-dtype,\n",
       ".xr-preview,\n",
       ".xr-attrs dt {\n",
       "  white-space: nowrap;\n",
       "  overflow: hidden;\n",
       "  text-overflow: ellipsis;\n",
       "  padding-right: 10px;\n",
       "}\n",
       "\n",
       ".xr-var-name:hover,\n",
       ".xr-var-dims:hover,\n",
       ".xr-var-dtype:hover,\n",
       ".xr-attrs dt:hover {\n",
       "  overflow: visible;\n",
       "  width: auto;\n",
       "  z-index: 1;\n",
       "}\n",
       "\n",
       ".xr-var-attrs,\n",
       ".xr-var-data {\n",
       "  display: none;\n",
       "  background-color: var(--xr-background-color) !important;\n",
       "  padding-bottom: 5px !important;\n",
       "}\n",
       "\n",
       ".xr-var-attrs-in:checked ~ .xr-var-attrs,\n",
       ".xr-var-data-in:checked ~ .xr-var-data {\n",
       "  display: block;\n",
       "}\n",
       "\n",
       ".xr-var-data > table {\n",
       "  float: right;\n",
       "}\n",
       "\n",
       ".xr-var-name span,\n",
       ".xr-var-data,\n",
       ".xr-attrs {\n",
       "  padding-left: 25px !important;\n",
       "}\n",
       "\n",
       ".xr-attrs,\n",
       ".xr-var-attrs,\n",
       ".xr-var-data {\n",
       "  grid-column: 1 / -1;\n",
       "}\n",
       "\n",
       "dl.xr-attrs {\n",
       "  padding: 0;\n",
       "  margin: 0;\n",
       "  display: grid;\n",
       "  grid-template-columns: 125px auto;\n",
       "}\n",
       "\n",
       ".xr-attrs dt,\n",
       ".xr-attrs dd {\n",
       "  padding: 0;\n",
       "  margin: 0;\n",
       "  float: left;\n",
       "  padding-right: 10px;\n",
       "  width: auto;\n",
       "}\n",
       "\n",
       ".xr-attrs dt {\n",
       "  font-weight: normal;\n",
       "  grid-column: 1;\n",
       "}\n",
       "\n",
       ".xr-attrs dt:hover span {\n",
       "  display: inline-block;\n",
       "  background: var(--xr-background-color);\n",
       "  padding-right: 10px;\n",
       "}\n",
       "\n",
       ".xr-attrs dd {\n",
       "  grid-column: 2;\n",
       "  white-space: pre-wrap;\n",
       "  word-break: break-all;\n",
       "}\n",
       "\n",
       ".xr-icon-database,\n",
       ".xr-icon-file-text2 {\n",
       "  display: inline-block;\n",
       "  vertical-align: middle;\n",
       "  width: 1em;\n",
       "  height: 1.5em !important;\n",
       "  stroke-width: 0;\n",
       "  stroke: currentColor;\n",
       "  fill: currentColor;\n",
       "}\n",
       "</style><pre class='xr-text-repr-fallback'>&lt;xarray.Dataset&gt;\n",
       "Dimensions:          (time: 17520, lev: 20, ilev: 21, lat: 1, lon: 1)\n",
       "Coordinates:\n",
       "  * time             (time) datetime64[ns] 2014-01-01T00:30:00 ... 2015-12-31...\n",
       "  * lev              (lev) float64 0.9925 0.9775 0.9625 ... 0.6875 0.6563 0.6188\n",
       "  * ilev             (ilev) float64 1.0 0.985 0.97 0.955 ... 0.675 0.6375 0.6\n",
       "  * lat              (lat) float64 -16.0\n",
       "  * lon              (lon) float64 -67.5\n",
       "Data variables:\n",
       "    hyam             (time, lev) float64 dask.array&lt;chunksize=(744, 20), meta=np.ndarray&gt;\n",
       "    hybm             (time, lev) float64 dask.array&lt;chunksize=(744, 20), meta=np.ndarray&gt;\n",
       "    hyai             (time, ilev) float64 dask.array&lt;chunksize=(744, 21), meta=np.ndarray&gt;\n",
       "    hybi             (time, ilev) float64 dask.array&lt;chunksize=(744, 21), meta=np.ndarray&gt;\n",
       "    P0               (time) float64 1e+03 1e+03 1e+03 ... 1e+03 1e+03 1e+03\n",
       "    AREA             (time, lat, lon) float32 dask.array&lt;chunksize=(744, 1, 1), meta=np.ndarray&gt;\n",
       "    SpeciesConc_HgP  (time, lev, lat, lon) float32 dask.array&lt;chunksize=(744, 20, 1, 1), meta=np.ndarray&gt;\n",
       "    SpeciesConc_Hg2  (time, lev, lat, lon) float32 dask.array&lt;chunksize=(744, 20, 1, 1), meta=np.ndarray&gt;\n",
       "    SpeciesConc_Hg0  (time, lev, lat, lon) float32 dask.array&lt;chunksize=(744, 20, 1, 1), meta=np.ndarray&gt;\n",
       "Attributes:\n",
       "    title:                           GEOS-Chem diagnostic collection: Species...\n",
       "    history:                         \n",
       "    format:                          CFIO\n",
       "    conventions:                     COARDS\n",
       "    ProdDateTime:                    \n",
       "    reference:                       www.geos-chem.org; wiki.geos-chem.org\n",
       "    contact:                         GEOS-Chem Support Team (geos-chem-suppor...\n",
       "    simulation_start_date_and_time:  2014-01-01 00:00:00z\n",
       "    simulation_end_date_and_time:    2016-01-01 00:00:00z</pre><div class='xr-wrap' hidden><div class='xr-header'><div class='xr-obj-type'>xarray.Dataset</div></div><ul class='xr-sections'><li class='xr-section-item'><input id='section-fe16301c-4911-41f9-87ea-35da7d0dfe00' class='xr-section-summary-in' type='checkbox' disabled ><label for='section-fe16301c-4911-41f9-87ea-35da7d0dfe00' class='xr-section-summary'  title='Expand/collapse section'>Dimensions:</label><div class='xr-section-inline-details'><ul class='xr-dim-list'><li><span class='xr-has-index'>time</span>: 17520</li><li><span class='xr-has-index'>lev</span>: 20</li><li><span class='xr-has-index'>ilev</span>: 21</li><li><span class='xr-has-index'>lat</span>: 1</li><li><span class='xr-has-index'>lon</span>: 1</li></ul></div><div class='xr-section-details'></div></li><li class='xr-section-item'><input id='section-db757707-813c-4e1b-8f44-0f4048bd7fcc' class='xr-section-summary-in' type='checkbox'  checked><label for='section-db757707-813c-4e1b-8f44-0f4048bd7fcc' class='xr-section-summary' >Coordinates: <span>(5)</span></label><div class='xr-section-inline-details'></div><div class='xr-section-details'><ul class='xr-var-list'><li class='xr-var-item'><div class='xr-var-name'><span class='xr-has-index'>time</span></div><div class='xr-var-dims'>(time)</div><div class='xr-var-dtype'>datetime64[ns]</div><div class='xr-var-preview xr-preview'>2014-01-01T00:30:00 ... 2015-12-...</div><input id='attrs-9846ea3f-605a-44ac-812f-34c7d6392613' class='xr-var-attrs-in' type='checkbox' ><label for='attrs-9846ea3f-605a-44ac-812f-34c7d6392613' title='Show/Hide attributes'><svg class='icon xr-icon-file-text2'><use xlink:href='#icon-file-text2'></use></svg></label><input id='data-82d7a4d6-9aa8-44ac-9f95-808bc7f4b401' class='xr-var-data-in' type='checkbox'><label for='data-82d7a4d6-9aa8-44ac-9f95-808bc7f4b401' title='Show/Hide data repr'><svg class='icon xr-icon-database'><use xlink:href='#icon-database'></use></svg></label><div class='xr-var-attrs'><dl class='xr-attrs'><dt><span>long_name :</span></dt><dd>Time</dd><dt><span>axis :</span></dt><dd>T</dd></dl></div><div class='xr-var-data'><pre>array([&#x27;2014-01-01T00:30:00.000000000&#x27;, &#x27;2014-01-01T01:30:00.000000000&#x27;,\n",
       "       &#x27;2014-01-01T02:30:00.000000000&#x27;, ..., &#x27;2015-12-31T21:30:00.000000000&#x27;,\n",
       "       &#x27;2015-12-31T22:30:00.000000000&#x27;, &#x27;2015-12-31T23:30:00.000000000&#x27;],\n",
       "      dtype=&#x27;datetime64[ns]&#x27;)</pre></div></li><li class='xr-var-item'><div class='xr-var-name'><span class='xr-has-index'>lev</span></div><div class='xr-var-dims'>(lev)</div><div class='xr-var-dtype'>float64</div><div class='xr-var-preview xr-preview'>0.9925 0.9775 ... 0.6563 0.6188</div><input id='attrs-d3e27606-2828-48c3-b3a6-9a655eb5b343' class='xr-var-attrs-in' type='checkbox' ><label for='attrs-d3e27606-2828-48c3-b3a6-9a655eb5b343' title='Show/Hide attributes'><svg class='icon xr-icon-file-text2'><use xlink:href='#icon-file-text2'></use></svg></label><input id='data-79661073-4e81-42c0-afa8-1b92cc980326' class='xr-var-data-in' type='checkbox'><label for='data-79661073-4e81-42c0-afa8-1b92cc980326' title='Show/Hide data repr'><svg class='icon xr-icon-database'><use xlink:href='#icon-database'></use></svg></label><div class='xr-var-attrs'><dl class='xr-attrs'><dt><span>long_name :</span></dt><dd>hybrid level at midpoints ((A/P0)+B)</dd><dt><span>units :</span></dt><dd>level</dd><dt><span>axis :</span></dt><dd>Z</dd><dt><span>positive :</span></dt><dd>up</dd><dt><span>standard_name :</span></dt><dd>atmosphere_hybrid_sigma_pressure_coordinate</dd><dt><span>formula_terms :</span></dt><dd>a: hyam b: hybm p0: P0 ps: PS</dd></dl></div><div class='xr-var-data'><pre>array([0.9925 , 0.9775 , 0.9625 , 0.9475 , 0.9325 , 0.9175 , 0.9025 , 0.8875 ,\n",
       "       0.8725 , 0.8575 , 0.8425 , 0.8275 , 0.81   , 0.7875 , 0.7625 , 0.7375 ,\n",
       "       0.7125 , 0.6875 , 0.65625, 0.61875])</pre></div></li><li class='xr-var-item'><div class='xr-var-name'><span class='xr-has-index'>ilev</span></div><div class='xr-var-dims'>(ilev)</div><div class='xr-var-dtype'>float64</div><div class='xr-var-preview xr-preview'>1.0 0.985 0.97 ... 0.675 0.6375 0.6</div><input id='attrs-12af7144-6a6c-4eb6-b810-138b046f7d54' class='xr-var-attrs-in' type='checkbox' ><label for='attrs-12af7144-6a6c-4eb6-b810-138b046f7d54' title='Show/Hide attributes'><svg class='icon xr-icon-file-text2'><use xlink:href='#icon-file-text2'></use></svg></label><input id='data-4f55766d-f794-49de-be36-cb72218c3d3a' class='xr-var-data-in' type='checkbox'><label for='data-4f55766d-f794-49de-be36-cb72218c3d3a' title='Show/Hide data repr'><svg class='icon xr-icon-database'><use xlink:href='#icon-database'></use></svg></label><div class='xr-var-attrs'><dl class='xr-attrs'><dt><span>long_name :</span></dt><dd>hybrid level at interfaces ((A/P0)+B)</dd><dt><span>units :</span></dt><dd>level</dd><dt><span>positive :</span></dt><dd>up</dd><dt><span>standard_name :</span></dt><dd>atmosphere_hybrid_sigma_pressure_coordinate</dd><dt><span>formula_terms :</span></dt><dd>a: hyai b: hybi p0: P0 ps: PS</dd></dl></div><div class='xr-var-data'><pre>array([1.    , 0.985 , 0.97  , 0.955 , 0.94  , 0.925 , 0.91  , 0.895 , 0.88  ,\n",
       "       0.865 , 0.85  , 0.835 , 0.82  , 0.8   , 0.775 , 0.75  , 0.725 , 0.7   ,\n",
       "       0.675 , 0.6375, 0.6   ])</pre></div></li><li class='xr-var-item'><div class='xr-var-name'><span class='xr-has-index'>lat</span></div><div class='xr-var-dims'>(lat)</div><div class='xr-var-dtype'>float64</div><div class='xr-var-preview xr-preview'>-16.0</div><input id='attrs-adb4ec76-d923-4fd9-8321-a0d329d13f1f' class='xr-var-attrs-in' type='checkbox' ><label for='attrs-adb4ec76-d923-4fd9-8321-a0d329d13f1f' title='Show/Hide attributes'><svg class='icon xr-icon-file-text2'><use xlink:href='#icon-file-text2'></use></svg></label><input id='data-a600bef7-d144-4c99-bd2b-57eb58fe8399' class='xr-var-data-in' type='checkbox'><label for='data-a600bef7-d144-4c99-bd2b-57eb58fe8399' title='Show/Hide data repr'><svg class='icon xr-icon-database'><use xlink:href='#icon-database'></use></svg></label><div class='xr-var-attrs'><dl class='xr-attrs'><dt><span>long_name :</span></dt><dd>Latitude</dd><dt><span>units :</span></dt><dd>degrees_north</dd><dt><span>axis :</span></dt><dd>Y</dd></dl></div><div class='xr-var-data'><pre>array([-16.])</pre></div></li><li class='xr-var-item'><div class='xr-var-name'><span class='xr-has-index'>lon</span></div><div class='xr-var-dims'>(lon)</div><div class='xr-var-dtype'>float64</div><div class='xr-var-preview xr-preview'>-67.5</div><input id='attrs-99323a50-c238-4cdb-9f70-7d8d41924c37' class='xr-var-attrs-in' type='checkbox' ><label for='attrs-99323a50-c238-4cdb-9f70-7d8d41924c37' title='Show/Hide attributes'><svg class='icon xr-icon-file-text2'><use xlink:href='#icon-file-text2'></use></svg></label><input id='data-72f1da10-7db8-45fc-b546-7d259b568a82' class='xr-var-data-in' type='checkbox'><label for='data-72f1da10-7db8-45fc-b546-7d259b568a82' title='Show/Hide data repr'><svg class='icon xr-icon-database'><use xlink:href='#icon-database'></use></svg></label><div class='xr-var-attrs'><dl class='xr-attrs'><dt><span>long_name :</span></dt><dd>Longitude</dd><dt><span>units :</span></dt><dd>degrees_east</dd><dt><span>axis :</span></dt><dd>X</dd></dl></div><div class='xr-var-data'><pre>array([-67.5])</pre></div></li></ul></div></li><li class='xr-section-item'><input id='section-b5daab24-cf76-4be9-8428-8cf88006288b' class='xr-section-summary-in' type='checkbox'  checked><label for='section-b5daab24-cf76-4be9-8428-8cf88006288b' class='xr-section-summary' >Data variables: <span>(9)</span></label><div class='xr-section-inline-details'></div><div class='xr-section-details'><ul class='xr-var-list'><li class='xr-var-item'><div class='xr-var-name'><span>hyam</span></div><div class='xr-var-dims'>(time, lev)</div><div class='xr-var-dtype'>float64</div><div class='xr-var-preview xr-preview'>dask.array&lt;chunksize=(744, 20), meta=np.ndarray&gt;</div><input id='attrs-eb8f69a1-1fa2-46a0-a779-f390bb9802a0' class='xr-var-attrs-in' type='checkbox' ><label for='attrs-eb8f69a1-1fa2-46a0-a779-f390bb9802a0' title='Show/Hide attributes'><svg class='icon xr-icon-file-text2'><use xlink:href='#icon-file-text2'></use></svg></label><input id='data-0f294ca3-871e-45df-8fc8-8763de56922e' class='xr-var-data-in' type='checkbox'><label for='data-0f294ca3-871e-45df-8fc8-8763de56922e' title='Show/Hide data repr'><svg class='icon xr-icon-database'><use xlink:href='#icon-database'></use></svg></label><div class='xr-var-attrs'><dl class='xr-attrs'><dt><span>long_name :</span></dt><dd>hybrid A coefficient at layer midpoints</dd><dt><span>units :</span></dt><dd>hPa</dd></dl></div><div class='xr-var-data'><table>\n",
       "    <tr>\n",
       "        <td>\n",
       "            <table>\n",
       "                <thead>\n",
       "                    <tr>\n",
       "                        <td> </td>\n",
       "                        <th> Array </th>\n",
       "                        <th> Chunk </th>\n",
       "                    </tr>\n",
       "                </thead>\n",
       "                <tbody>\n",
       "                    \n",
       "                    <tr>\n",
       "                        <th> Bytes </th>\n",
       "                        <td> 2.67 MiB </td>\n",
       "                        <td> 116.25 kiB </td>\n",
       "                    </tr>\n",
       "                    \n",
       "                    <tr>\n",
       "                        <th> Shape </th>\n",
       "                        <td> (17520, 20) </td>\n",
       "                        <td> (744, 20) </td>\n",
       "                    </tr>\n",
       "                    <tr>\n",
       "                        <th> Count </th>\n",
       "                        <td> 96 Tasks </td>\n",
       "                        <td> 24 Chunks </td>\n",
       "                    </tr>\n",
       "                    <tr>\n",
       "                    <th> Type </th>\n",
       "                    <td> float64 </td>\n",
       "                    <td> numpy.ndarray </td>\n",
       "                    </tr>\n",
       "                </tbody>\n",
       "            </table>\n",
       "        </td>\n",
       "        <td>\n",
       "        <svg width=\"75\" height=\"170\" style=\"stroke:rgb(0,0,0);stroke-width:1\" >\n",
       "\n",
       "  <!-- Horizontal lines -->\n",
       "  <line x1=\"0\" y1=\"0\" x2=\"25\" y2=\"0\" style=\"stroke-width:2\" />\n",
       "  <line x1=\"0\" y1=\"5\" x2=\"25\" y2=\"5\" />\n",
       "  <line x1=\"0\" y1=\"9\" x2=\"25\" y2=\"9\" />\n",
       "  <line x1=\"0\" y1=\"14\" x2=\"25\" y2=\"14\" />\n",
       "  <line x1=\"0\" y1=\"24\" x2=\"25\" y2=\"24\" />\n",
       "  <line x1=\"0\" y1=\"29\" x2=\"25\" y2=\"29\" />\n",
       "  <line x1=\"0\" y1=\"34\" x2=\"25\" y2=\"34\" />\n",
       "  <line x1=\"0\" y1=\"39\" x2=\"25\" y2=\"39\" />\n",
       "  <line x1=\"0\" y1=\"49\" x2=\"25\" y2=\"49\" />\n",
       "  <line x1=\"0\" y1=\"54\" x2=\"25\" y2=\"54\" />\n",
       "  <line x1=\"0\" y1=\"60\" x2=\"25\" y2=\"60\" />\n",
       "  <line x1=\"0\" y1=\"65\" x2=\"25\" y2=\"65\" />\n",
       "  <line x1=\"0\" y1=\"74\" x2=\"25\" y2=\"74\" />\n",
       "  <line x1=\"0\" y1=\"79\" x2=\"25\" y2=\"79\" />\n",
       "  <line x1=\"0\" y1=\"84\" x2=\"25\" y2=\"84\" />\n",
       "  <line x1=\"0\" y1=\"89\" x2=\"25\" y2=\"89\" />\n",
       "  <line x1=\"0\" y1=\"99\" x2=\"25\" y2=\"99\" />\n",
       "  <line x1=\"0\" y1=\"104\" x2=\"25\" y2=\"104\" />\n",
       "  <line x1=\"0\" y1=\"109\" x2=\"25\" y2=\"109\" />\n",
       "  <line x1=\"0\" y1=\"120\" x2=\"25\" y2=\"120\" style=\"stroke-width:2\" />\n",
       "\n",
       "  <!-- Vertical lines -->\n",
       "  <line x1=\"0\" y1=\"0\" x2=\"0\" y2=\"120\" style=\"stroke-width:2\" />\n",
       "  <line x1=\"25\" y1=\"0\" x2=\"25\" y2=\"120\" style=\"stroke-width:2\" />\n",
       "\n",
       "  <!-- Colored Rectangle -->\n",
       "  <polygon points=\"0.0,0.0 25.412616514582485,0.0 25.412616514582485,120.0 0.0,120.0\" style=\"fill:#8B4903A0;stroke-width:0\"/>\n",
       "\n",
       "  <!-- Text -->\n",
       "  <text x=\"12.706308\" y=\"140.000000\" font-size=\"1.0rem\" font-weight=\"100\" text-anchor=\"middle\" >20</text>\n",
       "  <text x=\"45.412617\" y=\"60.000000\" font-size=\"1.0rem\" font-weight=\"100\" text-anchor=\"middle\" transform=\"rotate(-90,45.412617,60.000000)\">17520</text>\n",
       "</svg>\n",
       "        </td>\n",
       "    </tr>\n",
       "</table></div></li><li class='xr-var-item'><div class='xr-var-name'><span>hybm</span></div><div class='xr-var-dims'>(time, lev)</div><div class='xr-var-dtype'>float64</div><div class='xr-var-preview xr-preview'>dask.array&lt;chunksize=(744, 20), meta=np.ndarray&gt;</div><input id='attrs-b26e6284-6a09-4715-80ee-91914f0760e3' class='xr-var-attrs-in' type='checkbox' ><label for='attrs-b26e6284-6a09-4715-80ee-91914f0760e3' title='Show/Hide attributes'><svg class='icon xr-icon-file-text2'><use xlink:href='#icon-file-text2'></use></svg></label><input id='data-0b408e34-7f20-4ab8-83ee-e1b5d28fd454' class='xr-var-data-in' type='checkbox'><label for='data-0b408e34-7f20-4ab8-83ee-e1b5d28fd454' title='Show/Hide data repr'><svg class='icon xr-icon-database'><use xlink:href='#icon-database'></use></svg></label><div class='xr-var-attrs'><dl class='xr-attrs'><dt><span>long_name :</span></dt><dd>hybrid B coefficient at layer midpoints</dd><dt><span>units :</span></dt><dd>1</dd></dl></div><div class='xr-var-data'><table>\n",
       "    <tr>\n",
       "        <td>\n",
       "            <table>\n",
       "                <thead>\n",
       "                    <tr>\n",
       "                        <td> </td>\n",
       "                        <th> Array </th>\n",
       "                        <th> Chunk </th>\n",
       "                    </tr>\n",
       "                </thead>\n",
       "                <tbody>\n",
       "                    \n",
       "                    <tr>\n",
       "                        <th> Bytes </th>\n",
       "                        <td> 2.67 MiB </td>\n",
       "                        <td> 116.25 kiB </td>\n",
       "                    </tr>\n",
       "                    \n",
       "                    <tr>\n",
       "                        <th> Shape </th>\n",
       "                        <td> (17520, 20) </td>\n",
       "                        <td> (744, 20) </td>\n",
       "                    </tr>\n",
       "                    <tr>\n",
       "                        <th> Count </th>\n",
       "                        <td> 96 Tasks </td>\n",
       "                        <td> 24 Chunks </td>\n",
       "                    </tr>\n",
       "                    <tr>\n",
       "                    <th> Type </th>\n",
       "                    <td> float64 </td>\n",
       "                    <td> numpy.ndarray </td>\n",
       "                    </tr>\n",
       "                </tbody>\n",
       "            </table>\n",
       "        </td>\n",
       "        <td>\n",
       "        <svg width=\"75\" height=\"170\" style=\"stroke:rgb(0,0,0);stroke-width:1\" >\n",
       "\n",
       "  <!-- Horizontal lines -->\n",
       "  <line x1=\"0\" y1=\"0\" x2=\"25\" y2=\"0\" style=\"stroke-width:2\" />\n",
       "  <line x1=\"0\" y1=\"5\" x2=\"25\" y2=\"5\" />\n",
       "  <line x1=\"0\" y1=\"9\" x2=\"25\" y2=\"9\" />\n",
       "  <line x1=\"0\" y1=\"14\" x2=\"25\" y2=\"14\" />\n",
       "  <line x1=\"0\" y1=\"24\" x2=\"25\" y2=\"24\" />\n",
       "  <line x1=\"0\" y1=\"29\" x2=\"25\" y2=\"29\" />\n",
       "  <line x1=\"0\" y1=\"34\" x2=\"25\" y2=\"34\" />\n",
       "  <line x1=\"0\" y1=\"39\" x2=\"25\" y2=\"39\" />\n",
       "  <line x1=\"0\" y1=\"49\" x2=\"25\" y2=\"49\" />\n",
       "  <line x1=\"0\" y1=\"54\" x2=\"25\" y2=\"54\" />\n",
       "  <line x1=\"0\" y1=\"60\" x2=\"25\" y2=\"60\" />\n",
       "  <line x1=\"0\" y1=\"65\" x2=\"25\" y2=\"65\" />\n",
       "  <line x1=\"0\" y1=\"74\" x2=\"25\" y2=\"74\" />\n",
       "  <line x1=\"0\" y1=\"79\" x2=\"25\" y2=\"79\" />\n",
       "  <line x1=\"0\" y1=\"84\" x2=\"25\" y2=\"84\" />\n",
       "  <line x1=\"0\" y1=\"89\" x2=\"25\" y2=\"89\" />\n",
       "  <line x1=\"0\" y1=\"99\" x2=\"25\" y2=\"99\" />\n",
       "  <line x1=\"0\" y1=\"104\" x2=\"25\" y2=\"104\" />\n",
       "  <line x1=\"0\" y1=\"109\" x2=\"25\" y2=\"109\" />\n",
       "  <line x1=\"0\" y1=\"120\" x2=\"25\" y2=\"120\" style=\"stroke-width:2\" />\n",
       "\n",
       "  <!-- Vertical lines -->\n",
       "  <line x1=\"0\" y1=\"0\" x2=\"0\" y2=\"120\" style=\"stroke-width:2\" />\n",
       "  <line x1=\"25\" y1=\"0\" x2=\"25\" y2=\"120\" style=\"stroke-width:2\" />\n",
       "\n",
       "  <!-- Colored Rectangle -->\n",
       "  <polygon points=\"0.0,0.0 25.412616514582485,0.0 25.412616514582485,120.0 0.0,120.0\" style=\"fill:#8B4903A0;stroke-width:0\"/>\n",
       "\n",
       "  <!-- Text -->\n",
       "  <text x=\"12.706308\" y=\"140.000000\" font-size=\"1.0rem\" font-weight=\"100\" text-anchor=\"middle\" >20</text>\n",
       "  <text x=\"45.412617\" y=\"60.000000\" font-size=\"1.0rem\" font-weight=\"100\" text-anchor=\"middle\" transform=\"rotate(-90,45.412617,60.000000)\">17520</text>\n",
       "</svg>\n",
       "        </td>\n",
       "    </tr>\n",
       "</table></div></li><li class='xr-var-item'><div class='xr-var-name'><span>hyai</span></div><div class='xr-var-dims'>(time, ilev)</div><div class='xr-var-dtype'>float64</div><div class='xr-var-preview xr-preview'>dask.array&lt;chunksize=(744, 21), meta=np.ndarray&gt;</div><input id='attrs-d0858818-e19f-457f-ac46-c3edaae3a82f' class='xr-var-attrs-in' type='checkbox' ><label for='attrs-d0858818-e19f-457f-ac46-c3edaae3a82f' title='Show/Hide attributes'><svg class='icon xr-icon-file-text2'><use xlink:href='#icon-file-text2'></use></svg></label><input id='data-1fec6d8c-dc01-40e9-8aea-c3bf3c97561a' class='xr-var-data-in' type='checkbox'><label for='data-1fec6d8c-dc01-40e9-8aea-c3bf3c97561a' title='Show/Hide data repr'><svg class='icon xr-icon-database'><use xlink:href='#icon-database'></use></svg></label><div class='xr-var-attrs'><dl class='xr-attrs'><dt><span>long_name :</span></dt><dd>hybrid A coefficient at layer interfaces</dd><dt><span>units :</span></dt><dd>hPa</dd></dl></div><div class='xr-var-data'><table>\n",
       "    <tr>\n",
       "        <td>\n",
       "            <table>\n",
       "                <thead>\n",
       "                    <tr>\n",
       "                        <td> </td>\n",
       "                        <th> Array </th>\n",
       "                        <th> Chunk </th>\n",
       "                    </tr>\n",
       "                </thead>\n",
       "                <tbody>\n",
       "                    \n",
       "                    <tr>\n",
       "                        <th> Bytes </th>\n",
       "                        <td> 2.81 MiB </td>\n",
       "                        <td> 122.06 kiB </td>\n",
       "                    </tr>\n",
       "                    \n",
       "                    <tr>\n",
       "                        <th> Shape </th>\n",
       "                        <td> (17520, 21) </td>\n",
       "                        <td> (744, 21) </td>\n",
       "                    </tr>\n",
       "                    <tr>\n",
       "                        <th> Count </th>\n",
       "                        <td> 96 Tasks </td>\n",
       "                        <td> 24 Chunks </td>\n",
       "                    </tr>\n",
       "                    <tr>\n",
       "                    <th> Type </th>\n",
       "                    <td> float64 </td>\n",
       "                    <td> numpy.ndarray </td>\n",
       "                    </tr>\n",
       "                </tbody>\n",
       "            </table>\n",
       "        </td>\n",
       "        <td>\n",
       "        <svg width=\"75\" height=\"170\" style=\"stroke:rgb(0,0,0);stroke-width:1\" >\n",
       "\n",
       "  <!-- Horizontal lines -->\n",
       "  <line x1=\"0\" y1=\"0\" x2=\"25\" y2=\"0\" style=\"stroke-width:2\" />\n",
       "  <line x1=\"0\" y1=\"5\" x2=\"25\" y2=\"5\" />\n",
       "  <line x1=\"0\" y1=\"9\" x2=\"25\" y2=\"9\" />\n",
       "  <line x1=\"0\" y1=\"14\" x2=\"25\" y2=\"14\" />\n",
       "  <line x1=\"0\" y1=\"24\" x2=\"25\" y2=\"24\" />\n",
       "  <line x1=\"0\" y1=\"29\" x2=\"25\" y2=\"29\" />\n",
       "  <line x1=\"0\" y1=\"34\" x2=\"25\" y2=\"34\" />\n",
       "  <line x1=\"0\" y1=\"39\" x2=\"25\" y2=\"39\" />\n",
       "  <line x1=\"0\" y1=\"49\" x2=\"25\" y2=\"49\" />\n",
       "  <line x1=\"0\" y1=\"54\" x2=\"25\" y2=\"54\" />\n",
       "  <line x1=\"0\" y1=\"60\" x2=\"25\" y2=\"60\" />\n",
       "  <line x1=\"0\" y1=\"65\" x2=\"25\" y2=\"65\" />\n",
       "  <line x1=\"0\" y1=\"74\" x2=\"25\" y2=\"74\" />\n",
       "  <line x1=\"0\" y1=\"79\" x2=\"25\" y2=\"79\" />\n",
       "  <line x1=\"0\" y1=\"84\" x2=\"25\" y2=\"84\" />\n",
       "  <line x1=\"0\" y1=\"89\" x2=\"25\" y2=\"89\" />\n",
       "  <line x1=\"0\" y1=\"99\" x2=\"25\" y2=\"99\" />\n",
       "  <line x1=\"0\" y1=\"104\" x2=\"25\" y2=\"104\" />\n",
       "  <line x1=\"0\" y1=\"109\" x2=\"25\" y2=\"109\" />\n",
       "  <line x1=\"0\" y1=\"120\" x2=\"25\" y2=\"120\" style=\"stroke-width:2\" />\n",
       "\n",
       "  <!-- Vertical lines -->\n",
       "  <line x1=\"0\" y1=\"0\" x2=\"0\" y2=\"120\" style=\"stroke-width:2\" />\n",
       "  <line x1=\"25\" y1=\"0\" x2=\"25\" y2=\"120\" style=\"stroke-width:2\" />\n",
       "\n",
       "  <!-- Colored Rectangle -->\n",
       "  <polygon points=\"0.0,0.0 25.41261651458248,0.0 25.41261651458248,120.0 0.0,120.0\" style=\"fill:#8B4903A0;stroke-width:0\"/>\n",
       "\n",
       "  <!-- Text -->\n",
       "  <text x=\"12.706308\" y=\"140.000000\" font-size=\"1.0rem\" font-weight=\"100\" text-anchor=\"middle\" >21</text>\n",
       "  <text x=\"45.412617\" y=\"60.000000\" font-size=\"1.0rem\" font-weight=\"100\" text-anchor=\"middle\" transform=\"rotate(-90,45.412617,60.000000)\">17520</text>\n",
       "</svg>\n",
       "        </td>\n",
       "    </tr>\n",
       "</table></div></li><li class='xr-var-item'><div class='xr-var-name'><span>hybi</span></div><div class='xr-var-dims'>(time, ilev)</div><div class='xr-var-dtype'>float64</div><div class='xr-var-preview xr-preview'>dask.array&lt;chunksize=(744, 21), meta=np.ndarray&gt;</div><input id='attrs-05dd5c49-faec-49b6-91c8-09b8bc053211' class='xr-var-attrs-in' type='checkbox' ><label for='attrs-05dd5c49-faec-49b6-91c8-09b8bc053211' title='Show/Hide attributes'><svg class='icon xr-icon-file-text2'><use xlink:href='#icon-file-text2'></use></svg></label><input id='data-b50f5efd-ffa3-4600-880f-838326396676' class='xr-var-data-in' type='checkbox'><label for='data-b50f5efd-ffa3-4600-880f-838326396676' title='Show/Hide data repr'><svg class='icon xr-icon-database'><use xlink:href='#icon-database'></use></svg></label><div class='xr-var-attrs'><dl class='xr-attrs'><dt><span>long_name :</span></dt><dd>hybrid B coefficient at layer interfaces</dd><dt><span>units :</span></dt><dd>1</dd></dl></div><div class='xr-var-data'><table>\n",
       "    <tr>\n",
       "        <td>\n",
       "            <table>\n",
       "                <thead>\n",
       "                    <tr>\n",
       "                        <td> </td>\n",
       "                        <th> Array </th>\n",
       "                        <th> Chunk </th>\n",
       "                    </tr>\n",
       "                </thead>\n",
       "                <tbody>\n",
       "                    \n",
       "                    <tr>\n",
       "                        <th> Bytes </th>\n",
       "                        <td> 2.81 MiB </td>\n",
       "                        <td> 122.06 kiB </td>\n",
       "                    </tr>\n",
       "                    \n",
       "                    <tr>\n",
       "                        <th> Shape </th>\n",
       "                        <td> (17520, 21) </td>\n",
       "                        <td> (744, 21) </td>\n",
       "                    </tr>\n",
       "                    <tr>\n",
       "                        <th> Count </th>\n",
       "                        <td> 96 Tasks </td>\n",
       "                        <td> 24 Chunks </td>\n",
       "                    </tr>\n",
       "                    <tr>\n",
       "                    <th> Type </th>\n",
       "                    <td> float64 </td>\n",
       "                    <td> numpy.ndarray </td>\n",
       "                    </tr>\n",
       "                </tbody>\n",
       "            </table>\n",
       "        </td>\n",
       "        <td>\n",
       "        <svg width=\"75\" height=\"170\" style=\"stroke:rgb(0,0,0);stroke-width:1\" >\n",
       "\n",
       "  <!-- Horizontal lines -->\n",
       "  <line x1=\"0\" y1=\"0\" x2=\"25\" y2=\"0\" style=\"stroke-width:2\" />\n",
       "  <line x1=\"0\" y1=\"5\" x2=\"25\" y2=\"5\" />\n",
       "  <line x1=\"0\" y1=\"9\" x2=\"25\" y2=\"9\" />\n",
       "  <line x1=\"0\" y1=\"14\" x2=\"25\" y2=\"14\" />\n",
       "  <line x1=\"0\" y1=\"24\" x2=\"25\" y2=\"24\" />\n",
       "  <line x1=\"0\" y1=\"29\" x2=\"25\" y2=\"29\" />\n",
       "  <line x1=\"0\" y1=\"34\" x2=\"25\" y2=\"34\" />\n",
       "  <line x1=\"0\" y1=\"39\" x2=\"25\" y2=\"39\" />\n",
       "  <line x1=\"0\" y1=\"49\" x2=\"25\" y2=\"49\" />\n",
       "  <line x1=\"0\" y1=\"54\" x2=\"25\" y2=\"54\" />\n",
       "  <line x1=\"0\" y1=\"60\" x2=\"25\" y2=\"60\" />\n",
       "  <line x1=\"0\" y1=\"65\" x2=\"25\" y2=\"65\" />\n",
       "  <line x1=\"0\" y1=\"74\" x2=\"25\" y2=\"74\" />\n",
       "  <line x1=\"0\" y1=\"79\" x2=\"25\" y2=\"79\" />\n",
       "  <line x1=\"0\" y1=\"84\" x2=\"25\" y2=\"84\" />\n",
       "  <line x1=\"0\" y1=\"89\" x2=\"25\" y2=\"89\" />\n",
       "  <line x1=\"0\" y1=\"99\" x2=\"25\" y2=\"99\" />\n",
       "  <line x1=\"0\" y1=\"104\" x2=\"25\" y2=\"104\" />\n",
       "  <line x1=\"0\" y1=\"109\" x2=\"25\" y2=\"109\" />\n",
       "  <line x1=\"0\" y1=\"120\" x2=\"25\" y2=\"120\" style=\"stroke-width:2\" />\n",
       "\n",
       "  <!-- Vertical lines -->\n",
       "  <line x1=\"0\" y1=\"0\" x2=\"0\" y2=\"120\" style=\"stroke-width:2\" />\n",
       "  <line x1=\"25\" y1=\"0\" x2=\"25\" y2=\"120\" style=\"stroke-width:2\" />\n",
       "\n",
       "  <!-- Colored Rectangle -->\n",
       "  <polygon points=\"0.0,0.0 25.41261651458248,0.0 25.41261651458248,120.0 0.0,120.0\" style=\"fill:#8B4903A0;stroke-width:0\"/>\n",
       "\n",
       "  <!-- Text -->\n",
       "  <text x=\"12.706308\" y=\"140.000000\" font-size=\"1.0rem\" font-weight=\"100\" text-anchor=\"middle\" >21</text>\n",
       "  <text x=\"45.412617\" y=\"60.000000\" font-size=\"1.0rem\" font-weight=\"100\" text-anchor=\"middle\" transform=\"rotate(-90,45.412617,60.000000)\">17520</text>\n",
       "</svg>\n",
       "        </td>\n",
       "    </tr>\n",
       "</table></div></li><li class='xr-var-item'><div class='xr-var-name'><span>P0</span></div><div class='xr-var-dims'>(time)</div><div class='xr-var-dtype'>float64</div><div class='xr-var-preview xr-preview'>1e+03 1e+03 1e+03 ... 1e+03 1e+03</div><input id='attrs-749e2c65-6e14-4539-9fb4-760b9a1d636e' class='xr-var-attrs-in' type='checkbox' ><label for='attrs-749e2c65-6e14-4539-9fb4-760b9a1d636e' title='Show/Hide attributes'><svg class='icon xr-icon-file-text2'><use xlink:href='#icon-file-text2'></use></svg></label><input id='data-68704376-6068-49df-8256-997b8f9f0957' class='xr-var-data-in' type='checkbox'><label for='data-68704376-6068-49df-8256-997b8f9f0957' title='Show/Hide data repr'><svg class='icon xr-icon-database'><use xlink:href='#icon-database'></use></svg></label><div class='xr-var-attrs'><dl class='xr-attrs'><dt><span>long_name :</span></dt><dd>reference pressure</dd><dt><span>units :</span></dt><dd>hPa</dd></dl></div><div class='xr-var-data'><pre>array([1000., 1000., 1000., ..., 1000., 1000., 1000.])</pre></div></li><li class='xr-var-item'><div class='xr-var-name'><span>AREA</span></div><div class='xr-var-dims'>(time, lat, lon)</div><div class='xr-var-dtype'>float32</div><div class='xr-var-preview xr-preview'>dask.array&lt;chunksize=(744, 1, 1), meta=np.ndarray&gt;</div><input id='attrs-1c43883c-7900-4ea9-87c3-724481bcaaaa' class='xr-var-attrs-in' type='checkbox' ><label for='attrs-1c43883c-7900-4ea9-87c3-724481bcaaaa' title='Show/Hide attributes'><svg class='icon xr-icon-file-text2'><use xlink:href='#icon-file-text2'></use></svg></label><input id='data-55aa51e4-0cb3-44fd-962e-0dd45d413f5b' class='xr-var-data-in' type='checkbox'><label for='data-55aa51e4-0cb3-44fd-962e-0dd45d413f5b' title='Show/Hide data repr'><svg class='icon xr-icon-database'><use xlink:href='#icon-database'></use></svg></label><div class='xr-var-attrs'><dl class='xr-attrs'><dt><span>long_name :</span></dt><dd>Surface area</dd><dt><span>units :</span></dt><dd>m2</dd></dl></div><div class='xr-var-data'><table>\n",
       "    <tr>\n",
       "        <td>\n",
       "            <table>\n",
       "                <thead>\n",
       "                    <tr>\n",
       "                        <td> </td>\n",
       "                        <th> Array </th>\n",
       "                        <th> Chunk </th>\n",
       "                    </tr>\n",
       "                </thead>\n",
       "                <tbody>\n",
       "                    \n",
       "                    <tr>\n",
       "                        <th> Bytes </th>\n",
       "                        <td> 68.44 kiB </td>\n",
       "                        <td> 2.91 kiB </td>\n",
       "                    </tr>\n",
       "                    \n",
       "                    <tr>\n",
       "                        <th> Shape </th>\n",
       "                        <td> (17520, 1, 1) </td>\n",
       "                        <td> (744, 1, 1) </td>\n",
       "                    </tr>\n",
       "                    <tr>\n",
       "                        <th> Count </th>\n",
       "                        <td> 96 Tasks </td>\n",
       "                        <td> 24 Chunks </td>\n",
       "                    </tr>\n",
       "                    <tr>\n",
       "                    <th> Type </th>\n",
       "                    <td> float32 </td>\n",
       "                    <td> numpy.ndarray </td>\n",
       "                    </tr>\n",
       "                </tbody>\n",
       "            </table>\n",
       "        </td>\n",
       "        <td>\n",
       "        <svg width=\"156\" height=\"146\" style=\"stroke:rgb(0,0,0);stroke-width:1\" >\n",
       "\n",
       "  <!-- Horizontal lines -->\n",
       "  <line x1=\"10\" y1=\"0\" x2=\"80\" y2=\"70\" style=\"stroke-width:2\" />\n",
       "  <line x1=\"10\" y1=\"25\" x2=\"80\" y2=\"96\" style=\"stroke-width:2\" />\n",
       "\n",
       "  <!-- Vertical lines -->\n",
       "  <line x1=\"10\" y1=\"0\" x2=\"10\" y2=\"25\" style=\"stroke-width:2\" />\n",
       "  <line x1=\"12\" y1=\"2\" x2=\"12\" y2=\"28\" />\n",
       "  <line x1=\"15\" y1=\"5\" x2=\"15\" y2=\"31\" />\n",
       "  <line x1=\"18\" y1=\"8\" x2=\"18\" y2=\"34\" />\n",
       "  <line x1=\"24\" y1=\"14\" x2=\"24\" y2=\"40\" />\n",
       "  <line x1=\"27\" y1=\"17\" x2=\"27\" y2=\"42\" />\n",
       "  <line x1=\"30\" y1=\"20\" x2=\"30\" y2=\"45\" />\n",
       "  <line x1=\"33\" y1=\"23\" x2=\"33\" y2=\"48\" />\n",
       "  <line x1=\"39\" y1=\"29\" x2=\"39\" y2=\"54\" />\n",
       "  <line x1=\"42\" y1=\"32\" x2=\"42\" y2=\"57\" />\n",
       "  <line x1=\"45\" y1=\"35\" x2=\"45\" y2=\"60\" />\n",
       "  <line x1=\"48\" y1=\"38\" x2=\"48\" y2=\"63\" />\n",
       "  <line x1=\"53\" y1=\"43\" x2=\"53\" y2=\"69\" />\n",
       "  <line x1=\"56\" y1=\"46\" x2=\"56\" y2=\"72\" />\n",
       "  <line x1=\"59\" y1=\"49\" x2=\"59\" y2=\"75\" />\n",
       "  <line x1=\"62\" y1=\"52\" x2=\"62\" y2=\"78\" />\n",
       "  <line x1=\"68\" y1=\"58\" x2=\"68\" y2=\"84\" />\n",
       "  <line x1=\"71\" y1=\"61\" x2=\"71\" y2=\"87\" />\n",
       "  <line x1=\"74\" y1=\"64\" x2=\"74\" y2=\"90\" />\n",
       "  <line x1=\"80\" y1=\"70\" x2=\"80\" y2=\"96\" style=\"stroke-width:2\" />\n",
       "\n",
       "  <!-- Colored Rectangle -->\n",
       "  <polygon points=\"10.0,0.0 80.58823529411765,70.58823529411765 80.58823529411765,96.00085180870013 10.0,25.412616514582485\" style=\"fill:#8B4903A0;stroke-width:0\"/>\n",
       "\n",
       "  <!-- Horizontal lines -->\n",
       "  <line x1=\"10\" y1=\"0\" x2=\"35\" y2=\"0\" style=\"stroke-width:2\" />\n",
       "  <line x1=\"12\" y1=\"2\" x2=\"38\" y2=\"2\" />\n",
       "  <line x1=\"15\" y1=\"5\" x2=\"41\" y2=\"5\" />\n",
       "  <line x1=\"18\" y1=\"8\" x2=\"44\" y2=\"8\" />\n",
       "  <line x1=\"24\" y1=\"14\" x2=\"50\" y2=\"14\" />\n",
       "  <line x1=\"27\" y1=\"17\" x2=\"52\" y2=\"17\" />\n",
       "  <line x1=\"30\" y1=\"20\" x2=\"55\" y2=\"20\" />\n",
       "  <line x1=\"33\" y1=\"23\" x2=\"58\" y2=\"23\" />\n",
       "  <line x1=\"39\" y1=\"29\" x2=\"64\" y2=\"29\" />\n",
       "  <line x1=\"42\" y1=\"32\" x2=\"67\" y2=\"32\" />\n",
       "  <line x1=\"45\" y1=\"35\" x2=\"70\" y2=\"35\" />\n",
       "  <line x1=\"48\" y1=\"38\" x2=\"73\" y2=\"38\" />\n",
       "  <line x1=\"53\" y1=\"43\" x2=\"79\" y2=\"43\" />\n",
       "  <line x1=\"56\" y1=\"46\" x2=\"82\" y2=\"46\" />\n",
       "  <line x1=\"59\" y1=\"49\" x2=\"85\" y2=\"49\" />\n",
       "  <line x1=\"62\" y1=\"52\" x2=\"88\" y2=\"52\" />\n",
       "  <line x1=\"68\" y1=\"58\" x2=\"94\" y2=\"58\" />\n",
       "  <line x1=\"71\" y1=\"61\" x2=\"97\" y2=\"61\" />\n",
       "  <line x1=\"74\" y1=\"64\" x2=\"100\" y2=\"64\" />\n",
       "  <line x1=\"80\" y1=\"70\" x2=\"106\" y2=\"70\" style=\"stroke-width:2\" />\n",
       "\n",
       "  <!-- Vertical lines -->\n",
       "  <line x1=\"10\" y1=\"0\" x2=\"80\" y2=\"70\" style=\"stroke-width:2\" />\n",
       "  <line x1=\"35\" y1=\"0\" x2=\"106\" y2=\"70\" style=\"stroke-width:2\" />\n",
       "\n",
       "  <!-- Colored Rectangle -->\n",
       "  <polygon points=\"10.0,0.0 35.41261651458248,0.0 106.00085180870013,70.58823529411765 80.58823529411765,70.58823529411765\" style=\"fill:#8B4903A0;stroke-width:0\"/>\n",
       "\n",
       "  <!-- Horizontal lines -->\n",
       "  <line x1=\"80\" y1=\"70\" x2=\"106\" y2=\"70\" style=\"stroke-width:2\" />\n",
       "  <line x1=\"80\" y1=\"96\" x2=\"106\" y2=\"96\" style=\"stroke-width:2\" />\n",
       "\n",
       "  <!-- Vertical lines -->\n",
       "  <line x1=\"80\" y1=\"70\" x2=\"80\" y2=\"96\" style=\"stroke-width:2\" />\n",
       "  <line x1=\"106\" y1=\"70\" x2=\"106\" y2=\"96\" style=\"stroke-width:2\" />\n",
       "\n",
       "  <!-- Colored Rectangle -->\n",
       "  <polygon points=\"80.58823529411765,70.58823529411765 106.00085180870013,70.58823529411765 106.00085180870013,96.00085180870013 80.58823529411765,96.00085180870013\" style=\"fill:#ECB172A0;stroke-width:0\"/>\n",
       "\n",
       "  <!-- Text -->\n",
       "  <text x=\"93.294544\" y=\"116.000852\" font-size=\"1.0rem\" font-weight=\"100\" text-anchor=\"middle\" >1</text>\n",
       "  <text x=\"126.000852\" y=\"83.294544\" font-size=\"1.0rem\" font-weight=\"100\" text-anchor=\"middle\" transform=\"rotate(0,126.000852,83.294544)\">1</text>\n",
       "  <text x=\"35.294118\" y=\"80.706734\" font-size=\"1.0rem\" font-weight=\"100\" text-anchor=\"middle\" transform=\"rotate(45,35.294118,80.706734)\">17520</text>\n",
       "</svg>\n",
       "        </td>\n",
       "    </tr>\n",
       "</table></div></li><li class='xr-var-item'><div class='xr-var-name'><span>SpeciesConc_HgP</span></div><div class='xr-var-dims'>(time, lev, lat, lon)</div><div class='xr-var-dtype'>float32</div><div class='xr-var-preview xr-preview'>dask.array&lt;chunksize=(744, 20, 1, 1), meta=np.ndarray&gt;</div><input id='attrs-c0646bd5-4fda-4740-b3eb-5bc6166421a2' class='xr-var-attrs-in' type='checkbox' ><label for='attrs-c0646bd5-4fda-4740-b3eb-5bc6166421a2' title='Show/Hide attributes'><svg class='icon xr-icon-file-text2'><use xlink:href='#icon-file-text2'></use></svg></label><input id='data-bac05d0b-ca4c-4454-8e38-4585c05721c7' class='xr-var-data-in' type='checkbox'><label for='data-bac05d0b-ca4c-4454-8e38-4585c05721c7' title='Show/Hide data repr'><svg class='icon xr-icon-database'><use xlink:href='#icon-database'></use></svg></label><div class='xr-var-attrs'><dl class='xr-attrs'><dt><span>long_name :</span></dt><dd>Dry mixing ratio of species HgP</dd><dt><span>units :</span></dt><dd>mol mol-1 dry</dd><dt><span>averaging_method :</span></dt><dd>time-averaged</dd></dl></div><div class='xr-var-data'><table>\n",
       "    <tr>\n",
       "        <td>\n",
       "            <table>\n",
       "                <thead>\n",
       "                    <tr>\n",
       "                        <td> </td>\n",
       "                        <th> Array </th>\n",
       "                        <th> Chunk </th>\n",
       "                    </tr>\n",
       "                </thead>\n",
       "                <tbody>\n",
       "                    \n",
       "                    <tr>\n",
       "                        <th> Bytes </th>\n",
       "                        <td> 1.34 MiB </td>\n",
       "                        <td> 58.12 kiB </td>\n",
       "                    </tr>\n",
       "                    \n",
       "                    <tr>\n",
       "                        <th> Shape </th>\n",
       "                        <td> (17520, 20, 1, 1) </td>\n",
       "                        <td> (744, 20, 1, 1) </td>\n",
       "                    </tr>\n",
       "                    <tr>\n",
       "                        <th> Count </th>\n",
       "                        <td> 72 Tasks </td>\n",
       "                        <td> 24 Chunks </td>\n",
       "                    </tr>\n",
       "                    <tr>\n",
       "                    <th> Type </th>\n",
       "                    <td> float32 </td>\n",
       "                    <td> numpy.ndarray </td>\n",
       "                    </tr>\n",
       "                </tbody>\n",
       "            </table>\n",
       "        </td>\n",
       "        <td>\n",
       "        <svg width=\"470\" height=\"90\" style=\"stroke:rgb(0,0,0);stroke-width:1\" >\n",
       "\n",
       "  <!-- Horizontal lines -->\n",
       "  <line x1=\"0\" y1=\"0\" x2=\"120\" y2=\"0\" style=\"stroke-width:2\" />\n",
       "  <line x1=\"0\" y1=\"25\" x2=\"120\" y2=\"25\" style=\"stroke-width:2\" />\n",
       "\n",
       "  <!-- Vertical lines -->\n",
       "  <line x1=\"0\" y1=\"0\" x2=\"0\" y2=\"25\" style=\"stroke-width:2\" />\n",
       "  <line x1=\"5\" y1=\"0\" x2=\"5\" y2=\"25\" />\n",
       "  <line x1=\"9\" y1=\"0\" x2=\"9\" y2=\"25\" />\n",
       "  <line x1=\"14\" y1=\"0\" x2=\"14\" y2=\"25\" />\n",
       "  <line x1=\"19\" y1=\"0\" x2=\"19\" y2=\"25\" />\n",
       "  <line x1=\"24\" y1=\"0\" x2=\"24\" y2=\"25\" />\n",
       "  <line x1=\"29\" y1=\"0\" x2=\"29\" y2=\"25\" />\n",
       "  <line x1=\"34\" y1=\"0\" x2=\"34\" y2=\"25\" />\n",
       "  <line x1=\"39\" y1=\"0\" x2=\"39\" y2=\"25\" />\n",
       "  <line x1=\"44\" y1=\"0\" x2=\"44\" y2=\"25\" />\n",
       "  <line x1=\"49\" y1=\"0\" x2=\"49\" y2=\"25\" />\n",
       "  <line x1=\"54\" y1=\"0\" x2=\"54\" y2=\"25\" />\n",
       "  <line x1=\"60\" y1=\"0\" x2=\"60\" y2=\"25\" />\n",
       "  <line x1=\"65\" y1=\"0\" x2=\"65\" y2=\"25\" />\n",
       "  <line x1=\"69\" y1=\"0\" x2=\"69\" y2=\"25\" />\n",
       "  <line x1=\"74\" y1=\"0\" x2=\"74\" y2=\"25\" />\n",
       "  <line x1=\"79\" y1=\"0\" x2=\"79\" y2=\"25\" />\n",
       "  <line x1=\"84\" y1=\"0\" x2=\"84\" y2=\"25\" />\n",
       "  <line x1=\"89\" y1=\"0\" x2=\"89\" y2=\"25\" />\n",
       "  <line x1=\"94\" y1=\"0\" x2=\"94\" y2=\"25\" />\n",
       "  <line x1=\"99\" y1=\"0\" x2=\"99\" y2=\"25\" />\n",
       "  <line x1=\"104\" y1=\"0\" x2=\"104\" y2=\"25\" />\n",
       "  <line x1=\"109\" y1=\"0\" x2=\"109\" y2=\"25\" />\n",
       "  <line x1=\"114\" y1=\"0\" x2=\"114\" y2=\"25\" />\n",
       "  <line x1=\"120\" y1=\"0\" x2=\"120\" y2=\"25\" style=\"stroke-width:2\" />\n",
       "\n",
       "  <!-- Colored Rectangle -->\n",
       "  <polygon points=\"0.0,0.0 120.0,0.0 120.0,25.412616514582485 0.0,25.412616514582485\" style=\"fill:#ECB172A0;stroke-width:0\"/>\n",
       "\n",
       "  <!-- Text -->\n",
       "  <text x=\"60.000000\" y=\"45.412617\" font-size=\"1.0rem\" font-weight=\"100\" text-anchor=\"middle\" >17520</text>\n",
       "  <text x=\"140.000000\" y=\"12.706308\" font-size=\"1.0rem\" font-weight=\"100\" text-anchor=\"middle\" transform=\"rotate(0,140.000000,12.706308)\">1</text>\n",
       "\n",
       "\n",
       "  <!-- Horizontal lines -->\n",
       "  <line x1=\"190\" y1=\"0\" x2=\"204\" y2=\"14\" style=\"stroke-width:2\" />\n",
       "  <line x1=\"190\" y1=\"25\" x2=\"204\" y2=\"40\" style=\"stroke-width:2\" />\n",
       "\n",
       "  <!-- Vertical lines -->\n",
       "  <line x1=\"190\" y1=\"0\" x2=\"190\" y2=\"25\" style=\"stroke-width:2\" />\n",
       "  <line x1=\"204\" y1=\"14\" x2=\"204\" y2=\"40\" style=\"stroke-width:2\" />\n",
       "\n",
       "  <!-- Colored Rectangle -->\n",
       "  <polygon points=\"190.0,0.0 204.9485979497544,14.948597949754403 204.9485979497544,40.36121446433689 190.0,25.412616514582485\" style=\"fill:#ECB172A0;stroke-width:0\"/>\n",
       "\n",
       "  <!-- Horizontal lines -->\n",
       "  <line x1=\"190\" y1=\"0\" x2=\"215\" y2=\"0\" style=\"stroke-width:2\" />\n",
       "  <line x1=\"204\" y1=\"14\" x2=\"230\" y2=\"14\" style=\"stroke-width:2\" />\n",
       "\n",
       "  <!-- Vertical lines -->\n",
       "  <line x1=\"190\" y1=\"0\" x2=\"204\" y2=\"14\" style=\"stroke-width:2\" />\n",
       "  <line x1=\"215\" y1=\"0\" x2=\"230\" y2=\"14\" style=\"stroke-width:2\" />\n",
       "\n",
       "  <!-- Colored Rectangle -->\n",
       "  <polygon points=\"190.0,0.0 215.41261651458248,0.0 230.36121446433688,14.948597949754403 204.9485979497544,14.948597949754403\" style=\"fill:#ECB172A0;stroke-width:0\"/>\n",
       "\n",
       "  <!-- Horizontal lines -->\n",
       "  <line x1=\"204\" y1=\"14\" x2=\"230\" y2=\"14\" style=\"stroke-width:2\" />\n",
       "  <line x1=\"204\" y1=\"40\" x2=\"230\" y2=\"40\" style=\"stroke-width:2\" />\n",
       "\n",
       "  <!-- Vertical lines -->\n",
       "  <line x1=\"204\" y1=\"14\" x2=\"204\" y2=\"40\" style=\"stroke-width:2\" />\n",
       "  <line x1=\"230\" y1=\"14\" x2=\"230\" y2=\"40\" style=\"stroke-width:2\" />\n",
       "\n",
       "  <!-- Colored Rectangle -->\n",
       "  <polygon points=\"204.9485979497544,14.948597949754403 230.36121446433688,14.948597949754403 230.36121446433688,40.36121446433689 204.9485979497544,40.36121446433689\" style=\"fill:#ECB172A0;stroke-width:0\"/>\n",
       "\n",
       "  <!-- Text -->\n",
       "  <text x=\"217.654906\" y=\"60.361214\" font-size=\"1.0rem\" font-weight=\"100\" text-anchor=\"middle\" >1</text>\n",
       "  <text x=\"250.361214\" y=\"27.654906\" font-size=\"1.0rem\" font-weight=\"100\" text-anchor=\"middle\" transform=\"rotate(0,250.361214,27.654906)\">1</text>\n",
       "  <text x=\"187.474299\" y=\"52.886915\" font-size=\"1.0rem\" font-weight=\"100\" text-anchor=\"middle\" transform=\"rotate(45,187.474299,52.886915)\">20</text>\n",
       "</svg>\n",
       "        </td>\n",
       "    </tr>\n",
       "</table></div></li><li class='xr-var-item'><div class='xr-var-name'><span>SpeciesConc_Hg2</span></div><div class='xr-var-dims'>(time, lev, lat, lon)</div><div class='xr-var-dtype'>float32</div><div class='xr-var-preview xr-preview'>dask.array&lt;chunksize=(744, 20, 1, 1), meta=np.ndarray&gt;</div><input id='attrs-f569da02-e57a-4a63-a507-f15ae99fbd7e' class='xr-var-attrs-in' type='checkbox' ><label for='attrs-f569da02-e57a-4a63-a507-f15ae99fbd7e' title='Show/Hide attributes'><svg class='icon xr-icon-file-text2'><use xlink:href='#icon-file-text2'></use></svg></label><input id='data-dd336624-e0da-464b-926b-ade6e967bd70' class='xr-var-data-in' type='checkbox'><label for='data-dd336624-e0da-464b-926b-ade6e967bd70' title='Show/Hide data repr'><svg class='icon xr-icon-database'><use xlink:href='#icon-database'></use></svg></label><div class='xr-var-attrs'><dl class='xr-attrs'><dt><span>long_name :</span></dt><dd>Dry mixing ratio of species Hg2</dd><dt><span>units :</span></dt><dd>mol mol-1 dry</dd><dt><span>averaging_method :</span></dt><dd>time-averaged</dd></dl></div><div class='xr-var-data'><table>\n",
       "    <tr>\n",
       "        <td>\n",
       "            <table>\n",
       "                <thead>\n",
       "                    <tr>\n",
       "                        <td> </td>\n",
       "                        <th> Array </th>\n",
       "                        <th> Chunk </th>\n",
       "                    </tr>\n",
       "                </thead>\n",
       "                <tbody>\n",
       "                    \n",
       "                    <tr>\n",
       "                        <th> Bytes </th>\n",
       "                        <td> 1.34 MiB </td>\n",
       "                        <td> 58.12 kiB </td>\n",
       "                    </tr>\n",
       "                    \n",
       "                    <tr>\n",
       "                        <th> Shape </th>\n",
       "                        <td> (17520, 20, 1, 1) </td>\n",
       "                        <td> (744, 20, 1, 1) </td>\n",
       "                    </tr>\n",
       "                    <tr>\n",
       "                        <th> Count </th>\n",
       "                        <td> 72 Tasks </td>\n",
       "                        <td> 24 Chunks </td>\n",
       "                    </tr>\n",
       "                    <tr>\n",
       "                    <th> Type </th>\n",
       "                    <td> float32 </td>\n",
       "                    <td> numpy.ndarray </td>\n",
       "                    </tr>\n",
       "                </tbody>\n",
       "            </table>\n",
       "        </td>\n",
       "        <td>\n",
       "        <svg width=\"470\" height=\"90\" style=\"stroke:rgb(0,0,0);stroke-width:1\" >\n",
       "\n",
       "  <!-- Horizontal lines -->\n",
       "  <line x1=\"0\" y1=\"0\" x2=\"120\" y2=\"0\" style=\"stroke-width:2\" />\n",
       "  <line x1=\"0\" y1=\"25\" x2=\"120\" y2=\"25\" style=\"stroke-width:2\" />\n",
       "\n",
       "  <!-- Vertical lines -->\n",
       "  <line x1=\"0\" y1=\"0\" x2=\"0\" y2=\"25\" style=\"stroke-width:2\" />\n",
       "  <line x1=\"5\" y1=\"0\" x2=\"5\" y2=\"25\" />\n",
       "  <line x1=\"9\" y1=\"0\" x2=\"9\" y2=\"25\" />\n",
       "  <line x1=\"14\" y1=\"0\" x2=\"14\" y2=\"25\" />\n",
       "  <line x1=\"19\" y1=\"0\" x2=\"19\" y2=\"25\" />\n",
       "  <line x1=\"24\" y1=\"0\" x2=\"24\" y2=\"25\" />\n",
       "  <line x1=\"29\" y1=\"0\" x2=\"29\" y2=\"25\" />\n",
       "  <line x1=\"34\" y1=\"0\" x2=\"34\" y2=\"25\" />\n",
       "  <line x1=\"39\" y1=\"0\" x2=\"39\" y2=\"25\" />\n",
       "  <line x1=\"44\" y1=\"0\" x2=\"44\" y2=\"25\" />\n",
       "  <line x1=\"49\" y1=\"0\" x2=\"49\" y2=\"25\" />\n",
       "  <line x1=\"54\" y1=\"0\" x2=\"54\" y2=\"25\" />\n",
       "  <line x1=\"60\" y1=\"0\" x2=\"60\" y2=\"25\" />\n",
       "  <line x1=\"65\" y1=\"0\" x2=\"65\" y2=\"25\" />\n",
       "  <line x1=\"69\" y1=\"0\" x2=\"69\" y2=\"25\" />\n",
       "  <line x1=\"74\" y1=\"0\" x2=\"74\" y2=\"25\" />\n",
       "  <line x1=\"79\" y1=\"0\" x2=\"79\" y2=\"25\" />\n",
       "  <line x1=\"84\" y1=\"0\" x2=\"84\" y2=\"25\" />\n",
       "  <line x1=\"89\" y1=\"0\" x2=\"89\" y2=\"25\" />\n",
       "  <line x1=\"94\" y1=\"0\" x2=\"94\" y2=\"25\" />\n",
       "  <line x1=\"99\" y1=\"0\" x2=\"99\" y2=\"25\" />\n",
       "  <line x1=\"104\" y1=\"0\" x2=\"104\" y2=\"25\" />\n",
       "  <line x1=\"109\" y1=\"0\" x2=\"109\" y2=\"25\" />\n",
       "  <line x1=\"114\" y1=\"0\" x2=\"114\" y2=\"25\" />\n",
       "  <line x1=\"120\" y1=\"0\" x2=\"120\" y2=\"25\" style=\"stroke-width:2\" />\n",
       "\n",
       "  <!-- Colored Rectangle -->\n",
       "  <polygon points=\"0.0,0.0 120.0,0.0 120.0,25.412616514582485 0.0,25.412616514582485\" style=\"fill:#ECB172A0;stroke-width:0\"/>\n",
       "\n",
       "  <!-- Text -->\n",
       "  <text x=\"60.000000\" y=\"45.412617\" font-size=\"1.0rem\" font-weight=\"100\" text-anchor=\"middle\" >17520</text>\n",
       "  <text x=\"140.000000\" y=\"12.706308\" font-size=\"1.0rem\" font-weight=\"100\" text-anchor=\"middle\" transform=\"rotate(0,140.000000,12.706308)\">1</text>\n",
       "\n",
       "\n",
       "  <!-- Horizontal lines -->\n",
       "  <line x1=\"190\" y1=\"0\" x2=\"204\" y2=\"14\" style=\"stroke-width:2\" />\n",
       "  <line x1=\"190\" y1=\"25\" x2=\"204\" y2=\"40\" style=\"stroke-width:2\" />\n",
       "\n",
       "  <!-- Vertical lines -->\n",
       "  <line x1=\"190\" y1=\"0\" x2=\"190\" y2=\"25\" style=\"stroke-width:2\" />\n",
       "  <line x1=\"204\" y1=\"14\" x2=\"204\" y2=\"40\" style=\"stroke-width:2\" />\n",
       "\n",
       "  <!-- Colored Rectangle -->\n",
       "  <polygon points=\"190.0,0.0 204.9485979497544,14.948597949754403 204.9485979497544,40.36121446433689 190.0,25.412616514582485\" style=\"fill:#ECB172A0;stroke-width:0\"/>\n",
       "\n",
       "  <!-- Horizontal lines -->\n",
       "  <line x1=\"190\" y1=\"0\" x2=\"215\" y2=\"0\" style=\"stroke-width:2\" />\n",
       "  <line x1=\"204\" y1=\"14\" x2=\"230\" y2=\"14\" style=\"stroke-width:2\" />\n",
       "\n",
       "  <!-- Vertical lines -->\n",
       "  <line x1=\"190\" y1=\"0\" x2=\"204\" y2=\"14\" style=\"stroke-width:2\" />\n",
       "  <line x1=\"215\" y1=\"0\" x2=\"230\" y2=\"14\" style=\"stroke-width:2\" />\n",
       "\n",
       "  <!-- Colored Rectangle -->\n",
       "  <polygon points=\"190.0,0.0 215.41261651458248,0.0 230.36121446433688,14.948597949754403 204.9485979497544,14.948597949754403\" style=\"fill:#ECB172A0;stroke-width:0\"/>\n",
       "\n",
       "  <!-- Horizontal lines -->\n",
       "  <line x1=\"204\" y1=\"14\" x2=\"230\" y2=\"14\" style=\"stroke-width:2\" />\n",
       "  <line x1=\"204\" y1=\"40\" x2=\"230\" y2=\"40\" style=\"stroke-width:2\" />\n",
       "\n",
       "  <!-- Vertical lines -->\n",
       "  <line x1=\"204\" y1=\"14\" x2=\"204\" y2=\"40\" style=\"stroke-width:2\" />\n",
       "  <line x1=\"230\" y1=\"14\" x2=\"230\" y2=\"40\" style=\"stroke-width:2\" />\n",
       "\n",
       "  <!-- Colored Rectangle -->\n",
       "  <polygon points=\"204.9485979497544,14.948597949754403 230.36121446433688,14.948597949754403 230.36121446433688,40.36121446433689 204.9485979497544,40.36121446433689\" style=\"fill:#ECB172A0;stroke-width:0\"/>\n",
       "\n",
       "  <!-- Text -->\n",
       "  <text x=\"217.654906\" y=\"60.361214\" font-size=\"1.0rem\" font-weight=\"100\" text-anchor=\"middle\" >1</text>\n",
       "  <text x=\"250.361214\" y=\"27.654906\" font-size=\"1.0rem\" font-weight=\"100\" text-anchor=\"middle\" transform=\"rotate(0,250.361214,27.654906)\">1</text>\n",
       "  <text x=\"187.474299\" y=\"52.886915\" font-size=\"1.0rem\" font-weight=\"100\" text-anchor=\"middle\" transform=\"rotate(45,187.474299,52.886915)\">20</text>\n",
       "</svg>\n",
       "        </td>\n",
       "    </tr>\n",
       "</table></div></li><li class='xr-var-item'><div class='xr-var-name'><span>SpeciesConc_Hg0</span></div><div class='xr-var-dims'>(time, lev, lat, lon)</div><div class='xr-var-dtype'>float32</div><div class='xr-var-preview xr-preview'>dask.array&lt;chunksize=(744, 20, 1, 1), meta=np.ndarray&gt;</div><input id='attrs-862c5232-c110-4591-bb21-945fdaf0c38d' class='xr-var-attrs-in' type='checkbox' ><label for='attrs-862c5232-c110-4591-bb21-945fdaf0c38d' title='Show/Hide attributes'><svg class='icon xr-icon-file-text2'><use xlink:href='#icon-file-text2'></use></svg></label><input id='data-125a92dd-883b-4bf6-8008-badc995d09f0' class='xr-var-data-in' type='checkbox'><label for='data-125a92dd-883b-4bf6-8008-badc995d09f0' title='Show/Hide data repr'><svg class='icon xr-icon-database'><use xlink:href='#icon-database'></use></svg></label><div class='xr-var-attrs'><dl class='xr-attrs'><dt><span>long_name :</span></dt><dd>Dry mixing ratio of species Hg0</dd><dt><span>units :</span></dt><dd>mol mol-1 dry</dd><dt><span>averaging_method :</span></dt><dd>time-averaged</dd></dl></div><div class='xr-var-data'><table>\n",
       "    <tr>\n",
       "        <td>\n",
       "            <table>\n",
       "                <thead>\n",
       "                    <tr>\n",
       "                        <td> </td>\n",
       "                        <th> Array </th>\n",
       "                        <th> Chunk </th>\n",
       "                    </tr>\n",
       "                </thead>\n",
       "                <tbody>\n",
       "                    \n",
       "                    <tr>\n",
       "                        <th> Bytes </th>\n",
       "                        <td> 1.34 MiB </td>\n",
       "                        <td> 58.12 kiB </td>\n",
       "                    </tr>\n",
       "                    \n",
       "                    <tr>\n",
       "                        <th> Shape </th>\n",
       "                        <td> (17520, 20, 1, 1) </td>\n",
       "                        <td> (744, 20, 1, 1) </td>\n",
       "                    </tr>\n",
       "                    <tr>\n",
       "                        <th> Count </th>\n",
       "                        <td> 72 Tasks </td>\n",
       "                        <td> 24 Chunks </td>\n",
       "                    </tr>\n",
       "                    <tr>\n",
       "                    <th> Type </th>\n",
       "                    <td> float32 </td>\n",
       "                    <td> numpy.ndarray </td>\n",
       "                    </tr>\n",
       "                </tbody>\n",
       "            </table>\n",
       "        </td>\n",
       "        <td>\n",
       "        <svg width=\"470\" height=\"90\" style=\"stroke:rgb(0,0,0);stroke-width:1\" >\n",
       "\n",
       "  <!-- Horizontal lines -->\n",
       "  <line x1=\"0\" y1=\"0\" x2=\"120\" y2=\"0\" style=\"stroke-width:2\" />\n",
       "  <line x1=\"0\" y1=\"25\" x2=\"120\" y2=\"25\" style=\"stroke-width:2\" />\n",
       "\n",
       "  <!-- Vertical lines -->\n",
       "  <line x1=\"0\" y1=\"0\" x2=\"0\" y2=\"25\" style=\"stroke-width:2\" />\n",
       "  <line x1=\"5\" y1=\"0\" x2=\"5\" y2=\"25\" />\n",
       "  <line x1=\"9\" y1=\"0\" x2=\"9\" y2=\"25\" />\n",
       "  <line x1=\"14\" y1=\"0\" x2=\"14\" y2=\"25\" />\n",
       "  <line x1=\"19\" y1=\"0\" x2=\"19\" y2=\"25\" />\n",
       "  <line x1=\"24\" y1=\"0\" x2=\"24\" y2=\"25\" />\n",
       "  <line x1=\"29\" y1=\"0\" x2=\"29\" y2=\"25\" />\n",
       "  <line x1=\"34\" y1=\"0\" x2=\"34\" y2=\"25\" />\n",
       "  <line x1=\"39\" y1=\"0\" x2=\"39\" y2=\"25\" />\n",
       "  <line x1=\"44\" y1=\"0\" x2=\"44\" y2=\"25\" />\n",
       "  <line x1=\"49\" y1=\"0\" x2=\"49\" y2=\"25\" />\n",
       "  <line x1=\"54\" y1=\"0\" x2=\"54\" y2=\"25\" />\n",
       "  <line x1=\"60\" y1=\"0\" x2=\"60\" y2=\"25\" />\n",
       "  <line x1=\"65\" y1=\"0\" x2=\"65\" y2=\"25\" />\n",
       "  <line x1=\"69\" y1=\"0\" x2=\"69\" y2=\"25\" />\n",
       "  <line x1=\"74\" y1=\"0\" x2=\"74\" y2=\"25\" />\n",
       "  <line x1=\"79\" y1=\"0\" x2=\"79\" y2=\"25\" />\n",
       "  <line x1=\"84\" y1=\"0\" x2=\"84\" y2=\"25\" />\n",
       "  <line x1=\"89\" y1=\"0\" x2=\"89\" y2=\"25\" />\n",
       "  <line x1=\"94\" y1=\"0\" x2=\"94\" y2=\"25\" />\n",
       "  <line x1=\"99\" y1=\"0\" x2=\"99\" y2=\"25\" />\n",
       "  <line x1=\"104\" y1=\"0\" x2=\"104\" y2=\"25\" />\n",
       "  <line x1=\"109\" y1=\"0\" x2=\"109\" y2=\"25\" />\n",
       "  <line x1=\"114\" y1=\"0\" x2=\"114\" y2=\"25\" />\n",
       "  <line x1=\"120\" y1=\"0\" x2=\"120\" y2=\"25\" style=\"stroke-width:2\" />\n",
       "\n",
       "  <!-- Colored Rectangle -->\n",
       "  <polygon points=\"0.0,0.0 120.0,0.0 120.0,25.412616514582485 0.0,25.412616514582485\" style=\"fill:#ECB172A0;stroke-width:0\"/>\n",
       "\n",
       "  <!-- Text -->\n",
       "  <text x=\"60.000000\" y=\"45.412617\" font-size=\"1.0rem\" font-weight=\"100\" text-anchor=\"middle\" >17520</text>\n",
       "  <text x=\"140.000000\" y=\"12.706308\" font-size=\"1.0rem\" font-weight=\"100\" text-anchor=\"middle\" transform=\"rotate(0,140.000000,12.706308)\">1</text>\n",
       "\n",
       "\n",
       "  <!-- Horizontal lines -->\n",
       "  <line x1=\"190\" y1=\"0\" x2=\"204\" y2=\"14\" style=\"stroke-width:2\" />\n",
       "  <line x1=\"190\" y1=\"25\" x2=\"204\" y2=\"40\" style=\"stroke-width:2\" />\n",
       "\n",
       "  <!-- Vertical lines -->\n",
       "  <line x1=\"190\" y1=\"0\" x2=\"190\" y2=\"25\" style=\"stroke-width:2\" />\n",
       "  <line x1=\"204\" y1=\"14\" x2=\"204\" y2=\"40\" style=\"stroke-width:2\" />\n",
       "\n",
       "  <!-- Colored Rectangle -->\n",
       "  <polygon points=\"190.0,0.0 204.9485979497544,14.948597949754403 204.9485979497544,40.36121446433689 190.0,25.412616514582485\" style=\"fill:#ECB172A0;stroke-width:0\"/>\n",
       "\n",
       "  <!-- Horizontal lines -->\n",
       "  <line x1=\"190\" y1=\"0\" x2=\"215\" y2=\"0\" style=\"stroke-width:2\" />\n",
       "  <line x1=\"204\" y1=\"14\" x2=\"230\" y2=\"14\" style=\"stroke-width:2\" />\n",
       "\n",
       "  <!-- Vertical lines -->\n",
       "  <line x1=\"190\" y1=\"0\" x2=\"204\" y2=\"14\" style=\"stroke-width:2\" />\n",
       "  <line x1=\"215\" y1=\"0\" x2=\"230\" y2=\"14\" style=\"stroke-width:2\" />\n",
       "\n",
       "  <!-- Colored Rectangle -->\n",
       "  <polygon points=\"190.0,0.0 215.41261651458248,0.0 230.36121446433688,14.948597949754403 204.9485979497544,14.948597949754403\" style=\"fill:#ECB172A0;stroke-width:0\"/>\n",
       "\n",
       "  <!-- Horizontal lines -->\n",
       "  <line x1=\"204\" y1=\"14\" x2=\"230\" y2=\"14\" style=\"stroke-width:2\" />\n",
       "  <line x1=\"204\" y1=\"40\" x2=\"230\" y2=\"40\" style=\"stroke-width:2\" />\n",
       "\n",
       "  <!-- Vertical lines -->\n",
       "  <line x1=\"204\" y1=\"14\" x2=\"204\" y2=\"40\" style=\"stroke-width:2\" />\n",
       "  <line x1=\"230\" y1=\"14\" x2=\"230\" y2=\"40\" style=\"stroke-width:2\" />\n",
       "\n",
       "  <!-- Colored Rectangle -->\n",
       "  <polygon points=\"204.9485979497544,14.948597949754403 230.36121446433688,14.948597949754403 230.36121446433688,40.36121446433689 204.9485979497544,40.36121446433689\" style=\"fill:#ECB172A0;stroke-width:0\"/>\n",
       "\n",
       "  <!-- Text -->\n",
       "  <text x=\"217.654906\" y=\"60.361214\" font-size=\"1.0rem\" font-weight=\"100\" text-anchor=\"middle\" >1</text>\n",
       "  <text x=\"250.361214\" y=\"27.654906\" font-size=\"1.0rem\" font-weight=\"100\" text-anchor=\"middle\" transform=\"rotate(0,250.361214,27.654906)\">1</text>\n",
       "  <text x=\"187.474299\" y=\"52.886915\" font-size=\"1.0rem\" font-weight=\"100\" text-anchor=\"middle\" transform=\"rotate(45,187.474299,52.886915)\">20</text>\n",
       "</svg>\n",
       "        </td>\n",
       "    </tr>\n",
       "</table></div></li></ul></div></li><li class='xr-section-item'><input id='section-9b3729fb-75c6-495e-b0e8-78bae01ddd3f' class='xr-section-summary-in' type='checkbox'  checked><label for='section-9b3729fb-75c6-495e-b0e8-78bae01ddd3f' class='xr-section-summary' >Attributes: <span>(9)</span></label><div class='xr-section-inline-details'></div><div class='xr-section-details'><dl class='xr-attrs'><dt><span>title :</span></dt><dd>GEOS-Chem diagnostic collection: SpeciesConcCHC</dd><dt><span>history :</span></dt><dd></dd><dt><span>format :</span></dt><dd>CFIO</dd><dt><span>conventions :</span></dt><dd>COARDS</dd><dt><span>ProdDateTime :</span></dt><dd></dd><dt><span>reference :</span></dt><dd>www.geos-chem.org; wiki.geos-chem.org</dd><dt><span>contact :</span></dt><dd>GEOS-Chem Support Team (geos-chem-support@as.harvard.edu)</dd><dt><span>simulation_start_date_and_time :</span></dt><dd>2014-01-01 00:00:00z</dd><dt><span>simulation_end_date_and_time :</span></dt><dd>2016-01-01 00:00:00z</dd></dl></div></li></ul></div></div>"
      ],
      "text/plain": [
       "<xarray.Dataset>\n",
       "Dimensions:          (time: 17520, lev: 20, ilev: 21, lat: 1, lon: 1)\n",
       "Coordinates:\n",
       "  * time             (time) datetime64[ns] 2014-01-01T00:30:00 ... 2015-12-31...\n",
       "  * lev              (lev) float64 0.9925 0.9775 0.9625 ... 0.6875 0.6563 0.6188\n",
       "  * ilev             (ilev) float64 1.0 0.985 0.97 0.955 ... 0.675 0.6375 0.6\n",
       "  * lat              (lat) float64 -16.0\n",
       "  * lon              (lon) float64 -67.5\n",
       "Data variables:\n",
       "    hyam             (time, lev) float64 dask.array<chunksize=(744, 20), meta=np.ndarray>\n",
       "    hybm             (time, lev) float64 dask.array<chunksize=(744, 20), meta=np.ndarray>\n",
       "    hyai             (time, ilev) float64 dask.array<chunksize=(744, 21), meta=np.ndarray>\n",
       "    hybi             (time, ilev) float64 dask.array<chunksize=(744, 21), meta=np.ndarray>\n",
       "    P0               (time) float64 1e+03 1e+03 1e+03 ... 1e+03 1e+03 1e+03\n",
       "    AREA             (time, lat, lon) float32 dask.array<chunksize=(744, 1, 1), meta=np.ndarray>\n",
       "    SpeciesConc_HgP  (time, lev, lat, lon) float32 dask.array<chunksize=(744, 20, 1, 1), meta=np.ndarray>\n",
       "    SpeciesConc_Hg2  (time, lev, lat, lon) float32 dask.array<chunksize=(744, 20, 1, 1), meta=np.ndarray>\n",
       "    SpeciesConc_Hg0  (time, lev, lat, lon) float32 dask.array<chunksize=(744, 20, 1, 1), meta=np.ndarray>\n",
       "Attributes:\n",
       "    title:                           GEOS-Chem diagnostic collection: Species...\n",
       "    history:                         \n",
       "    format:                          CFIO\n",
       "    conventions:                     COARDS\n",
       "    ProdDateTime:                    \n",
       "    reference:                       www.geos-chem.org; wiki.geos-chem.org\n",
       "    contact:                         GEOS-Chem Support Team (geos-chem-suppor...\n",
       "    simulation_start_date_and_time:  2014-01-01 00:00:00z\n",
       "    simulation_end_date_and_time:    2016-01-01 00:00:00z"
      ]
     },
     "execution_count": 8,
     "metadata": {},
     "output_type": "execute_result"
    }
   ],
   "source": [
    "ds_baseCHC"
   ]
  },
  {
   "cell_type": "code",
   "execution_count": 9,
   "metadata": {
    "execution": {
     "iopub.execute_input": "2022-06-07T17:50:48.962889Z",
     "iopub.status.busy": "2022-06-07T17:50:48.962739Z",
     "iopub.status.idle": "2022-06-07T17:50:48.965975Z",
     "shell.execute_reply": "2022-06-07T17:50:48.965631Z",
     "shell.execute_reply.started": "2022-06-07T17:50:48.962872Z"
    }
   },
   "outputs": [],
   "source": [
    "#get the geoschem variable names \n",
    "for item in ds_baseCHC.keys():\n",
    "    \n",
    "    dic=ds_baseCHC[item].attrs\n",
    "    res = [item] \n",
    "    for key in dic.keys() : \n",
    "        res.append(dic[key]) \n",
    "    #print(res)\n",
    "    #Cat_m.append(res)"
   ]
  },
  {
   "cell_type": "code",
   "execution_count": 10,
   "metadata": {
    "execution": {
     "iopub.execute_input": "2022-06-07T17:50:48.966827Z",
     "iopub.status.busy": "2022-06-07T17:50:48.966608Z",
     "iopub.status.idle": "2022-06-07T17:50:48.970749Z",
     "shell.execute_reply": "2022-06-07T17:50:48.970393Z",
     "shell.execute_reply.started": "2022-06-07T17:50:48.966811Z"
    }
   },
   "outputs": [],
   "source": [
    "# BASE MDD\n",
    "Hg0 = ds_baseCHC.SpeciesConc_Hg0.isel(lev = 19).squeeze() # subset for level"
   ]
  },
  {
   "cell_type": "code",
   "execution_count": 11,
   "metadata": {
    "execution": {
     "iopub.execute_input": "2022-06-07T17:50:48.971549Z",
     "iopub.status.busy": "2022-06-07T17:50:48.971325Z",
     "iopub.status.idle": "2022-06-07T17:50:48.979947Z",
     "shell.execute_reply": "2022-06-07T17:50:48.979599Z",
     "shell.execute_reply.started": "2022-06-07T17:50:48.971532Z"
    },
    "tags": []
   },
   "outputs": [],
   "source": [
    "# Modified Model Outputs \n",
    "Hg0_mdd   = ds_CHC_mdd.SpeciesConc_Hg0.isel(lev = 19).squeeze() # subset for level\n",
    "Hg0_aqp   = ds_CHC_aqp.SpeciesConc_Hg0.isel(lev = 19).squeeze()\n",
    "Hg0_Spuno = ds_CHC_Spuno.SpeciesConc_Hg0.isel(lev = 19).squeeze()\n",
    "Hg0_Npuno = ds_CHC_Npuno.SpeciesConc_Hg0.isel(lev = 19).squeeze()\n",
    "Hg0_aprc  = ds_CHC_aprc.SpeciesConc_Hg0.isel(lev = 19).squeeze()"
   ]
  },
  {
   "cell_type": "code",
   "execution_count": 12,
   "metadata": {
    "execution": {
     "iopub.execute_input": "2022-06-07T17:50:48.980743Z",
     "iopub.status.busy": "2022-06-07T17:50:48.980528Z",
     "iopub.status.idle": "2022-06-07T17:50:48.990296Z",
     "shell.execute_reply": "2022-06-07T17:50:48.989951Z",
     "shell.execute_reply.started": "2022-06-07T17:50:48.980727Z"
    }
   },
   "outputs": [],
   "source": [
    "# convert units to ng m^-3\n",
    "R = 8.314462 # m^3 Pa K^-1 mol ^-1\n",
    "MW_Hg = 200.59 # g mol^-1\n",
    "ng_g = 1e9 # ng/g\n",
    "\n",
    "stdpressure = 101325 # Pascals\n",
    "stdtemp = 273.15 # Kelvins\n",
    "\n",
    "unit_conv = stdpressure / R / stdtemp * MW_Hg * ng_g # converter from vmr to ng m^-3\n",
    "\n",
    "Hg0 = Hg0 * unit_conv\n",
    "Hg0_mdd = Hg0_mdd * unit_conv\n",
    "Hg0_aqp = Hg0_aqp * unit_conv\n",
    "Hg0_Spuno = Hg0_Spuno * unit_conv\n",
    "Hg0_Npuno = Hg0_Npuno * unit_conv\n",
    "Hg0_aprc  = Hg0_aprc * unit_conv"
   ]
  },
  {
   "cell_type": "code",
   "execution_count": 13,
   "metadata": {
    "execution": {
     "iopub.execute_input": "2022-06-07T17:50:48.991040Z",
     "iopub.status.busy": "2022-06-07T17:50:48.990826Z",
     "iopub.status.idle": "2022-06-07T17:50:48.993063Z",
     "shell.execute_reply": "2022-06-07T17:50:48.992711Z",
     "shell.execute_reply.started": "2022-06-07T17:50:48.991024Z"
    }
   },
   "outputs": [],
   "source": [
    "#Hg0.to_dataframe().resample('D').mean()"
   ]
  },
  {
   "cell_type": "markdown",
   "metadata": {},
   "source": [
    "# Function to extract Hg0 at model grid boxes"
   ]
  },
  {
   "cell_type": "code",
   "execution_count": 14,
   "metadata": {
    "execution": {
     "iopub.execute_input": "2022-06-07T17:50:48.993926Z",
     "iopub.status.busy": "2022-06-07T17:50:48.993739Z",
     "iopub.status.idle": "2022-06-07T17:50:49.001546Z",
     "shell.execute_reply": "2022-06-07T17:50:49.001180Z",
     "shell.execute_reply.started": "2022-06-07T17:50:48.993910Z"
    }
   },
   "outputs": [],
   "source": [
    "\"\"\"\n",
    "Created on Fri May  7 14:24:42 2021\n",
    "Extract Hg0 at model grid boxes for comparison with observations\n",
    "@author: arifeinberg\n",
    "\"\"\"\n",
    "#%%\n",
    "import xarray as xr\n",
    "import os\n",
    "from os import path\n",
    "import numpy as np\n",
    "import matplotlib.pyplot as plt\n",
    "import pandas as pd\n",
    "import csv\n",
    "\n",
    "#%%\n",
    "os.chdir('/net/fs03/d0/arifein/python/')\n",
    "#%%\n",
    "def get_model_ts(site_str): # get model time series\n",
    "    # first check if site files exist\n",
    "    pn1 = '../GEOS-Chem_runs/run0003/OutputDir/' # path of BASE simulation\n",
    "    pn2 = '../GEOS-Chem_runs/run0004/OutputDir/' # path of ASGM simulation\n",
    "    fn  = 'GEOSChem.SpeciesConc' + site_str + '.alltime_d.nc4' # time series at site\n",
    "    \n",
    "    bool_exists = path.exists(pn1 + fn) # boolean to check if exists\n",
    "    if not bool_exists :\n",
    "        print('Error with filename or site string incorrect')\n",
    "        return\n",
    "    \n",
    "    # continue with extracting model data\n",
    "    ds1 = xr.open_dataset(pn1 + fn) # BASE simulation\n",
    "    ds2 = xr.open_dataset(pn2 + fn) # ASGM simulation\n",
    "    \n",
    "    if site_str == 'CHC' : # CHC altitude is close to GEOS-Chem level 20\n",
    "        # BASE\n",
    "        Hg0 = ds1.SpeciesConc_Hg0.isel(lev = 19).squeeze() # subset for level\n",
    "        # ASGM        \n",
    "        Hg0_ASGM = ds2.SpeciesConc_Hg0.isel(lev = 19).squeeze() # subset for level\n",
    "    elif site_str == 'TIT' : # TIT altitude is close to GEOS-Chem level 15\n",
    "        # BASE\n",
    "        Hg0 = ds1.SpeciesConc_Hg0.isel(lev = 14).squeeze() # subset for level\n",
    "        # ASGM    \n",
    "        Hg0_ASGM = ds2.SpeciesConc_Hg0.isel(lev = 14).squeeze() # subset for level            \n",
    "    else : # assume that all other sites are at the surface\n",
    "        # BASE\n",
    "        Hg0 = ds1.SpeciesConc_Hg0.isel(lev = 0).squeeze()\n",
    "        # ASGM        \n",
    "        Hg0_ASGM = ds2.SpeciesConc_Hg0.isel(lev = 0).squeeze() # subset for level\n",
    "        \n",
    "    # convert units to ng m^-3\n",
    "    R = 8.314462 # m^3 Pa K^-1 mol ^-1\n",
    "    MW_Hg = 200.59 # g mol^-1\n",
    "    ng_g = 1e9 # ng/g\n",
    "    \n",
    "    stdpressure = 101325 # Pascals\n",
    "    stdtemp = 273.15 # Kelvins\n",
    "    \n",
    "    unit_conv = stdpressure / R / stdtemp * MW_Hg * ng_g # converter from vmr to ng m^-3\n",
    "    \n",
    "    Hg0 = Hg0 * unit_conv\n",
    "    Hg0_ASGM = Hg0_ASGM * unit_conv\n",
    "    \n",
    "    # calculate contribution from ASGM\n",
    "    Hg0_c_ASGM = Hg0 - Hg0_ASGM # contribution from ASGM emissions\n",
    "        \n",
    "    # return both time series\n",
    "    return Hg0, Hg0_c_ASGM"
   ]
  },
  {
   "cell_type": "markdown",
   "metadata": {},
   "source": [
    "# Function to get observations at CHC"
   ]
  },
  {
   "cell_type": "code",
   "execution_count": 15,
   "metadata": {
    "execution": {
     "iopub.execute_input": "2022-06-07T17:50:49.002361Z",
     "iopub.status.busy": "2022-06-07T17:50:49.002095Z",
     "iopub.status.idle": "2022-06-07T17:50:49.006988Z",
     "shell.execute_reply": "2022-06-07T17:50:49.006633Z",
     "shell.execute_reply.started": "2022-06-07T17:50:49.002340Z"
    }
   },
   "outputs": [],
   "source": [
    "def get_chc_obs(source): # get observations for Chacaltaya\n",
    "    chc_raw= pd.read_csv(source,delimiter = \";\")\n",
    "    #The first 35 rows of the csv file is descriptive information\n",
    "    chc = chc_raw.iloc[35:]\n",
    "\n",
    "    #Reset the index\n",
    "    chc.reset_index(inplace= True, drop =True)\n",
    "\n",
    "    #rename columns appropriately\n",
    "    chc.columns =['tstamp','value']\n",
    "\n",
    "    #drop NA values in the dataframe\n",
    "    chc = chc[chc['value'].notna()]\n",
    "    chc.reset_index(inplace= True, drop =True)\n",
    "    chc\n",
    "    #change concentrations to floating point since they are currently strings\n",
    "    conc=[]\n",
    "    for index, dat in enumerate(chc['value']):\n",
    "        num = dat.split(\",\")\n",
    "        if len(num)!=2:\n",
    "            conc.append(float(dat))\n",
    "        else:\n",
    "            conc.append(float(num[0]+\".\"+num[1]))\n",
    "    chc['value'] = conc\n",
    "\n",
    "    # Convert that column into a datetime datatype\n",
    "    chc['tstamp'] = pd.to_datetime(chc['tstamp'],dayfirst=True,utc=True) \n",
    "\n",
    "    chc.index = chc['tstamp'] # Set the datetime column as the index\n",
    "   \n",
    "    return chc"
   ]
  },
  {
   "cell_type": "markdown",
   "metadata": {},
   "source": [
    "# Function to Get Observations from GMOS sites except CHC"
   ]
  },
  {
   "cell_type": "code",
   "execution_count": 16,
   "metadata": {
    "execution": {
     "iopub.execute_input": "2022-06-07T17:50:49.007738Z",
     "iopub.status.busy": "2022-06-07T17:50:49.007529Z",
     "iopub.status.idle": "2022-06-07T17:50:49.011910Z",
     "shell.execute_reply": "2022-06-07T17:50:49.011561Z",
     "shell.execute_reply.started": "2022-06-07T17:50:49.007722Z"
    }
   },
   "outputs": [],
   "source": [
    "def get_data(station):#BAR,CAL,CST, MAN,NIK, SIS\n",
    "    #convert string to uppercase just incase the case is different \n",
    "    station = str(station.upper())\n",
    "    #create dictionary for file path\n",
    "    sites = {'BAR':'Bariloche/BAR.csv', 'CAL':'Calhau/CAL.csv','CST':'Celestun/CST.csv','MAN':'Manaus/MAN.csv','NIK':'Niew Nickerie/NIK.csv','SIS':'Sisal/SIS.csv' }\n",
    "    \n",
    "    #check if given name is in the list of sites\n",
    "    if station.upper() in ['BAR','CAL','CST', 'MAN','NIK','SIS']:\n",
    "        #create function to upload the data from svante\n",
    "        def get_site(station):\n",
    "            source='../../../d1/tzd/GMOS_Observations/GMOS_Observations/'+sites[station]\n",
    "            site= pd.read_csv(source)\n",
    "            return site\n",
    "        \n",
    "  #get required columns from the raw data\n",
    "        time= get_site(station)['tstamp']\n",
    "        value= get_site(station)['value']\n",
    "        unit = get_site(station)['uom']\n",
    "        \n",
    "        return pd.concat([time,value,unit], axis=1)# return a data frame with the timestamp, value and units of measurement\n",
    "    else:# error message if user enter the wrong name that is not any of the sites \n",
    "        return \"Please try again, use either one of the following 'BAR','CAL','CST', 'MAN','NIK', 'SIS' \"\n",
    "    "
   ]
  },
  {
   "cell_type": "markdown",
   "metadata": {},
   "source": [
    "# Function that combines functions that get observations"
   ]
  },
  {
   "cell_type": "code",
   "execution_count": 110,
   "metadata": {
    "execution": {
     "iopub.execute_input": "2022-06-07T17:50:49.012735Z",
     "iopub.status.busy": "2022-06-07T17:50:49.012473Z",
     "iopub.status.idle": "2022-06-07T17:50:49.015535Z",
     "shell.execute_reply": "2022-06-07T17:50:49.015179Z",
     "shell.execute_reply.started": "2022-06-07T17:50:49.012719Z"
    },
    "tags": []
   },
   "outputs": [],
   "source": [
    "def get_obs_ts(site_str):\n",
    "    #check if it is Chacaltaya:\n",
    "    if site_str == 'CHC' : # different file formate for Chacaltaya\n",
    "        #Location of data in Svante\n",
    "        path14 ='../../../d1/tzd/GMOS_Observations/2014/L1_TGM_CHC_2014.csv'\n",
    "        path15 ='../../../d1/tzd/GMOS_Observations/2015/L1_TGM_CHC_2015.csv'\n",
    "        # combine data from the two years\n",
    "        obs_Hg0 =  pd.concat([get_chc_obs(path14), get_chc_obs(path15)], axis=0)\n",
    "        # convert to datetime\n",
    "        obs_Hg0['tstamp'] = pd.to_datetime(obs_Hg0['tstamp'],dayfirst=True)\n",
    "    else:\n",
    "        obs_Hg0 = get_data(site_str)\n",
    "    \n",
    "    return obs_Hg0       "
   ]
  },
  {
   "cell_type": "markdown",
   "metadata": {},
   "source": [
    "# Function for getting model output and oservations "
   ]
  },
  {
   "cell_type": "code",
   "execution_count": 111,
   "metadata": {
    "execution": {
     "iopub.execute_input": "2022-06-07T17:50:49.016315Z",
     "iopub.status.busy": "2022-06-07T17:50:49.016066Z",
     "iopub.status.idle": "2022-06-07T17:50:49.018759Z",
     "shell.execute_reply": "2022-06-07T17:50:49.018409Z",
     "shell.execute_reply.started": "2022-06-07T17:50:49.016299Z"
    },
    "tags": []
   },
   "outputs": [],
   "source": [
    "def get_model_obs(site_str): #get model and observation data\n",
    "    # model data\n",
    "    model_Hg0, model_Hg0_ASGM = get_model_ts(site_str)\n",
    "    # observation data\n",
    "    obs_Hg0 = get_obs_ts(site_str)\n",
    "\n",
    "    return obs_Hg0, model_Hg0.to_dataframe(), model_Hg0_ASGM.to_dataframe()"
   ]
  },
  {
   "cell_type": "markdown",
   "metadata": {},
   "source": [
    "## Sanity Check"
   ]
  },
  {
   "cell_type": "code",
   "execution_count": 65,
   "metadata": {
    "execution": {
     "iopub.execute_input": "2022-06-07T17:50:49.019512Z",
     "iopub.status.busy": "2022-06-07T17:50:49.019296Z",
     "iopub.status.idle": "2022-06-07T17:50:51.958427Z",
     "shell.execute_reply": "2022-06-07T17:50:51.957961Z",
     "shell.execute_reply.started": "2022-06-07T17:50:49.019496Z"
    },
    "scrolled": true,
    "tags": []
   },
   "outputs": [
    {
     "name": "stdout",
     "output_type": "stream",
     "text": [
      "Observations\n",
      "                tstamp  value     uom\n",
      "0  2007-03-14T17:45:00  0.437  ng_m-3\n",
      "1  2007-03-14T18:00:00  0.637  ng_m-3\n",
      "2  2007-03-14T18:15:00  0.567  ng_m-3\n",
      "3  2007-03-14T18:30:00  0.650  ng_m-3\n",
      "4  2007-03-14T18:45:00  0.561  ng_m-3\n",
      "\n",
      "Refference Simulation\n",
      "                      lon  lat     lev  SpeciesConc_Hg0\n",
      "time                                                   \n",
      "2010-01-01 12:00:00 -57.5  6.0  0.9925         1.367003\n",
      "2010-01-02 12:00:00 -57.5  6.0  0.9925         1.393025\n",
      "2010-01-03 12:00:00 -57.5  6.0  0.9925         1.391835\n",
      "2010-01-04 12:00:00 -57.5  6.0  0.9925         1.403095\n",
      "2010-01-05 12:00:00 -57.5  6.0  0.9925         1.380743\n",
      "\n",
      "ASGM Simulation\n",
      "                      lon  lat     lev  SpeciesConc_Hg0\n",
      "time                                                   \n",
      "2010-01-01 12:00:00 -57.5  6.0  0.9925         0.023157\n",
      "2010-01-02 12:00:00 -57.5  6.0  0.9925         0.037035\n",
      "2010-01-03 12:00:00 -57.5  6.0  0.9925         0.045609\n",
      "2010-01-04 12:00:00 -57.5  6.0  0.9925         0.059591\n",
      "2010-01-05 12:00:00 -57.5  6.0  0.9925         0.058084\n"
     ]
    }
   ],
   "source": [
    "obs_Hg0, model_Hg0, model_Hg0_ASGM = get_model_obs('NIK')\n",
    "print('Observations')\n",
    "print(obs_Hg0.head(5))\n",
    "print('\\nRefference Simulation')\n",
    "print(model_Hg0.head(5))\n",
    "print('\\nASGM Simulation')\n",
    "print(model_Hg0_ASGM.head(5))"
   ]
  },
  {
   "cell_type": "markdown",
   "metadata": {},
   "source": [
    "# Create function to prepare the data for making plots "
   ]
  },
  {
   "cell_type": "code",
   "execution_count": 114,
   "metadata": {
    "execution": {
     "iopub.execute_input": "2022-06-07T17:50:51.959617Z",
     "iopub.status.busy": "2022-06-07T17:50:51.959298Z",
     "iopub.status.idle": "2022-06-07T17:50:51.965548Z",
     "shell.execute_reply": "2022-06-07T17:50:51.965180Z",
     "shell.execute_reply.started": "2022-06-07T17:50:51.959597Z"
    },
    "tags": []
   },
   "outputs": [],
   "source": [
    "def prep_plot(site):\n",
    "    \n",
    "   # Call function with site name\n",
    "    sitenm = site #BAR,CAL,CST, MAN,NIK, SIS, CHC\n",
    "    obs_Hg0, model_Hg0, model_Hg0_ASGM = get_model_obs(sitenm)\n",
    "  \n",
    "        \n",
    "    #resample observations so that they are daily values\n",
    "    obs_Hg0['value'] = obs_Hg0['value'].mask(obs_Hg0['value']<0) #missing values\n",
    "    obs_Hg0['tstamp'] = pd.to_datetime(obs_Hg0['tstamp'])\n",
    "    obs_Hg0_d = obs_Hg0.set_index('tstamp').resample('D').mean() #daily mean values, ignoring NaN\n",
    "    obs_Hg0_d.index=pd.to_datetime(obs_Hg0_d.index.date)\n",
    "\n",
    "    start = str(obs_Hg0['tstamp'].iloc[0])\n",
    "    end =str(obs_Hg0['tstamp'].iloc[-1])\n",
    "    if sitenm== 'CHC':\n",
    "        start=start.split('+')[0]\n",
    "        end=end.split('+')[0]\n",
    "    \n",
    "    #df['time'] = pd.to_datetime(df['time']).dt.date\n",
    "    #Tmodel=model_Hg0.to_dataframe().loc[start:end]['SpeciesConc_Hg0']\n",
    "    Tmodel=model_Hg0.loc[start:end]['SpeciesConc_Hg0']\n",
    "    Tmodel.index=pd.to_datetime(Tmodel.index.date)\n",
    "    #Amodel = model_Hg0_ASGM.to_dataframe().loc[start:end]['SpeciesConc_Hg0']\n",
    "    Amodel = model_Hg0_ASGM.loc[start:end]['SpeciesConc_Hg0']\n",
    "    Amodel.index=pd.to_datetime(Amodel.index.date)\n",
    "    \n",
    "    return obs_Hg0_d, Tmodel, Amodel\n"
   ]
  },
  {
   "cell_type": "markdown",
   "metadata": {},
   "source": [
    "## Sanity Check"
   ]
  },
  {
   "cell_type": "code",
   "execution_count": 69,
   "metadata": {},
   "outputs": [
    {
     "data": {
      "text/plain": [
       "2010-01-01    1.367003\n",
       "2010-01-02    1.393025\n",
       "2010-01-03    1.391835\n",
       "2010-01-04    1.403095\n",
       "2010-01-05    1.380743\n",
       "                ...   \n",
       "2014-12-27    1.388832\n",
       "2014-12-28    1.433654\n",
       "2014-12-29    1.531068\n",
       "2014-12-30    1.542190\n",
       "2014-12-31    1.381680\n",
       "Name: SpeciesConc_Hg0, Length: 1826, dtype: float32"
      ]
     },
     "execution_count": 69,
     "metadata": {},
     "output_type": "execute_result"
    }
   ],
   "source": [
    "model_Hg0.index=model_Hg0.index.date\n",
    "model_Hg0"
   ]
  },
  {
   "cell_type": "code",
   "execution_count": 99,
   "metadata": {
    "execution": {
     "iopub.execute_input": "2022-06-07T17:50:51.966403Z",
     "iopub.status.busy": "2022-06-07T17:50:51.966187Z",
     "iopub.status.idle": "2022-06-07T17:50:56.145030Z",
     "shell.execute_reply": "2022-06-07T17:50:56.144662Z",
     "shell.execute_reply.started": "2022-06-07T17:50:51.966386Z"
    },
    "scrolled": true,
    "tags": []
   },
   "outputs": [
    {
     "name": "stdout",
     "output_type": "stream",
     "text": [
      "\n",
      "BAR\n",
      "Observations\n",
      "               value\n",
      "tstamp              \n",
      "2012-10-23  1.212932\n",
      "2012-10-24  1.249909\n",
      "2012-10-25  1.259908\n",
      "2012-10-26  1.245900\n",
      "2012-10-27  1.106694\n",
      "\n",
      "Refference Simulation\n",
      "2012-10-23    0.996531\n",
      "2012-10-24    0.981157\n",
      "2012-10-25    1.009015\n",
      "2012-10-26    1.031368\n",
      "2012-10-27    0.864071\n",
      "Name: SpeciesConc_Hg0, dtype: float32\n",
      "\n",
      "ASGM Simulation\n",
      "2012-10-23    0.065986\n",
      "2012-10-24    0.060854\n",
      "2012-10-25    0.065687\n",
      "2012-10-26    0.069817\n",
      "2012-10-27    0.048748\n",
      "Name: SpeciesConc_Hg0, dtype: float32\n",
      "            SpeciesConc_Hg0\n",
      "2013-01-01         0.781628\n",
      "2013-01-02         0.742415\n",
      "2013-01-03         0.757023\n",
      "2013-01-04         0.768480\n",
      "2013-01-05         0.797042\n",
      "...                     ...\n",
      "2015-12-26         0.714232\n",
      "2015-12-27         0.757168\n",
      "2015-12-28         0.823354\n",
      "2015-12-29         0.816380\n",
      "2015-12-30         0.779645\n",
      "\n",
      "[1094 rows x 1 columns]\n",
      "\n",
      "CAL\n",
      "Observations\n",
      "               value\n",
      "tstamp              \n",
      "2013-01-16  1.083543\n",
      "2013-01-17  0.968290\n",
      "2013-01-18  0.981971\n",
      "2013-01-19  1.043297\n",
      "2013-01-20  1.149394\n",
      "\n",
      "Refference Simulation\n",
      "2013-01-17    1.229818\n",
      "2013-01-18    1.256448\n",
      "2013-01-19    1.256993\n",
      "2013-01-20    1.255775\n",
      "2013-01-21    1.267001\n",
      "Name: SpeciesConc_Hg0, dtype: float32\n",
      "\n",
      "ASGM Simulation\n",
      "2013-01-17    0.098424\n",
      "2013-01-18    0.096308\n",
      "2013-01-19    0.097191\n",
      "2013-01-20    0.100290\n",
      "2013-01-21    0.104294\n",
      "Name: SpeciesConc_Hg0, dtype: float32\n",
      "            SpeciesConc_Hg0\n",
      "2013-01-17         1.229818\n",
      "2013-01-18         1.256448\n",
      "2013-01-19         1.256993\n",
      "2013-01-20         1.255775\n",
      "2013-01-21         1.267001\n",
      "...                     ...\n",
      "2014-12-27         1.278129\n",
      "2014-12-28         1.261570\n",
      "2014-12-29         1.232313\n",
      "2014-12-30         1.238850\n",
      "2014-12-31         1.243061\n",
      "\n",
      "[714 rows x 1 columns]\n",
      "\n",
      "MAN\n",
      "Observations\n",
      "               value\n",
      "tstamp              \n",
      "2013-01-27  1.863692\n",
      "2013-01-28  1.788600\n",
      "2013-01-29       NaN\n",
      "2013-01-30  1.349083\n",
      "2013-01-31  1.404540\n",
      "\n",
      "Refference Simulation\n",
      "2013-01-28    1.390038\n",
      "2013-01-29    1.408635\n",
      "2013-01-30    1.365976\n",
      "2013-01-31    1.350521\n",
      "2013-02-01    1.396083\n",
      "Name: SpeciesConc_Hg0, dtype: float32\n",
      "\n",
      "ASGM Simulation\n",
      "2013-01-28    0.243159\n",
      "2013-01-29    0.259750\n",
      "2013-01-30    0.236870\n",
      "2013-01-31    0.228138\n",
      "2013-02-01    0.259447\n",
      "Name: SpeciesConc_Hg0, dtype: float32\n",
      "            SpeciesConc_Hg0\n",
      "2013-01-28         1.390038\n",
      "2013-01-29         1.408635\n",
      "2013-01-30         1.365976\n",
      "2013-01-31         1.350521\n",
      "2013-02-01         1.396083\n",
      "...                     ...\n",
      "2014-12-24         1.307305\n",
      "2014-12-25         1.343011\n",
      "2014-12-26         1.323126\n",
      "2014-12-27         1.293447\n",
      "2014-12-28         1.251783\n",
      "\n",
      "[700 rows x 1 columns]\n",
      "\n",
      "NIK\n",
      "Observations\n",
      "               value\n",
      "tstamp              \n",
      "2007-03-14  0.800955\n",
      "2007-03-15  1.307462\n",
      "2007-03-16  1.380700\n",
      "2007-03-17  1.382478\n",
      "2007-03-18  1.475644\n",
      "\n",
      "Refference Simulation\n",
      "2010-01-01    1.367003\n",
      "2010-01-02    1.393025\n",
      "2010-01-03    1.391835\n",
      "2010-01-04    1.403095\n",
      "2010-01-05    1.380743\n",
      "Name: SpeciesConc_Hg0, dtype: float32\n",
      "\n",
      "ASGM Simulation\n",
      "2010-01-01    0.023157\n",
      "2010-01-02    0.037035\n",
      "2010-01-03    0.045609\n",
      "2010-01-04    0.059591\n",
      "2010-01-05    0.058084\n",
      "Name: SpeciesConc_Hg0, dtype: float32\n",
      "            SpeciesConc_Hg0\n",
      "2013-01-01         1.329840\n",
      "2013-01-02         1.305407\n",
      "2013-01-03         1.291292\n",
      "2013-01-04         1.283334\n",
      "2013-01-05         1.306706\n",
      "...                     ...\n",
      "2014-12-27         1.388832\n",
      "2014-12-28         1.433654\n",
      "2014-12-29         1.531068\n",
      "2014-12-30         1.542190\n",
      "2014-12-31         1.381680\n",
      "\n",
      "[730 rows x 1 columns]\n",
      "\n",
      "SIS\n",
      "Observations\n",
      "               value\n",
      "tstamp              \n",
      "2013-01-26  1.783937\n",
      "2013-01-27  1.568578\n",
      "2013-01-28  1.468905\n",
      "2013-01-29  1.356514\n",
      "2013-01-30  1.421788\n",
      "\n",
      "Refference Simulation\n",
      "2013-01-26    1.258202\n",
      "2013-01-27    1.261449\n",
      "2013-01-28    1.304084\n",
      "2013-01-29    1.281881\n",
      "2013-01-30    1.241777\n",
      "Name: SpeciesConc_Hg0, dtype: float32\n",
      "\n",
      "ASGM Simulation\n",
      "2013-01-26    0.099392\n",
      "2013-01-27    0.099792\n",
      "2013-01-28    0.111629\n",
      "2013-01-29    0.110788\n",
      "2013-01-30    0.103185\n",
      "Name: SpeciesConc_Hg0, dtype: float32\n",
      "            SpeciesConc_Hg0\n",
      "2013-01-26         1.258202\n",
      "2013-01-27         1.261449\n",
      "2013-01-28         1.304084\n",
      "2013-01-29         1.281881\n",
      "2013-01-30         1.241777\n",
      "...                     ...\n",
      "2015-03-28         1.355886\n",
      "2015-03-29         1.354004\n",
      "2015-03-30         1.348434\n",
      "2015-03-31         1.337524\n",
      "2015-04-01         1.334939\n",
      "\n",
      "[796 rows x 1 columns]\n",
      "\n",
      "CHC\n",
      "Observations\n",
      "                              value\n",
      "tstamp                             \n",
      "2014-07-03 00:00:00+00:00  0.644308\n",
      "2014-07-04 00:00:00+00:00  0.651114\n",
      "2014-07-05 00:00:00+00:00  0.617688\n",
      "2014-07-06 00:00:00+00:00  0.579989\n",
      "2014-07-07 00:00:00+00:00  0.710160\n",
      "\n",
      "Refference Simulation\n",
      "2014-07-04    1.199622\n",
      "2014-07-05    1.182552\n",
      "2014-07-06    1.188133\n",
      "2014-07-07    1.275346\n",
      "2014-07-08    1.337291\n",
      "Name: SpeciesConc_Hg0, dtype: float32\n",
      "\n",
      "ASGM Simulation\n",
      "2014-07-04    0.280512\n",
      "2014-07-05    0.273120\n",
      "2014-07-06    0.305283\n",
      "2014-07-07    0.369804\n",
      "2014-07-08    0.418008\n",
      "Name: SpeciesConc_Hg0, dtype: float32\n",
      "            SpeciesConc_Hg0\n",
      "2014-07-04         1.199622\n",
      "2014-07-05         1.182552\n",
      "2014-07-06         1.188133\n",
      "2014-07-07         1.275346\n",
      "2014-07-08         1.337291\n",
      "...                     ...\n",
      "2015-12-26         1.207980\n",
      "2015-12-27         1.278747\n",
      "2015-12-28         1.290200\n",
      "2015-12-29         1.273901\n",
      "2015-12-30         1.144638\n",
      "\n",
      "[545 rows x 1 columns]\n"
     ]
    }
   ],
   "source": [
    "\n",
    "for gsite in position.keys():\n",
    "    obs_Hg0, model_Hg0, model_Hg0_ASGM = prep_plot(gsite)\n",
    "    print(f\"\\n{gsite}\")\n",
    "    print('Observations')\n",
    "    print(obs_Hg0.head(5))\n",
    "    print('\\nRefference Simulation')\n",
    "    print(model_Hg0.head(5))\n",
    "    print('\\nASGM Simulation')\n",
    "    print(model_Hg0_ASGM.head(5))\n",
    "    start_dt= '2013-01-01'\n",
    "    print(model_Hg0.to_frame().loc[start_dt:])\n",
    "\n",
    "# NIK, Tmodel, Amodel=prep_plot('NIK')\n"
   ]
  },
  {
   "cell_type": "code",
   "execution_count": 116,
   "metadata": {},
   "outputs": [
    {
     "name": "stdout",
     "output_type": "stream",
     "text": [
      "\n",
      "CHC\n",
      "Observations\n",
      "               value\n",
      "2007-03-14  0.800955\n",
      "2007-03-15  1.307462\n",
      "2007-03-16  1.380700\n",
      "2007-03-17  1.382478\n",
      "2007-03-18  1.475644\n"
     ]
    }
   ],
   "source": [
    "obs_Hg0, model_Hg0, model_Hg0_ASGM = prep_plot('NIK')\n",
    "print(f\"\\n{gsite}\")\n",
    "print('Observations')\n",
    "print(obs_Hg0.head(5))\n",
    "# print('\\nRefference Simulation')\n",
    "# print(model_Hg0.head(5))\n",
    "# print('\\nASGM Simulation')\n",
    "# print(model_Hg0_ASGM.head(5))\n",
    "# start_dt= '2013-01-01'\n",
    "# print(model_Hg0.to_frame().loc[start_dt:])\n",
    "# # pd.to_datetime(obs_Hg0.index.date)"
   ]
  },
  {
   "cell_type": "markdown",
   "metadata": {},
   "source": [
    "# Create function to plot the time series data "
   ]
  },
  {
   "cell_type": "code",
   "execution_count": 22,
   "metadata": {
    "execution": {
     "iopub.execute_input": "2022-06-07T17:51:54.321198Z",
     "iopub.status.busy": "2022-06-07T17:51:54.320920Z",
     "iopub.status.idle": "2022-06-07T17:51:54.325928Z",
     "shell.execute_reply": "2022-06-07T17:51:54.325529Z",
     "shell.execute_reply.started": "2022-06-07T17:51:54.321177Z"
    },
    "tags": []
   },
   "outputs": [],
   "source": [
    "#function to plot data\n",
    "def plot_data(site):#BAR,CAL,CST, MAN,NIK, SIS, CHC\n",
    "    obs, model, asgm =prep_plot(site)\n",
    "    fname={'BAR':'Bariloche','CAL':'Calhau','CST':'Celestun', 'MAN':'Manaus','NIK':'Niew Nickerie','SIS':'Sisal', 'CHC':'Chalcataya'}\n",
    "    #%% example plot\n",
    "    f,  axes = plt.subplots(1, 1)\n",
    "    f.set_size_inches(10,5)\n",
    "    \n",
    "\n",
    "    model.plot(label = 'Reference Simulation')\n",
    "    #asgm.plot(label = 'Double MDD Emissions')\n",
    "    asgm.plot(label = 'ASGM contribution')\n",
    "\n",
    "    obs.plot(ax=axes, label = 'Observations')\n",
    "\n",
    "    axes.set_ylabel('[Hg$^0$] (ng m$^{-3}$)')\n",
    "    axes.set_xlabel('')\n",
    "    plt.ylim(0, 2.5)\n",
    "\n",
    "    axes.legend()\n",
    "\n",
    "\n",
    "    f.suptitle(fname[site],fontweight='bold')\n",
    "    #f.savefig('Figures/obs_model_' + sitenm + '.pdf',bbox_inches = 'tight')\n",
    "\n"
   ]
  },
  {
   "cell_type": "code",
   "execution_count": 34,
   "metadata": {},
   "outputs": [
    {
     "data": {
      "text/plain": [
       "tstamp\n",
       "2014-07-03 00:00:00+00:00    0.644308\n",
       "2014-07-04 00:00:00+00:00    0.651114\n",
       "2014-07-05 00:00:00+00:00    0.617688\n",
       "2014-07-06 00:00:00+00:00    0.579989\n",
       "2014-07-07 00:00:00+00:00    0.710160\n",
       "                               ...   \n",
       "2015-12-27 00:00:00+00:00    1.404253\n",
       "2015-12-28 00:00:00+00:00    1.461608\n",
       "2015-12-29 00:00:00+00:00    1.463048\n",
       "2015-12-30 00:00:00+00:00    1.617204\n",
       "2015-12-31 00:00:00+00:00    1.530699\n",
       "Freq: D, Name: value, Length: 547, dtype: float64"
      ]
     },
     "execution_count": 34,
     "metadata": {},
     "output_type": "execute_result"
    }
   ],
   "source": [
    "obs, model, asgm =prep_plot('CHC')\n",
    "obs"
   ]
  },
  {
   "cell_type": "code",
   "execution_count": 58,
   "metadata": {},
   "outputs": [
    {
     "data": {
      "text/plain": [
       "PeriodIndex(['2014-07', '2014-07', '2014-07', '2014-07', '2014-07', '2014-07',\n",
       "             '2014-07', '2014-07', '2014-07', '2014-07',\n",
       "             ...\n",
       "             '2015-12', '2015-12', '2015-12', '2015-12', '2015-12', '2015-12',\n",
       "             '2015-12', '2015-12', '2015-12', '2015-12'],\n",
       "            dtype='period[M]', name='time', length=545)"
      ]
     },
     "execution_count": 58,
     "metadata": {},
     "output_type": "execute_result"
    }
   ],
   "source": [
    "import datetime\n",
    "import matplotlib.dates as mdates\n",
    "\n",
    "model.index.to_period('M')"
   ]
  },
  {
   "cell_type": "code",
   "execution_count": 100,
   "metadata": {
    "execution": {
     "iopub.execute_input": "2022-06-07T17:51:54.321198Z",
     "iopub.status.busy": "2022-06-07T17:51:54.320920Z",
     "iopub.status.idle": "2022-06-07T17:51:54.325928Z",
     "shell.execute_reply": "2022-06-07T17:51:54.325529Z",
     "shell.execute_reply.started": "2022-06-07T17:51:54.321177Z"
    },
    "tags": []
   },
   "outputs": [],
   "source": [
    "#function to plot data\n",
    "def plot_data(site):#BAR,CAL,CST, MAN,NIK, SIS, CHC\n",
    "    \n",
    "    fname={'BAR':'Bariloche','CAL':'Calhau','CST':'Celestun', 'MAN':'Manaus','NIK':'Niew Nickerie','SIS':'Sisal', 'CHC':'Chalcataya'}\n",
    "    if site=='CHC':\n",
    "        start_dt= '2014-07-03'\n",
    "    else:\n",
    "        start_dt='2013-01-01'\n",
    "    obs, model, asgm =prep_plot(site)\n",
    "    model=model.to_frame().loc[start_dt:]\n",
    "    asgm=asgm.to_frame().loc[start_dt:]\n",
    "    obs=obs.loc[start_dt:]\n",
    "   #plot the \n",
    "    axes[position[site][0],position[site][1]].plot(model,color = 'b',label = 'Base (ASGM= ON)')\n",
    "    axes[position[site][0],position[site][1]].plot(obs,color = 'r',label = 'Observations')\n",
    "    axes[position[site][0],position[site][1]].plot(asgm,color = 'k',label = 'ASGM contribution')\n",
    "    \n",
    "    axes[position[site][0],position[site][1]].set_ylabel('[Hg$^0$] (ng m$^{-3}$)')\n",
    "    axes[position[site][0],position[site][1]].set_xlabel('')\n",
    "    axes[position[site][0],position[site][1]].set_ylim(0, 2.5)\n",
    "   \n",
    "    #set the x ticks to be the month of the year and rotate the labels\n",
    "    #axes[position[site][0],position[site][1]].xaxis.set_major_locator(mdates.MonthLocator())\n",
    "    for label in axes[position[site][0],position[site][1]].get_xticklabels():\n",
    "        label.set_rotation(40)\n",
    "        label.set_horizontalalignment('right')\n",
    "\n",
    "    #axes.legend()\n",
    "    axes[position[site][0],position[site][1]].set_title(fname[site],fontweight='bold')\n",
    "    #f.savefig('Figures/obs_model_' + sitenm + '.pdf',bbox_inches = 'tight')\n",
    "\n"
   ]
  },
  {
   "cell_type": "code",
   "execution_count": 101,
   "metadata": {},
   "outputs": [
    {
     "data": {
      "image/png": "[encoded data removed]",
      "text/plain": [
       "<Figure size 864x720 with 6 Axes>"
      ]
     },
     "metadata": {
      "needs_background": "light"
     },
     "output_type": "display_data"
    }
   ],
   "source": [
    "fig,axes = plt.subplots(nrows=3,ncols=2,figsize=(12,10),gridspec_kw={'wspace':0.2,'hspace':0.5})#'width_ratios':[3, 2],\n",
    "position = {'BAR':[2,1],'CAL':[2,0], 'MAN':[1,1],'NIK':[1,0], 'SIS':[0,1], 'CHC':[0,0]}\n",
    "lines = []\n",
    "labels = []\n",
    "for gsite in position.keys():\n",
    "    plot_data(gsite)\n",
    "  \n",
    "for ax in fig.axes:\n",
    "    Line, Label = ax.get_legend_handles_labels()\n",
    "    # print(Label)\n",
    "    lines.extend(Line)\n",
    "    labels.extend(Label)\n",
    "\n",
    "from collections import OrderedDict\n",
    "by_label = OrderedDict(zip(labels, lines))\n",
    "ulabels=['Base (ASGM= ON)','Observations','ASGM contribution']\n",
    "ulines=[by_label[ulabels[0]],by_label[ulabels[1]],by_label[ulabels[2]]]\n",
    "fig.legend(ulines, ulabels,  bbox_to_anchor=(0.9, 0.05),ncol=6)\n",
    "name='GMOS_Sites'\n",
    "savepath='/home/tzd/fs03/d1/tzd/Data_analysis/MIT_TPP_thesis/figures/GMOS_Sites/'+name+'.pdf'\n",
    "fig.savefig(savepath,bbox_inches='tight')\n",
    "plt.show()"
   ]
  },
  {
   "cell_type": "code",
   "execution_count": 136,
   "metadata": {},
   "outputs": [],
   "source": [
    "Sites_ASGM={}\n",
    "#Sites_OB={}\n",
    "fname={'BAR':'Bariloche','CAL':'Calhau','CST':'Celestun', 'MAN':'Manaus','NIK':'Niew Nickerie','SIS':'Sisal', 'CHC':'Chalcataya'}\n",
    "for gsite in position.keys():\n",
    "    if gsite=='CHC':\n",
    "        start_dt= '2014-07-03'\n",
    "        end_dt= '2015-07-03'\n",
    "    else:\n",
    "        start_dt='2014-01-01'\n",
    "        end_dt= '2015-01-01'\n",
    "    obs, model, asgm =prep_plot(gsite)\n",
    "    model=model.to_frame().loc[start_dt:end_dt]\n",
    "    asgm=asgm.to_frame().loc[start_dt:end_dt]\n",
    "    obs=obs.loc[start_dt:end_dt]\n",
    "    #obs, model, asgm =prep_plot(gsite)\n",
    "    # vertconcat=pd.concat([obs, model, asgm], axis=1)\n",
    "    # vertconcat.columns=['Observations','Reference Simulation','ASGM contribution']\n",
    "    asgm_summary=asgm.describe()\n",
    "    asgm_summary.columns=[fname[gsite]+'_ASGM']\n",
    "    obs_summary=obs.describe()\n",
    "    obs_summary.columns=[fname[gsite]+'_Observations']\n",
    "    summaries=pd.concat([obs_summary,asgm_summary], axis=1)\n",
    "    Sites_ASGM[gsite]=summaries\n",
    "    #print(f\"\\n {gsite} \\n {summary}\")\n",
    "    ##BAR,CAL,CST, MAN,NIK, SIS, CHC\n"
   ]
  },
  {
   "cell_type": "code",
   "execution_count": 137,
   "metadata": {},
   "outputs": [
    {
     "name": "stdout",
     "output_type": "stream",
     "text": [
      "                            count       mean        std       min\n",
      "Bariloche_Observations      345.0  29.028957  15.897024  0.910202\n",
      "Bariloche_ASGM              366.0   0.058656   0.015141  0.027768\n",
      "Calhau_Observations         249.0   1.203409   0.080559  1.064660\n",
      "Calhau_ASGM                 365.0   0.103554   0.012458  0.083395\n",
      "Chalcataya_Observations     333.0   0.902324   0.155042  0.548148\n",
      "Chalcataya_ASGM             365.0   0.282212   0.112530  0.099652\n",
      "Sisal_Observations          248.0   1.099349   0.145060  0.728000\n",
      "Sisal_ASGM                  366.0   0.114087   0.020023  0.085208\n",
      "Manaus_Observations         179.0   1.012314   0.144941  0.594480\n",
      "Manaus_ASGM                 362.0   0.221789   0.031301  0.162686\n",
      "Niew Nickerie_Observations  115.0   1.281164   0.153799  0.987363\n",
      "Niew Nickerie_ASGM          365.0   0.223607   0.049360  0.125208\n"
     ]
    }
   ],
   "source": [
    "vertconcat=pd.concat([Sites_ASGM['BAR'],Sites_ASGM['CAL'],Sites_ASGM['CHC'],Sites_ASGM['SIS'],Sites_ASGM['MAN'],Sites_ASGM['NIK']], axis=1)\n",
    "print(vertconcat.T[['count', 'mean', 'std', 'min']])\n",
    "\n",
    "#vertconcat.T.columns"
   ]
  },
  {
   "cell_type": "code",
   "execution_count": 22,
   "metadata": {
    "execution": {
     "iopub.execute_input": "2022-06-07T17:50:56.153960Z",
     "iopub.status.busy": "2022-06-07T17:50:56.153747Z",
     "iopub.status.idle": "2022-06-07T17:51:00.690495Z",
     "shell.execute_reply": "2022-06-07T17:51:00.690105Z",
     "shell.execute_reply.started": "2022-06-07T17:50:56.153943Z"
    },
    "tags": []
   },
   "outputs": [
    {
     "data": {
      "image/png": "[encoded data removed]",
      "text/plain": [
       "<Figure size 720x360 with 1 Axes>"
      ]
     },
     "metadata": {
      "needs_background": "light"
     },
     "output_type": "display_data"
    }
   ],
   "source": [
    "plot_data('BAR')"
   ]
  },
  {
   "cell_type": "markdown",
   "metadata": {},
   "source": [
    "# Loop to create plots for all GMOS sites"
   ]
  },
  {
   "cell_type": "code",
   "execution_count": 36,
   "metadata": {
    "execution": {
     "iopub.execute_input": "2022-06-07T17:51:57.968170Z",
     "iopub.status.busy": "2022-06-07T17:51:57.967902Z",
     "iopub.status.idle": "2022-06-07T17:52:10.468916Z",
     "shell.execute_reply": "2022-06-07T17:52:10.468527Z",
     "shell.execute_reply.started": "2022-06-07T17:51:57.968149Z"
    },
    "tags": []
   },
   "outputs": [
    {
     "data": {
      "image/png": "[encoded data removed]",
      "text/plain": [
       "<Figure size 720x360 with 1 Axes>"
      ]
     },
     "metadata": {
      "needs_background": "light"
     },
     "output_type": "display_data"
    },
    {
     "data": {
      "image/png": "[encoded data removed]",
      "text/plain": [
       "<Figure size 720x360 with 1 Axes>"
      ]
     },
     "metadata": {
      "needs_background": "light"
     },
     "output_type": "display_data"
    },
    {
     "data": {
      "image/png": "[encoded data removed]",
      "text/plain": [
       "<Figure size 720x360 with 1 Axes>"
      ]
     },
     "metadata": {
      "needs_background": "light"
     },
     "output_type": "display_data"
    },
    {
     "data": {
      "image/png": "[encoded data removed]",
      "text/plain": [
       "<Figure size 720x360 with 1 Axes>"
      ]
     },
     "metadata": {
      "needs_background": "light"
     },
     "output_type": "display_data"
    },
    {
     "data": {
      "image/png": "[encoded data removed]",
      "text/plain": [
       "<Figure size 720x360 with 1 Axes>"
      ]
     },
     "metadata": {
      "needs_background": "light"
     },
     "output_type": "display_data"
    },
    {
     "data": {
      "image/png": "[encoded data removed]",
      "text/plain": [
       "<Figure size 720x360 with 1 Axes>"
      ]
     },
     "metadata": {
      "needs_background": "light"
     },
     "output_type": "display_data"
    },
    {
     "data": {
      "image/png": "[encoded data removed]",
      "text/plain": [
       "<Figure size 720x360 with 1 Axes>"
      ]
     },
     "metadata": {
      "needs_background": "light"
     },
     "output_type": "display_data"
    }
   ],
   "source": [
    "fname={'BAR':'Bariloche','CAL':'Calhau','CST':'Celestun', 'MAN':'Manaus','NIK':'Niew Nickerie','SIS':'Sisal', 'CHC':'Chalcataya'}\n",
    "for key in fname.keys():\n",
    "    plot_data(key)"
   ]
  },
  {
   "cell_type": "code",
   "execution_count": 24,
   "metadata": {
    "execution": {
     "iopub.execute_input": "2022-06-07T17:51:14.091329Z",
     "iopub.status.busy": "2022-06-07T17:51:14.091137Z",
     "iopub.status.idle": "2022-06-07T17:51:14.097333Z",
     "shell.execute_reply": "2022-06-07T17:51:14.096986Z",
     "shell.execute_reply.started": "2022-06-07T17:51:14.091311Z"
    }
   },
   "outputs": [],
   "source": [
    "def scplot(site):\n",
    "    obs, model, asgm =prep_plot(site)\n",
    "    OBS=obs.to_frame()\n",
    "    time=[]\n",
    "    for item in OBS.index:\n",
    "        time.append(str(item).split('+')[0].split(' ')[0])\n",
    "\n",
    "    OBS['DATE']= time\n",
    "\n",
    "\n",
    "    MOD=model.to_frame()\n",
    "    date=[]\n",
    "    for item in MOD.index:\n",
    "        date.append(str(item).split('+')[0].split(' ')[0])\n",
    "    MOD['DATE']=date\n",
    "    \n",
    "    \n",
    "    import numpy as np\n",
    "    from scipy import stats\n",
    "\n",
    "    x = OBS[OBS['DATE'].isin(date)]['value']\n",
    "    y=MOD[MOD['DATE'].isin(time)]['SpeciesConc_Hg0']\n",
    "\n",
    "    fig = plt.figure(figsize=(10,8))\n",
    "    z = np.linspace(0.5,2.5, 100)\n",
    "    plt.plot(z, z, linestyle='dashed',label=\"1:1 line\")\n",
    "    plt.scatter(x,y, marker='o',color=\"purple\",label=\"Data\")\n",
    "\n",
    "\n",
    "    plt.grid()\n",
    "    plt.legend()\n",
    "    plt.xlabel('Observed Concentration (ng/m3)', fontsize=14)\n",
    "    plt.ylabel(' Simulated Concentration (ng/m3)', fontsize=14)\n",
    "    fig.tight_layout()\n",
    "    fig.suptitle(site,fontweight='bold')\n",
    "    #fig.savefig('../Figures/ObservedSimulatedHeadComparisonPlot.png')\n",
    "\n"
   ]
  },
  {
   "cell_type": "code",
   "execution_count": 25,
   "metadata": {
    "execution": {
     "iopub.execute_input": "2022-06-07T17:51:14.098151Z",
     "iopub.status.busy": "2022-06-07T17:51:14.097931Z",
     "iopub.status.idle": "2022-06-07T17:51:14.100243Z",
     "shell.execute_reply": "2022-06-07T17:51:14.099910Z",
     "shell.execute_reply.started": "2022-06-07T17:51:14.098134Z"
    }
   },
   "outputs": [],
   "source": [
    "def allplots(site):\n",
    "    plot_data(site)\n",
    "    #scplot(site)\n",
    "    "
   ]
  },
  {
   "cell_type": "code",
   "execution_count": 26,
   "metadata": {
    "execution": {
     "iopub.execute_input": "2022-06-07T17:51:14.100990Z",
     "iopub.status.busy": "2022-06-07T17:51:14.100777Z",
     "iopub.status.idle": "2022-06-07T17:51:26.383910Z",
     "shell.execute_reply": "2022-06-07T17:51:26.383471Z",
     "shell.execute_reply.started": "2022-06-07T17:51:14.100974Z"
    }
   },
   "outputs": [],
   "source": [
    "\n",
    "diff=(Hg0_mdd-Hg0)\n",
    "model_Hg0 = Hg0.to_dataframe().resample('D').mean()\n",
    "model_Hg0_ASGM=diff.to_dataframe().resample('D').mean()\n",
    "#model_Hg0_ASGM=Hg0_2x.to_dataframe().resample('D').mean()"
   ]
  },
  {
   "cell_type": "code",
   "execution_count": 27,
   "metadata": {
    "execution": {
     "iopub.execute_input": "2022-06-07T17:51:26.384873Z",
     "iopub.status.busy": "2022-06-07T17:51:26.384673Z",
     "iopub.status.idle": "2022-06-07T17:51:26.396151Z",
     "shell.execute_reply": "2022-06-07T17:51:26.395805Z",
     "shell.execute_reply.started": "2022-06-07T17:51:26.384855Z"
    }
   },
   "outputs": [
    {
     "data": {
      "text/html": [
       "<div>\n",
       "<style scoped>\n",
       "    .dataframe tbody tr th:only-of-type {\n",
       "        vertical-align: middle;\n",
       "    }\n",
       "\n",
       "    .dataframe tbody tr th {\n",
       "        vertical-align: top;\n",
       "    }\n",
       "\n",
       "    .dataframe thead th {\n",
       "        text-align: right;\n",
       "    }\n",
       "</style>\n",
       "<table border=\"1\" class=\"dataframe\">\n",
       "  <thead>\n",
       "    <tr style=\"text-align: right;\">\n",
       "      <th></th>\n",
       "      <th>lev</th>\n",
       "      <th>lat</th>\n",
       "      <th>lon</th>\n",
       "      <th>SpeciesConc_Hg0</th>\n",
       "    </tr>\n",
       "    <tr>\n",
       "      <th>time</th>\n",
       "      <th></th>\n",
       "      <th></th>\n",
       "      <th></th>\n",
       "      <th></th>\n",
       "    </tr>\n",
       "  </thead>\n",
       "  <tbody>\n",
       "    <tr>\n",
       "      <th>2014-01-01</th>\n",
       "      <td>0.61875</td>\n",
       "      <td>-16.0</td>\n",
       "      <td>-67.5</td>\n",
       "      <td>1.389880</td>\n",
       "    </tr>\n",
       "    <tr>\n",
       "      <th>2014-01-02</th>\n",
       "      <td>0.61875</td>\n",
       "      <td>-16.0</td>\n",
       "      <td>-67.5</td>\n",
       "      <td>1.526359</td>\n",
       "    </tr>\n",
       "    <tr>\n",
       "      <th>2014-01-03</th>\n",
       "      <td>0.61875</td>\n",
       "      <td>-16.0</td>\n",
       "      <td>-67.5</td>\n",
       "      <td>1.597889</td>\n",
       "    </tr>\n",
       "    <tr>\n",
       "      <th>2014-01-04</th>\n",
       "      <td>0.61875</td>\n",
       "      <td>-16.0</td>\n",
       "      <td>-67.5</td>\n",
       "      <td>1.375499</td>\n",
       "    </tr>\n",
       "    <tr>\n",
       "      <th>2014-01-05</th>\n",
       "      <td>0.61875</td>\n",
       "      <td>-16.0</td>\n",
       "      <td>-67.5</td>\n",
       "      <td>1.221905</td>\n",
       "    </tr>\n",
       "    <tr>\n",
       "      <th>...</th>\n",
       "      <td>...</td>\n",
       "      <td>...</td>\n",
       "      <td>...</td>\n",
       "      <td>...</td>\n",
       "    </tr>\n",
       "    <tr>\n",
       "      <th>2015-12-27</th>\n",
       "      <td>0.61875</td>\n",
       "      <td>-16.0</td>\n",
       "      <td>-67.5</td>\n",
       "      <td>1.278417</td>\n",
       "    </tr>\n",
       "    <tr>\n",
       "      <th>2015-12-28</th>\n",
       "      <td>0.61875</td>\n",
       "      <td>-16.0</td>\n",
       "      <td>-67.5</td>\n",
       "      <td>1.289867</td>\n",
       "    </tr>\n",
       "    <tr>\n",
       "      <th>2015-12-29</th>\n",
       "      <td>0.61875</td>\n",
       "      <td>-16.0</td>\n",
       "      <td>-67.5</td>\n",
       "      <td>1.273569</td>\n",
       "    </tr>\n",
       "    <tr>\n",
       "      <th>2015-12-30</th>\n",
       "      <td>0.61875</td>\n",
       "      <td>-16.0</td>\n",
       "      <td>-67.5</td>\n",
       "      <td>1.144319</td>\n",
       "    </tr>\n",
       "    <tr>\n",
       "      <th>2015-12-31</th>\n",
       "      <td>0.61875</td>\n",
       "      <td>-16.0</td>\n",
       "      <td>-67.5</td>\n",
       "      <td>1.201186</td>\n",
       "    </tr>\n",
       "  </tbody>\n",
       "</table>\n",
       "<p>730 rows × 4 columns</p>\n",
       "</div>"
      ],
      "text/plain": [
       "                lev   lat   lon  SpeciesConc_Hg0\n",
       "time                                            \n",
       "2014-01-01  0.61875 -16.0 -67.5         1.389880\n",
       "2014-01-02  0.61875 -16.0 -67.5         1.526359\n",
       "2014-01-03  0.61875 -16.0 -67.5         1.597889\n",
       "2014-01-04  0.61875 -16.0 -67.5         1.375499\n",
       "2014-01-05  0.61875 -16.0 -67.5         1.221905\n",
       "...             ...   ...   ...              ...\n",
       "2015-12-27  0.61875 -16.0 -67.5         1.278417\n",
       "2015-12-28  0.61875 -16.0 -67.5         1.289867\n",
       "2015-12-29  0.61875 -16.0 -67.5         1.273569\n",
       "2015-12-30  0.61875 -16.0 -67.5         1.144319\n",
       "2015-12-31  0.61875 -16.0 -67.5         1.201186\n",
       "\n",
       "[730 rows x 4 columns]"
      ]
     },
     "execution_count": 27,
     "metadata": {},
     "output_type": "execute_result"
    }
   ],
   "source": [
    "model_Hg0 "
   ]
  },
  {
   "cell_type": "code",
   "execution_count": 28,
   "metadata": {
    "execution": {
     "iopub.execute_input": "2022-06-07T17:51:26.397012Z",
     "iopub.status.busy": "2022-06-07T17:51:26.396738Z",
     "iopub.status.idle": "2022-06-07T17:51:26.403193Z",
     "shell.execute_reply": "2022-06-07T17:51:26.402848Z",
     "shell.execute_reply.started": "2022-06-07T17:51:26.396995Z"
    }
   },
   "outputs": [],
   "source": [
    "#%% Load ASGM emission data\n",
    "fn1 = '/net/fs03/d1/tzd/RAworkflow/emissions/output_file.nc'\n",
    "ds1 = xr.open_dataset(fn1)\n",
    "\n",
    "lat_GMA = ds1.lat\n",
    "lon_GMA = ds1.lon\n",
    "Hg0_emiss_ASGM_GMA = ds1.emi_hg_0\n",
    "\n",
    "\n"
   ]
  },
  {
   "cell_type": "code",
   "execution_count": 29,
   "metadata": {
    "execution": {
     "iopub.execute_input": "2022-06-07T17:51:26.404010Z",
     "iopub.status.busy": "2022-06-07T17:51:26.403741Z",
     "iopub.status.idle": "2022-06-07T17:51:29.326245Z",
     "shell.execute_reply": "2022-06-07T17:51:29.325763Z",
     "shell.execute_reply.started": "2022-06-07T17:51:26.403994Z"
    }
   },
   "outputs": [],
   "source": [
    "# Call function with site name\n",
    "sitenm = 'CHC'\n",
    "obs_Hg0, model_Hg0, model_Hg0_ASGM = get_model_obs(sitenm)\n",
    "#%%\n",
    "#resample observations so that they are daily values\n",
    "obs_Hg0['value'] = obs_Hg0['value'].mask(obs_Hg0['value']<0) #missing values\n",
    "#obs_Hg0['tstamp'] = pd.to_datetime(obs_Hg0['tstamp'])\n",
    "obs_Hg0_d = obs_Hg0.set_index('tstamp').resample('D').mean() #daily mean values, ignoring NaN\n"
   ]
  },
  {
   "cell_type": "code",
   "execution_count": 30,
   "metadata": {
    "execution": {
     "iopub.execute_input": "2022-06-07T17:51:29.327230Z",
     "iopub.status.busy": "2022-06-07T17:51:29.327030Z",
     "iopub.status.idle": "2022-06-07T17:51:29.329713Z",
     "shell.execute_reply": "2022-06-07T17:51:29.329336Z",
     "shell.execute_reply.started": "2022-06-07T17:51:29.327212Z"
    }
   },
   "outputs": [],
   "source": [
    "# f, axes = plt.subplots(1, 1, figsize=[16,8],subplot_kw=dict(projection=ccrs.PlateCarree()),\n",
    "#                        gridspec_kw=dict(hspace=0.3, wspace=0.3))\n",
    "# #axes = axes.flatten()\n",
    "                       \n",
    "# axes.coastlines()\n",
    "# #peru_sf.geometry.boundary.plot(ax=axes,Color=None, edgecolor='k',linewidth = 1)\n",
    "# h = axes.pcolormesh(lon_GMA, lat_GMA, Hg0,cmap=WhGrYlRd,rasterized = True)\n",
    "\n",
    "# axes.set_title('2015 AMAP/UNEP ASGM inventory', fontsize = 16, fontweight='bold'); #title\n",
    "# axes.set_xlim([-90, 0])\n",
    "# axes.set_ylim([-80, 10])\n",
    "# axes.add_feature(cf.BORDERS)\n",
    "# cbar = f.colorbar(h)\n",
    "# cbar.set_label('Hg$^0$ emissions (kg yr$^{-1}$)', fontsize = 14)"
   ]
  },
  {
   "cell_type": "code",
   "execution_count": 31,
   "metadata": {
    "execution": {
     "iopub.execute_input": "2022-06-07T17:51:29.330552Z",
     "iopub.status.busy": "2022-06-07T17:51:29.330323Z",
     "iopub.status.idle": "2022-06-07T17:51:29.332860Z",
     "shell.execute_reply": "2022-06-07T17:51:29.332515Z",
     "shell.execute_reply.started": "2022-06-07T17:51:29.330535Z"
    },
    "tags": []
   },
   "outputs": [],
   "source": [
    "# #%% example plot\n",
    "# f,  axes = plt.subplots(1, 1,figsize=(16,8))\n",
    "\n",
    "# model_Hg0.SpeciesConc_Hg0.plot()\n",
    "# model_Hg0_ASGM.SpeciesConc_Hg0.plot()\n",
    "\n",
    "# #remove NaN values\n",
    "# obs_Hg0_d.plot(ax=axes)\n",
    "\n",
    "# axes.set_ylabel('[Hg$^0$] (ng m$^{-3}$)')\n",
    "# axes.set_xlabel('')\n",
    "\n",
    "# #axes.legend([\"Model\", \"ASGM (model)\",\"OBS\"]);\n",
    "# axes.legend([\"Base Emissions\", \"2xMDD Emissions\",\"OBS\"]);\n",
    "\n",
    "# # adjust x axis so that measurement period highlighted\n",
    "# min_model= pd.to_datetime('2011-01-01',utc=True) #minimum model time\n",
    "# xmin_obs = obs_Hg0_d.index[obs_Hg0_d.index>min_model].min() \n",
    "# xmax_obs = obs_Hg0_d.index[obs_Hg0_d.index>min_model].max() \n",
    "\n",
    "# plt.xlim([xmin_obs, xmax_obs])\n",
    "# f.suptitle(sitenm,fontweight='bold')\n",
    "# #f.savefig('Figures/obs_model_' + sitenm + '.pdf',bbox_inches = 'tight')"
   ]
  },
  {
   "cell_type": "code",
   "execution_count": 32,
   "metadata": {
    "execution": {
     "iopub.execute_input": "2022-06-07T17:51:29.333655Z",
     "iopub.status.busy": "2022-06-07T17:51:29.333436Z",
     "iopub.status.idle": "2022-06-07T17:51:29.335895Z",
     "shell.execute_reply": "2022-06-07T17:51:29.335559Z",
     "shell.execute_reply.started": "2022-06-07T17:51:29.333638Z"
    }
   },
   "outputs": [],
   "source": [
    "# #%% plot linear regression\n",
    "\n",
    "# f,  axes = plt.subplots(1, 1,figsize=(16,8))\n",
    "\n",
    "# model_Hg0.SpeciesConc_Hg0.plot()\n",
    "# model_Hg0_ASGM.SpeciesConc_Hg0.plot()\n",
    "\n",
    "# #remove NaN values\n",
    "# obs_Hg0_d['value'].plot(ax=axes)\n",
    "\n",
    "# axes.plot(obs_Hg0_d.index, Y_pred)\n",
    "\n",
    "# axes.set_ylabel('[Hg$^0$] (ng m$^{-3}$)')\n",
    "# axes.set_xlabel('')\n",
    "\n",
    "# axes.legend([\"Base Emissions\", \"2xMDD Emissions\",\"OBS\",\"OBS_trend\"]);\n",
    "\n",
    "# # adjust x axis so that measurement period highlighted\n",
    "# min_model= pd.to_datetime('2011-01-01',utc=True) #minimum model time\n",
    "# xmin_obs = obs_Hg0_d.index[obs_Hg0_d.index>min_model].min() \n",
    "# xmax_obs = obs_Hg0_d.index[obs_Hg0_d.index>min_model].max() \n",
    "\n",
    "# plt.xlim([xmin_obs, xmax_obs])\n",
    "# f.suptitle(sitenm,fontweight='bold')\n",
    "# #f.savefig('Figures/obs_model_CHC_reg_obs.pdf',bbox_inches = 'tight')\n"
   ]
  },
  {
   "cell_type": "code",
   "execution_count": 33,
   "metadata": {
    "execution": {
     "iopub.execute_input": "2022-06-07T17:51:29.336788Z",
     "iopub.status.busy": "2022-06-07T17:51:29.336532Z",
     "iopub.status.idle": "2022-06-07T17:51:29.343821Z",
     "shell.execute_reply": "2022-06-07T17:51:29.343424Z",
     "shell.execute_reply.started": "2022-06-07T17:51:29.336771Z"
    }
   },
   "outputs": [],
   "source": [
    "#%% Detrend observational dataset\n",
    "\n",
    "#calculate linear regression on observations\n",
    "X_temp = pd.to_datetime(obs_Hg0_d.index).map(datetime.datetime.toordinal) # convert from datetime to ordinal\n",
    "X = X_temp.values.reshape(-1, 1)   # values converts it into a numpy array\n",
    "Y = obs_Hg0_d.value.values.reshape(-1, 1)  # -1 means that calculate the dimension of rows, but have 1 column\n",
    "mask = ~np.isnan(X) & ~np.isnan(Y) #mask NaN values\n",
    "\n",
    "result = stats.linregress(X[mask], Y[mask])\n",
    "Y_pred = X * result.slope + result.intercept\n",
    "\n",
    "obs_Hg0_d['detrend_obs'] = Y - Y_pred"
   ]
  },
  {
   "cell_type": "code",
   "execution_count": 34,
   "metadata": {
    "execution": {
     "iopub.execute_input": "2022-06-07T17:51:29.344680Z",
     "iopub.status.busy": "2022-06-07T17:51:29.344425Z",
     "iopub.status.idle": "2022-06-07T17:51:30.724874Z",
     "shell.execute_reply": "2022-06-07T17:51:30.724280Z",
     "shell.execute_reply.started": "2022-06-07T17:51:29.344664Z"
    }
   },
   "outputs": [
    {
     "ename": "AttributeError",
     "evalue": "'DataFrame' object has no attribute 'to_dataframe'",
     "output_type": "error",
     "traceback": [
      "\u001b[0;31m---------------------------------------------------------------------------\u001b[0m",
      "\u001b[0;31mAttributeError\u001b[0m                            Traceback (most recent call last)",
      "Input \u001b[0;32mIn [34]\u001b[0m, in \u001b[0;36m<cell line: 3>\u001b[0;34m()\u001b[0m\n\u001b[1;32m      1\u001b[0m \u001b[38;5;66;03m#%% find overlapping values in observation and model time series, for comparison\u001b[39;00m\n\u001b[1;32m      2\u001b[0m \u001b[38;5;66;03m# helpful to create dataframe of model data first\u001b[39;00m\n\u001b[0;32m----> 3\u001b[0m model_Hg0_df \u001b[38;5;241m=\u001b[39m \u001b[43mmodel_Hg0\u001b[49m\u001b[38;5;241;43m.\u001b[39;49m\u001b[43mto_dataframe\u001b[49m()\n\u001b[1;32m      4\u001b[0m model_Hg0_df[\u001b[38;5;124m'\u001b[39m\u001b[38;5;124mASGM\u001b[39m\u001b[38;5;124m'\u001b[39m] \u001b[38;5;241m=\u001b[39m model_Hg0_ASGM\u001b[38;5;241m.\u001b[39mvalues\n\u001b[1;32m      5\u001b[0m model_Hg0_df[\u001b[38;5;124m'\u001b[39m\u001b[38;5;124mnoASGM\u001b[39m\u001b[38;5;124m'\u001b[39m] \u001b[38;5;241m=\u001b[39m model_Hg0_df[\u001b[38;5;124m'\u001b[39m\u001b[38;5;124mSpeciesConc_Hg0\u001b[39m\u001b[38;5;124m'\u001b[39m] \u001b[38;5;241m-\u001b[39m model_Hg0_df[\u001b[38;5;124m'\u001b[39m\u001b[38;5;124mASGM\u001b[39m\u001b[38;5;124m'\u001b[39m] \u001b[38;5;66;03m#non-ASGM Hg0\u001b[39;00m\n",
      "File \u001b[0;32m~/anaconda3/envs/Jlab/lib/python3.9/site-packages/pandas/core/generic.py:5583\u001b[0m, in \u001b[0;36mNDFrame.__getattr__\u001b[0;34m(self, name)\u001b[0m\n\u001b[1;32m   5576\u001b[0m \u001b[38;5;28;01mif\u001b[39;00m (\n\u001b[1;32m   5577\u001b[0m     name \u001b[38;5;129;01mnot\u001b[39;00m \u001b[38;5;129;01min\u001b[39;00m \u001b[38;5;28mself\u001b[39m\u001b[38;5;241m.\u001b[39m_internal_names_set\n\u001b[1;32m   5578\u001b[0m     \u001b[38;5;129;01mand\u001b[39;00m name \u001b[38;5;129;01mnot\u001b[39;00m \u001b[38;5;129;01min\u001b[39;00m \u001b[38;5;28mself\u001b[39m\u001b[38;5;241m.\u001b[39m_metadata\n\u001b[1;32m   5579\u001b[0m     \u001b[38;5;129;01mand\u001b[39;00m name \u001b[38;5;129;01mnot\u001b[39;00m \u001b[38;5;129;01min\u001b[39;00m \u001b[38;5;28mself\u001b[39m\u001b[38;5;241m.\u001b[39m_accessors\n\u001b[1;32m   5580\u001b[0m     \u001b[38;5;129;01mand\u001b[39;00m \u001b[38;5;28mself\u001b[39m\u001b[38;5;241m.\u001b[39m_info_axis\u001b[38;5;241m.\u001b[39m_can_hold_identifiers_and_holds_name(name)\n\u001b[1;32m   5581\u001b[0m ):\n\u001b[1;32m   5582\u001b[0m     \u001b[38;5;28;01mreturn\u001b[39;00m \u001b[38;5;28mself\u001b[39m[name]\n\u001b[0;32m-> 5583\u001b[0m \u001b[38;5;28;01mreturn\u001b[39;00m \u001b[38;5;28;43mobject\u001b[39;49m\u001b[38;5;241;43m.\u001b[39;49m\u001b[38;5;21;43m__getattribute__\u001b[39;49m\u001b[43m(\u001b[49m\u001b[38;5;28;43mself\u001b[39;49m\u001b[43m,\u001b[49m\u001b[43m \u001b[49m\u001b[43mname\u001b[49m\u001b[43m)\u001b[49m\n",
      "\u001b[0;31mAttributeError\u001b[0m: 'DataFrame' object has no attribute 'to_dataframe'"
     ]
    }
   ],
   "source": [
    "#%% find overlapping values in observation and model time series, for comparison\n",
    "# helpful to create dataframe of model data first\n",
    "model_Hg0_df = model_Hg0.to_dataframe()\n",
    "model_Hg0_df['ASGM'] = model_Hg0_ASGM.values\n",
    "model_Hg0_df['noASGM'] = model_Hg0_df['SpeciesConc_Hg0'] - model_Hg0_df['ASGM'] #non-ASGM Hg0\n",
    "\n",
    "model_Hg0_df.index = model_Hg0_df.index.tz_localize('UTC') #set utc timezone\n",
    "model_Hg0_df.index = model_Hg0_df.index - pd.Timedelta(hours=12) #line up hours with obs \n",
    "\n",
    "#calculate anomalies for model and ASGM\n",
    "model_Hg0_df['anom'] = model_Hg0 - model_Hg0.mean()\n",
    "model_Hg0_df['anom_ASGM']= model_Hg0_ASGM - model_Hg0_ASGM.mean() \n",
    "model_Hg0_df['anom_noASGM']= model_Hg0_df['noASGM'] - model_Hg0_df['noASGM'].mean() \n",
    "\n",
    "#drop all NaNs from observational dataset, for easier statistics\n",
    "obs_df_no_nan = obs_Hg0_d.dropna()\n",
    "\n",
    "#merge datasets to see where overlap\n",
    "merge_df = pd.merge(right=model_Hg0_df, right_on=model_Hg0_df.index, \n",
    "                      left=obs_df_no_nan, left_on=obs_df_no_nan.index)"
   ]
  },
  {
   "cell_type": "code",
   "execution_count": null,
   "metadata": {
    "execution": {
     "iopub.status.busy": "2022-06-07T17:51:30.725489Z",
     "iopub.status.idle": "2022-06-07T17:51:30.725839Z",
     "shell.execute_reply": "2022-06-07T17:51:30.725727Z",
     "shell.execute_reply.started": "2022-06-07T17:51:30.725714Z"
    }
   },
   "outputs": [],
   "source": [
    "#%% calculate correlations\n",
    "corr_p_model_ASGM, _ = stats.pearsonr(model_Hg0_df['SpeciesConc_Hg0'],model_Hg0_df['ASGM'] )\n",
    "# in model, ASGM explains 85% of variability at CHC\n",
    "corr_p_model_obs, _ = stats.pearsonr(merge_df['SpeciesConc_Hg0'],merge_df['value'] )\n",
    "corr_p_ASGM_obs, _ = stats.pearsonr(merge_df['ASGM'],merge_df['value'] )\n",
    "corr_p_noASGM_obs, _ = stats.pearsonr(merge_df['noASGM'],merge_df['value'] )\n",
    "\n",
    "# low correlations between model/obs, now check anomalies\n",
    "\n",
    "corr_p_model_obs_anom, _ = stats.pearsonr(merge_df['anom'],merge_df['detrend_obs'] )\n",
    "corr_p_ASGM_obs_anom, _ = stats.pearsonr(merge_df['anom_ASGM'],merge_df['detrend_obs'] )\n",
    "corr_p_noASGM_obs_anom, _ = stats.pearsonr(merge_df['anom_noASGM'],merge_df['detrend_obs'] )\n",
    "\n",
    "#Of all highest correlation between no ASGM and observations (0.42 correlation, p = 10^-22)\n",
    "corr_p_model_obs_anom_s, _ = stats.spearmanr(merge_df['anom'],merge_df['detrend_obs'] )\n",
    "\n",
    "std_obs =  np.std(merge_df['detrend_obs'])\n",
    "std_model =  np.std(merge_df['anom'])\n",
    "std_model_noASGM =  np.std(merge_df['anom_noASGM'])"
   ]
  },
  {
   "cell_type": "code",
   "execution_count": null,
   "metadata": {
    "execution": {
     "iopub.status.busy": "2022-06-07T17:51:30.726599Z",
     "iopub.status.idle": "2022-06-07T17:51:30.726877Z",
     "shell.execute_reply": "2022-06-07T17:51:30.726768Z",
     "shell.execute_reply.started": "2022-06-07T17:51:30.726757Z"
    }
   },
   "outputs": [],
   "source": [
    "#%% plot detrended data\n",
    "f,  axes = plt.subplots(2, 2, figsize=[16,8], gridspec_kw=dict(hspace=0.3, wspace=0.2))\n",
    "axes = axes.flatten()\n",
    "\n",
    "#Time Series\n",
    "model_Hg0_df['anom'].plot(ax=axes[0])\n",
    "#model_Hg0_df['anom_ASGM'].plot()\n",
    "\n",
    "\n",
    "axes[0].plot(obs_Hg0_d.index, Y - Y_pred)\n",
    "\n",
    "axes[0].set_ylabel('[Hg$^0$] (ng m$^{-3}$)')\n",
    "axes[0].set_xlabel('')\n",
    "\n",
    "axes[0].legend([\"Model: anomaly\",\"OBS: detrend\"]);\n",
    "\n",
    "# adjust x axis so that measurement period highlighted\n",
    "min_model= pd.to_datetime('2011-01-01',utc=True) #minimum model time\n",
    "xmin_obs = obs_Hg0_d.index[obs_Hg0_d.index>min_model].min() \n",
    "xmax_obs = obs_Hg0_d.index[obs_Hg0_d.index>min_model].max() \n",
    "\n",
    "axes[0].set_xlim([xmin_obs, xmax_obs])\n",
    "axes[0].text(0.08, 0.95,\"\\u03C1 = %0.2f\" % (corr_p_model_obs_anom),\n",
    "     horizontalalignment='center',\n",
    "     verticalalignment='center',\n",
    "     transform = axes[0].transAxes)\n",
    "\n",
    "axes[0].text(0.08, 0.88,\"\\u03C3$_{OBS}$ = %0.2f\" % (std_obs),\n",
    "     horizontalalignment='center',\n",
    "     verticalalignment='center',\n",
    "     transform = axes[0].transAxes)\n",
    "\n",
    "axes[0].text(0.08, 0.81,\"\\u03C3$_{MOD}$ = %0.2f\" % (std_model),\n",
    "     horizontalalignment='center',\n",
    "     verticalalignment='center',\n",
    "     transform = axes[0].transAxes)\n",
    "\n",
    "xfmt = axes[0].xaxis.get_major_formatter() # use date format for other axes\n",
    "\n",
    "#Scatter plot\n",
    "axes[1].plot(merge_df['detrend_obs'], merge_df['anom'], 'o', color='black')\n",
    "#plot higher anomalies in a different color\n",
    "axes[1].plot(merge_df['detrend_obs'][merge_df['detrend_obs']>0.3], merge_df['anom'][merge_df['detrend_obs']>0.3], 'o', color='red')\n",
    "axes[1].plot(merge_df['detrend_obs'][merge_df['anom']>0.3], merge_df['anom'][merge_df['anom']>0.3], 'o', color='red')\n",
    "\n",
    "axes[1].set_xlabel('Obs anomaly (ng m$^{-3}$)')\n",
    "axes[1].set_ylabel('Model anomaly (ng m$^{-3}$)')\n",
    "\n",
    "# Difference plot\n",
    "axes[2].plot(merge_df['key_0'], merge_df['detrend_obs'] - merge_df['anom'])\n",
    "\n",
    "axes[2].xaxis.set_major_formatter(xfmt)\n",
    "axes[2].set_xlim([xmin_obs, xmax_obs])\n",
    "axes[2].set_title(\"Obs anomaly minus model anomaly\")\n",
    "axes[2].set_ylabel('Difference (ng m$^{-3}$)')\n",
    "\n",
    "# Box plots - observation and model\n",
    "merge_df['month'] = merge_df['key_0'].dt.month\n",
    "mod_month_mean = np.zeros(12) #create array of zeros\n",
    "mod_month_std = np.zeros(12) #create array of zeros\n",
    "obs_month_mean = np.zeros(12) #create array of zeros\n",
    "obs_month_std = np.zeros(12) #create array of zeros\n",
    "\n",
    "for i in range(12):\n",
    "    mod_month_mean[i] = merge_df['anom'][merge_df['month']==i+1].mean()\n",
    "    mod_month_std[i] = merge_df['anom'][merge_df['month']==i+1].std()\n",
    "    obs_month_mean[i] = merge_df['detrend_obs'][merge_df['month']==i+1].mean()\n",
    "    obs_month_std[i] = merge_df['detrend_obs'][merge_df['month']==i+1].std()\n",
    "\n",
    "months = np.arange(0, 12, 1)\n",
    "months_str = ['Jan','Feb','Mar','Apr','May','Jun','Jul','Aug','Sep','Oct','Nov','Dec']\n",
    "axes[3].errorbar(months, mod_month_mean, yerr=mod_month_std)\n",
    "axes[3].errorbar(months, obs_month_mean, yerr=obs_month_std)    \n",
    "\n",
    "# Set the tick positions\n",
    "axes[3].set_xticks(months)\n",
    "# Set the tick labels\n",
    "axes[3].set_xticklabels(months_str)\n",
    "axes[3].legend([\"Model: anomaly\",\"OBS: detrend\"]);  \n",
    "axes[3].set_ylabel('Anomaly (ng m$^{-3}$)')\n",
    "\n",
    "f.suptitle(sitenm,fontweight='bold')\n",
    "#f.savefig('Figures/obs_model_CHC_detrend_obs_v2.pdf',bbox_inches = 'tight')"
   ]
  },
  {
   "cell_type": "code",
   "execution_count": null,
   "metadata": {
    "execution": {
     "iopub.status.busy": "2022-06-07T17:51:30.727421Z",
     "iopub.status.idle": "2022-06-07T17:51:30.727763Z",
     "shell.execute_reply": "2022-06-07T17:51:30.727654Z",
     "shell.execute_reply.started": "2022-06-07T17:51:30.727642Z"
    }
   },
   "outputs": [],
   "source": [
    "#%% Investigate interesting cases with hysplit\n",
    "merge_df['diff'] = merge_df['detrend_obs'] - merge_df['anom'] #model observation difference\n",
    "high_case = merge_df.sort_values('diff', ascending=False).head(5)\n",
    "low_case = merge_df.sort_values('diff', ascending=True).head(5)\n",
    "\n",
    "print(high_case['key_0'])\n",
    "print(low_case['key_0'])"
   ]
  },
  {
   "cell_type": "code",
   "execution_count": null,
   "metadata": {
    "execution": {
     "iopub.status.busy": "2022-06-07T17:51:30.728405Z",
     "iopub.status.idle": "2022-06-07T17:51:30.728689Z",
     "shell.execute_reply": "2022-06-07T17:51:30.728581Z",
     "shell.execute_reply.started": "2022-06-07T17:51:30.728570Z"
    }
   },
   "outputs": [],
   "source": [
    "\n",
    "#%% Plot without ASGM correlation\n",
    "\n",
    "f,  axes = plt.subplots(1, 1, figsize=[16,8], gridspec_kw=dict(hspace=0.3, wspace=0.2))\n",
    "\n",
    "#Time Series\n",
    "model_Hg0_df['anom_noASGM'].plot(ax=axes)\n",
    "#model_Hg0_df['anom_ASGM'].plot()\n",
    "\n",
    "\n",
    "axes.plot(obs_Hg0_d.index, Y - Y_pred)\n",
    "\n",
    "axes.set_ylabel('[Hg$^0$] (ng m$^{-3}$)')\n",
    "axes.set_xlabel('')\n",
    "\n",
    "axes.legend([\"Model without ASGM: anomaly\",\"OBS: detrend\"]);\n",
    "\n",
    "# adjust x axis so that measurement period highlighted\n",
    "min_model= pd.to_datetime('2011-01-01',utc=True) #minimum model time\n",
    "xmin_obs = obs_Hg0_d.index[obs_Hg0_d.index>min_model].min() \n",
    "xmax_obs = obs_Hg0_d.index[obs_Hg0_d.index>min_model].max() \n",
    "\n",
    "axes.set_xlim([xmin_obs, xmax_obs])\n",
    "axes.text(0.08, 0.95,\"\\u03C1 = %0.2f\" % (corr_p_noASGM_obs_anom),\n",
    "     horizontalalignment='center',\n",
    "     verticalalignment='center',\n",
    "     transform = axes.transAxes)\n",
    "\n",
    "axes.text(0.08, 0.88,\"\\u03C3$_{OBS}$ = %0.2f\" % (std_obs),\n",
    "     horizontalalignment='center',\n",
    "     verticalalignment='center',\n",
    "     transform = axes.transAxes)\n",
    "\n",
    "axes.text(0.08, 0.81,\"\\u03C3$_{MOD}$ = %0.2f\" % (std_model_noASGM),\n",
    "     horizontalalignment='center',\n",
    "     verticalalignment='center',\n",
    "     transform = axes.transAxes)\n",
    "\n",
    "f.suptitle(sitenm,fontweight='bold')\n",
    "#f.savefig('Figures/obs_model_CHC_noASGM.pdf',bbox_inches = 'tight')\n"
   ]
  },
  {
   "cell_type": "code",
   "execution_count": null,
   "metadata": {
    "execution": {
     "iopub.status.busy": "2022-06-07T17:51:30.729223Z",
     "iopub.status.idle": "2022-06-07T17:51:30.729517Z",
     "shell.execute_reply": "2022-06-07T17:51:30.729411Z",
     "shell.execute_reply.started": "2022-06-07T17:51:30.729399Z"
    },
    "tags": []
   },
   "outputs": [],
   "source": [
    "allplots('CHC')"
   ]
  },
  {
   "cell_type": "code",
   "execution_count": null,
   "metadata": {
    "execution": {
     "iopub.status.busy": "2022-06-07T17:51:30.730132Z",
     "iopub.status.idle": "2022-06-07T17:51:30.730415Z",
     "shell.execute_reply": "2022-06-07T17:51:30.730304Z",
     "shell.execute_reply.started": "2022-06-07T17:51:30.730293Z"
    }
   },
   "outputs": [],
   "source": [
    "allplots('CHC')"
   ]
  },
  {
   "cell_type": "code",
   "execution_count": null,
   "metadata": {
    "execution": {
     "iopub.status.busy": "2022-06-07T17:51:30.730951Z",
     "iopub.status.idle": "2022-06-07T17:51:30.731244Z",
     "shell.execute_reply": "2022-06-07T17:51:30.731139Z",
     "shell.execute_reply.started": "2022-06-07T17:51:30.731128Z"
    }
   },
   "outputs": [],
   "source": [
    "allplots('CHC')"
   ]
  },
  {
   "cell_type": "code",
   "execution_count": null,
   "metadata": {
    "execution": {
     "iopub.status.busy": "2022-06-07T17:51:30.731805Z",
     "iopub.status.idle": "2022-06-07T17:51:30.732161Z",
     "shell.execute_reply": "2022-06-07T17:51:30.732055Z",
     "shell.execute_reply.started": "2022-06-07T17:51:30.732044Z"
    }
   },
   "outputs": [],
   "source": [
    "allplots('CHC')"
   ]
  },
  {
   "cell_type": "code",
   "execution_count": null,
   "metadata": {
    "execution": {
     "iopub.status.busy": "2022-06-07T17:51:30.732679Z",
     "iopub.status.idle": "2022-06-07T17:51:30.732978Z",
     "shell.execute_reply": "2022-06-07T17:51:30.732871Z",
     "shell.execute_reply.started": "2022-06-07T17:51:30.732860Z"
    }
   },
   "outputs": [],
   "source": [
    "allplots('CHC')"
   ]
  },
  {
   "cell_type": "code",
   "execution_count": null,
   "metadata": {
    "execution": {
     "iopub.status.busy": "2022-06-07T17:51:30.733557Z",
     "iopub.status.idle": "2022-06-07T17:51:30.733780Z",
     "shell.execute_reply": "2022-06-07T17:51:30.733674Z",
     "shell.execute_reply.started": "2022-06-07T17:51:30.733663Z"
    }
   },
   "outputs": [],
   "source": [
    "allplots('CHC')"
   ]
  },
  {
   "cell_type": "markdown",
   "metadata": {},
   "source": [
    "# Make  Site Plots "
   ]
  },
  {
   "cell_type": "markdown",
   "metadata": {},
   "source": [
    "# Calhau"
   ]
  },
  {
   "cell_type": "code",
   "execution_count": null,
   "metadata": {
    "execution": {
     "iopub.status.busy": "2022-06-07T17:51:30.734399Z",
     "iopub.status.idle": "2022-06-07T17:51:30.734610Z",
     "shell.execute_reply": "2022-06-07T17:51:30.734507Z",
     "shell.execute_reply.started": "2022-06-07T17:51:30.734497Z"
    },
    "tags": []
   },
   "outputs": [],
   "source": [
    "allplots('CAL')"
   ]
  },
  {
   "cell_type": "markdown",
   "metadata": {},
   "source": [
    "# Sisal"
   ]
  },
  {
   "cell_type": "code",
   "execution_count": null,
   "metadata": {
    "execution": {
     "iopub.status.busy": "2022-06-07T17:51:30.735224Z",
     "iopub.status.idle": "2022-06-07T17:51:30.735526Z",
     "shell.execute_reply": "2022-06-07T17:51:30.735420Z",
     "shell.execute_reply.started": "2022-06-07T17:51:30.735408Z"
    }
   },
   "outputs": [],
   "source": [
    "allplots('SIS')"
   ]
  },
  {
   "cell_type": "markdown",
   "metadata": {},
   "source": [
    "# CHC"
   ]
  },
  {
   "cell_type": "code",
   "execution_count": null,
   "metadata": {
    "execution": {
     "iopub.status.busy": "2022-06-07T17:51:30.736072Z",
     "iopub.status.idle": "2022-06-07T17:51:30.736371Z",
     "shell.execute_reply": "2022-06-07T17:51:30.736260Z",
     "shell.execute_reply.started": "2022-06-07T17:51:30.736249Z"
    }
   },
   "outputs": [],
   "source": [
    "allplots('CHC')"
   ]
  },
  {
   "cell_type": "markdown",
   "metadata": {},
   "source": [
    "# MAN"
   ]
  },
  {
   "cell_type": "code",
   "execution_count": null,
   "metadata": {
    "execution": {
     "iopub.status.busy": "2022-06-07T17:51:30.736909Z",
     "iopub.status.idle": "2022-06-07T17:51:30.737205Z",
     "shell.execute_reply": "2022-06-07T17:51:30.737099Z",
     "shell.execute_reply.started": "2022-06-07T17:51:30.737087Z"
    }
   },
   "outputs": [],
   "source": [
    "allplots('MAN')"
   ]
  },
  {
   "cell_type": "markdown",
   "metadata": {},
   "source": [
    "# NIK"
   ]
  },
  {
   "cell_type": "code",
   "execution_count": null,
   "metadata": {
    "execution": {
     "iopub.status.busy": "2022-06-07T17:51:30.737755Z",
     "iopub.status.idle": "2022-06-07T17:51:30.738051Z",
     "shell.execute_reply": "2022-06-07T17:51:30.737946Z",
     "shell.execute_reply.started": "2022-06-07T17:51:30.737934Z"
    }
   },
   "outputs": [],
   "source": [
    "allplots('NIK')"
   ]
  },
  {
   "cell_type": "code",
   "execution_count": null,
   "metadata": {
    "execution": {
     "iopub.status.busy": "2022-06-07T17:51:30.738649Z",
     "iopub.status.idle": "2022-06-07T17:51:30.738918Z",
     "shell.execute_reply": "2022-06-07T17:51:30.738812Z",
     "shell.execute_reply.started": "2022-06-07T17:51:30.738800Z"
    }
   },
   "outputs": [],
   "source": [
    "allplots('NIK')"
   ]
  },
  {
   "cell_type": "code",
   "execution_count": null,
   "metadata": {
    "execution": {
     "iopub.status.busy": "2022-06-07T17:51:30.739508Z",
     "iopub.status.idle": "2022-06-07T17:51:30.739718Z",
     "shell.execute_reply": "2022-06-07T17:51:30.739616Z",
     "shell.execute_reply.started": "2022-06-07T17:51:30.739605Z"
    }
   },
   "outputs": [],
   "source": [
    "ob, mo, ag, =prep_plot('NIK')\n",
    "ob"
   ]
  },
  {
   "cell_type": "markdown",
   "metadata": {},
   "source": [
    "# BAR"
   ]
  },
  {
   "cell_type": "code",
   "execution_count": null,
   "metadata": {
    "execution": {
     "iopub.status.busy": "2022-06-07T17:51:30.740218Z",
     "iopub.status.idle": "2022-06-07T17:51:30.740447Z",
     "shell.execute_reply": "2022-06-07T17:51:30.740342Z",
     "shell.execute_reply.started": "2022-06-07T17:51:30.740331Z"
    }
   },
   "outputs": [],
   "source": [
    "allplots('BAR')"
   ]
  },
  {
   "cell_type": "code",
   "execution_count": null,
   "metadata": {
    "execution": {
     "iopub.status.busy": "2022-06-07T17:51:30.741064Z",
     "iopub.status.idle": "2022-06-07T17:51:30.741271Z",
     "shell.execute_reply": "2022-06-07T17:51:30.741170Z",
     "shell.execute_reply.started": "2022-06-07T17:51:30.741160Z"
    }
   },
   "outputs": [],
   "source": [
    "obs.max()"
   ]
  },
  {
   "cell_type": "code",
   "execution_count": null,
   "metadata": {
    "execution": {
     "iopub.status.busy": "2022-06-07T17:51:30.741882Z",
     "iopub.status.idle": "2022-06-07T17:51:30.742103Z",
     "shell.execute_reply": "2022-06-07T17:51:30.742002Z",
     "shell.execute_reply.started": "2022-06-07T17:51:30.741991Z"
    }
   },
   "outputs": [],
   "source": [
    "sites = ['BAR','CAL','CST', 'MAN','NIK','SIS', 'CHC']\n",
    "meanmod=[]\n",
    "meanob=[]\n",
    "for site in sites:\n",
    "    obs, model, asgm =prep_plot(site)\n",
    "    meanob.append(obs.mean())\n",
    "    meanmod.append(model.mean())"
   ]
  },
  {
   "cell_type": "code",
   "execution_count": null,
   "metadata": {
    "execution": {
     "iopub.status.busy": "2022-06-07T17:51:30.742818Z",
     "iopub.status.idle": "2022-06-07T17:51:30.743031Z",
     "shell.execute_reply": "2022-06-07T17:51:30.742925Z",
     "shell.execute_reply.started": "2022-06-07T17:51:30.742914Z"
    }
   },
   "outputs": [],
   "source": [
    "x =meanob\n",
    "y=meanmod\n",
    "fig = plt.figure(figsize=(10,8))\n",
    "z = np.linspace(0.75,1.4, 100)\n",
    "plt.plot(z, z, linestyle='dashed',label=\"1:1 line\")\n",
    "plt.scatter(x,y, marker='o',color=\"blue\",label=\"Data\")\n",
    "\n",
    "\n",
    "plt.grid()\n",
    "plt.legend()\n",
    "plt.xlabel('Observed Concentration (ng/m3)', fontsize=14)\n",
    "plt.ylabel(' Simulated Concentration (ng/m3)', fontsize=14)\n",
    "fig.tight_layout()\n",
    "fig.suptitle('Observations Means vs Model Means',fontweight='bold')\n",
    "#fig.savefig('../Figures/ObservedSimulatedHeadComparisonPlot.png')\n",
    "\n",
    "\n"
   ]
  },
  {
   "cell_type": "code",
   "execution_count": null,
   "metadata": {
    "execution": {
     "iopub.status.busy": "2022-06-07T17:51:30.743628Z",
     "iopub.status.idle": "2022-06-07T17:51:30.743846Z",
     "shell.execute_reply": "2022-06-07T17:51:30.743742Z",
     "shell.execute_reply.started": "2022-06-07T17:51:30.743731Z"
    }
   },
   "outputs": [],
   "source": [
    "bari = get_data('BAR')\n"
   ]
  },
  {
   "cell_type": "code",
   "execution_count": null,
   "metadata": {
    "execution": {
     "iopub.status.busy": "2022-06-07T17:51:30.744352Z",
     "iopub.status.idle": "2022-06-07T17:51:30.744566Z",
     "shell.execute_reply": "2022-06-07T17:51:30.744465Z",
     "shell.execute_reply.started": "2022-06-07T17:51:30.744454Z"
    }
   },
   "outputs": [],
   "source": [
    "bari=bari.loc[bari['value']>0]"
   ]
  },
  {
   "cell_type": "code",
   "execution_count": null,
   "metadata": {
    "execution": {
     "iopub.status.busy": "2022-06-07T17:51:30.745279Z",
     "iopub.status.idle": "2022-06-07T17:51:30.745556Z",
     "shell.execute_reply": "2022-06-07T17:51:30.745448Z",
     "shell.execute_reply.started": "2022-06-07T17:51:30.745436Z"
    }
   },
   "outputs": [],
   "source": [
    "bari.loc[bari['value']<5]['value'].mean()"
   ]
  },
  {
   "cell_type": "code",
   "execution_count": null,
   "metadata": {
    "execution": {
     "iopub.status.busy": "2022-06-07T17:51:30.746260Z",
     "iopub.status.idle": "2022-06-07T17:51:30.746559Z",
     "shell.execute_reply": "2022-06-07T17:51:30.746453Z",
     "shell.execute_reply.started": "2022-06-07T17:51:30.746441Z"
    }
   },
   "outputs": [],
   "source": [
    "# Call function with site name\n",
    "sitenm = 'NIK' #BAR,CAL,CST, MAN,NIK, SIS, CHC\n",
    "obs_Hg0, model_Hg0, model_Hg0_ASGM = get_model_obs(sitenm)\n",
    "#%%\n",
    "if site =='BAR':\n",
    "    obs_Hg0= obs_Hg0.loc[obs_Hg0['value']<5]\n",
    "\n",
    "\n",
    "#resample observations so that they are daily values\n",
    "obs_Hg0['value'] = obs_Hg0['value'].mask(obs_Hg0['value']<0) #missing values\n",
    "obs_Hg0['tstamp'] = pd.to_datetime(obs_Hg0['tstamp'])\n",
    "obs_Hg0_d = obs_Hg0.set_index('tstamp').resample('D').mean() #daily mean values, ignoring NaN\n",
    "\n",
    "obs_Hg0['value'] = obs_Hg0['value'].mask(obs_Hg0['value']<0) #missing values\n",
    "obs_Hg0['tstamp'] = pd.to_datetime(obs_Hg0['tstamp'])\n",
    "obs_Hg0_d = obs_Hg0.set_index('tstamp').resample('D').mean() #daily mean values, ignoring NaN\n",
    "\n",
    "\n",
    "start = str(obs_Hg0['tstamp'].iloc[0])\n",
    "end =str(obs_Hg0['tstamp'].iloc[-1])\n",
    "if sitenm== 'CHC':\n",
    "    start=start.split('+')[0]\n",
    "    end=end.split('+')[0]\n",
    "#elif site =='NIK':"
   ]
  },
  {
   "cell_type": "code",
   "execution_count": null,
   "metadata": {
    "execution": {
     "iopub.status.busy": "2022-06-07T17:51:30.747098Z",
     "iopub.status.idle": "2022-06-07T17:51:30.747398Z",
     "shell.execute_reply": "2022-06-07T17:51:30.747287Z",
     "shell.execute_reply.started": "2022-06-07T17:51:30.747276Z"
    }
   },
   "outputs": [],
   "source": [
    "obs_Hg0['year']=str(obs_Hg0['tstamp']).split('-')"
   ]
  },
  {
   "cell_type": "code",
   "execution_count": null,
   "metadata": {
    "execution": {
     "iopub.status.busy": "2022-06-07T17:51:30.747942Z",
     "iopub.status.idle": "2022-06-07T17:51:30.748235Z",
     "shell.execute_reply": "2022-06-07T17:51:30.748130Z",
     "shell.execute_reply.started": "2022-06-07T17:51:30.748118Z"
    },
    "tags": []
   },
   "outputs": [],
   "source": [
    "for item in obs_Hg0['tstamp'].values:\n",
    "    year=str(item).split('-')[0]\n",
    "    print(year)"
   ]
  },
  {
   "cell_type": "code",
   "execution_count": null,
   "metadata": {},
   "outputs": [],
   "source": []
  }
 ],
 "metadata": {
  "kernelspec": {
   "display_name": "Jlab",
   "language": "python",
   "name": "jlab"
  },
  "language_info": {
   "codemirror_mode": {
    "name": "ipython",
    "version": 3
   },
   "file_extension": ".py",
   "mimetype": "text/x-python",
   "name": "python",
   "nbconvert_exporter": "python",
   "pygments_lexer": "ipython3",
   "version": "3.9.12"
  }
 },
 "nbformat": 4,
 "nbformat_minor": 4
}
