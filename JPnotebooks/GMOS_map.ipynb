{
 "cells": [
  {
   "cell_type": "code",
   "execution_count": 1,
   "metadata": {},
   "outputs": [],
   "source": [
    "import os\n",
    "os.chdir('/home/tzd/Hg_dataset_practice/Analysis_of_ASGM_Emissions_in_Peru')"
   ]
  },
  {
   "cell_type": "code",
   "execution_count": 2,
   "metadata": {},
   "outputs": [
    {
     "data": {
      "text/plain": [
       "matplotlib.colors.ListedColormap"
      ]
     },
     "execution_count": 2,
     "metadata": {},
     "output_type": "execute_result"
    }
   ],
   "source": [
    "%matplotlib inline\n",
    "import numpy as np\n",
    "\n",
    "import xarray as xr\n",
    "\n",
    "#import regionmask \n",
    "\n",
    "import matplotlib.pyplot as plt\n",
    "import cartopy.crs as ccrs\n",
    "from matplotlib import cm\n",
    "from matplotlib.colors import ListedColormap, LinearSegmentedColormap\n",
    "import numpy.ma as ma\n",
    "import csv\n",
    "#import netCDF4 as nc\n",
    "import scipy\n",
    "import pandas\n",
    "from glob import glob\n",
    "import pandas as pd\n",
    "import cartopy.feature as cf\n",
    "import geopandas as gpd\n",
    "from shapely.geometry import Point\n",
    "import geoplot as gplt\n",
    "\n",
    "import warnings\n",
    "warnings.filterwarnings('ignore')\n",
    "\n",
    "\n",
    "\n",
    "np.seterr(invalid='ignore'); # disable a warning from matplotlib and cartopy\n",
    "from gamap_colormap import WhGrYlRd  # import the \"WhGrYlRd\" variable from my custom Python script\n",
    "type(WhGrYlRd)  # our cus"
   ]
  },
  {
   "cell_type": "code",
   "execution_count": 3,
   "metadata": {},
   "outputs": [],
   "source": [
    "sf_nm = \"/net/fs03/d0/arifein/shapefiles/gadm36_PER_shp/gadm36_PER_0.shp\"\n",
    "peru_sf = gpd.read_file(sf_nm)"
   ]
  },
  {
   "cell_type": "code",
   "execution_count": 4,
   "metadata": {},
   "outputs": [
    {
     "data": {
      "text/html": [
       "<div>\n",
       "<style scoped>\n",
       "    .dataframe tbody tr th:only-of-type {\n",
       "        vertical-align: middle;\n",
       "    }\n",
       "\n",
       "    .dataframe tbody tr th {\n",
       "        vertical-align: top;\n",
       "    }\n",
       "\n",
       "    .dataframe thead th {\n",
       "        text-align: right;\n",
       "    }\n",
       "</style>\n",
       "<table border=\"1\" class=\"dataframe\">\n",
       "  <thead>\n",
       "    <tr style=\"text-align: right;\">\n",
       "      <th></th>\n",
       "      <th>Name</th>\n",
       "      <th>Latitude</th>\n",
       "      <th>Longitude</th>\n",
       "    </tr>\n",
       "  </thead>\n",
       "  <tbody>\n",
       "    <tr>\n",
       "      <th>0</th>\n",
       "      <td>Calhau Sao Vincente</td>\n",
       "      <td>16.86402</td>\n",
       "      <td>-24.86730</td>\n",
       "    </tr>\n",
       "    <tr>\n",
       "      <th>1</th>\n",
       "      <td>Manaus</td>\n",
       "      <td>-2.89060</td>\n",
       "      <td>-59.96980</td>\n",
       "    </tr>\n",
       "    <tr>\n",
       "      <th>2</th>\n",
       "      <td>Sisal</td>\n",
       "      <td>21.16356</td>\n",
       "      <td>-90.04679</td>\n",
       "    </tr>\n",
       "    <tr>\n",
       "      <th>3</th>\n",
       "      <td>Chacaltaya</td>\n",
       "      <td>-16.20000</td>\n",
       "      <td>-68.12000</td>\n",
       "    </tr>\n",
       "    <tr>\n",
       "      <th>4</th>\n",
       "      <td>Nieuw Nickerie</td>\n",
       "      <td>5.93000</td>\n",
       "      <td>-56.98000</td>\n",
       "    </tr>\n",
       "  </tbody>\n",
       "</table>\n",
       "</div>"
      ],
      "text/plain": [
       "                  Name  Latitude  Longitude\n",
       "0  Calhau Sao Vincente  16.86402  -24.86730\n",
       "1               Manaus  -2.89060  -59.96980\n",
       "2                Sisal  21.16356  -90.04679\n",
       "3           Chacaltaya -16.20000  -68.12000\n",
       "4       Nieuw Nickerie   5.93000  -56.98000"
      ]
     },
     "execution_count": 4,
     "metadata": {},
     "output_type": "execute_result"
    }
   ],
   "source": [
    "cols=['Name','Latitude','Longitude']\n",
    "data=[['Calhau Sao Vincente',16.86402,-24.8673],['Manaus',-2.8906,-59.9698],['Sisal',21.16356,-90.04679],['Chacaltaya',-16.2,-68.12],['Nieuw Nickerie',5.93,-56.98]]# ['Celestún',20.8584,-90.3831],,['Galápagos Islands',-0.95,-90.97] ['Bariloche',-41.13,-71.42],\n",
    "import pandas as pd\n",
    "df = pd.DataFrame(data, columns = cols)\n",
    " \n",
    "# print dataframe.\n",
    "df"
   ]
  },
  {
   "cell_type": "code",
   "execution_count": 5,
   "metadata": {},
   "outputs": [
    {
     "data": {
      "text/html": [
       "<div>\n",
       "<style scoped>\n",
       "    .dataframe tbody tr th:only-of-type {\n",
       "        vertical-align: middle;\n",
       "    }\n",
       "\n",
       "    .dataframe tbody tr th {\n",
       "        vertical-align: top;\n",
       "    }\n",
       "\n",
       "    .dataframe thead th {\n",
       "        text-align: right;\n",
       "    }\n",
       "</style>\n",
       "<table border=\"1\" class=\"dataframe\">\n",
       "  <thead>\n",
       "    <tr style=\"text-align: right;\">\n",
       "      <th></th>\n",
       "      <th>Name</th>\n",
       "      <th>Latitude</th>\n",
       "      <th>Longitude</th>\n",
       "      <th>geometry</th>\n",
       "    </tr>\n",
       "  </thead>\n",
       "  <tbody>\n",
       "    <tr>\n",
       "      <th>0</th>\n",
       "      <td>Calhau Sao Vincente</td>\n",
       "      <td>16.86402</td>\n",
       "      <td>-24.86730</td>\n",
       "      <td>POINT (-24.86730 16.86402)</td>\n",
       "    </tr>\n",
       "    <tr>\n",
       "      <th>1</th>\n",
       "      <td>Manaus</td>\n",
       "      <td>-2.89060</td>\n",
       "      <td>-59.96980</td>\n",
       "      <td>POINT (-59.96980 -2.89060)</td>\n",
       "    </tr>\n",
       "    <tr>\n",
       "      <th>2</th>\n",
       "      <td>Sisal</td>\n",
       "      <td>21.16356</td>\n",
       "      <td>-90.04679</td>\n",
       "      <td>POINT (-90.04679 21.16356)</td>\n",
       "    </tr>\n",
       "    <tr>\n",
       "      <th>3</th>\n",
       "      <td>Chacaltaya</td>\n",
       "      <td>-16.20000</td>\n",
       "      <td>-68.12000</td>\n",
       "      <td>POINT (-68.12000 -16.20000)</td>\n",
       "    </tr>\n",
       "    <tr>\n",
       "      <th>4</th>\n",
       "      <td>Nieuw Nickerie</td>\n",
       "      <td>5.93000</td>\n",
       "      <td>-56.98000</td>\n",
       "      <td>POINT (-56.98000 5.93000)</td>\n",
       "    </tr>\n",
       "  </tbody>\n",
       "</table>\n",
       "</div>"
      ],
      "text/plain": [
       "                  Name  Latitude  Longitude                     geometry\n",
       "0  Calhau Sao Vincente  16.86402  -24.86730   POINT (-24.86730 16.86402)\n",
       "1               Manaus  -2.89060  -59.96980   POINT (-59.96980 -2.89060)\n",
       "2                Sisal  21.16356  -90.04679   POINT (-90.04679 21.16356)\n",
       "3           Chacaltaya -16.20000  -68.12000  POINT (-68.12000 -16.20000)\n",
       "4       Nieuw Nickerie   5.93000  -56.98000    POINT (-56.98000 5.93000)"
      ]
     },
     "execution_count": 5,
     "metadata": {},
     "output_type": "execute_result"
    }
   ],
   "source": [
    "sites=gpd.GeoDataFrame(df, geometry = gpd.points_from_xy(df['Longitude'],df['Latitude'] ))\n",
    "sites"
   ]
  },
  {
   "cell_type": "code",
   "execution_count": 6,
   "metadata": {},
   "outputs": [],
   "source": [
    "Lapan= pd.read_csv('Lapan.csv')\n",
    "# Creating GeoPandas GeoDataFrame using the Pandas Dataframe \n",
    "Lapan_gdf = gpd.GeoDataFrame(Lapan, geometry = gpd.points_from_xy(Lapan['Longitude'],Lapan['Latitude'] ))\n",
    "Lapan_gdf=Lapan_gdf.sort_values('Latitude') #sort the data from passive samplers by latitude \n",
    "\n",
    "\n",
    "LAP=pd.DataFrame()\n",
    "LAP['LONG']=Lapan_gdf['Longitude']\n",
    "LAP['LATI']=Lapan_gdf['Latitude']\n",
    "LAP['OBS']=Lapan_gdf['Measured Conc (ng/m3)']\n",
    "LAP =LAP.reset_index(drop=True)\n",
    "LAP =LAP.reset_index(drop=True)\n",
    "LAP['OBS'].iloc[20]=0.59 # Choose the concentration recorded at 5m at Manaus becasue theese sould be surface concentrations\n",
    "#The observations are currently recorded as strings. They need to be changed to floating point numbers\n",
    "observe=[]\n",
    "for item in LAP['OBS']:\n",
    "    observe.append(float(item))\n",
    "observe    \n",
    "LAP['OBS']=observe\n",
    "\n",
    "df_Latin = gpd.GeoDataFrame(LAP , geometry = gpd.points_from_xy(LAP['LONG'],LAP['LATI'] ))\n",
    "L_OB_GEO =df_Latin.drop(columns=['LATI','LONG']) \n",
    "#L_OB_GEO"
   ]
  },
  {
   "cell_type": "code",
   "execution_count": 7,
   "metadata": {},
   "outputs": [
    {
     "data": {
      "image/png": "[encoded data removed]",
      "text/plain": [
       "<Figure size 720x576 with 1 Axes>"
      ]
     },
     "metadata": {
      "needs_background": "light"
     },
     "output_type": "display_data"
    }
   ],
   "source": [
    "fig, axes = plt.subplots(1, 1, figsize=[10,8], subplot_kw={'projection': ccrs.PlateCarree()})\n",
    "texts = []\n",
    "from shapely.geometry import Point\n",
    "import adjustText as aT\n",
    "        \n",
    "\n",
    "gplt.pointplot(sites.geometry,ax=axes, edgecolor='black', linewidth=3,s = 6)\n",
    "for x, y, label in zip(sites.geometry.x, sites.geometry.y, sites[\"Name\"]):\n",
    "    texts.append(plt.text(x-0.5, y-3, label, fontsize = 12,fontweight='bold'))\n",
    "peru_sf.geometry.boundary.plot(ax=axes, edgecolor='k',linewidth = 0.5)\n",
    "# aT.adjust_text(texts, force_points=0.5, force_text=0.9, expand_points=(1,1), expand_text=(1,1.3), \n",
    "            # arrowprops=dict(arrowstyle=\"-\", color='grey', lw=1))\n",
    "# axes.set_title(f'Mercury Monitoring Stations in Latin America',fontweight='bold')\n",
    "axes.coastlines()\n",
    "axes.set_xlim([-95, -20])\n",
    "axes.set_ylim([-60, 25])\n",
    "name='GMOS_map'\n",
    "savepath='/home/tzd/fs03/d1/tzd/Data_analysis/MIT_TPP_thesis/figures/GMOS_Sites/'+name+'.pdf'\n",
    "fig.savefig(savepath,bbox_inches='tight')\n",
    "plt.show()"
   ]
  },
  {
   "cell_type": "code",
   "execution_count": null,
   "metadata": {},
   "outputs": [],
   "source": []
  }
 ],
 "metadata": {
  "kernelspec": {
   "display_name": "Jlab",
   "language": "python",
   "name": "jlab"
  },
  "language_info": {
   "codemirror_mode": {
    "name": "ipython",
    "version": 3
   },
   "file_extension": ".py",
   "mimetype": "text/x-python",
   "name": "python",
   "nbconvert_exporter": "python",
   "pygments_lexer": "ipython3",
   "version": "3.9.12"
  },
  "orig_nbformat": 4
 },
 "nbformat": 4,
 "nbformat_minor": 2
}
