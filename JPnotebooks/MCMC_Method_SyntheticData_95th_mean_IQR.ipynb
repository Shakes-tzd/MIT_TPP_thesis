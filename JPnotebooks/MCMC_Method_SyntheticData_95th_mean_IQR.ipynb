{
 "cells": [
  {
   "cell_type": "markdown",
   "metadata": {
    "tags": []
   },
   "source": [
    "# Set Up functions for getting Data"
   ]
  },
  {
   "cell_type": "code",
   "execution_count": 1,
   "metadata": {
    "execution": {
     "iopub.execute_input": "2022-04-10T21:27:19.081696Z",
     "iopub.status.busy": "2022-04-10T21:27:19.081247Z",
     "iopub.status.idle": "2022-04-10T21:27:24.006789Z",
     "shell.execute_reply": "2022-04-10T21:27:24.006315Z",
     "shell.execute_reply.started": "2022-04-10T21:27:19.081649Z"
    },
    "tags": []
   },
   "outputs": [
    {
     "ename": "Exception",
     "evalue": "File `'./My_Modules/DataSetUP10VAR.ipynb.py'` not found.",
     "output_type": "error",
     "traceback": [
      "\u001b[0;31m---------------------------------------------------------------------------\u001b[0m",
      "\u001b[0;31mOSError\u001b[0m                                   Traceback (most recent call last)",
      "File \u001b[0;32m~/anaconda3/envs/Jlab/lib/python3.9/site-packages/IPython/core/magics/execution.py:696\u001b[0m, in \u001b[0;36mExecutionMagics.run\u001b[0;34m(self, parameter_s, runner, file_finder)\u001b[0m\n\u001b[1;32m    695\u001b[0m     fpath \u001b[39m=\u001b[39m arg_lst[\u001b[39m0\u001b[39m]\n\u001b[0;32m--> 696\u001b[0m     filename \u001b[39m=\u001b[39m file_finder(fpath)\n\u001b[1;32m    697\u001b[0m \u001b[39mexcept\u001b[39;00m \u001b[39mIndexError\u001b[39;00m \u001b[39mas\u001b[39;00m e:\n",
      "File \u001b[0;32m~/anaconda3/envs/Jlab/lib/python3.9/site-packages/IPython/utils/path.py:91\u001b[0m, in \u001b[0;36mget_py_filename\u001b[0;34m(name)\u001b[0m\n\u001b[1;32m     90\u001b[0m \u001b[39melse\u001b[39;00m:\n\u001b[0;32m---> 91\u001b[0m     \u001b[39mraise\u001b[39;00m \u001b[39mIOError\u001b[39;00m(\u001b[39m'\u001b[39m\u001b[39mFile `\u001b[39m\u001b[39m%r\u001b[39;00m\u001b[39m` not found.\u001b[39m\u001b[39m'\u001b[39m \u001b[39m%\u001b[39m name)\n",
      "\u001b[0;31mOSError\u001b[0m: File `'./My_Modules/DataSetUP10VAR.ipynb.py'` not found.",
      "\nThe above exception was the direct cause of the following exception:\n",
      "\u001b[0;31mException\u001b[0m                                 Traceback (most recent call last)",
      "\u001b[1;32m/home/tzd/fs03/d1/tzd/Data_analysis/MIT_TPP_thesis/JPnotebooks/MCMC_Method_SyntheticData_95th_mean_IQR.ipynb Cell 2'\u001b[0m in \u001b[0;36m<cell line: 3>\u001b[0;34m()\u001b[0m\n\u001b[1;32m      <a href='vscode-notebook-cell://ssh-remote%2B7b22686f73744e616d65223a227376616e7465332e6d69742e656475222c2275736572223a22747a64227d/home/tzd/fs03/d1/tzd/Data_analysis/MIT_TPP_thesis/JPnotebooks/MCMC_Method_SyntheticData_95th_mean_IQR.ipynb#ch0000001vscode-remote?line=0'>1</a>\u001b[0m \u001b[39mimport\u001b[39;00m \u001b[39mos\u001b[39;00m\n\u001b[1;32m      <a href='vscode-notebook-cell://ssh-remote%2B7b22686f73744e616d65223a227376616e7465332e6d69742e656475222c2275736572223a22747a64227d/home/tzd/fs03/d1/tzd/Data_analysis/MIT_TPP_thesis/JPnotebooks/MCMC_Method_SyntheticData_95th_mean_IQR.ipynb#ch0000001vscode-remote?line=1'>2</a>\u001b[0m os\u001b[39m.\u001b[39mchdir(\u001b[39m'\u001b[39m\u001b[39m/home/tzd/fs03/d1/tzd/Data_analysis/MIT_TPP_thesis/JPnotebooks/\u001b[39m\u001b[39m'\u001b[39m)\n\u001b[0;32m----> <a href='vscode-notebook-cell://ssh-remote%2B7b22686f73744e616d65223a227376616e7465332e6d69742e656475222c2275736572223a22747a64227d/home/tzd/fs03/d1/tzd/Data_analysis/MIT_TPP_thesis/JPnotebooks/MCMC_Method_SyntheticData_95th_mean_IQR.ipynb#ch0000001vscode-remote?line=2'>3</a>\u001b[0m get_ipython()\u001b[39m.\u001b[39;49mrun_line_magic(\u001b[39m'\u001b[39;49m\u001b[39mrun\u001b[39;49m\u001b[39m'\u001b[39;49m, \u001b[39m'\u001b[39;49m\u001b[39m./My_Modules/DataSetUP10VAR.ipynb\u001b[39;49m\u001b[39m'\u001b[39;49m)\n",
      "File \u001b[0;32m~/anaconda3/envs/Jlab/lib/python3.9/site-packages/IPython/core/interactiveshell.py:2304\u001b[0m, in \u001b[0;36mInteractiveShell.run_line_magic\u001b[0;34m(self, magic_name, line, _stack_depth)\u001b[0m\n\u001b[1;32m   2302\u001b[0m     kwargs[\u001b[39m'\u001b[39m\u001b[39mlocal_ns\u001b[39m\u001b[39m'\u001b[39m] \u001b[39m=\u001b[39m \u001b[39mself\u001b[39m\u001b[39m.\u001b[39mget_local_scope(stack_depth)\n\u001b[1;32m   2303\u001b[0m \u001b[39mwith\u001b[39;00m \u001b[39mself\u001b[39m\u001b[39m.\u001b[39mbuiltin_trap:\n\u001b[0;32m-> 2304\u001b[0m     result \u001b[39m=\u001b[39m fn(\u001b[39m*\u001b[39;49margs, \u001b[39m*\u001b[39;49m\u001b[39m*\u001b[39;49mkwargs)\n\u001b[1;32m   2305\u001b[0m \u001b[39mreturn\u001b[39;00m result\n",
      "File \u001b[0;32m~/anaconda3/envs/Jlab/lib/python3.9/site-packages/IPython/core/magics/execution.py:707\u001b[0m, in \u001b[0;36mExecutionMagics.run\u001b[0;34m(self, parameter_s, runner, file_finder)\u001b[0m\n\u001b[1;32m    705\u001b[0m     \u001b[39mif\u001b[39;00m os\u001b[39m.\u001b[39mname \u001b[39m==\u001b[39m \u001b[39m'\u001b[39m\u001b[39mnt\u001b[39m\u001b[39m'\u001b[39m \u001b[39mand\u001b[39;00m re\u001b[39m.\u001b[39mmatch(\u001b[39mr\u001b[39m\u001b[39m\"\u001b[39m\u001b[39m^\u001b[39m\u001b[39m'\u001b[39m\u001b[39m.*\u001b[39m\u001b[39m'\u001b[39m\u001b[39m$\u001b[39m\u001b[39m\"\u001b[39m,fpath):\n\u001b[1;32m    706\u001b[0m         warn(\u001b[39m'\u001b[39m\u001b[39mFor Windows, use double quotes to wrap a filename: \u001b[39m\u001b[39m%r\u001b[39;00m\u001b[39mun \u001b[39m\u001b[39m\"\u001b[39m\u001b[39mmypath\u001b[39m\u001b[39m\\\\\u001b[39;00m\u001b[39mmyfile.py\u001b[39m\u001b[39m\"\u001b[39m\u001b[39m'\u001b[39m)\n\u001b[0;32m--> 707\u001b[0m     \u001b[39mraise\u001b[39;00m \u001b[39mException\u001b[39;00m(msg) \u001b[39mfrom\u001b[39;00m \u001b[39me\u001b[39;00m\n\u001b[1;32m    708\u001b[0m \u001b[39mexcept\u001b[39;00m \u001b[39mTypeError\u001b[39;00m:\n\u001b[1;32m    709\u001b[0m     \u001b[39mif\u001b[39;00m fpath \u001b[39min\u001b[39;00m sys\u001b[39m.\u001b[39mmeta_path:\n",
      "\u001b[0;31mException\u001b[0m: File `'./My_Modules/DataSetUP10VAR.ipynb.py'` not found."
     ]
    }
   ],
   "source": [
    "import os\n",
    "os.chdir('/home/tzd/fs03/d1/tzd/Data_analysis/MIT_TPP_thesis/JPnotebooks/')\n",
    "%run ./My_Modules/DataSetUP10VAR.ipynb\n",
    "#FmodelDF"
   ]
  },
  {
   "cell_type": "markdown",
   "metadata": {
    "tags": [],
    "toc-hr-collapsed": true
   },
   "source": [
    "# Import modules "
   ]
  },
  {
   "cell_type": "code",
   "execution_count": 2,
   "metadata": {
    "execution": {
     "iopub.execute_input": "2022-04-10T21:27:24.007800Z",
     "iopub.status.busy": "2022-04-10T21:27:24.007593Z",
     "iopub.status.idle": "2022-04-10T21:27:24.015552Z",
     "shell.execute_reply": "2022-04-10T21:27:24.015207Z",
     "shell.execute_reply.started": "2022-04-10T21:27:24.007781Z"
    }
   },
   "outputs": [],
   "source": [
    "import numpy as np\n",
    "import matplotlib.pyplot as plt\n",
    "import emcee\n",
    "import corner\n",
    "from scipy.stats import norm,iqr,bootstrap"
   ]
  },
  {
   "cell_type": "markdown",
   "metadata": {
    "tags": []
   },
   "source": [
    "# Formular for Calculating Emission Signal from each gridbox"
   ]
  },
  {
   "cell_type": "markdown",
   "metadata": {
    "tags": []
   },
   "source": [
    "\n",
    "$$\\small{Y_{signal}} =\\small\\frac{(X_{modified}-X_{base})}{(M_1-M_0)}\\small{(M-M_o)}$$\n",
    "\n",
    "* $\\small{Y_{signal}}$ : The Emission signal from a gridbox\n",
    "\n",
    "* $X_{modified}$ : The modified emissions GEOS Chem output __(model output)__\n",
    "* $X_{base}$ : The baseline emissions GEOS Chem output __(model output)__\n",
    "* $M_1$ : The Hg mass after modification __(known)__\n",
    "* $M_0$ : The Hg mass before modification __(known)__\n",
    "* $M$ : The intended Hg emissions mass __(unknown)__\n",
    "\n",
    "The above equation can be expanded in to separate the uknowns from the known information so that $M$ can be used as a parameter in our optimization\n",
    "\n",
    "$$\\small{Y_{signal}} =\\small\\frac{(X_{modified}-X_{base})}{(M_1-M_0)}M-\\small\\frac{(X_{modified}-X_{base})}{(M_1-M_0)}M_o$$\n",
    "\n",
    "let $$W_{region}=\\small\\frac{(X_{modified}-X_{base})}{(M_1-M_0)}$$\n",
    "\n",
    "hence the above equation becomes:\n",
    "$$\\small{Y_{signal}} =W_{region}M-W_{region}M_o$$"
   ]
  },
  {
   "cell_type": "markdown",
   "metadata": {
    "tags": []
   },
   "source": [
    "## Optimization of combined signal from differnt gridboxes "
   ]
  },
  {
   "cell_type": "markdown",
   "metadata": {
    "tags": []
   },
   "source": [
    "\n",
    "The modified model output at Chalcataya accounting for signals from the different regions is given by the equation: \n",
    "\n",
    "$$Hg_{(modified)}= HgSignal_{(MdD )}+ HgSignal_{(S-Puno)} + HgSignal_{(N-Puno)}+ HgSignal_{(Apurimac)}+ HgSignal_{(Arequipa)}+HgBaseline_{(No-ASGM)}$$\n",
    "\n",
    "$$Hg_{(modified)}= (W_{(MdD)}M-W_{(MdD)}M_o)+ (W_{(S-Puno)}M-W_{(S-Puno)}M_o) + (W_{(N-Puno)}M-W_{(N-Puno)}M_o)+ (W_{(Apurimac)}M-W_{(Apurimac)}M_o)+  (W_{(Arequipa)}M-W_{(Arequipa)}M_o)+HgBaseline_{(No-ASGM)}$$\n",
    "\n",
    "$M$  is the parameter that we want to modify hence let $θ=M$ and combine all the  $−𝑊_{(𝑀𝑑𝐷)}𝑀$  in to one constant  $Z$  which leads to the simplified equation:\n",
    "\n",
    "$$Hg_{(modified)}= (HgBaseline_{(no-ASGM)}θ_0 + Z\\theta_1 + W_{(mdd)}θ_2+ W_{(s-pun)}θ_3 + W_{(n-pun)}θ_4+ W_{(aprc)}θ_5+  W_{(aqpa)}θ_6$$\n",
    "\n"
   ]
  },
  {
   "cell_type": "markdown",
   "metadata": {
    "tags": []
   },
   "source": [
    "# Model Function Equations"
   ]
  },
  {
   "cell_type": "markdown",
   "metadata": {
    "tags": []
   },
   "source": [
    "## Representation"
   ]
  },
  {
   "cell_type": "markdown",
   "metadata": {
    "tags": []
   },
   "source": [
    "$$Y = f(theta)$$\n",
    "\n",
    "$$let\\ Constant\\ = HgBaseline_{(no-ASGM)}θ_0 + Z\\theta_1$$ \n",
    "$$where\\ \\theta_0 =\\theta_1=1$$\n",
    "\n"
   ]
  },
  {
   "cell_type": "markdown",
   "metadata": {},
   "source": [
    "$$Hg_{(modified)}= HgSignal_{(MdD )}+ HgSignal_{(S-Puno)} + HgSignal_{(N-Puno)}+ HgSignal_{(Apurimac)}+ HgSignal_{(Arequipa)}+HgBaseline_{(No-ASGM)}$$\n",
    "\n",
    "$$Hg_{(modified)}= (W_{(MdD)}M-W_{(MdD)}M_o)+ (W_{(S-Puno)}M-W_{(S-Puno)}M_o) + (W_{(N-Puno)}M-W_{(N-Puno)}M_o +(W_{(Apurimac)}M-W_{(Apurimac)}M_o)+ (W_{(Arequipa)}M- W_{(Arequipa)}M_o)+ HgBaseline_{(No-ASGM)}$$\n",
    "\n",
    "\n",
    "$$Y=\\begin{bmatrix} Constant & W_{(mdd)} & W_{(s-pun)} & W_{(n-pun)} &W_{(aprc)} &W_{(aqpa)}\\end{bmatrix} × \\begin{bmatrix} \\theta_0 \\\\θ_1 \\\\ θ_2\\\\ θ_3\\\\ θ_4\\\\ θ_5 \\end{bmatrix}$$ "
   ]
  },
  {
   "cell_type": "markdown",
   "metadata": {
    "tags": []
   },
   "source": [
    "# Analysis"
   ]
  },
  {
   "cell_type": "markdown",
   "metadata": {
    "tags": [],
    "toc-hr-collapsed": true
   },
   "source": [
    "## Initialize the constants"
   ]
  },
  {
   "cell_type": "code",
   "execution_count": 3,
   "metadata": {
    "execution": {
     "iopub.execute_input": "2022-04-10T21:27:24.016325Z",
     "iopub.status.busy": "2022-04-10T21:27:24.016122Z",
     "iopub.status.idle": "2022-04-10T21:27:24.019800Z",
     "shell.execute_reply": "2022-04-10T21:27:24.019442Z",
     "shell.execute_reply.started": "2022-04-10T21:27:24.016309Z"
    }
   },
   "outputs": [],
   "source": [
    "def initEmcee(RefSiteNum):\n",
    "    #RefSiteNum = RefSiteNum\n",
    "    regions = ['spun','npun','mdd','aqp','apr']\n",
    "    ConstantTerm=getConst(RefSiteNum,regions)\n",
    "    Spun_sigs=multiSiteSignal('spun',RefSiteNum).to_numpy()\n",
    "    Npun_sigs = multiSiteSignal('npun',RefSiteNum).to_numpy()\n",
    "    Mdd_sigs =multiSiteSignal('mdd',RefSiteNum).to_numpy()\n",
    "    Aqp_sigs = multiSiteSignal('aqp',RefSiteNum).to_numpy()\n",
    "    Apr_sigs =multiSiteSignal('apr',RefSiteNum).to_numpy()\n",
    "    return ConstantTerm,Spun_sigs,Npun_sigs,Mdd_sigs,Aqp_sigs,Apr_sigs"
   ]
  },
  {
   "cell_type": "markdown",
   "metadata": {
    "tags": []
   },
   "source": [
    "## Set Up the Model"
   ]
  },
  {
   "cell_type": "code",
   "execution_count": 4,
   "metadata": {
    "execution": {
     "iopub.execute_input": "2022-04-10T21:27:24.021221Z",
     "iopub.status.busy": "2022-04-10T21:27:24.020972Z",
     "iopub.status.idle": "2022-04-10T21:27:24.026513Z",
     "shell.execute_reply": "2022-04-10T21:27:24.026177Z",
     "shell.execute_reply.started": "2022-04-10T21:27:24.021206Z"
    }
   },
   "outputs": [],
   "source": [
    "def set_metric(metric_type):\n",
    "    if metric_type=='95th':\n",
    "        print(\"model metric is 95th percentile\")\n",
    "        def model(theta):\n",
    "            \"\"\"Dummy model used here for Bayesian analysis (replace with actual GEOS-Chem function):\n",
    "                Model: Y = f(theta) where theta is a set of parameters:\n",
    "                    Emissions: E1, E2, and E3\n",
    "            \"\"\"\n",
    "            Espun, Enpun, Emdd, Eaqp, Eapr=theta\n",
    "            \n",
    "            modified=ConstantTerm+ (Espun*Spun_sigs) + (Enpun*Npun_sigs) + (Emdd*Mdd_sigs) +(Eaqp*Aqp_sigs) +Eapr*Apr_sigs \n",
    "            \n",
    "            summary =pd.DataFrame(modified)\n",
    "            model_out = list(summary.apply(find_95th))\n",
    "\n",
    "            return model_out\n",
    "    elif metric_type=='mean':\n",
    "        print(\"model metric is mean\")\n",
    "        def model(theta):\n",
    "            Espun, Enpun, Emdd, Eaqp, Eapr=theta\n",
    "            \n",
    "            modified=ConstantTerm+ (Espun*Spun_sigs) + (Enpun*Npun_sigs) + (Emdd*Mdd_sigs) +(Eaqp*Aqp_sigs) +Eapr*Apr_sigs \n",
    "            model_out = list(modified.mean(axis=0))\n",
    "\n",
    "            return model_out\n",
    "    else:\n",
    "        print(\"model metric is IQR\")\n",
    "        def model(theta):\n",
    "            Espun, Enpun, Emdd, Eaqp, Eapr=theta\n",
    "            \n",
    "            modified=ConstantTerm+ (Espun*Spun_sigs) + (Enpun*Npun_sigs) + (Emdd*Mdd_sigs) +(Eaqp*Aqp_sigs) +Eapr*Apr_sigs \n",
    "            model_out = list(iqr(modified, axis=0))\n",
    "\n",
    "            return model_out\n",
    "    return model"
   ]
  },
  {
   "cell_type": "markdown",
   "metadata": {
    "tags": [],
    "toc-hr-collapsed": true
   },
   "source": [
    "### Sanity Check"
   ]
  },
  {
   "cell_type": "markdown",
   "metadata": {
    "tags": [],
    "toc-hr-collapsed": true
   },
   "source": [
    "## Set Up MCMC Parameters"
   ]
  },
  {
   "cell_type": "code",
   "execution_count": 7,
   "metadata": {
    "execution": {
     "iopub.execute_input": "2022-04-10T21:27:24.032750Z",
     "iopub.status.busy": "2022-04-10T21:27:24.032499Z",
     "iopub.status.idle": "2022-04-10T21:27:24.035351Z",
     "shell.execute_reply": "2022-04-10T21:27:24.035019Z",
     "shell.execute_reply.started": "2022-04-10T21:27:24.032734Z"
    }
   },
   "outputs": [],
   "source": [
    "def lnlike(theta, y_obs, y_err):\n",
    "\n",
    "   \"\"\"Calculating log likelihood assuming iid Gaussian errors\n",
    "       Parameters\n",
    "       ----------\n",
    "       theta : parameters\n",
    "       y_obs : observed value (e.g. of IQR)\n",
    "       y_err : error in observed value (e.g. of IQR)\"\"\"\n",
    "   y = model(theta) # calculate modelled output\n",
    "    # calculate log-likelihood that observed value is drawn from normal\n",
    "    # distribution with mean y (modelled value) and sigma = y_err\n",
    "   # if len(y)== 1:\n",
    "   #    LnLike = norm.logpdf(y_obs, y, y_err)\n",
    "   # else:\n",
    "   #    print('somehting is wrong')\n",
    "   LnLike = sum(norm.logpdf(y_obs, y, y_err))\n",
    "   return LnLike"
   ]
  },
  {
   "cell_type": "code",
   "execution_count": 8,
   "metadata": {
    "execution": {
     "iopub.execute_input": "2022-04-10T21:27:24.036125Z",
     "iopub.status.busy": "2022-04-10T21:27:24.035864Z",
     "iopub.status.idle": "2022-04-10T21:27:24.039464Z",
     "shell.execute_reply": "2022-04-10T21:27:24.039103Z",
     "shell.execute_reply.started": "2022-04-10T21:27:24.036109Z"
    }
   },
   "outputs": [],
   "source": [
    "def lnprior(theta):\n",
    "    \"\"\"Apply prior assumption bounds (i.e. upper and lower bounds of variables)\n",
    "       Parameters\n",
    "       ----------\n",
    "       theta : parameters    \n",
    "    \"\"\"\n",
    "    \n",
    "    E1, E2, E3, E4, E5 = theta\n",
    "    \n",
    "    # Prior assumptions for emissions - vary between 0 and 100 (can adjust this):\n",
    "    min_emiss = 0\n",
    "    max_emiss = 100 \n",
    "    \n",
    "    if E1 <= min_emiss or E2 <= min_emiss or E3 <= min_emiss or E4 <= min_emiss or E5 <= min_emiss: # enforce lower bound\n",
    "        return -np.inf\n",
    "    elif E1 >= max_emiss or E2 >= max_emiss or E3 >= max_emiss or E4 >= max_emiss or E5 >= max_emiss: # enforce upper bound\n",
    "        return -np.inf\n",
    "    else: # all values within prior bounds\n",
    "        return 0.0\n",
    "    "
   ]
  },
  {
   "cell_type": "code",
   "execution_count": 9,
   "metadata": {
    "execution": {
     "iopub.execute_input": "2022-04-10T21:27:24.040196Z",
     "iopub.status.busy": "2022-04-10T21:27:24.039989Z",
     "iopub.status.idle": "2022-04-10T21:27:24.042993Z",
     "shell.execute_reply": "2022-04-10T21:27:24.042659Z",
     "shell.execute_reply.started": "2022-04-10T21:27:24.040180Z"
    }
   },
   "outputs": [],
   "source": [
    "def lnprob(theta, y_obs, y_err):\n",
    "    \"\"\"Overall function that calculates log likelihood probability\n",
    "       Parameters\n",
    "       ----------\n",
    "       theta : parameters  \n",
    "       y_obs : observed value (e.g. of IQR)   \n",
    "       y_err : error in observed value (e.g. of IQR)      \n",
    "    \"\"\"\n",
    "    \n",
    "    lp = lnprior(theta) #call lnprior\n",
    "    if not np.isfinite(lp): # check if lp is non-zero:\n",
    "        return -np.inf\n",
    "    else: #recall if lp not -inf, its 0, so this just returns likelihood\n",
    "        return lp + lnlike(theta, y_obs, y_err) \n"
   ]
  },
  {
   "cell_type": "markdown",
   "metadata": {
    "tags": [],
    "toc-hr-collapsed": true
   },
   "source": [
    "### Sanity Check"
   ]
  },
  {
   "cell_type": "code",
   "execution_count": 10,
   "metadata": {
    "execution": {
     "iopub.execute_input": "2022-04-10T21:27:24.043823Z",
     "iopub.status.busy": "2022-04-10T21:27:24.043577Z",
     "iopub.status.idle": "2022-04-10T21:27:24.045617Z",
     "shell.execute_reply": "2022-04-10T21:27:24.045266Z",
     "shell.execute_reply.started": "2022-04-10T21:27:24.043807Z"
    },
    "tags": []
   },
   "outputs": [],
   "source": [
    "\n",
    "# y_err = 0.00001\n",
    "# #theta_true = (E1_true, E2_true, E3_true,E4_true, E5_true)\n",
    "# y_true =GBaround90th(RefSiteNum) #getObsIQR(get_detrended_obs())#model(theta_true)\n",
    "# # y_obs = y_true + np.random.normal(0, y_err) # option if have many \"observations\" of certain output"
   ]
  },
  {
   "cell_type": "code",
   "execution_count": 11,
   "metadata": {
    "execution": {
     "iopub.execute_input": "2022-04-10T21:27:24.046395Z",
     "iopub.status.busy": "2022-04-10T21:27:24.046127Z",
     "iopub.status.idle": "2022-04-10T21:27:24.048271Z",
     "shell.execute_reply": "2022-04-10T21:27:24.047916Z",
     "shell.execute_reply.started": "2022-04-10T21:27:24.046380Z"
    },
    "jupyter": {
     "source_hidden": true
    },
    "tags": []
   },
   "outputs": [],
   "source": [
    "# import numpy as np\n",
    "# rng = np.random.default_rng()\n",
    "# from scipy.stats import norm\n",
    "# dist = norm(loc=2, scale=4)  # our \"unknown\" distribution\n",
    "# data = dist.rvs(size=100, random_state=rng)\n"
   ]
  },
  {
   "cell_type": "code",
   "execution_count": 12,
   "metadata": {
    "execution": {
     "iopub.execute_input": "2022-04-10T21:27:24.048987Z",
     "iopub.status.busy": "2022-04-10T21:27:24.048775Z",
     "iopub.status.idle": "2022-04-10T21:27:24.050816Z",
     "shell.execute_reply": "2022-04-10T21:27:24.050487Z",
     "shell.execute_reply.started": "2022-04-10T21:27:24.048971Z"
    },
    "jupyter": {
     "source_hidden": true
    },
    "tags": []
   },
   "outputs": [],
   "source": [
    "# getBoxesAround(refsitenum)['i'].values"
   ]
  },
  {
   "cell_type": "code",
   "execution_count": 13,
   "metadata": {
    "execution": {
     "iopub.execute_input": "2022-04-10T21:27:24.052468Z",
     "iopub.status.busy": "2022-04-10T21:27:24.052217Z",
     "iopub.status.idle": "2022-04-10T21:27:24.054179Z",
     "shell.execute_reply": "2022-04-10T21:27:24.053842Z",
     "shell.execute_reply.started": "2022-04-10T21:27:24.052452Z"
    },
    "jupyter": {
     "source_hidden": true
    },
    "tags": []
   },
   "outputs": [],
   "source": [
    "# refsitenum = 5\n",
    "# data=getBoxesAround(refsitenum).values\n",
    "# res = bootstrap((data,), fun_iqr)\n",
    "# (np.array(res.standard_error)).mean()"
   ]
  },
  {
   "cell_type": "code",
   "execution_count": 14,
   "metadata": {
    "execution": {
     "iopub.execute_input": "2022-04-10T21:27:24.054937Z",
     "iopub.status.busy": "2022-04-10T21:27:24.054756Z",
     "iopub.status.idle": "2022-04-10T21:27:24.056703Z",
     "shell.execute_reply": "2022-04-10T21:27:24.056371Z",
     "shell.execute_reply.started": "2022-04-10T21:27:24.054921Z"
    },
    "jupyter": {
     "source_hidden": true
    },
    "tags": []
   },
   "outputs": [],
   "source": [
    "# refsitenum = 1\n",
    "# data=getBoxesAround(refsitenum).values\n",
    "# res = bootstrap((data,), np.mean)\n",
    "# (np.array(res.standard_error)).mean()"
   ]
  },
  {
   "cell_type": "code",
   "execution_count": 15,
   "metadata": {
    "execution": {
     "iopub.execute_input": "2022-04-10T21:27:24.057512Z",
     "iopub.status.busy": "2022-04-10T21:27:24.057299Z",
     "iopub.status.idle": "2022-04-10T21:27:24.059325Z",
     "shell.execute_reply": "2022-04-10T21:27:24.058995Z",
     "shell.execute_reply.started": "2022-04-10T21:27:24.057497Z"
    },
    "jupyter": {
     "source_hidden": true
    },
    "tags": []
   },
   "outputs": [],
   "source": [
    "# refsitenum = 1\n",
    "# ConstantTerm,Spun_sigs,Npun_sigs,Mdd_sigs,Aqp_sigs,Apr_sigs=initEmcee(refsitenum)\n",
    "# initial = np.array([7.75, 11.66, 1.39, 13.63, 18.99])\n",
    "# print(np.array(getBoxesAround(refsitenum).mean()))\n",
    "# model = set_metric('mean')\n",
    "# print('model output')\n",
    "# model(initial)"
   ]
  },
  {
   "cell_type": "markdown",
   "metadata": {
    "tags": []
   },
   "source": [
    "## Set Up Run"
   ]
  },
  {
   "cell_type": "code",
   "execution_count": 16,
   "metadata": {
    "execution": {
     "iopub.execute_input": "2022-04-10T21:27:24.060148Z",
     "iopub.status.busy": "2022-04-10T21:27:24.059941Z",
     "iopub.status.idle": "2022-04-10T21:27:24.062444Z",
     "shell.execute_reply": "2022-04-10T21:27:24.062109Z",
     "shell.execute_reply.started": "2022-04-10T21:27:24.060133Z"
    }
   },
   "outputs": [],
   "source": [
    "def fun_95th(sample,axis): #function for calculating 95th percentile range\n",
    "    result = np.quantile(sample, 0.975,axis) - np.quantile(sample, 0.025,axis) \n",
    "    return result"
   ]
  },
  {
   "cell_type": "code",
   "execution_count": 17,
   "metadata": {
    "execution": {
     "iopub.execute_input": "2022-04-10T21:27:24.063237Z",
     "iopub.status.busy": "2022-04-10T21:27:24.063031Z",
     "iopub.status.idle": "2022-04-10T21:27:24.065537Z",
     "shell.execute_reply": "2022-04-10T21:27:24.065202Z",
     "shell.execute_reply.started": "2022-04-10T21:27:24.063222Z"
    }
   },
   "outputs": [],
   "source": [
    "def fun_iqr(sample,axis): #function for calculating 95th percentile range\n",
    "    result = np.quantile(sample, 0.75,axis) - np.quantile(sample, 0.25,axis) \n",
    "    return result"
   ]
  },
  {
   "cell_type": "code",
   "execution_count": 18,
   "metadata": {
    "execution": {
     "iopub.execute_input": "2022-04-10T21:27:24.066374Z",
     "iopub.status.busy": "2022-04-10T21:27:24.066129Z",
     "iopub.status.idle": "2022-04-10T21:27:24.068463Z",
     "shell.execute_reply": "2022-04-10T21:27:24.068130Z",
     "shell.execute_reply.started": "2022-04-10T21:27:24.066358Z"
    }
   },
   "outputs": [],
   "source": [
    "def find_iqr(x):\n",
    "  return np.subtract(*np.percentile(x, [75, 25]))"
   ]
  },
  {
   "cell_type": "code",
   "execution_count": 19,
   "metadata": {
    "execution": {
     "iopub.execute_input": "2022-04-10T21:27:24.069332Z",
     "iopub.status.busy": "2022-04-10T21:27:24.069078Z",
     "iopub.status.idle": "2022-04-10T21:27:24.075289Z",
     "shell.execute_reply": "2022-04-10T21:27:24.074957Z",
     "shell.execute_reply.started": "2022-04-10T21:27:24.069316Z"
    }
   },
   "outputs": [],
   "source": [
    "def run_simulation(RefSiteNum,metric):\n",
    "    #theta_true = (E1_true, E2_true, E3_true,E4_true, E5_true)\n",
    "    if metric == '95th':\n",
    "        y_true = GBaround95th(RefSiteNum)\n",
    "        data = getBoxesAround(RefSiteNum).values\n",
    "        res = bootstrap((data,), fun_95th)\n",
    "        y_err = (np.array(res.standard_error)).mean()\n",
    "    elif metric == 'mean':\n",
    "        y_true = list(getBoxesAround(RefSiteNum).mean())\n",
    "        data = getBoxesAround(RefSiteNum).values\n",
    "        res = bootstrap((data,), np.mean)\n",
    "        y_err = (np.array(res.standard_error)).mean()\n",
    "    else:\n",
    "        y_true = GBaroundIQRs(RefSiteNum)\n",
    "        data = getBoxesAround(RefSiteNum).values\n",
    "        res = bootstrap((data,), fun_iqr)\n",
    "        y_err = (np.array(res.standard_error)).mean()\n",
    "\n",
    "    initial = np.array([7.75, 11.66, 1.39, 13.63, 18.99]) \n",
    "\n",
    "    ndim = len(initial)\n",
    "    # hyperparameter for jump size between guesses\n",
    "    step_size = 1e-5 \n",
    "    # number of chains to run simultaneously and their length\n",
    "    nwalkers = 50\n",
    "    niter = 1000\n",
    "\n",
    "    # setting initial guesses for all of the chains\n",
    "    p0 = [np.array(initial) + step_size * np.random.randn(ndim) for i in range(nwalkers)]\n",
    "\n",
    "    sampler = emcee.EnsembleSampler(nwalkers,ndim,lnprob, args=(y_true, y_err))\n",
    "    print(\"Running burn-in...\")\n",
    "    p0, _, _ = sampler.run_mcmc(p0, 500)\n",
    "    sampler.reset()\n",
    "\n",
    "    print(\"Running production...\")\n",
    "    pos, prob, state = sampler.run_mcmc(p0, niter)\n",
    "    return sampler"
   ]
  },
  {
   "cell_type": "code",
   "execution_count": 20,
   "metadata": {
    "execution": {
     "iopub.execute_input": "2022-04-10T21:27:24.076084Z",
     "iopub.status.busy": "2022-04-10T21:27:24.075871Z",
     "iopub.status.idle": "2022-04-10T21:27:24.081562Z",
     "shell.execute_reply": "2022-04-10T21:27:24.081223Z",
     "shell.execute_reply.started": "2022-04-10T21:27:24.076069Z"
    }
   },
   "outputs": [],
   "source": [
    "def run_simulation_error(RefSiteNum,metric,error):\n",
    "    #theta_true = (E1_true, E2_true, E3_true,E4_true, E5_true)\n",
    "    if metric == '95th':\n",
    "        y_true = GBaround95th(RefSiteNum)\n",
    "        y_err = error \n",
    "    elif metric == 'mean':\n",
    "        y_true = list(getBoxesAround(RefSiteNum).mean())\n",
    "        y_err =error\n",
    "    else:\n",
    "        y_true = GBaroundIQRs(RefSiteNum)\n",
    "        y_err = error\n",
    "\n",
    "    initial = np.array([7.75, 11.66, 1.39, 13.63, 18.99]) \n",
    "\n",
    "    ndim = len(initial)\n",
    "    # hyperparameter for jump size between guesses\n",
    "    step_size = 1e-5 \n",
    "    # number of chains to run simultaneously and their length\n",
    "    nwalkers = 50\n",
    "    niter = 1000\n",
    "\n",
    "    # setting initial guesses for all of the chains\n",
    "    p0 = [np.array(initial) + step_size * np.random.randn(ndim) for i in range(nwalkers)]\n",
    "\n",
    "    sampler = emcee.EnsembleSampler(nwalkers,ndim,lnprob, args=(y_true, y_err))\n",
    "    print(\"Running burn-in...\")\n",
    "    p0, _, _ = sampler.run_mcmc(p0, 500)\n",
    "    sampler.reset()\n",
    "\n",
    "    print(\"Running production...\")\n",
    "    pos, prob, state = sampler.run_mcmc(p0, niter)\n",
    "    return sampler"
   ]
  }
 ],
 "metadata": {
  "kernelspec": {
   "display_name": "Python 3.9.6 64-bit",
   "language": "python",
   "name": "python3"
  },
  "language_info": {
   "codemirror_mode": {
    "name": "ipython",
    "version": 3
   },
   "file_extension": ".py",
   "mimetype": "text/x-python",
   "name": "python",
   "nbconvert_exporter": "python",
   "pygments_lexer": "ipython3",
   "version": "3.9.6"
  },
  "vscode": {
   "interpreter": {
    "hash": "31f2aee4e71d21fbe5cf8b01ff0e069b9275f58929596ceb00d14d90e3e16cd6"
   }
  }
 },
 "nbformat": 4,
 "nbformat_minor": 4
}
