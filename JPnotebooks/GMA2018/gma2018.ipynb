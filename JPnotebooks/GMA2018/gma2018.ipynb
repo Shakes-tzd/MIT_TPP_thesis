{
 "cells": [
  {
   "cell_type": "code",
   "metadata": {
    "cell_id": "00001-9903a70f-32da-4314-b894-2150c2aef315",
    "deepnote_to_be_reexecuted": false,
    "source_hash": "acb7a871",
    "execution_start": 1660879871779,
    "execution_millis": 6720,
    "deepnote_cell_type": "code",
    "deepnote_cell_height": 423
   },
   "source": "import numpy as np\nimport pandas as pd\nimport matplotlib.pyplot as plt\nimport plotly.express as px\nimport seaborn as sns\nimport os\nfrom gamap_colormap import WhGrYlRd  # import the \"WhGrYlRd\" variable from my custom Python script\nimport matplotlib.pyplot as plt\nimport matplotlib as mpl\nfrom matplotlib.ticker import ScalarFormatter,AutoMinorLocator \nplt.style.use(\n    \"https://github.com/aeturrell/coding-for-economists/raw/main/plot_style.txt\"\n)\nmpl.rcParams.update({\"lines.linewidth\": 1.2})\n# Set max rows displayed for readability\npd.set_option(\"display.max_rows\", 8)\nimport warnings\nwarnings.filterwarnings(\"ignore\")\n\n",
   "execution_count": 1,
   "outputs": []
  },
  {
   "cell_type": "code",
   "source": "# os.chdir('/home/tzd/fs03/d1/tzd/Data_analysis/MIT_TPP_thesis/JPnotebooks/GMA2018')",
   "metadata": {
    "cell_id": "00002-5018a136-0cc0-4ace-b597-0ad6c6ea3dec",
    "deepnote_to_be_reexecuted": false,
    "source_hash": "81f4bcd9",
    "execution_start": 1660879878516,
    "execution_millis": 2940479,
    "deepnote_cell_type": "code",
    "deepnote_cell_height": 81
   },
   "execution_count": 2,
   "outputs": []
  },
  {
   "cell_type": "code",
   "metadata": {
    "cell_id": "00003-c7e2f8c0-9a1d-4796-b928-cf1164fdc00b",
    "deepnote_to_be_reexecuted": false,
    "source_hash": "f193b781",
    "execution_start": 1660879878529,
    "execution_millis": 2940439,
    "deepnote_cell_type": "code",
    "deepnote_cell_height": 202
   },
   "source": "GlobalHgInventry={\n'Fuel combustion':533,\n'Industry Sectors':614,\n'Intentional Use(including product waste)':239,\n'Artisanal and Small Scale Gold Mining':838,\n'Total':2220,\n'Total Lower':2000,\n'Total Upper':2820}",
   "execution_count": 3,
   "outputs": []
  },
  {
   "cell_type": "code",
   "metadata": {
    "cell_id": "00004-91b8ae03-2ab1-4a05-8162-0fe782df0f15",
    "deepnote_to_be_reexecuted": false,
    "source_hash": "cb894b86",
    "execution_start": 1660879878579,
    "execution_millis": 1,
    "deepnote_cell_type": "code",
    "deepnote_cell_height": 387
   },
   "source": "ASGM_perRegion={\n'Australia, New Zealand & Oceania':0.0,\n'Central America and the Caribbean':14.3,\n'CIS & other European countries':12.7,\n'East and Southeast Asia':214,\n'EU28':0.0,\n'Middle Eastern States':0.225,\n'North Africa':0.0,\n'North America':0.0,\n'South America':340,\n'South Asia':4.50,\n'Sub-Saharan Africa':252\n}\ndf_asgmPregion=pd.DataFrame([ASGM_perRegion])\ndf_asgmPregion=df_asgmPregion.T\ndf_asgmPregion=df_asgmPregion.sort_values(by=[0])\ndf_asgmPregion=df_asgmPregion.reset_index()\ndf_asgmPregion=df_asgmPregion.rename(columns={'index':'World Regions',0:\"ASGM Emission(t)\"})",
   "execution_count": 4,
   "outputs": []
  },
  {
   "cell_type": "code",
   "metadata": {
    "cell_id": "00005-7b9bb244-f490-48cf-8e68-be7271caee8d",
    "deepnote_to_be_reexecuted": false,
    "source_hash": "84dc9de9",
    "execution_start": 1660879878581,
    "execution_millis": 64,
    "deepnote_cell_type": "code",
    "deepnote_cell_height": 595
   },
   "source": "df_asgmPregion",
   "execution_count": 5,
   "outputs": [
    {
     "output_type": "execute_result",
     "execution_count": 5,
     "data": {
      "application/vnd.deepnote.dataframe.v3+json": {
       "column_count": 2,
       "row_count": 11,
       "columns": [
        {
         "name": "World Regions",
         "dtype": "object",
         "stats": {
          "unique_count": 11,
          "nan_count": 0,
          "categories": [
           {
            "name": "Australia, New Zealand & Oceania",
            "count": 1
           },
           {
            "name": "EU28",
            "count": 1
           },
           {
            "name": "9 others",
            "count": 9
           }
          ]
         }
        },
        {
         "name": "ASGM Emission(t)",
         "dtype": "float64",
         "stats": {
          "unique_count": 8,
          "nan_count": 0,
          "min": "0.0",
          "max": "340.0",
          "histogram": [
           {
            "bin_start": 0,
            "bin_end": 34,
            "count": 8
           },
           {
            "bin_start": 34,
            "bin_end": 68,
            "count": 0
           },
           {
            "bin_start": 68,
            "bin_end": 102,
            "count": 0
           },
           {
            "bin_start": 102,
            "bin_end": 136,
            "count": 0
           },
           {
            "bin_start": 136,
            "bin_end": 170,
            "count": 0
           },
           {
            "bin_start": 170,
            "bin_end": 204,
            "count": 0
           },
           {
            "bin_start": 204,
            "bin_end": 238,
            "count": 1
           },
           {
            "bin_start": 238,
            "bin_end": 272,
            "count": 1
           },
           {
            "bin_start": 272,
            "bin_end": 306,
            "count": 0
           },
           {
            "bin_start": 306,
            "bin_end": 340,
            "count": 1
           }
          ]
         }
        },
        {
         "name": "_deepnote_index_column",
         "dtype": "int64"
        }
       ],
       "rows": [
        {
         "World Regions": "Australia, New Zealand & Oceania",
         "ASGM Emission(t)": 0,
         "_deepnote_index_column": 0
        },
        {
         "World Regions": "EU28",
         "ASGM Emission(t)": 0,
         "_deepnote_index_column": 1
        },
        {
         "World Regions": "North Africa",
         "ASGM Emission(t)": 0,
         "_deepnote_index_column": 2
        },
        {
         "World Regions": "North America",
         "ASGM Emission(t)": 0,
         "_deepnote_index_column": 3
        },
        {
         "World Regions": "Middle Eastern States",
         "ASGM Emission(t)": 0.225,
         "_deepnote_index_column": 4
        },
        {
         "World Regions": "South Asia",
         "ASGM Emission(t)": 4.5,
         "_deepnote_index_column": 5
        },
        {
         "World Regions": "CIS & other European countries",
         "ASGM Emission(t)": 12.7,
         "_deepnote_index_column": 6
        },
        {
         "World Regions": "Central America and the Caribbean",
         "ASGM Emission(t)": 14.3,
         "_deepnote_index_column": 7
        },
        {
         "World Regions": "East and Southeast Asia",
         "ASGM Emission(t)": 214,
         "_deepnote_index_column": 8
        },
        {
         "World Regions": "Sub-Saharan Africa",
         "ASGM Emission(t)": 252,
         "_deepnote_index_column": 9
        }
       ]
      },
      "text/plain": "                        World Regions  ASGM Emission(t)\n0    Australia, New Zealand & Oceania               0.0\n1                                EU28               0.0\n2                        North Africa               0.0\n3                       North America               0.0\n..                                ...               ...\n7   Central America and the Caribbean              14.3\n8             East and Southeast Asia             214.0\n9                  Sub-Saharan Africa             252.0\n10                      South America             340.0\n\n[11 rows x 2 columns]",
      "text/html": "<div>\n<style scoped>\n    .dataframe tbody tr th:only-of-type {\n        vertical-align: middle;\n    }\n\n    .dataframe tbody tr th {\n        vertical-align: top;\n    }\n\n    .dataframe thead th {\n        text-align: right;\n    }\n</style>\n<table border=\"1\" class=\"dataframe\">\n  <thead>\n    <tr style=\"text-align: right;\">\n      <th></th>\n      <th>World Regions</th>\n      <th>ASGM Emission(t)</th>\n    </tr>\n  </thead>\n  <tbody>\n    <tr>\n      <th>0</th>\n      <td>Australia, New Zealand &amp; Oceania</td>\n      <td>0.0</td>\n    </tr>\n    <tr>\n      <th>1</th>\n      <td>EU28</td>\n      <td>0.0</td>\n    </tr>\n    <tr>\n      <th>2</th>\n      <td>North Africa</td>\n      <td>0.0</td>\n    </tr>\n    <tr>\n      <th>3</th>\n      <td>North America</td>\n      <td>0.0</td>\n    </tr>\n    <tr>\n      <th>...</th>\n      <td>...</td>\n      <td>...</td>\n    </tr>\n    <tr>\n      <th>7</th>\n      <td>Central America and the Caribbean</td>\n      <td>14.3</td>\n    </tr>\n    <tr>\n      <th>8</th>\n      <td>East and Southeast Asia</td>\n      <td>214.0</td>\n    </tr>\n    <tr>\n      <th>9</th>\n      <td>Sub-Saharan Africa</td>\n      <td>252.0</td>\n    </tr>\n    <tr>\n      <th>10</th>\n      <td>South America</td>\n      <td>340.0</td>\n    </tr>\n  </tbody>\n</table>\n<p>11 rows × 2 columns</p>\n</div>"
     },
     "metadata": {}
    }
   ]
  },
  {
   "cell_type": "code",
   "metadata": {
    "cell_id": "00006-eca6a363-2aa3-4aad-a175-0a3c42cfcef2",
    "deepnote_to_be_reexecuted": false,
    "source_hash": "201a1f63",
    "execution_start": 1660879878643,
    "execution_millis": 32,
    "deepnote_cell_type": "code",
    "deepnote_cell_height": 112.1875,
    "deepnote_output_heights": [
     20.1875
    ]
   },
   "source": "(214+252+340)/df_asgmPregion['ASGM Emission(t)'].sum()",
   "execution_count": 6,
   "outputs": [
    {
     "output_type": "execute_result",
     "execution_count": 6,
     "data": {
      "text/plain": "0.9621295771285326"
     },
     "metadata": {}
    }
   ]
  },
  {
   "cell_type": "code",
   "metadata": {
    "cell_id": "00007-fb58b597-1971-41cd-bf75-df07e88d0f39",
    "deepnote_to_be_reexecuted": false,
    "source_hash": "4dc253a3",
    "execution_start": 1660879878673,
    "execution_millis": 2200,
    "deepnote_cell_type": "code",
    "deepnote_cell_height": 927.0625,
    "deepnote_output_heights": [
     212.0625,
     389
    ]
   },
   "source": "\n\n# Make a barplot\nchart=sns.barplot(\n    x=\"World Regions\", \n    y=\"ASGM Emission(t)\", \n    data=df_asgmPregion, \n    color='#FFA500'\n);\n# Rotate tick labels\nchart.set_xticklabels(chart.get_xticklabels(), rotation=45,horizontalalignment='right')\n",
   "execution_count": 7,
   "outputs": [
    {
     "output_type": "execute_result",
     "execution_count": 7,
     "data": {
      "text/plain": "[Text(0, 0, 'Australia, New Zealand & Oceania'),\n Text(1, 0, 'EU28'),\n Text(2, 0, 'North Africa'),\n Text(3, 0, 'North America'),\n Text(4, 0, 'Middle Eastern States'),\n Text(5, 0, 'South Asia'),\n Text(6, 0, 'CIS & other European countries'),\n Text(7, 0, 'Central America and the Caribbean'),\n Text(8, 0, 'East and Southeast Asia'),\n Text(9, 0, 'Sub-Saharan Africa'),\n Text(10, 0, 'South America')]"
     },
     "metadata": {}
    },
    {
     "data": {
      "text/plain": "<Figure size 432x288 with 1 Axes>",
      "image/png": "[encoded data removed]"
     },
     "metadata": {
      "needs_background": "light",
      "image/png": {
       "width": 462,
       "height": 388
      }
     },
     "output_type": "display_data"
    }
   ]
  },
  {
   "cell_type": "code",
   "metadata": {
    "cell_id": "00008-e6b79741-d789-4540-b482-23a79b5586fe",
    "deepnote_to_be_reexecuted": false,
    "source_hash": "d2976386",
    "execution_start": 1660879880574,
    "execution_millis": 307,
    "deepnote_cell_type": "code",
    "deepnote_cell_height": 112.1875,
    "deepnote_output_heights": [
     20.1875
    ]
   },
   "source": "((8*1393.23)+(2*1432.90))",
   "execution_count": 8,
   "outputs": [
    {
     "output_type": "execute_result",
     "execution_count": 8,
     "data": {
      "text/plain": "14011.64"
     },
     "metadata": {}
    }
   ]
  },
  {
   "cell_type": "code",
   "metadata": {
    "cell_id": "00009-770bd7a3-d322-497a-811d-7b9506e91d9b",
    "deepnote_to_be_reexecuted": false,
    "source_hash": "7d4647a5",
    "execution_start": 1660879880586,
    "execution_millis": 3,
    "deepnote_cell_type": "code",
    "deepnote_cell_height": 513
   },
   "source": "# ASGM Artisanal and small-scale gold mining 679 838\n# BIO Biomass burning (domestic, industrial and power plant) 49.5 51.9\n# CEM Cement production (raw materials and fuel, excluding coal)a 187 233\n# CREM Cremation emissions 4.91 3.77\n# CSP Chlor-alkali production (mercury process) 21.0 15.2\n# NFMP Non-ferrous metal production (primary Al, Cu, Pb, Zn)a 151 228\n# NFMP-AU Large-scale gold production) 73.1 84.5\n# NFMP-HG Mercury production) 12.2 13.8\n# OR Oil refining 13.1 14.4\n# PISP Pig iron and steel production (primary)a 26.7 29.8\n# SC-DR-coal Stationary combustion of coal (domestic/residential, transportation) 54.4 55.8\n# SC-DR-gas Stationary combustion of gas (domestic/residential, transportation) 0.162 0.165\n# SC-DR-oil Stationary combustion of oil (domestic/residential, transportation) 2.63 2.70\n# SC-IND-coal Stationary combustion of coal (industrial) 123 126\n# SC-IND-gas Stationary combustion of gas (industrial) 0.115 0.123\n# SC-IND-oil Stationary combustion of oil (industrial) 3.05 1.40\n# SC-PP-coal Stationary combustion of coal (power plants) 268 292\n# SC-PP-gas Stationary combustion of gas (power plants) 0.319 0.349\n# SC-PP-oil Stationary combustion of oil (power plants) 2.58 2.44\n# SSC Secondary steel production 9.69 10.1\n# VCM Vinyl-chloride monomer (mercury catalyst) b 58.3\n# WASOTH Waste (other waste)c 115 147\n# WI Waste incineration (controlled burning)c 15.4 15.0\n# Total 1810 2220\n# a",
   "execution_count": 9,
   "outputs": []
  },
  {
   "cell_type": "code",
   "metadata": {
    "cell_id": "00010-5363322e-3051-4e90-a451-0e0714b3b01b",
    "deepnote_to_be_reexecuted": false,
    "source_hash": "cc2003b2",
    "execution_start": 1660879880592,
    "execution_millis": 304,
    "deepnote_cell_type": "code",
    "deepnote_cell_height": 613
   },
   "source": "ASGM_emissions=pd.read_csv('hgASGM.csv')\nASGM_emissions",
   "execution_count": 10,
   "outputs": [
    {
     "output_type": "execute_result",
     "execution_count": 10,
     "data": {
      "application/vnd.deepnote.dataframe.v3+json": {
       "column_count": 12,
       "row_count": 81,
       "columns": [
        {
         "name": "Country",
         "dtype": "object",
         "stats": {
          "unique_count": 80,
          "nan_count": 0,
          "categories": [
           {
            "name": "Zambia",
            "count": 2
           },
           {
            "name": "Bolivia",
            "count": 1
           },
           {
            "name": "78 others",
            "count": 78
           }
          ]
         }
        },
        {
         "name": "Quality of dataa",
         "dtype": "int64",
         "stats": {
          "unique_count": 4,
          "nan_count": 0,
          "min": "1",
          "max": "4",
          "histogram": [
           {
            "bin_start": 1,
            "bin_end": 1.3,
            "count": 29
           },
           {
            "bin_start": 1.3,
            "bin_end": 1.6,
            "count": 0
           },
           {
            "bin_start": 1.6,
            "bin_end": 1.9,
            "count": 0
           },
           {
            "bin_start": 1.9,
            "bin_end": 2.2,
            "count": 26
           },
           {
            "bin_start": 2.2,
            "bin_end": 2.5,
            "count": 0
           },
           {
            "bin_start": 2.5,
            "bin_end": 2.8,
            "count": 0
           },
           {
            "bin_start": 2.8,
            "bin_end": 3.1,
            "count": 20
           },
           {
            "bin_start": 3.1,
            "bin_end": 3.4,
            "count": 0
           },
           {
            "bin_start": 3.4,
            "bin_end": 3.6999999999999997,
            "count": 0
           },
           {
            "bin_start": 3.6999999999999997,
            "bin_end": 4,
            "count": 6
           }
          ]
         }
        },
        {
         "name": "± error, %",
         "dtype": "int64",
         "stats": {
          "unique_count": 4,
          "nan_count": 0,
          "min": "30",
          "max": "100",
          "histogram": [
           {
            "bin_start": 30,
            "bin_end": 37,
            "count": 5
           },
           {
            "bin_start": 37,
            "bin_end": 44,
            "count": 0
           },
           {
            "bin_start": 44,
            "bin_end": 51,
            "count": 21
           },
           {
            "bin_start": 51,
            "bin_end": 58,
            "count": 0
           },
           {
            "bin_start": 58,
            "bin_end": 65,
            "count": 0
           },
           {
            "bin_start": 65,
            "bin_end": 72,
            "count": 0
           },
           {
            "bin_start": 72,
            "bin_end": 79,
            "count": 26
           },
           {
            "bin_start": 79,
            "bin_end": 86,
            "count": 0
           },
           {
            "bin_start": 86,
            "bin_end": 93,
            "count": 0
           },
           {
            "bin_start": 93,
            "bin_end": 100,
            "count": 29
           }
          ]
         }
        },
        {
         "name": "min ",
         "dtype": "float64",
         "stats": {
          "unique_count": 36,
          "nan_count": 0,
          "min": "0.0",
          "max": "213.5",
          "histogram": [
           {
            "bin_start": 0,
            "bin_end": 21.35,
            "count": 70
           },
           {
            "bin_start": 21.35,
            "bin_end": 42.7,
            "count": 4
           },
           {
            "bin_start": 42.7,
            "bin_end": 64.05000000000001,
            "count": 3
           },
           {
            "bin_start": 64.05000000000001,
            "bin_end": 85.4,
            "count": 1
           },
           {
            "bin_start": 85.4,
            "bin_end": 106.75,
            "count": 1
           },
           {
            "bin_start": 106.75,
            "bin_end": 128.10000000000002,
            "count": 0
           },
           {
            "bin_start": 128.10000000000002,
            "bin_end": 149.45000000000002,
            "count": 0
           },
           {
            "bin_start": 149.45000000000002,
            "bin_end": 170.8,
            "count": 1
           },
           {
            "bin_start": 170.8,
            "bin_end": 192.15,
            "count": 0
           },
           {
            "bin_start": 192.15,
            "bin_end": 213.5,
            "count": 1
           }
          ]
         }
        },
        {
         "name": "mean",
         "dtype": "float64",
         "stats": {
          "unique_count": 33,
          "nan_count": 0,
          "min": "0.0",
          "max": "427.0",
          "histogram": [
           {
            "bin_start": 0,
            "bin_end": 42.7,
            "count": 69
           },
           {
            "bin_start": 42.7,
            "bin_end": 85.4,
            "count": 5
           },
           {
            "bin_start": 85.4,
            "bin_end": 128.10000000000002,
            "count": 4
           },
           {
            "bin_start": 128.10000000000002,
            "bin_end": 170.8,
            "count": 0
           },
           {
            "bin_start": 170.8,
            "bin_end": 213.5,
            "count": 1
           },
           {
            "bin_start": 213.5,
            "bin_end": 256.20000000000005,
            "count": 0
           },
           {
            "bin_start": 256.20000000000005,
            "bin_end": 298.90000000000003,
            "count": 0
           },
           {
            "bin_start": 298.90000000000003,
            "bin_end": 341.6,
            "count": 1
           },
           {
            "bin_start": 341.6,
            "bin_end": 384.3,
            "count": 0
           },
           {
            "bin_start": 384.3,
            "bin_end": 427,
            "count": 1
           }
          ]
         }
        },
        {
         "name": "max",
         "dtype": "float64",
         "stats": {
          "unique_count": 39,
          "nan_count": 0,
          "min": "0.0",
          "max": "640.5",
          "histogram": [
           {
            "bin_start": 0,
            "bin_end": 64.05,
            "count": 69
           },
           {
            "bin_start": 64.05,
            "bin_end": 128.1,
            "count": 4
           },
           {
            "bin_start": 128.1,
            "bin_end": 192.14999999999998,
            "count": 5
           },
           {
            "bin_start": 192.14999999999998,
            "bin_end": 256.2,
            "count": 0
           },
           {
            "bin_start": 256.2,
            "bin_end": 320.25,
            "count": 1
           },
           {
            "bin_start": 320.25,
            "bin_end": 384.29999999999995,
            "count": 0
           },
           {
            "bin_start": 384.29999999999995,
            "bin_end": 448.34999999999997,
            "count": 0
           },
           {
            "bin_start": 448.34999999999997,
            "bin_end": 512.4,
            "count": 1
           },
           {
            "bin_start": 512.4,
            "bin_end": 576.4499999999999,
            "count": 0
           },
           {
            "bin_start": 576.4499999999999,
            "bin_end": 640.5,
            "count": 1
           }
          ]
         }
        },
        {
         "name": "Percentage of total Hg\napplied in concentrate\namalgamation, %CA",
         "dtype": "float64",
         "stats": {
          "unique_count": 7,
          "nan_count": 0,
          "min": "0.0",
          "max": "100.0",
          "histogram": [
           {
            "bin_start": 0,
            "bin_end": 10,
            "count": 3
           },
           {
            "bin_start": 10,
            "bin_end": 20,
            "count": 2
           },
           {
            "bin_start": 20,
            "bin_end": 30,
            "count": 7
           },
           {
            "bin_start": 30,
            "bin_end": 40,
            "count": 0
           },
           {
            "bin_start": 40,
            "bin_end": 50,
            "count": 0
           },
           {
            "bin_start": 50,
            "bin_end": 60,
            "count": 16
           },
           {
            "bin_start": 60,
            "bin_end": 70,
            "count": 0
           },
           {
            "bin_start": 70,
            "bin_end": 80,
            "count": 0
           },
           {
            "bin_start": 80,
            "bin_end": 90,
            "count": 0
           },
           {
            "bin_start": 90,
            "bin_end": 100,
            "count": 53
           }
          ]
         }
        },
        {
         "name": "Percentage of total Hg applied in whole ore amalgamation, %WOA",
         "dtype": "float64",
         "stats": {
          "unique_count": 7,
          "nan_count": 0,
          "min": "0.0",
          "max": "100.0",
          "histogram": [
           {
            "bin_start": 0,
            "bin_end": 10,
            "count": 54
           },
           {
            "bin_start": 10,
            "bin_end": 20,
            "count": 0
           },
           {
            "bin_start": 20,
            "bin_end": 30,
            "count": 0
           },
           {
            "bin_start": 30,
            "bin_end": 40,
            "count": 0
           },
           {
            "bin_start": 40,
            "bin_end": 50,
            "count": 0
           },
           {
            "bin_start": 50,
            "bin_end": 60,
            "count": 16
           },
           {
            "bin_start": 60,
            "bin_end": 70,
            "count": 0
           },
           {
            "bin_start": 70,
            "bin_end": 80,
            "count": 5
           },
           {
            "bin_start": 80,
            "bin_end": 90,
            "count": 4
           },
           {
            "bin_start": 90,
            "bin_end": 100,
            "count": 2
           }
          ]
         }
        },
        {
         "name": "Emission Factor, EF EFCA=75% (1/1.3) EFWOA= 20% (1/5)",
         "dtype": "float64",
         "stats": {
          "unique_count": 8,
          "nan_count": 0,
          "min": "0.0",
          "max": "0.75",
          "histogram": [
           {
            "bin_start": 0,
            "bin_end": 0.075,
            "count": 1
           },
           {
            "bin_start": 0.075,
            "bin_end": 0.15,
            "count": 0
           },
           {
            "bin_start": 0.15,
            "bin_end": 0.22499999999999998,
            "count": 1
           },
           {
            "bin_start": 0.22499999999999998,
            "bin_end": 0.3,
            "count": 3
           },
           {
            "bin_start": 0.3,
            "bin_end": 0.375,
            "count": 7
           },
           {
            "bin_start": 0.375,
            "bin_end": 0.44999999999999996,
            "count": 0
           },
           {
            "bin_start": 0.44999999999999996,
            "bin_end": 0.525,
            "count": 16
           },
           {
            "bin_start": 0.525,
            "bin_end": 0.6,
            "count": 0
           },
           {
            "bin_start": 0.6,
            "bin_end": 0.6749999999999999,
            "count": 0
           },
           {
            "bin_start": 0.6749999999999999,
            "bin_end": 0.75,
            "count": 53
           }
          ]
         }
        },
        {
         "name": "Year of most\nrecent data",
         "dtype": "float64",
         "stats": {
          "unique_count": 23,
          "nan_count": 3,
          "min": "1992.0",
          "max": "2017.0",
          "histogram": [
           {
            "bin_start": 1992,
            "bin_end": 1994.5,
            "count": 2
           },
           {
            "bin_start": 1994.5,
            "bin_end": 1997,
            "count": 2
           },
           {
            "bin_start": 1997,
            "bin_end": 1999.5,
            "count": 5
           },
           {
            "bin_start": 1999.5,
            "bin_end": 2002,
            "count": 5
           },
           {
            "bin_start": 2002,
            "bin_end": 2004.5,
            "count": 8
           },
           {
            "bin_start": 2004.5,
            "bin_end": 2007,
            "count": 2
           },
           {
            "bin_start": 2007,
            "bin_end": 2009.5,
            "count": 9
           },
           {
            "bin_start": 2009.5,
            "bin_end": 2012,
            "count": 15
           },
           {
            "bin_start": 2012,
            "bin_end": 2014.5,
            "count": 8
           },
           {
            "bin_start": 2014.5,
            "bin_end": 2017,
            "count": 22
           }
          ]
         }
        },
        {
         "name": "Mean air emission, t",
         "dtype": "float64",
         "stats": {
          "unique_count": 37,
          "nan_count": 0,
          "min": "0.0",
          "max": "124.5",
          "histogram": [
           {
            "bin_start": 0,
            "bin_end": 12.45,
            "count": 65
           },
           {
            "bin_start": 12.45,
            "bin_end": 24.9,
            "count": 4
           },
           {
            "bin_start": 24.9,
            "bin_end": 37.349999999999994,
            "count": 5
           },
           {
            "bin_start": 37.349999999999994,
            "bin_end": 49.8,
            "count": 2
           },
           {
            "bin_start": 49.8,
            "bin_end": 62.25,
            "count": 2
           },
           {
            "bin_start": 62.25,
            "bin_end": 74.69999999999999,
            "count": 1
           },
           {
            "bin_start": 74.69999999999999,
            "bin_end": 87.14999999999999,
            "count": 0
           },
           {
            "bin_start": 87.14999999999999,
            "bin_end": 99.6,
            "count": 0
           },
           {
            "bin_start": 99.6,
            "bin_end": 112.05,
            "count": 1
           },
           {
            "bin_start": 112.05,
            "bin_end": 124.5,
            "count": 1
           }
          ]
         }
        },
        {
         "name": "Release to\nwater and\nland, t",
         "dtype": "float64",
         "stats": {
          "unique_count": 36,
          "nan_count": 0,
          "min": "0.0",
          "max": "302.5",
          "histogram": [
           {
            "bin_start": 0,
            "bin_end": 30.25,
            "count": 71
           },
           {
            "bin_start": 30.25,
            "bin_end": 60.5,
            "count": 4
           },
           {
            "bin_start": 60.5,
            "bin_end": 90.75,
            "count": 3
           },
           {
            "bin_start": 90.75,
            "bin_end": 121,
            "count": 0
           },
           {
            "bin_start": 121,
            "bin_end": 151.25,
            "count": 1
           },
           {
            "bin_start": 151.25,
            "bin_end": 181.5,
            "count": 0
           },
           {
            "bin_start": 181.5,
            "bin_end": 211.75,
            "count": 0
           },
           {
            "bin_start": 211.75,
            "bin_end": 242,
            "count": 1
           },
           {
            "bin_start": 242,
            "bin_end": 272.25,
            "count": 0
           },
           {
            "bin_start": 272.25,
            "bin_end": 302.5,
            "count": 1
           }
          ]
         }
        },
        {
         "name": "_deepnote_index_column",
         "dtype": "int64"
        }
       ],
       "rows": [
        {
         "Country": "Bolivia",
         "Quality of dataa": 4,
         "± error, %": 30,
         "min ": 84,
         "mean": 120,
         "max": 156,
         "Percentage of total Hg\napplied in concentrate\namalgamation, %CA": 25,
         "Percentage of total Hg applied in whole ore amalgamation, %WOA": 75,
         "Emission Factor, EF EFCA=75% (1/1.3) EFWOA= 20% (1/5)": 0.34,
         "Year of most\nrecent data": 2012,
         "Mean air emission, t": 40.5,
         "Release to\nwater and\nland, t": 79.5,
         "_deepnote_index_column": 0
        },
        {
         "Country": "Guinea",
         "Quality of dataa": 4,
         "± error, %": 30,
         "min ": 13.4,
         "mean": 19.1,
         "max": 24.8,
         "Percentage of total Hg\napplied in concentrate\namalgamation, %CA": 100,
         "Percentage of total Hg applied in whole ore amalgamation, %WOA": 0,
         "Emission Factor, EF EFCA=75% (1/1.3) EFWOA= 20% (1/5)": 0.75,
         "Year of most\nrecent data": 2017,
         "Mean air emission, t": 14.3,
         "Release to\nwater and\nland, t": 4.8,
         "_deepnote_index_column": 1
        },
        {
         "Country": "Nicaragua",
         "Quality of dataa": 4,
         "± error, %": 30,
         "min ": 2.5,
         "mean": 3.5,
         "max": 4.6,
         "Percentage of total Hg\napplied in concentrate\namalgamation, %CA": 0,
         "Percentage of total Hg applied in whole ore amalgamation, %WOA": 100,
         "Emission Factor, EF EFCA=75% (1/1.3) EFWOA= 20% (1/5)": 0.2,
         "Year of most\nrecent data": 1999,
         "Mean air emission, t": 0.7,
         "Release to\nwater and\nland, t": 2.8,
         "_deepnote_index_column": 2
        },
        {
         "Country": "Peru",
         "Quality of dataa": 4,
         "± error, %": 50,
         "min ": 163.5,
         "mean": 327,
         "max": 490.5,
         "Percentage of total Hg\napplied in concentrate\namalgamation, %CA": 25,
         "Percentage of total Hg applied in whole ore amalgamation, %WOA": 75,
         "Emission Factor, EF EFCA=75% (1/1.3) EFWOA= 20% (1/5)": 0.34,
         "Year of most\nrecent data": 2017,
         "Mean air emission, t": 110.4,
         "Release to\nwater and\nland, t": 216.6,
         "_deepnote_index_column": 3
        },
        {
         "Country": "Senegal",
         "Quality of dataa": 4,
         "± error, %": 30,
         "min ": 2.1,
         "mean": 3,
         "max": 3.9,
         "Percentage of total Hg\napplied in concentrate\namalgamation, %CA": 100,
         "Percentage of total Hg applied in whole ore amalgamation, %WOA": 0,
         "Emission Factor, EF EFCA=75% (1/1.3) EFWOA= 20% (1/5)": 0.75,
         "Year of most\nrecent data": 2015,
         "Mean air emission, t": 2.3,
         "Release to\nwater and\nland, t": 0.8,
         "_deepnote_index_column": 4
        },
        {
         "Country": "Suriname",
         "Quality of dataa": 4,
         "± error, %": 30,
         "min ": 44.1,
         "mean": 63,
         "max": 81.9,
         "Percentage of total Hg\napplied in concentrate\namalgamation, %CA": 5,
         "Percentage of total Hg applied in whole ore amalgamation, %WOA": 95,
         "Emission Factor, EF EFCA=75% (1/1.3) EFWOA= 20% (1/5)": 0.23,
         "Year of most\nrecent data": 2016,
         "Mean air emission, t": 14.3,
         "Release to\nwater and\nland, t": 48.7,
         "_deepnote_index_column": 5
        },
        {
         "Country": "Brazil",
         "Quality of dataa": 3,
         "± error, %": 50,
         "min ": 52.5,
         "mean": 105,
         "max": 157.5,
         "Percentage of total Hg\napplied in concentrate\namalgamation, %CA": 50,
         "Percentage of total Hg applied in whole ore amalgamation, %WOA": 50,
         "Emission Factor, EF EFCA=75% (1/1.3) EFWOA= 20% (1/5)": 0.48,
         "Year of most\nrecent data": 2015,
         "Mean air emission, t": 49.9,
         "Release to\nwater and\nland, t": 55.1,
         "_deepnote_index_column": 6
        },
        {
         "Country": "Burkina Faso",
         "Quality of dataa": 3,
         "± error, %": 50,
         "min ": 17.6,
         "mean": 35.1,
         "max": 52.7,
         "Percentage of total Hg\napplied in concentrate\namalgamation, %CA": 100,
         "Percentage of total Hg applied in whole ore amalgamation, %WOA": 0,
         "Emission Factor, EF EFCA=75% (1/1.3) EFWOA= 20% (1/5)": 0.75,
         "Year of most\nrecent data": 2011,
         "Mean air emission, t": 26.3,
         "Release to\nwater and\nland, t": 8.8,
         "_deepnote_index_column": 7
        },
        {
         "Country": "Cambodia",
         "Quality of dataa": 3,
         "± error, %": 50,
         "min ": 3.8,
         "mean": 7.5,
         "max": 11.3,
         "Percentage of total Hg\napplied in concentrate\namalgamation, %CA": 50,
         "Percentage of total Hg applied in whole ore amalgamation, %WOA": 50,
         "Emission Factor, EF EFCA=75% (1/1.3) EFWOA= 20% (1/5)": 0.48,
         "Year of most\nrecent data": 2006,
         "Mean air emission, t": 3.6,
         "Release to\nwater and\nland, t": 3.9,
         "_deepnote_index_column": 8
        },
        {
         "Country": "Colombia",
         "Quality of dataa": 3,
         "± error, %": 50,
         "min ": 87.5,
         "mean": 175,
         "max": 262.5,
         "Percentage of total Hg\napplied in concentrate\namalgamation, %CA": 16.7,
         "Percentage of total Hg applied in whole ore amalgamation, %WOA": 83.3,
         "Emission Factor, EF EFCA=75% (1/1.3) EFWOA= 20% (1/5)": 0.29,
         "Year of most\nrecent data": 2014,
         "Mean air emission, t": 51,
         "Release to\nwater and\nland, t": 124,
         "_deepnote_index_column": 9
        }
       ]
      },
      "text/plain": "       Country  Quality of dataa  ± error, %   min    mean    max  \\\n0      Bolivia                 4          30   84.0  120.0  156.0   \n1       Guinea                 4          30   13.4   19.1   24.8   \n2    Nicaragua                 4          30    2.5    3.5    4.6   \n3         Peru                 4          50  163.5  327.0  490.5   \n..         ...               ...         ...    ...    ...    ...   \n77     Ukraine                 1         100    0.1    0.3    0.5   \n78  Uzbekistan                 1         100    0.1    0.3    0.5   \n79      Zambia                 1         100    0.1    0.3    0.5   \n80      Zambia                 1         100    0.1    0.3    0.5   \n\n    Percentage of total Hg\\napplied in concentrate\\namalgamation, %CA  \\\n0                                                25.0                   \n1                                               100.0                   \n2                                                 0.0                   \n3                                                25.0                   \n..                                                ...                   \n77                                              100.0                   \n78                                              100.0                   \n79                                              100.0                   \n80                                              100.0                   \n\n    Percentage of total Hg applied in whole ore amalgamation, %WOA  \\\n0                                                75.0                \n1                                                 0.0                \n2                                               100.0                \n3                                                75.0                \n..                                                ...                \n77                                                0.0                \n78                                                0.0                \n79                                                0.0                \n80                                                0.0                \n\n    Emission Factor, EF EFCA=75% (1/1.3) EFWOA= 20% (1/5)  \\\n0                                                0.34       \n1                                                0.75       \n2                                                0.20       \n3                                                0.34       \n..                                                ...       \n77                                               0.75       \n78                                               0.75       \n79                                               0.75       \n80                                               0.75       \n\n    Year of most\\nrecent data  Mean air emission, t  \\\n0                      2012.0                  40.5   \n1                      2017.0                  14.3   \n2                      1999.0                   0.7   \n3                      2017.0                 110.4   \n..                        ...                   ...   \n77                        NaN                   0.2   \n78                     2001.0                   0.2   \n79                     2008.0                   0.2   \n80                     2008.0                   0.2   \n\n    Release to\\nwater and\\nland, t  \n0                             79.5  \n1                              4.8  \n2                              2.8  \n3                            216.6  \n..                             ...  \n77                             0.1  \n78                             0.1  \n79                             0.1  \n80                             0.1  \n\n[81 rows x 12 columns]",
      "text/html": "<div>\n<style scoped>\n    .dataframe tbody tr th:only-of-type {\n        vertical-align: middle;\n    }\n\n    .dataframe tbody tr th {\n        vertical-align: top;\n    }\n\n    .dataframe thead th {\n        text-align: right;\n    }\n</style>\n<table border=\"1\" class=\"dataframe\">\n  <thead>\n    <tr style=\"text-align: right;\">\n      <th></th>\n      <th>Country</th>\n      <th>Quality of dataa</th>\n      <th>± error, %</th>\n      <th>min</th>\n      <th>mean</th>\n      <th>max</th>\n      <th>Percentage of total Hg\\napplied in concentrate\\namalgamation, %CA</th>\n      <th>Percentage of total Hg applied in whole ore amalgamation, %WOA</th>\n      <th>Emission Factor, EF EFCA=75% (1/1.3) EFWOA= 20% (1/5)</th>\n      <th>Year of most\\nrecent data</th>\n      <th>Mean air emission, t</th>\n      <th>Release to\\nwater and\\nland, t</th>\n    </tr>\n  </thead>\n  <tbody>\n    <tr>\n      <th>0</th>\n      <td>Bolivia</td>\n      <td>4</td>\n      <td>30</td>\n      <td>84.0</td>\n      <td>120.0</td>\n      <td>156.0</td>\n      <td>25.0</td>\n      <td>75.0</td>\n      <td>0.34</td>\n      <td>2012.0</td>\n      <td>40.5</td>\n      <td>79.5</td>\n    </tr>\n    <tr>\n      <th>1</th>\n      <td>Guinea</td>\n      <td>4</td>\n      <td>30</td>\n      <td>13.4</td>\n      <td>19.1</td>\n      <td>24.8</td>\n      <td>100.0</td>\n      <td>0.0</td>\n      <td>0.75</td>\n      <td>2017.0</td>\n      <td>14.3</td>\n      <td>4.8</td>\n    </tr>\n    <tr>\n      <th>2</th>\n      <td>Nicaragua</td>\n      <td>4</td>\n      <td>30</td>\n      <td>2.5</td>\n      <td>3.5</td>\n      <td>4.6</td>\n      <td>0.0</td>\n      <td>100.0</td>\n      <td>0.20</td>\n      <td>1999.0</td>\n      <td>0.7</td>\n      <td>2.8</td>\n    </tr>\n    <tr>\n      <th>3</th>\n      <td>Peru</td>\n      <td>4</td>\n      <td>50</td>\n      <td>163.5</td>\n      <td>327.0</td>\n      <td>490.5</td>\n      <td>25.0</td>\n      <td>75.0</td>\n      <td>0.34</td>\n      <td>2017.0</td>\n      <td>110.4</td>\n      <td>216.6</td>\n    </tr>\n    <tr>\n      <th>...</th>\n      <td>...</td>\n      <td>...</td>\n      <td>...</td>\n      <td>...</td>\n      <td>...</td>\n      <td>...</td>\n      <td>...</td>\n      <td>...</td>\n      <td>...</td>\n      <td>...</td>\n      <td>...</td>\n      <td>...</td>\n    </tr>\n    <tr>\n      <th>77</th>\n      <td>Ukraine</td>\n      <td>1</td>\n      <td>100</td>\n      <td>0.1</td>\n      <td>0.3</td>\n      <td>0.5</td>\n      <td>100.0</td>\n      <td>0.0</td>\n      <td>0.75</td>\n      <td>NaN</td>\n      <td>0.2</td>\n      <td>0.1</td>\n    </tr>\n    <tr>\n      <th>78</th>\n      <td>Uzbekistan</td>\n      <td>1</td>\n      <td>100</td>\n      <td>0.1</td>\n      <td>0.3</td>\n      <td>0.5</td>\n      <td>100.0</td>\n      <td>0.0</td>\n      <td>0.75</td>\n      <td>2001.0</td>\n      <td>0.2</td>\n      <td>0.1</td>\n    </tr>\n    <tr>\n      <th>79</th>\n      <td>Zambia</td>\n      <td>1</td>\n      <td>100</td>\n      <td>0.1</td>\n      <td>0.3</td>\n      <td>0.5</td>\n      <td>100.0</td>\n      <td>0.0</td>\n      <td>0.75</td>\n      <td>2008.0</td>\n      <td>0.2</td>\n      <td>0.1</td>\n    </tr>\n    <tr>\n      <th>80</th>\n      <td>Zambia</td>\n      <td>1</td>\n      <td>100</td>\n      <td>0.1</td>\n      <td>0.3</td>\n      <td>0.5</td>\n      <td>100.0</td>\n      <td>0.0</td>\n      <td>0.75</td>\n      <td>2008.0</td>\n      <td>0.2</td>\n      <td>0.1</td>\n    </tr>\n  </tbody>\n</table>\n<p>81 rows × 12 columns</p>\n</div>"
     },
     "metadata": {}
    }
   ]
  },
  {
   "cell_type": "code",
   "metadata": {
    "cell_id": "00011-e6abb0cc-a62b-4a4c-80f1-3c57a6ede993",
    "deepnote_to_be_reexecuted": false,
    "source_hash": "b06b303c",
    "execution_start": 1660879880726,
    "execution_millis": 179,
    "deepnote_cell_type": "code",
    "deepnote_cell_height": 347.25
   },
   "source": "air_emissions=pd.DataFrame(ASGM_emissions['Country'])\nprint(air_emissions)",
   "execution_count": 11,
   "outputs": [
    {
     "name": "stdout",
     "text": "       Country\n0      Bolivia\n1       Guinea\n2    Nicaragua\n3         Peru\n..         ...\n77     Ukraine\n78  Uzbekistan\n79      Zambia\n80      Zambia\n\n[81 rows x 1 columns]\n",
     "output_type": "stream"
    }
   ]
  },
  {
   "cell_type": "code",
   "metadata": {
    "cell_id": "00012-b8ad33ed-6db7-4239-8384-635e45f1343f",
    "deepnote_to_be_reexecuted": false,
    "source_hash": "272f8c4e",
    "execution_start": 1660879880779,
    "execution_millis": 138,
    "deepnote_cell_type": "code",
    "deepnote_cell_height": 714
   },
   "source": "for country in air_emissions['Country']:\n    print(country)",
   "execution_count": 12,
   "outputs": [
    {
     "name": "stdout",
     "text": "Bolivia\nGuinea\nNicaragua\nPeru\nSenegal\nSuriname\nBrazil\nBurkina Faso\nCambodia\nColombia\nEcuador\nFrench Guiana\nGhana\nGuyana\nHonduras\nIndia\nIndonesia\nLao Peoples Democratic Republic\nMali\nMongolia\nMozambique\nNigeria\nPhilippines\nSierra Leone\nVenezuela\nZimbabwe\nBotswana\nCameroon\nCentral African Republic\nChile\nChina\nCongo\nDemocratic Republic of Congo\nGuatemala\nKenya\nKyrgyzstan\nMadagascar\nMalaysia\nMexico\nMyanmar\nPanama\nPapua New Guinea\nRussia\nSouth Africa\nSouth Sudan\nSudan\nTajikistan\nTanzania\nThailand\nTogo\nUganda\nVietnam\nAngola\nAzerbaijan\nBenin\nBurundi\nChad\nCosta Rica\nCote d'Ivoire\nDominican Rep.\nEl Salvador\nEquitorial Guinea\nEritrea\nEthiopia\nGabon\nGambia\nGuinea-Bissau\nIran\nKazakhstan\nLesotho\nLiberia\nMalawi\nMauritania\nNiger\nParaguay\nRwanda\nSwaziland\nUkraine\nUzbekistan\nZambia\nZambia\n",
     "output_type": "stream"
    }
   ]
  },
  {
   "cell_type": "code",
   "metadata": {
    "cell_id": "00013-7df5f5e5-56a1-4f77-b3b8-4cb0c157974f",
    "deepnote_to_be_reexecuted": false,
    "source_hash": "490efc51",
    "execution_start": 1660879880780,
    "execution_millis": 0,
    "deepnote_cell_type": "code",
    "deepnote_cell_height": 76
   },
   "source": "air_emissions['Emissions, t']=ASGM_emissions['Mean air emission, t']",
   "execution_count": 13,
   "outputs": []
  },
  {
   "cell_type": "code",
   "metadata": {
    "cell_id": "00014-82c27b22-ea19-4f8c-9ddb-a12d2c8855d0",
    "deepnote_to_be_reexecuted": false,
    "source_hash": "864c063d",
    "execution_start": 1660879880780,
    "execution_millis": 2942082,
    "deepnote_cell_type": "code",
    "deepnote_cell_height": 76
   },
   "source": "air_emissions.drop(index=45,inplace=True)",
   "execution_count": 14,
   "outputs": []
  },
  {
   "cell_type": "code",
   "metadata": {
    "cell_id": "00015-500cdf1f-b878-408a-a145-8bdf1b98290f",
    "deepnote_to_be_reexecuted": false,
    "source_hash": "88009a35",
    "execution_start": 1660879880782,
    "execution_millis": 136,
    "deepnote_cell_type": "code",
    "deepnote_cell_height": 595
   },
   "source": "air_emissions",
   "execution_count": 15,
   "outputs": [
    {
     "output_type": "execute_result",
     "execution_count": 15,
     "data": {
      "application/vnd.deepnote.dataframe.v3+json": {
       "column_count": 2,
       "row_count": 80,
       "columns": [
        {
         "name": "Country",
         "dtype": "object",
         "stats": {
          "unique_count": 79,
          "nan_count": 0,
          "categories": [
           {
            "name": "Zambia",
            "count": 2
           },
           {
            "name": "Bolivia",
            "count": 1
           },
           {
            "name": "77 others",
            "count": 77
           }
          ]
         }
        },
        {
         "name": "Emissions, t",
         "dtype": "float64",
         "stats": {
          "unique_count": 36,
          "nan_count": 0,
          "min": "0.0",
          "max": "124.5",
          "histogram": [
           {
            "bin_start": 0,
            "bin_end": 12.45,
            "count": 65
           },
           {
            "bin_start": 12.45,
            "bin_end": 24.9,
            "count": 4
           },
           {
            "bin_start": 24.9,
            "bin_end": 37.349999999999994,
            "count": 5
           },
           {
            "bin_start": 37.349999999999994,
            "bin_end": 49.8,
            "count": 2
           },
           {
            "bin_start": 49.8,
            "bin_end": 62.25,
            "count": 2
           },
           {
            "bin_start": 62.25,
            "bin_end": 74.69999999999999,
            "count": 0
           },
           {
            "bin_start": 74.69999999999999,
            "bin_end": 87.14999999999999,
            "count": 0
           },
           {
            "bin_start": 87.14999999999999,
            "bin_end": 99.6,
            "count": 0
           },
           {
            "bin_start": 99.6,
            "bin_end": 112.05,
            "count": 1
           },
           {
            "bin_start": 112.05,
            "bin_end": 124.5,
            "count": 1
           }
          ]
         }
        },
        {
         "name": "_deepnote_index_column",
         "dtype": "int64"
        }
       ],
       "rows": [
        {
         "Country": "Bolivia",
         "Emissions, t": 40.5,
         "_deepnote_index_column": 0
        },
        {
         "Country": "Guinea",
         "Emissions, t": 14.3,
         "_deepnote_index_column": 1
        },
        {
         "Country": "Nicaragua",
         "Emissions, t": 0.7,
         "_deepnote_index_column": 2
        },
        {
         "Country": "Peru",
         "Emissions, t": 110.4,
         "_deepnote_index_column": 3
        },
        {
         "Country": "Senegal",
         "Emissions, t": 2.3,
         "_deepnote_index_column": 4
        },
        {
         "Country": "Suriname",
         "Emissions, t": 14.3,
         "_deepnote_index_column": 5
        },
        {
         "Country": "Brazil",
         "Emissions, t": 49.9,
         "_deepnote_index_column": 6
        },
        {
         "Country": "Burkina Faso",
         "Emissions, t": 26.3,
         "_deepnote_index_column": 7
        },
        {
         "Country": "Cambodia",
         "Emissions, t": 3.6,
         "_deepnote_index_column": 8
        },
        {
         "Country": "Colombia",
         "Emissions, t": 51,
         "_deepnote_index_column": 9
        }
       ]
      },
      "text/plain": "       Country  Emissions, t\n0      Bolivia          40.5\n1       Guinea          14.3\n2    Nicaragua           0.7\n3         Peru         110.4\n..         ...           ...\n77     Ukraine           0.2\n78  Uzbekistan           0.2\n79      Zambia           0.2\n80      Zambia           0.2\n\n[80 rows x 2 columns]",
      "text/html": "<div>\n<style scoped>\n    .dataframe tbody tr th:only-of-type {\n        vertical-align: middle;\n    }\n\n    .dataframe tbody tr th {\n        vertical-align: top;\n    }\n\n    .dataframe thead th {\n        text-align: right;\n    }\n</style>\n<table border=\"1\" class=\"dataframe\">\n  <thead>\n    <tr style=\"text-align: right;\">\n      <th></th>\n      <th>Country</th>\n      <th>Emissions, t</th>\n    </tr>\n  </thead>\n  <tbody>\n    <tr>\n      <th>0</th>\n      <td>Bolivia</td>\n      <td>40.5</td>\n    </tr>\n    <tr>\n      <th>1</th>\n      <td>Guinea</td>\n      <td>14.3</td>\n    </tr>\n    <tr>\n      <th>2</th>\n      <td>Nicaragua</td>\n      <td>0.7</td>\n    </tr>\n    <tr>\n      <th>3</th>\n      <td>Peru</td>\n      <td>110.4</td>\n    </tr>\n    <tr>\n      <th>...</th>\n      <td>...</td>\n      <td>...</td>\n    </tr>\n    <tr>\n      <th>77</th>\n      <td>Ukraine</td>\n      <td>0.2</td>\n    </tr>\n    <tr>\n      <th>78</th>\n      <td>Uzbekistan</td>\n      <td>0.2</td>\n    </tr>\n    <tr>\n      <th>79</th>\n      <td>Zambia</td>\n      <td>0.2</td>\n    </tr>\n    <tr>\n      <th>80</th>\n      <td>Zambia</td>\n      <td>0.2</td>\n    </tr>\n  </tbody>\n</table>\n<p>80 rows × 2 columns</p>\n</div>"
     },
     "metadata": {}
    }
   ]
  },
  {
   "cell_type": "code",
   "source": "# fig = px.treemap(air_emissions, path=[px.Constant('Average Air Emissions from ASGM Activities'),'Country'], \n#                 values='Emissions, t',\n#                 color='Emissions, t',\n#                 color_continuous_scale='reds')\n# fig.show()",
   "metadata": {
    "cell_id": "00016-2e5a48b0-3052-4c49-998a-cd33fe0fdc09",
    "deepnote_to_be_reexecuted": false,
    "source_hash": "eae3484d",
    "execution_start": 1660879880842,
    "execution_millis": 6032,
    "deepnote_cell_type": "code",
    "deepnote_cell_height": 216.1875
   },
   "execution_count": 16,
   "outputs": [
    {
     "output_type": "error",
     "ename": "ZeroDivisionError",
     "evalue": "Weights sum to zero, can't be normalized",
     "traceback": [
      "\u001b[0;31m---------------------------------------------------------------------------\u001b[0m",
      "\u001b[0;31mZeroDivisionError\u001b[0m                         Traceback (most recent call last)",
      "Input \u001b[0;32mIn [16]\u001b[0m, in \u001b[0;36m<cell line: 1>\u001b[0;34m()\u001b[0m\n\u001b[0;32m----> 1\u001b[0m fig \u001b[38;5;241m=\u001b[39m \u001b[43mpx\u001b[49m\u001b[38;5;241;43m.\u001b[39;49m\u001b[43mtreemap\u001b[49m\u001b[43m(\u001b[49m\u001b[43mair_emissions\u001b[49m\u001b[43m,\u001b[49m\u001b[43m \u001b[49m\u001b[43mpath\u001b[49m\u001b[38;5;241;43m=\u001b[39;49m\u001b[43m[\u001b[49m\u001b[43mpx\u001b[49m\u001b[38;5;241;43m.\u001b[39;49m\u001b[43mConstant\u001b[49m\u001b[43m(\u001b[49m\u001b[38;5;124;43m'\u001b[39;49m\u001b[38;5;124;43mAverage Air Emissions from ASGM Activities\u001b[39;49m\u001b[38;5;124;43m'\u001b[39;49m\u001b[43m)\u001b[49m\u001b[43m,\u001b[49m\u001b[38;5;124;43m'\u001b[39;49m\u001b[38;5;124;43mCountry\u001b[39;49m\u001b[38;5;124;43m'\u001b[39;49m\u001b[43m]\u001b[49m\u001b[43m,\u001b[49m\u001b[43m \u001b[49m\n\u001b[1;32m      2\u001b[0m \u001b[43m                \u001b[49m\u001b[43mvalues\u001b[49m\u001b[38;5;241;43m=\u001b[39;49m\u001b[38;5;124;43m'\u001b[39;49m\u001b[38;5;124;43mEmissions, t\u001b[39;49m\u001b[38;5;124;43m'\u001b[39;49m\u001b[43m,\u001b[49m\n\u001b[1;32m      3\u001b[0m \u001b[43m                \u001b[49m\u001b[43mcolor\u001b[49m\u001b[38;5;241;43m=\u001b[39;49m\u001b[38;5;124;43m'\u001b[39;49m\u001b[38;5;124;43mEmissions, t\u001b[39;49m\u001b[38;5;124;43m'\u001b[39;49m\u001b[43m,\u001b[49m\n\u001b[1;32m      4\u001b[0m \u001b[43m                \u001b[49m\u001b[43mcolor_continuous_scale\u001b[49m\u001b[38;5;241;43m=\u001b[39;49m\u001b[38;5;124;43m'\u001b[39;49m\u001b[38;5;124;43mreds\u001b[39;49m\u001b[38;5;124;43m'\u001b[39;49m\u001b[43m)\u001b[49m\n\u001b[1;32m      5\u001b[0m fig\u001b[38;5;241m.\u001b[39mshow()\n",
      "File \u001b[0;32m/shared-libs/python3.9/py/lib/python3.9/site-packages/plotly/express/_chart_types.py:1591\u001b[0m, in \u001b[0;36mtreemap\u001b[0;34m(data_frame, names, values, parents, ids, path, color, color_continuous_scale, range_color, color_continuous_midpoint, color_discrete_sequence, color_discrete_map, hover_name, hover_data, custom_data, labels, title, template, width, height, branchvalues, maxdepth)\u001b[0m\n\u001b[1;32m   1589\u001b[0m \u001b[38;5;28;01mif\u001b[39;00m path \u001b[38;5;129;01mis\u001b[39;00m \u001b[38;5;129;01mnot\u001b[39;00m \u001b[38;5;28;01mNone\u001b[39;00m \u001b[38;5;129;01mand\u001b[39;00m branchvalues \u001b[38;5;129;01mis\u001b[39;00m \u001b[38;5;28;01mNone\u001b[39;00m:\n\u001b[1;32m   1590\u001b[0m     branchvalues \u001b[38;5;241m=\u001b[39m \u001b[38;5;124m\"\u001b[39m\u001b[38;5;124mtotal\u001b[39m\u001b[38;5;124m\"\u001b[39m\n\u001b[0;32m-> 1591\u001b[0m \u001b[38;5;28;01mreturn\u001b[39;00m \u001b[43mmake_figure\u001b[49m\u001b[43m(\u001b[49m\n\u001b[1;32m   1592\u001b[0m \u001b[43m    \u001b[49m\u001b[43margs\u001b[49m\u001b[38;5;241;43m=\u001b[39;49m\u001b[38;5;28;43mlocals\u001b[39;49m\u001b[43m(\u001b[49m\u001b[43m)\u001b[49m\u001b[43m,\u001b[49m\n\u001b[1;32m   1593\u001b[0m \u001b[43m    \u001b[49m\u001b[43mconstructor\u001b[49m\u001b[38;5;241;43m=\u001b[39;49m\u001b[43mgo\u001b[49m\u001b[38;5;241;43m.\u001b[39;49m\u001b[43mTreemap\u001b[49m\u001b[43m,\u001b[49m\n\u001b[1;32m   1594\u001b[0m \u001b[43m    \u001b[49m\u001b[43mtrace_patch\u001b[49m\u001b[38;5;241;43m=\u001b[39;49m\u001b[38;5;28;43mdict\u001b[39;49m\u001b[43m(\u001b[49m\u001b[43mbranchvalues\u001b[49m\u001b[38;5;241;43m=\u001b[39;49m\u001b[43mbranchvalues\u001b[49m\u001b[43m,\u001b[49m\u001b[43m \u001b[49m\u001b[43mmaxdepth\u001b[49m\u001b[38;5;241;43m=\u001b[39;49m\u001b[43mmaxdepth\u001b[49m\u001b[43m)\u001b[49m\u001b[43m,\u001b[49m\n\u001b[1;32m   1595\u001b[0m \u001b[43m    \u001b[49m\u001b[43mlayout_patch\u001b[49m\u001b[38;5;241;43m=\u001b[39;49m\u001b[43mlayout_patch\u001b[49m\u001b[43m,\u001b[49m\n\u001b[1;32m   1596\u001b[0m \u001b[43m\u001b[49m\u001b[43m)\u001b[49m\n",
      "File \u001b[0;32m/shared-libs/python3.9/py/lib/python3.9/site-packages/plotly/express/_core.py:1992\u001b[0m, in \u001b[0;36mmake_figure\u001b[0;34m(args, constructor, trace_patch, layout_patch)\u001b[0m\n\u001b[1;32m   1990\u001b[0m args \u001b[38;5;241m=\u001b[39m build_dataframe(args, constructor)\n\u001b[1;32m   1991\u001b[0m \u001b[38;5;28;01mif\u001b[39;00m constructor \u001b[38;5;129;01min\u001b[39;00m [go\u001b[38;5;241m.\u001b[39mTreemap, go\u001b[38;5;241m.\u001b[39mSunburst, go\u001b[38;5;241m.\u001b[39mIcicle] \u001b[38;5;129;01mand\u001b[39;00m args[\u001b[38;5;124m\"\u001b[39m\u001b[38;5;124mpath\u001b[39m\u001b[38;5;124m\"\u001b[39m] \u001b[38;5;129;01mis\u001b[39;00m \u001b[38;5;129;01mnot\u001b[39;00m \u001b[38;5;28;01mNone\u001b[39;00m:\n\u001b[0;32m-> 1992\u001b[0m     args \u001b[38;5;241m=\u001b[39m \u001b[43mprocess_dataframe_hierarchy\u001b[49m\u001b[43m(\u001b[49m\u001b[43margs\u001b[49m\u001b[43m)\u001b[49m\n\u001b[1;32m   1993\u001b[0m \u001b[38;5;28;01mif\u001b[39;00m constructor \u001b[38;5;129;01min\u001b[39;00m [go\u001b[38;5;241m.\u001b[39mPie]:\n\u001b[1;32m   1994\u001b[0m     args, trace_patch \u001b[38;5;241m=\u001b[39m process_dataframe_pie(args, trace_patch)\n",
      "File \u001b[0;32m/shared-libs/python3.9/py/lib/python3.9/site-packages/plotly/express/_core.py:1619\u001b[0m, in \u001b[0;36mprocess_dataframe_hierarchy\u001b[0;34m(args)\u001b[0m\n\u001b[1;32m   1617\u001b[0m \u001b[38;5;28;01mfor\u001b[39;00m i, level \u001b[38;5;129;01min\u001b[39;00m \u001b[38;5;28menumerate\u001b[39m(path):\n\u001b[1;32m   1618\u001b[0m     df_tree \u001b[38;5;241m=\u001b[39m pd\u001b[38;5;241m.\u001b[39mDataFrame(columns\u001b[38;5;241m=\u001b[39mdf_all_trees\u001b[38;5;241m.\u001b[39mcolumns)\n\u001b[0;32m-> 1619\u001b[0m     dfg \u001b[38;5;241m=\u001b[39m \u001b[43mdf\u001b[49m\u001b[38;5;241;43m.\u001b[39;49m\u001b[43mgroupby\u001b[49m\u001b[43m(\u001b[49m\u001b[43mpath\u001b[49m\u001b[43m[\u001b[49m\u001b[43mi\u001b[49m\u001b[43m:\u001b[49m\u001b[43m]\u001b[49m\u001b[43m)\u001b[49m\u001b[38;5;241;43m.\u001b[39;49m\u001b[43magg\u001b[49m\u001b[43m(\u001b[49m\u001b[43magg_f\u001b[49m\u001b[43m)\u001b[49m\n\u001b[1;32m   1620\u001b[0m     dfg \u001b[38;5;241m=\u001b[39m dfg\u001b[38;5;241m.\u001b[39mreset_index()\n\u001b[1;32m   1621\u001b[0m     \u001b[38;5;66;03m# Path label massaging\u001b[39;00m\n",
      "File \u001b[0;32m/shared-libs/python3.9/py/lib/python3.9/site-packages/pandas/core/groupby/generic.py:945\u001b[0m, in \u001b[0;36mDataFrameGroupBy.aggregate\u001b[0;34m(self, func, engine, engine_kwargs, *args, **kwargs)\u001b[0m\n\u001b[1;32m    942\u001b[0m relabeling, func, columns, order \u001b[38;5;241m=\u001b[39m reconstruct_func(func, \u001b[38;5;241m*\u001b[39m\u001b[38;5;241m*\u001b[39mkwargs)\n\u001b[1;32m    943\u001b[0m func \u001b[38;5;241m=\u001b[39m maybe_mangle_lambdas(func)\n\u001b[0;32m--> 945\u001b[0m result, how \u001b[38;5;241m=\u001b[39m \u001b[43maggregate\u001b[49m\u001b[43m(\u001b[49m\u001b[38;5;28;43mself\u001b[39;49m\u001b[43m,\u001b[49m\u001b[43m \u001b[49m\u001b[43mfunc\u001b[49m\u001b[43m,\u001b[49m\u001b[43m \u001b[49m\u001b[38;5;241;43m*\u001b[39;49m\u001b[43margs\u001b[49m\u001b[43m,\u001b[49m\u001b[43m \u001b[49m\u001b[38;5;241;43m*\u001b[39;49m\u001b[38;5;241;43m*\u001b[39;49m\u001b[43mkwargs\u001b[49m\u001b[43m)\u001b[49m\n\u001b[1;32m    946\u001b[0m \u001b[38;5;28;01mif\u001b[39;00m how \u001b[38;5;129;01mis\u001b[39;00m \u001b[38;5;28;01mNone\u001b[39;00m:\n\u001b[1;32m    947\u001b[0m     \u001b[38;5;28;01mreturn\u001b[39;00m result\n",
      "File \u001b[0;32m/shared-libs/python3.9/py/lib/python3.9/site-packages/pandas/core/aggregation.py:582\u001b[0m, in \u001b[0;36maggregate\u001b[0;34m(obj, arg, *args, **kwargs)\u001b[0m\n\u001b[1;32m    580\u001b[0m \u001b[38;5;28;01melif\u001b[39;00m is_dict_like(arg):\n\u001b[1;32m    581\u001b[0m     arg \u001b[38;5;241m=\u001b[39m cast(AggFuncTypeDict, arg)\n\u001b[0;32m--> 582\u001b[0m     \u001b[38;5;28;01mreturn\u001b[39;00m \u001b[43magg_dict_like\u001b[49m\u001b[43m(\u001b[49m\u001b[43mobj\u001b[49m\u001b[43m,\u001b[49m\u001b[43m \u001b[49m\u001b[43marg\u001b[49m\u001b[43m,\u001b[49m\u001b[43m \u001b[49m\u001b[43m_axis\u001b[49m\u001b[43m)\u001b[49m, \u001b[38;5;28;01mTrue\u001b[39;00m\n\u001b[1;32m    583\u001b[0m \u001b[38;5;28;01melif\u001b[39;00m is_list_like(arg):\n\u001b[1;32m    584\u001b[0m     \u001b[38;5;66;03m# we require a list, but not an 'str'\u001b[39;00m\n\u001b[1;32m    585\u001b[0m     arg \u001b[38;5;241m=\u001b[39m cast(List[AggFuncTypeBase], arg)\n",
      "File \u001b[0;32m/shared-libs/python3.9/py/lib/python3.9/site-packages/pandas/core/aggregation.py:768\u001b[0m, in \u001b[0;36magg_dict_like\u001b[0;34m(obj, arg, _axis)\u001b[0m\n\u001b[1;32m    765\u001b[0m     results \u001b[38;5;241m=\u001b[39m {key: colg\u001b[38;5;241m.\u001b[39magg(how) \u001b[38;5;28;01mfor\u001b[39;00m key, how \u001b[38;5;129;01min\u001b[39;00m arg\u001b[38;5;241m.\u001b[39mitems()}\n\u001b[1;32m    766\u001b[0m \u001b[38;5;28;01melse\u001b[39;00m:\n\u001b[1;32m    767\u001b[0m     \u001b[38;5;66;03m# key used for column selection and output\u001b[39;00m\n\u001b[0;32m--> 768\u001b[0m     results \u001b[38;5;241m=\u001b[39m {key: obj\u001b[38;5;241m.\u001b[39m_gotitem(key, ndim\u001b[38;5;241m=\u001b[39m\u001b[38;5;241m1\u001b[39m)\u001b[38;5;241m.\u001b[39magg(how) \u001b[38;5;28;01mfor\u001b[39;00m key, how \u001b[38;5;129;01min\u001b[39;00m arg\u001b[38;5;241m.\u001b[39mitems()}\n\u001b[1;32m    770\u001b[0m \u001b[38;5;66;03m# set the final keys\u001b[39;00m\n\u001b[1;32m    771\u001b[0m keys \u001b[38;5;241m=\u001b[39m \u001b[38;5;28mlist\u001b[39m(arg\u001b[38;5;241m.\u001b[39mkeys())\n",
      "File \u001b[0;32m/shared-libs/python3.9/py/lib/python3.9/site-packages/pandas/core/aggregation.py:768\u001b[0m, in \u001b[0;36m<dictcomp>\u001b[0;34m(.0)\u001b[0m\n\u001b[1;32m    765\u001b[0m     results \u001b[38;5;241m=\u001b[39m {key: colg\u001b[38;5;241m.\u001b[39magg(how) \u001b[38;5;28;01mfor\u001b[39;00m key, how \u001b[38;5;129;01min\u001b[39;00m arg\u001b[38;5;241m.\u001b[39mitems()}\n\u001b[1;32m    766\u001b[0m \u001b[38;5;28;01melse\u001b[39;00m:\n\u001b[1;32m    767\u001b[0m     \u001b[38;5;66;03m# key used for column selection and output\u001b[39;00m\n\u001b[0;32m--> 768\u001b[0m     results \u001b[38;5;241m=\u001b[39m {key: \u001b[43mobj\u001b[49m\u001b[38;5;241;43m.\u001b[39;49m\u001b[43m_gotitem\u001b[49m\u001b[43m(\u001b[49m\u001b[43mkey\u001b[49m\u001b[43m,\u001b[49m\u001b[43m \u001b[49m\u001b[43mndim\u001b[49m\u001b[38;5;241;43m=\u001b[39;49m\u001b[38;5;241;43m1\u001b[39;49m\u001b[43m)\u001b[49m\u001b[38;5;241;43m.\u001b[39;49m\u001b[43magg\u001b[49m\u001b[43m(\u001b[49m\u001b[43mhow\u001b[49m\u001b[43m)\u001b[49m \u001b[38;5;28;01mfor\u001b[39;00m key, how \u001b[38;5;129;01min\u001b[39;00m arg\u001b[38;5;241m.\u001b[39mitems()}\n\u001b[1;32m    770\u001b[0m \u001b[38;5;66;03m# set the final keys\u001b[39;00m\n\u001b[1;32m    771\u001b[0m keys \u001b[38;5;241m=\u001b[39m \u001b[38;5;28mlist\u001b[39m(arg\u001b[38;5;241m.\u001b[39mkeys())\n",
      "File \u001b[0;32m/shared-libs/python3.9/py/lib/python3.9/site-packages/pandas/core/groupby/generic.py:256\u001b[0m, in \u001b[0;36mSeriesGroupBy.aggregate\u001b[0;34m(self, func, engine, engine_kwargs, *args, **kwargs)\u001b[0m\n\u001b[1;32m    253\u001b[0m     \u001b[38;5;28;01mreturn\u001b[39;00m \u001b[38;5;28mgetattr\u001b[39m(\u001b[38;5;28mself\u001b[39m, cyfunc)()\n\u001b[1;32m    255\u001b[0m \u001b[38;5;28;01mif\u001b[39;00m \u001b[38;5;28mself\u001b[39m\u001b[38;5;241m.\u001b[39mgrouper\u001b[38;5;241m.\u001b[39mnkeys \u001b[38;5;241m>\u001b[39m \u001b[38;5;241m1\u001b[39m:\n\u001b[0;32m--> 256\u001b[0m     \u001b[38;5;28;01mreturn\u001b[39;00m \u001b[38;5;28;43mself\u001b[39;49m\u001b[38;5;241;43m.\u001b[39;49m\u001b[43m_python_agg_general\u001b[49m\u001b[43m(\u001b[49m\u001b[43mfunc\u001b[49m\u001b[43m,\u001b[49m\u001b[43m \u001b[49m\u001b[38;5;241;43m*\u001b[39;49m\u001b[43margs\u001b[49m\u001b[43m,\u001b[49m\u001b[43m \u001b[49m\u001b[38;5;241;43m*\u001b[39;49m\u001b[38;5;241;43m*\u001b[39;49m\u001b[43mkwargs\u001b[49m\u001b[43m)\u001b[49m\n\u001b[1;32m    258\u001b[0m \u001b[38;5;28;01mtry\u001b[39;00m:\n\u001b[1;32m    259\u001b[0m     \u001b[38;5;28;01mreturn\u001b[39;00m \u001b[38;5;28mself\u001b[39m\u001b[38;5;241m.\u001b[39m_python_agg_general(func, \u001b[38;5;241m*\u001b[39margs, \u001b[38;5;241m*\u001b[39m\u001b[38;5;241m*\u001b[39mkwargs)\n",
      "File \u001b[0;32m/shared-libs/python3.9/py/lib/python3.9/site-packages/pandas/core/groupby/groupby.py:1173\u001b[0m, in \u001b[0;36mBaseGroupBy._python_agg_general\u001b[0;34m(self, func, *args, **kwargs)\u001b[0m\n\u001b[1;32m   1169\u001b[0m     \u001b[38;5;28;01mcontinue\u001b[39;00m\n\u001b[1;32m   1171\u001b[0m \u001b[38;5;28;01mtry\u001b[39;00m:\n\u001b[1;32m   1172\u001b[0m     \u001b[38;5;66;03m# if this function is invalid for this dtype, we will ignore it.\u001b[39;00m\n\u001b[0;32m-> 1173\u001b[0m     result, counts \u001b[38;5;241m=\u001b[39m \u001b[38;5;28;43mself\u001b[39;49m\u001b[38;5;241;43m.\u001b[39;49m\u001b[43mgrouper\u001b[49m\u001b[38;5;241;43m.\u001b[39;49m\u001b[43magg_series\u001b[49m\u001b[43m(\u001b[49m\u001b[43mobj\u001b[49m\u001b[43m,\u001b[49m\u001b[43m \u001b[49m\u001b[43mf\u001b[49m\u001b[43m)\u001b[49m\n\u001b[1;32m   1174\u001b[0m \u001b[38;5;28;01mexcept\u001b[39;00m \u001b[38;5;167;01mTypeError\u001b[39;00m:\n\u001b[1;32m   1175\u001b[0m     \u001b[38;5;28;01mcontinue\u001b[39;00m\n",
      "File \u001b[0;32m/shared-libs/python3.9/py/lib/python3.9/site-packages/pandas/core/groupby/ops.py:706\u001b[0m, in \u001b[0;36mBaseGrouper.agg_series\u001b[0;34m(self, obj, func)\u001b[0m\n\u001b[1;32m    703\u001b[0m     \u001b[38;5;28;01mreturn\u001b[39;00m \u001b[38;5;28mself\u001b[39m\u001b[38;5;241m.\u001b[39m_aggregate_series_pure_python(obj, func)\n\u001b[1;32m    705\u001b[0m \u001b[38;5;28;01mtry\u001b[39;00m:\n\u001b[0;32m--> 706\u001b[0m     \u001b[38;5;28;01mreturn\u001b[39;00m \u001b[38;5;28;43mself\u001b[39;49m\u001b[38;5;241;43m.\u001b[39;49m\u001b[43m_aggregate_series_fast\u001b[49m\u001b[43m(\u001b[49m\u001b[43mobj\u001b[49m\u001b[43m,\u001b[49m\u001b[43m \u001b[49m\u001b[43mfunc\u001b[49m\u001b[43m)\u001b[49m\n\u001b[1;32m    707\u001b[0m \u001b[38;5;28;01mexcept\u001b[39;00m \u001b[38;5;167;01mValueError\u001b[39;00m \u001b[38;5;28;01mas\u001b[39;00m err:\n\u001b[1;32m    708\u001b[0m     \u001b[38;5;28;01mif\u001b[39;00m \u001b[38;5;124m\"\u001b[39m\u001b[38;5;124mMust produce aggregated value\u001b[39m\u001b[38;5;124m\"\u001b[39m \u001b[38;5;129;01min\u001b[39;00m \u001b[38;5;28mstr\u001b[39m(err):\n\u001b[1;32m    709\u001b[0m         \u001b[38;5;66;03m# raised in libreduction\u001b[39;00m\n",
      "File \u001b[0;32m/shared-libs/python3.9/py/lib/python3.9/site-packages/pandas/core/groupby/ops.py:732\u001b[0m, in \u001b[0;36mBaseGrouper._aggregate_series_fast\u001b[0;34m(self, obj, func)\u001b[0m\n\u001b[1;32m    730\u001b[0m group_index \u001b[38;5;241m=\u001b[39m algorithms\u001b[38;5;241m.\u001b[39mtake_nd(group_index, indexer, allow_fill\u001b[38;5;241m=\u001b[39m\u001b[38;5;28;01mFalse\u001b[39;00m)\n\u001b[1;32m    731\u001b[0m grouper \u001b[38;5;241m=\u001b[39m libreduction\u001b[38;5;241m.\u001b[39mSeriesGrouper(obj, func, group_index, ngroups, dummy)\n\u001b[0;32m--> 732\u001b[0m result, counts \u001b[38;5;241m=\u001b[39m \u001b[43mgrouper\u001b[49m\u001b[38;5;241;43m.\u001b[39;49m\u001b[43mget_result\u001b[49m\u001b[43m(\u001b[49m\u001b[43m)\u001b[49m\n\u001b[1;32m    733\u001b[0m \u001b[38;5;28;01mreturn\u001b[39;00m result, counts\n",
      "File \u001b[0;32mpandas/_libs/reduction.pyx:260\u001b[0m, in \u001b[0;36mpandas._libs.reduction.SeriesGrouper.get_result\u001b[0;34m()\u001b[0m\n",
      "File \u001b[0;32mpandas/_libs/reduction.pyx:76\u001b[0m, in \u001b[0;36mpandas._libs.reduction._BaseGrouper._apply_to_group\u001b[0;34m()\u001b[0m\n",
      "File \u001b[0;32m/shared-libs/python3.9/py/lib/python3.9/site-packages/pandas/core/groupby/groupby.py:1160\u001b[0m, in \u001b[0;36mBaseGroupBy._python_agg_general.<locals>.<lambda>\u001b[0;34m(x)\u001b[0m\n\u001b[1;32m   1157\u001b[0m \u001b[38;5;129m@final\u001b[39m\n\u001b[1;32m   1158\u001b[0m \u001b[38;5;28;01mdef\u001b[39;00m \u001b[38;5;21m_python_agg_general\u001b[39m(\u001b[38;5;28mself\u001b[39m, func, \u001b[38;5;241m*\u001b[39margs, \u001b[38;5;241m*\u001b[39m\u001b[38;5;241m*\u001b[39mkwargs):\n\u001b[1;32m   1159\u001b[0m     func \u001b[38;5;241m=\u001b[39m \u001b[38;5;28mself\u001b[39m\u001b[38;5;241m.\u001b[39m_is_builtin_func(func)\n\u001b[0;32m-> 1160\u001b[0m     f \u001b[38;5;241m=\u001b[39m \u001b[38;5;28;01mlambda\u001b[39;00m x: \u001b[43mfunc\u001b[49m\u001b[43m(\u001b[49m\u001b[43mx\u001b[49m\u001b[43m,\u001b[49m\u001b[43m \u001b[49m\u001b[38;5;241;43m*\u001b[39;49m\u001b[43margs\u001b[49m\u001b[43m,\u001b[49m\u001b[43m \u001b[49m\u001b[38;5;241;43m*\u001b[39;49m\u001b[38;5;241;43m*\u001b[39;49m\u001b[43mkwargs\u001b[49m\u001b[43m)\u001b[49m\n\u001b[1;32m   1162\u001b[0m     \u001b[38;5;66;03m# iterate through \"columns\" ex exclusions to populate output dict\u001b[39;00m\n\u001b[1;32m   1163\u001b[0m     output: Dict[base\u001b[38;5;241m.\u001b[39mOutputKey, np\u001b[38;5;241m.\u001b[39mndarray] \u001b[38;5;241m=\u001b[39m {}\n",
      "File \u001b[0;32m/shared-libs/python3.9/py/lib/python3.9/site-packages/plotly/express/_core.py:1600\u001b[0m, in \u001b[0;36mprocess_dataframe_hierarchy.<locals>.aggfunc_continuous\u001b[0;34m(x)\u001b[0m\n\u001b[1;32m   1599\u001b[0m \u001b[38;5;28;01mdef\u001b[39;00m \u001b[38;5;21maggfunc_continuous\u001b[39m(x):\n\u001b[0;32m-> 1600\u001b[0m     \u001b[38;5;28;01mreturn\u001b[39;00m \u001b[43mnp\u001b[49m\u001b[38;5;241;43m.\u001b[39;49m\u001b[43maverage\u001b[49m\u001b[43m(\u001b[49m\u001b[43mx\u001b[49m\u001b[43m,\u001b[49m\u001b[43m \u001b[49m\u001b[43mweights\u001b[49m\u001b[38;5;241;43m=\u001b[39;49m\u001b[43mdf\u001b[49m\u001b[38;5;241;43m.\u001b[39;49m\u001b[43mloc\u001b[49m\u001b[43m[\u001b[49m\u001b[43mx\u001b[49m\u001b[38;5;241;43m.\u001b[39;49m\u001b[43mindex\u001b[49m\u001b[43m,\u001b[49m\u001b[43m \u001b[49m\u001b[43mcount_colname\u001b[49m\u001b[43m]\u001b[49m\u001b[43m)\u001b[49m\n",
      "File \u001b[0;32m<__array_function__ internals>:180\u001b[0m, in \u001b[0;36maverage\u001b[0;34m(*args, **kwargs)\u001b[0m\n",
      "File \u001b[0;32m/shared-libs/python3.9/py/lib/python3.9/site-packages/numpy/lib/function_base.py:547\u001b[0m, in \u001b[0;36maverage\u001b[0;34m(a, axis, weights, returned, keepdims)\u001b[0m\n\u001b[1;32m    545\u001b[0m     scl \u001b[38;5;241m=\u001b[39m wgt\u001b[38;5;241m.\u001b[39msum(axis\u001b[38;5;241m=\u001b[39maxis, dtype\u001b[38;5;241m=\u001b[39mresult_dtype, \u001b[38;5;241m*\u001b[39m\u001b[38;5;241m*\u001b[39mkeepdims_kw)\n\u001b[1;32m    546\u001b[0m     \u001b[38;5;28;01mif\u001b[39;00m np\u001b[38;5;241m.\u001b[39many(scl \u001b[38;5;241m==\u001b[39m \u001b[38;5;241m0.0\u001b[39m):\n\u001b[0;32m--> 547\u001b[0m         \u001b[38;5;28;01mraise\u001b[39;00m \u001b[38;5;167;01mZeroDivisionError\u001b[39;00m(\n\u001b[1;32m    548\u001b[0m             \u001b[38;5;124m\"\u001b[39m\u001b[38;5;124mWeights sum to zero, can\u001b[39m\u001b[38;5;124m'\u001b[39m\u001b[38;5;124mt be normalized\u001b[39m\u001b[38;5;124m\"\u001b[39m)\n\u001b[1;32m    550\u001b[0m     avg \u001b[38;5;241m=\u001b[39m np\u001b[38;5;241m.\u001b[39mmultiply(a, wgt,\n\u001b[1;32m    551\u001b[0m                       dtype\u001b[38;5;241m=\u001b[39mresult_dtype)\u001b[38;5;241m.\u001b[39msum(axis, \u001b[38;5;241m*\u001b[39m\u001b[38;5;241m*\u001b[39mkeepdims_kw) \u001b[38;5;241m/\u001b[39m scl\n\u001b[1;32m    553\u001b[0m \u001b[38;5;28;01mif\u001b[39;00m returned:\n",
      "\u001b[0;31mZeroDivisionError\u001b[0m: Weights sum to zero, can't be normalized"
     ]
    }
   ]
  },
  {
   "cell_type": "code",
   "metadata": {
    "cell_id": "00017-c3f9aabc-da25-4fd6-a55b-f798a2d98981",
    "deepnote_to_be_reexecuted": false,
    "source_hash": "17237099",
    "execution_start": 1660879946251,
    "execution_millis": 6,
    "deepnote_cell_type": "code",
    "deepnote_cell_height": 600
   },
   "source": "air_emissions.drop(0, axis=0).sort_values(by='Emissions, t', ascending=False)",
   "execution_count": 17,
   "outputs": [
    {
     "output_type": "execute_result",
     "execution_count": 17,
     "data": {
      "application/vnd.deepnote.dataframe.v3+json": {
       "column_count": 2,
       "row_count": 79,
       "columns": [
        {
         "name": "Country",
         "dtype": "object",
         "stats": {
          "unique_count": 78,
          "nan_count": 0,
          "categories": [
           {
            "name": "Zambia",
            "count": 2
           },
           {
            "name": "Indonesia",
            "count": 1
           },
           {
            "name": "76 others",
            "count": 76
           }
          ]
         }
        },
        {
         "name": "Emissions, t",
         "dtype": "float64",
         "stats": {
          "unique_count": 35,
          "nan_count": 0,
          "min": "0.0",
          "max": "124.5",
          "histogram": [
           {
            "bin_start": 0,
            "bin_end": 12.45,
            "count": 65
           },
           {
            "bin_start": 12.45,
            "bin_end": 24.9,
            "count": 4
           },
           {
            "bin_start": 24.9,
            "bin_end": 37.349999999999994,
            "count": 5
           },
           {
            "bin_start": 37.349999999999994,
            "bin_end": 49.8,
            "count": 1
           },
           {
            "bin_start": 49.8,
            "bin_end": 62.25,
            "count": 2
           },
           {
            "bin_start": 62.25,
            "bin_end": 74.69999999999999,
            "count": 0
           },
           {
            "bin_start": 74.69999999999999,
            "bin_end": 87.14999999999999,
            "count": 0
           },
           {
            "bin_start": 87.14999999999999,
            "bin_end": 99.6,
            "count": 0
           },
           {
            "bin_start": 99.6,
            "bin_end": 112.05,
            "count": 1
           },
           {
            "bin_start": 112.05,
            "bin_end": 124.5,
            "count": 1
           }
          ]
         }
        },
        {
         "name": "_deepnote_index_column",
         "dtype": "int64"
        }
       ],
       "rows": [
        {
         "Country": "Indonesia",
         "Emissions, t": 124.5,
         "_deepnote_index_column": 16
        },
        {
         "Country": "Peru",
         "Emissions, t": 110.4,
         "_deepnote_index_column": 3
        },
        {
         "Country": "Colombia",
         "Emissions, t": 51,
         "_deepnote_index_column": 9
        },
        {
         "Country": "Brazil",
         "Emissions, t": 49.9,
         "_deepnote_index_column": 6
        },
        {
         "Country": "Ghana",
         "Emissions, t": 41.3,
         "_deepnote_index_column": 12
        },
        {
         "Country": "Venezuela",
         "Emissions, t": 34.4,
         "_deepnote_index_column": 24
        },
        {
         "Country": "China",
         "Emissions, t": 33.8,
         "_deepnote_index_column": 30
        },
        {
         "Country": "Ecuador",
         "Emissions, t": 26.4,
         "_deepnote_index_column": 10
        },
        {
         "Country": "Burkina Faso",
         "Emissions, t": 26.3,
         "_deepnote_index_column": 7
        },
        {
         "Country": "Tanzania",
         "Emissions, t": 26.3,
         "_deepnote_index_column": 47
        }
       ]
      },
      "text/plain": "        Country  Emissions, t\n16    Indonesia         124.5\n3          Peru         110.4\n9      Colombia          51.0\n6        Brazil          49.9\n..          ...           ...\n53   Azerbaijan           0.2\n52       Angola           0.2\n57   Costa Rica           0.1\n44  South Sudan           0.0\n\n[79 rows x 2 columns]",
      "text/html": "<div>\n<style scoped>\n    .dataframe tbody tr th:only-of-type {\n        vertical-align: middle;\n    }\n\n    .dataframe tbody tr th {\n        vertical-align: top;\n    }\n\n    .dataframe thead th {\n        text-align: right;\n    }\n</style>\n<table border=\"1\" class=\"dataframe\">\n  <thead>\n    <tr style=\"text-align: right;\">\n      <th></th>\n      <th>Country</th>\n      <th>Emissions, t</th>\n    </tr>\n  </thead>\n  <tbody>\n    <tr>\n      <th>16</th>\n      <td>Indonesia</td>\n      <td>124.5</td>\n    </tr>\n    <tr>\n      <th>3</th>\n      <td>Peru</td>\n      <td>110.4</td>\n    </tr>\n    <tr>\n      <th>9</th>\n      <td>Colombia</td>\n      <td>51.0</td>\n    </tr>\n    <tr>\n      <th>6</th>\n      <td>Brazil</td>\n      <td>49.9</td>\n    </tr>\n    <tr>\n      <th>...</th>\n      <td>...</td>\n      <td>...</td>\n    </tr>\n    <tr>\n      <th>53</th>\n      <td>Azerbaijan</td>\n      <td>0.2</td>\n    </tr>\n    <tr>\n      <th>52</th>\n      <td>Angola</td>\n      <td>0.2</td>\n    </tr>\n    <tr>\n      <th>57</th>\n      <td>Costa Rica</td>\n      <td>0.1</td>\n    </tr>\n    <tr>\n      <th>44</th>\n      <td>South Sudan</td>\n      <td>0.0</td>\n    </tr>\n  </tbody>\n</table>\n<p>79 rows × 2 columns</p>\n</div>"
     },
     "metadata": {}
    }
   ]
  },
  {
   "cell_type": "code",
   "source": "\n\n# Initialize the matplotlib figure\nsns.set_style(\"whitegrid\")\nfig,ax = plt.subplots(figsize=(8, 10))\nplot_data = air_emissions.drop(0, axis=0).sort_values(by='Emissions, t', ascending=False)\nplot_data=plot_data[plot_data['Emissions, t']>1]\n\nlatam_emitters=['Peru','Colombia','Brazil ','Bolivia','Suriname','Ecuador','French Guiana','Venezuela','Guyana','Chile','Honduras','Mexico']\n# Load the example car crash dataset\n# crashes = sns.load_dataset(\"car_crashes\").sort_values(\"total\", ascending=False)\ncolors = [\"blue\" if i not in latam_emitters else \"red\" for i in plot_data.Country]\n# Plot the total crashes\nsns.set_color_codes(\"muted\")\n\nsns.barplot(x=\"Emissions, t\", y=\"Country\", data=plot_data ,\n            label=\"Emissions\", palette=colors)\n\n\nax.set(xlim=(0, 126), ylabel=\"\",\n       xlabel=\"GMA 2018 ASGM Hg$^0$ Emission Estimates (Mgy$^{-1}$)\")\nsns.despine(left=True, bottom=True)\n# name='07-14-22_gma2018_top-asgm-emmiting-countries.pdf'\n# savepath='/home/tzd/fs03/d1/tzd/Data_analysis/MIT_TPP_thesis/figures/'+name\n# fig.savefig(savepath,bbox_inches='tight')",
   "metadata": {
    "cell_id": "00018-e4c7acb5-53d5-4b94-876b-bc86d03261c7",
    "deepnote_to_be_reexecuted": false,
    "source_hash": "39d3514",
    "execution_start": 1660879954366,
    "execution_millis": 901,
    "deepnote_cell_type": "code",
    "deepnote_cell_height": 1092.125,
    "deepnote_output_heights": [
     563.125
    ]
   },
   "execution_count": 18,
   "outputs": [
    {
     "data": {
      "text/plain": "<Figure size 576x720 with 1 Axes>",
      "image/png": "[encoded data removed]"
     },
     "metadata": {
      "image/png": {
       "width": 667,
       "height": 598
      }
     },
     "output_type": "display_data"
    }
   ]
  },
  {
   "cell_type": "code",
   "source": "air_emissions",
   "metadata": {
    "cell_id": "04d42ef4b5364cdaa7b35f9eeb37cd68",
    "tags": [],
    "deepnote_to_be_reexecuted": false,
    "source_hash": "88009a35",
    "execution_start": 1660879955268,
    "execution_millis": 39,
    "deepnote_cell_type": "code",
    "deepnote_cell_height": 595
   },
   "outputs": [
    {
     "output_type": "execute_result",
     "execution_count": 19,
     "data": {
      "application/vnd.deepnote.dataframe.v3+json": {
       "column_count": 2,
       "row_count": 80,
       "columns": [
        {
         "name": "Country",
         "dtype": "object",
         "stats": {
          "unique_count": 79,
          "nan_count": 0,
          "categories": [
           {
            "name": "Zambia",
            "count": 2
           },
           {
            "name": "Bolivia",
            "count": 1
           },
           {
            "name": "77 others",
            "count": 77
           }
          ]
         }
        },
        {
         "name": "Emissions, t",
         "dtype": "float64",
         "stats": {
          "unique_count": 36,
          "nan_count": 0,
          "min": "0.0",
          "max": "124.5",
          "histogram": [
           {
            "bin_start": 0,
            "bin_end": 12.45,
            "count": 65
           },
           {
            "bin_start": 12.45,
            "bin_end": 24.9,
            "count": 4
           },
           {
            "bin_start": 24.9,
            "bin_end": 37.349999999999994,
            "count": 5
           },
           {
            "bin_start": 37.349999999999994,
            "bin_end": 49.8,
            "count": 2
           },
           {
            "bin_start": 49.8,
            "bin_end": 62.25,
            "count": 2
           },
           {
            "bin_start": 62.25,
            "bin_end": 74.69999999999999,
            "count": 0
           },
           {
            "bin_start": 74.69999999999999,
            "bin_end": 87.14999999999999,
            "count": 0
           },
           {
            "bin_start": 87.14999999999999,
            "bin_end": 99.6,
            "count": 0
           },
           {
            "bin_start": 99.6,
            "bin_end": 112.05,
            "count": 1
           },
           {
            "bin_start": 112.05,
            "bin_end": 124.5,
            "count": 1
           }
          ]
         }
        },
        {
         "name": "_deepnote_index_column",
         "dtype": "int64"
        }
       ],
       "rows": [
        {
         "Country": "Bolivia",
         "Emissions, t": 40.5,
         "_deepnote_index_column": 0
        },
        {
         "Country": "Guinea",
         "Emissions, t": 14.3,
         "_deepnote_index_column": 1
        },
        {
         "Country": "Nicaragua",
         "Emissions, t": 0.7,
         "_deepnote_index_column": 2
        },
        {
         "Country": "Peru",
         "Emissions, t": 110.4,
         "_deepnote_index_column": 3
        },
        {
         "Country": "Senegal",
         "Emissions, t": 2.3,
         "_deepnote_index_column": 4
        },
        {
         "Country": "Suriname",
         "Emissions, t": 14.3,
         "_deepnote_index_column": 5
        },
        {
         "Country": "Brazil",
         "Emissions, t": 49.9,
         "_deepnote_index_column": 6
        },
        {
         "Country": "Burkina Faso",
         "Emissions, t": 26.3,
         "_deepnote_index_column": 7
        },
        {
         "Country": "Cambodia",
         "Emissions, t": 3.6,
         "_deepnote_index_column": 8
        },
        {
         "Country": "Colombia",
         "Emissions, t": 51,
         "_deepnote_index_column": 9
        }
       ]
      },
      "text/plain": "       Country  Emissions, t\n0      Bolivia          40.5\n1       Guinea          14.3\n2    Nicaragua           0.7\n3         Peru         110.4\n..         ...           ...\n77     Ukraine           0.2\n78  Uzbekistan           0.2\n79      Zambia           0.2\n80      Zambia           0.2\n\n[80 rows x 2 columns]",
      "text/html": "<div>\n<style scoped>\n    .dataframe tbody tr th:only-of-type {\n        vertical-align: middle;\n    }\n\n    .dataframe tbody tr th {\n        vertical-align: top;\n    }\n\n    .dataframe thead th {\n        text-align: right;\n    }\n</style>\n<table border=\"1\" class=\"dataframe\">\n  <thead>\n    <tr style=\"text-align: right;\">\n      <th></th>\n      <th>Country</th>\n      <th>Emissions, t</th>\n    </tr>\n  </thead>\n  <tbody>\n    <tr>\n      <th>0</th>\n      <td>Bolivia</td>\n      <td>40.5</td>\n    </tr>\n    <tr>\n      <th>1</th>\n      <td>Guinea</td>\n      <td>14.3</td>\n    </tr>\n    <tr>\n      <th>2</th>\n      <td>Nicaragua</td>\n      <td>0.7</td>\n    </tr>\n    <tr>\n      <th>3</th>\n      <td>Peru</td>\n      <td>110.4</td>\n    </tr>\n    <tr>\n      <th>...</th>\n      <td>...</td>\n      <td>...</td>\n    </tr>\n    <tr>\n      <th>77</th>\n      <td>Ukraine</td>\n      <td>0.2</td>\n    </tr>\n    <tr>\n      <th>78</th>\n      <td>Uzbekistan</td>\n      <td>0.2</td>\n    </tr>\n    <tr>\n      <th>79</th>\n      <td>Zambia</td>\n      <td>0.2</td>\n    </tr>\n    <tr>\n      <th>80</th>\n      <td>Zambia</td>\n      <td>0.2</td>\n    </tr>\n  </tbody>\n</table>\n<p>80 rows × 2 columns</p>\n</div>"
     },
     "metadata": {}
    }
   ],
   "execution_count": 19
  },
  {
   "cell_type": "code",
   "source": "import plotly.express as px\n\ndf = px.data.gapminder().query(\"year==2007\")\nfig = px.choropleth(plot_data, \n                    color=\"Emissions, t\", # lifeExp is a column of gapminder\n                    hover_name=\"Country\")# column to add to hover information)\nfig.show()",
   "metadata": {
    "cell_id": "cfa7717df5744d4a9b14d8f7c288e3a3",
    "tags": [],
    "deepnote_to_be_reexecuted": false,
    "source_hash": "5ac01e68",
    "execution_start": 1660879955269,
    "execution_millis": 2711,
    "deepnote_cell_type": "code",
    "deepnote_cell_height": 731,
    "deepnote_output_heights": [
     526
    ]
   },
   "outputs": [
    {
     "data": {
      "text/html": "<html>\n<head><meta charset=\"utf-8\" /></head>\n<body>\n    <div>            <script src=\"https://cdnjs.cloudflare.com/ajax/libs/mathjax/2.7.5/MathJax.js?config=TeX-AMS-MML_SVG\"></script><script type=\"text/javascript\">if (window.MathJax && window.MathJax.Hub && window.MathJax.Hub.Config) {window.MathJax.Hub.Config({SVG: {font: \"STIX-Web\"}});}</script>                <script type=\"text/javascript\">window.PlotlyConfig = {MathJaxConfig: 'local'};</script>\n        <script src=\"https://cdn.plot.ly/plotly-2.12.1.min.js\"></script>                <div id=\"43fd782e-b112-4ff3-bb34-6f3cb0eb2a8b\" class=\"plotly-graph-div\" style=\"height:525px; width:100%;\"></div>            <script type=\"text/javascript\">                                    window.PLOTLYENV=window.PLOTLYENV || {};                                    if (document.getElementById(\"43fd782e-b112-4ff3-bb34-6f3cb0eb2a8b\")) {                    Plotly.newPlot(                        \"43fd782e-b112-4ff3-bb34-6f3cb0eb2a8b\",                        [{\"coloraxis\":\"coloraxis\",\"geo\":\"geo\",\"hovertemplate\":\"<b>%{hovertext}</b><br><br>Emissions, t=%{z}<extra></extra>\",\"hovertext\":[\"Indonesia\",\"Peru\",\"Colombia\",\"Brazil\",\"Ghana\",\"Venezuela\",\"China\",\"Ecuador\",\"Burkina Faso\",\"Tanzania\",\"Philippines\",\"Nigeria\",\"Guinea\",\"Suriname\",\"Guyana\",\"Democratic Republic of Congo\",\"Myanmar\",\"Mali\",\"Sierra Leone\",\"Zimbabwe\",\"Central African Republic\",\"French Guiana\",\"Mongolia\",\"Russia\",\"India\",\"Vietnam\",\"Mexico\",\"Kyrgyzstan\",\"Cambodia\",\"Papua New Guinea\",\"Mozambique\",\"Togo\",\"Uganda\",\"Tajikistan\",\"Kenya\",\"Honduras\",\"Senegal\",\"Lao Peoples Democratic Republic\",\"Chile\",\"Malaysia\",\"South Africa\",\"Congo\",\"Madagascar\",\"Cameroon\",\"Thailand\"],\"name\":\"\",\"z\":[124.5,110.4,51.0,49.9,41.3,34.4,33.8,26.4,26.3,26.3,23.6,15.0,14.3,14.3,11.3,11.3,11.3,9.4,8.3,7.8,6.0,5.6,5.5,5.2,4.5,3.6,3.6,3.6,3.6,3.3,3.0,3.0,3.0,3.0,2.6,2.4,2.3,2.3,1.9,1.7,1.7,1.1,1.1,1.1,1.1],\"type\":\"choropleth\"}],                        {\"template\":{\"data\":{\"histogram2dcontour\":[{\"type\":\"histogram2dcontour\",\"colorbar\":{\"outlinewidth\":0,\"ticks\":\"\"},\"colorscale\":[[0.0,\"#0d0887\"],[0.1111111111111111,\"#46039f\"],[0.2222222222222222,\"#7201a8\"],[0.3333333333333333,\"#9c179e\"],[0.4444444444444444,\"#bd3786\"],[0.5555555555555556,\"#d8576b\"],[0.6666666666666666,\"#ed7953\"],[0.7777777777777778,\"#fb9f3a\"],[0.8888888888888888,\"#fdca26\"],[1.0,\"#f0f921\"]]}],\"choropleth\":[{\"type\":\"choropleth\",\"colorbar\":{\"outlinewidth\":0,\"ticks\":\"\"}}],\"histogram2d\":[{\"type\":\"histogram2d\",\"colorbar\":{\"outlinewidth\":0,\"ticks\":\"\"},\"colorscale\":[[0.0,\"#0d0887\"],[0.1111111111111111,\"#46039f\"],[0.2222222222222222,\"#7201a8\"],[0.3333333333333333,\"#9c179e\"],[0.4444444444444444,\"#bd3786\"],[0.5555555555555556,\"#d8576b\"],[0.6666666666666666,\"#ed7953\"],[0.7777777777777778,\"#fb9f3a\"],[0.8888888888888888,\"#fdca26\"],[1.0,\"#f0f921\"]]}],\"heatmap\":[{\"type\":\"heatmap\",\"colorbar\":{\"outlinewidth\":0,\"ticks\":\"\"},\"colorscale\":[[0.0,\"#0d0887\"],[0.1111111111111111,\"#46039f\"],[0.2222222222222222,\"#7201a8\"],[0.3333333333333333,\"#9c179e\"],[0.4444444444444444,\"#bd3786\"],[0.5555555555555556,\"#d8576b\"],[0.6666666666666666,\"#ed7953\"],[0.7777777777777778,\"#fb9f3a\"],[0.8888888888888888,\"#fdca26\"],[1.0,\"#f0f921\"]]}],\"heatmapgl\":[{\"type\":\"heatmapgl\",\"colorbar\":{\"outlinewidth\":0,\"ticks\":\"\"},\"colorscale\":[[0.0,\"#0d0887\"],[0.1111111111111111,\"#46039f\"],[0.2222222222222222,\"#7201a8\"],[0.3333333333333333,\"#9c179e\"],[0.4444444444444444,\"#bd3786\"],[0.5555555555555556,\"#d8576b\"],[0.6666666666666666,\"#ed7953\"],[0.7777777777777778,\"#fb9f3a\"],[0.8888888888888888,\"#fdca26\"],[1.0,\"#f0f921\"]]}],\"contourcarpet\":[{\"type\":\"contourcarpet\",\"colorbar\":{\"outlinewidth\":0,\"ticks\":\"\"}}],\"contour\":[{\"type\":\"contour\",\"colorbar\":{\"outlinewidth\":0,\"ticks\":\"\"},\"colorscale\":[[0.0,\"#0d0887\"],[0.1111111111111111,\"#46039f\"],[0.2222222222222222,\"#7201a8\"],[0.3333333333333333,\"#9c179e\"],[0.4444444444444444,\"#bd3786\"],[0.5555555555555556,\"#d8576b\"],[0.6666666666666666,\"#ed7953\"],[0.7777777777777778,\"#fb9f3a\"],[0.8888888888888888,\"#fdca26\"],[1.0,\"#f0f921\"]]}],\"surface\":[{\"type\":\"surface\",\"colorbar\":{\"outlinewidth\":0,\"ticks\":\"\"},\"colorscale\":[[0.0,\"#0d0887\"],[0.1111111111111111,\"#46039f\"],[0.2222222222222222,\"#7201a8\"],[0.3333333333333333,\"#9c179e\"],[0.4444444444444444,\"#bd3786\"],[0.5555555555555556,\"#d8576b\"],[0.6666666666666666,\"#ed7953\"],[0.7777777777777778,\"#fb9f3a\"],[0.8888888888888888,\"#fdca26\"],[1.0,\"#f0f921\"]]}],\"mesh3d\":[{\"type\":\"mesh3d\",\"colorbar\":{\"outlinewidth\":0,\"ticks\":\"\"}}],\"scatter\":[{\"fillpattern\":{\"fillmode\":\"overlay\",\"size\":10,\"solidity\":0.2},\"type\":\"scatter\"}],\"parcoords\":[{\"type\":\"parcoords\",\"line\":{\"colorbar\":{\"outlinewidth\":0,\"ticks\":\"\"}}}],\"scatterpolargl\":[{\"type\":\"scatterpolargl\",\"marker\":{\"colorbar\":{\"outlinewidth\":0,\"ticks\":\"\"}}}],\"bar\":[{\"error_x\":{\"color\":\"#2a3f5f\"},\"error_y\":{\"color\":\"#2a3f5f\"},\"marker\":{\"line\":{\"color\":\"#E5ECF6\",\"width\":0.5},\"pattern\":{\"fillmode\":\"overlay\",\"size\":10,\"solidity\":0.2}},\"type\":\"bar\"}],\"scattergeo\":[{\"type\":\"scattergeo\",\"marker\":{\"colorbar\":{\"outlinewidth\":0,\"ticks\":\"\"}}}],\"scatterpolar\":[{\"type\":\"scatterpolar\",\"marker\":{\"colorbar\":{\"outlinewidth\":0,\"ticks\":\"\"}}}],\"histogram\":[{\"marker\":{\"pattern\":{\"fillmode\":\"overlay\",\"size\":10,\"solidity\":0.2}},\"type\":\"histogram\"}],\"scattergl\":[{\"type\":\"scattergl\",\"marker\":{\"colorbar\":{\"outlinewidth\":0,\"ticks\":\"\"}}}],\"scatter3d\":[{\"type\":\"scatter3d\",\"line\":{\"colorbar\":{\"outlinewidth\":0,\"ticks\":\"\"}},\"marker\":{\"colorbar\":{\"outlinewidth\":0,\"ticks\":\"\"}}}],\"scattermapbox\":[{\"type\":\"scattermapbox\",\"marker\":{\"colorbar\":{\"outlinewidth\":0,\"ticks\":\"\"}}}],\"scatterternary\":[{\"type\":\"scatterternary\",\"marker\":{\"colorbar\":{\"outlinewidth\":0,\"ticks\":\"\"}}}],\"scattercarpet\":[{\"type\":\"scattercarpet\",\"marker\":{\"colorbar\":{\"outlinewidth\":0,\"ticks\":\"\"}}}],\"carpet\":[{\"aaxis\":{\"endlinecolor\":\"#2a3f5f\",\"gridcolor\":\"white\",\"linecolor\":\"white\",\"minorgridcolor\":\"white\",\"startlinecolor\":\"#2a3f5f\"},\"baxis\":{\"endlinecolor\":\"#2a3f5f\",\"gridcolor\":\"white\",\"linecolor\":\"white\",\"minorgridcolor\":\"white\",\"startlinecolor\":\"#2a3f5f\"},\"type\":\"carpet\"}],\"table\":[{\"cells\":{\"fill\":{\"color\":\"#EBF0F8\"},\"line\":{\"color\":\"white\"}},\"header\":{\"fill\":{\"color\":\"#C8D4E3\"},\"line\":{\"color\":\"white\"}},\"type\":\"table\"}],\"barpolar\":[{\"marker\":{\"line\":{\"color\":\"#E5ECF6\",\"width\":0.5},\"pattern\":{\"fillmode\":\"overlay\",\"size\":10,\"solidity\":0.2}},\"type\":\"barpolar\"}],\"pie\":[{\"automargin\":true,\"type\":\"pie\"}]},\"layout\":{\"autotypenumbers\":\"strict\",\"colorway\":[\"#636efa\",\"#EF553B\",\"#00cc96\",\"#ab63fa\",\"#FFA15A\",\"#19d3f3\",\"#FF6692\",\"#B6E880\",\"#FF97FF\",\"#FECB52\"],\"font\":{\"color\":\"#2a3f5f\"},\"hovermode\":\"closest\",\"hoverlabel\":{\"align\":\"left\"},\"paper_bgcolor\":\"white\",\"plot_bgcolor\":\"#E5ECF6\",\"polar\":{\"bgcolor\":\"#E5ECF6\",\"angularaxis\":{\"gridcolor\":\"white\",\"linecolor\":\"white\",\"ticks\":\"\"},\"radialaxis\":{\"gridcolor\":\"white\",\"linecolor\":\"white\",\"ticks\":\"\"}},\"ternary\":{\"bgcolor\":\"#E5ECF6\",\"aaxis\":{\"gridcolor\":\"white\",\"linecolor\":\"white\",\"ticks\":\"\"},\"baxis\":{\"gridcolor\":\"white\",\"linecolor\":\"white\",\"ticks\":\"\"},\"caxis\":{\"gridcolor\":\"white\",\"linecolor\":\"white\",\"ticks\":\"\"}},\"coloraxis\":{\"colorbar\":{\"outlinewidth\":0,\"ticks\":\"\"}},\"colorscale\":{\"sequential\":[[0.0,\"#0d0887\"],[0.1111111111111111,\"#46039f\"],[0.2222222222222222,\"#7201a8\"],[0.3333333333333333,\"#9c179e\"],[0.4444444444444444,\"#bd3786\"],[0.5555555555555556,\"#d8576b\"],[0.6666666666666666,\"#ed7953\"],[0.7777777777777778,\"#fb9f3a\"],[0.8888888888888888,\"#fdca26\"],[1.0,\"#f0f921\"]],\"sequentialminus\":[[0.0,\"#0d0887\"],[0.1111111111111111,\"#46039f\"],[0.2222222222222222,\"#7201a8\"],[0.3333333333333333,\"#9c179e\"],[0.4444444444444444,\"#bd3786\"],[0.5555555555555556,\"#d8576b\"],[0.6666666666666666,\"#ed7953\"],[0.7777777777777778,\"#fb9f3a\"],[0.8888888888888888,\"#fdca26\"],[1.0,\"#f0f921\"]],\"diverging\":[[0,\"#8e0152\"],[0.1,\"#c51b7d\"],[0.2,\"#de77ae\"],[0.3,\"#f1b6da\"],[0.4,\"#fde0ef\"],[0.5,\"#f7f7f7\"],[0.6,\"#e6f5d0\"],[0.7,\"#b8e186\"],[0.8,\"#7fbc41\"],[0.9,\"#4d9221\"],[1,\"#276419\"]]},\"xaxis\":{\"gridcolor\":\"white\",\"linecolor\":\"white\",\"ticks\":\"\",\"title\":{\"standoff\":15},\"zerolinecolor\":\"white\",\"automargin\":true,\"zerolinewidth\":2},\"yaxis\":{\"gridcolor\":\"white\",\"linecolor\":\"white\",\"ticks\":\"\",\"title\":{\"standoff\":15},\"zerolinecolor\":\"white\",\"automargin\":true,\"zerolinewidth\":2},\"scene\":{\"xaxis\":{\"backgroundcolor\":\"#E5ECF6\",\"gridcolor\":\"white\",\"linecolor\":\"white\",\"showbackground\":true,\"ticks\":\"\",\"zerolinecolor\":\"white\",\"gridwidth\":2},\"yaxis\":{\"backgroundcolor\":\"#E5ECF6\",\"gridcolor\":\"white\",\"linecolor\":\"white\",\"showbackground\":true,\"ticks\":\"\",\"zerolinecolor\":\"white\",\"gridwidth\":2},\"zaxis\":{\"backgroundcolor\":\"#E5ECF6\",\"gridcolor\":\"white\",\"linecolor\":\"white\",\"showbackground\":true,\"ticks\":\"\",\"zerolinecolor\":\"white\",\"gridwidth\":2}},\"shapedefaults\":{\"line\":{\"color\":\"#2a3f5f\"}},\"annotationdefaults\":{\"arrowcolor\":\"#2a3f5f\",\"arrowhead\":0,\"arrowwidth\":1},\"geo\":{\"bgcolor\":\"white\",\"landcolor\":\"#E5ECF6\",\"subunitcolor\":\"white\",\"showland\":true,\"showlakes\":true,\"lakecolor\":\"white\"},\"title\":{\"x\":0.05},\"mapbox\":{\"style\":\"light\"}}},\"geo\":{\"domain\":{\"x\":[0.0,1.0],\"y\":[0.0,1.0]},\"center\":{}},\"coloraxis\":{\"colorbar\":{\"title\":{\"text\":\"Emissions, t\"}},\"colorscale\":[[0.0,\"#0d0887\"],[0.1111111111111111,\"#46039f\"],[0.2222222222222222,\"#7201a8\"],[0.3333333333333333,\"#9c179e\"],[0.4444444444444444,\"#bd3786\"],[0.5555555555555556,\"#d8576b\"],[0.6666666666666666,\"#ed7953\"],[0.7777777777777778,\"#fb9f3a\"],[0.8888888888888888,\"#fdca26\"],[1.0,\"#f0f921\"]]},\"legend\":{\"tracegroupgap\":0},\"margin\":{\"t\":60}},                        {\"responsive\": true}                    ).then(function(){\n                            \nvar gd = document.getElementById('43fd782e-b112-4ff3-bb34-6f3cb0eb2a8b');\nvar x = new MutationObserver(function (mutations, observer) {{\n        var display = window.getComputedStyle(gd).display;\n        if (!display || display === 'none') {{\n            console.log([gd, 'removed!']);\n            Plotly.purge(gd);\n            observer.disconnect();\n        }}\n}});\n\n// Listen for the removal of the full notebook cells\nvar notebookContainer = gd.closest('#notebook-container');\nif (notebookContainer) {{\n    x.observe(notebookContainer, {childList: true});\n}}\n\n// Listen for the clearing of the current output cell\nvar outputEl = gd.closest('.output');\nif (outputEl) {{\n    x.observe(outputEl, {childList: true});\n}}\n\n                        })                };                            </script>        </div>\n</body>\n</html>"
     },
     "metadata": {},
     "output_type": "display_data"
    }
   ],
   "execution_count": 20
  },
  {
   "cell_type": "code",
   "source": "df=pd.DataFrame(df)",
   "metadata": {
    "cell_id": "5817214855d84085ba22c153a3be7d2a",
    "tags": [],
    "deepnote_to_be_reexecuted": false,
    "source_hash": "bb30817c",
    "execution_start": 1660879957292,
    "execution_millis": 3,
    "deepnote_cell_type": "code",
    "deepnote_cell_height": 76
   },
   "outputs": [],
   "execution_count": 21
  },
  {
   "cell_type": "code",
   "source": "emitters=list(ASGM_emissions['Country'].values)\nlen(emitters)",
   "metadata": {
    "cell_id": "dfcd22c5c70a4173817ea1191d913d15",
    "tags": [],
    "deepnote_to_be_reexecuted": false,
    "source_hash": "4d0972ea",
    "execution_start": 1660880137930,
    "execution_millis": 458,
    "deepnote_cell_type": "code",
    "deepnote_cell_height": 130.1875,
    "deepnote_output_heights": [
     20.1875
    ]
   },
   "outputs": [
    {
     "output_type": "execute_result",
     "execution_count": 27,
     "data": {
      "text/plain": "81"
     },
     "metadata": {}
    }
   ],
   "execution_count": 27
  },
  {
   "cell_type": "code",
   "source": "df_emitters=df[df['country'].isin(emitters)]\nprint(len(df_emitters))",
   "metadata": {
    "cell_id": "a5a2526af35b41f78c6cf7964eafc5a1",
    "tags": [],
    "deepnote_to_be_reexecuted": false,
    "source_hash": "84755b1c",
    "execution_start": 1660880173777,
    "execution_millis": 0,
    "deepnote_table_state": {
     "pageSize": 100,
     "pageIndex": 0,
     "filters": [],
     "sortBy": []
    },
    "deepnote_table_loading": false,
    "deepnote_cell_type": "code",
    "deepnote_cell_height": 125.1875
   },
   "outputs": [
    {
     "name": "stdout",
     "text": "63\n",
     "output_type": "stream"
    }
   ],
   "execution_count": 30
  },
  {
   "cell_type": "code",
   "source": "df_emitters",
   "metadata": {
    "cell_id": "00019-1556048b-c895-4c85-a801-1dd223635b02",
    "deepnote_to_be_reexecuted": false,
    "source_hash": "a0f1a59e",
    "execution_start": 1660880283850,
    "execution_millis": 58,
    "deepnote_table_state": {
     "pageSize": 10,
     "pageIndex": 0,
     "filters": [],
     "sortBy": []
    },
    "deepnote_table_loading": false,
    "deepnote_table_invalid": false,
    "deepnote_cell_type": "code",
    "deepnote_cell_height": 595
   },
   "execution_count": 32,
   "outputs": [
    {
     "output_type": "execute_result",
     "execution_count": 32,
     "data": {
      "application/vnd.deepnote.dataframe.v3+json": {
       "column_count": 8,
       "row_count": 63,
       "columns": [
        {
         "name": "country",
         "dtype": "object",
         "stats": {
          "unique_count": 63,
          "nan_count": 0,
          "categories": [
           {
            "name": "Angola",
            "count": 1
           },
           {
            "name": "Benin",
            "count": 1
           },
           {
            "name": "61 others",
            "count": 61
           }
          ]
         }
        },
        {
         "name": "continent",
         "dtype": "object",
         "stats": {
          "unique_count": 3,
          "nan_count": 0,
          "categories": [
           {
            "name": "Africa",
            "count": 37
           },
           {
            "name": "Americas",
            "count": 15
           },
           {
            "name": "Asia",
            "count": 11
           }
          ]
         }
        },
        {
         "name": "year",
         "dtype": "int64",
         "stats": {
          "unique_count": 1,
          "nan_count": 0,
          "min": "2007",
          "max": "2007",
          "histogram": [
           {
            "bin_start": 2006.5,
            "bin_end": 2006.6,
            "count": 0
           },
           {
            "bin_start": 2006.6,
            "bin_end": 2006.7,
            "count": 0
           },
           {
            "bin_start": 2006.7,
            "bin_end": 2006.8,
            "count": 0
           },
           {
            "bin_start": 2006.8,
            "bin_end": 2006.9,
            "count": 0
           },
           {
            "bin_start": 2006.9,
            "bin_end": 2007,
            "count": 0
           },
           {
            "bin_start": 2007,
            "bin_end": 2007.1,
            "count": 63
           },
           {
            "bin_start": 2007.1,
            "bin_end": 2007.2,
            "count": 0
           },
           {
            "bin_start": 2007.2,
            "bin_end": 2007.3,
            "count": 0
           },
           {
            "bin_start": 2007.3,
            "bin_end": 2007.4,
            "count": 0
           },
           {
            "bin_start": 2007.4,
            "bin_end": 2007.5,
            "count": 0
           }
          ]
         }
        },
        {
         "name": "lifeExp",
         "dtype": "float64",
         "stats": {
          "unique_count": 63,
          "nan_count": 0,
          "min": "39.613",
          "max": "78.782",
          "histogram": [
           {
            "bin_start": 39.613,
            "bin_end": 43.5299,
            "count": 7
           },
           {
            "bin_start": 43.5299,
            "bin_end": 47.446799999999996,
            "count": 5
           },
           {
            "bin_start": 47.446799999999996,
            "bin_end": 51.363699999999994,
            "count": 7
           },
           {
            "bin_start": 51.363699999999994,
            "bin_end": 55.2806,
            "count": 6
           },
           {
            "bin_start": 55.2806,
            "bin_end": 59.1975,
            "count": 7
           },
           {
            "bin_start": 59.1975,
            "bin_end": 63.114399999999996,
            "count": 6
           },
           {
            "bin_start": 63.114399999999996,
            "bin_end": 67.0313,
            "count": 4
           },
           {
            "bin_start": 67.0313,
            "bin_end": 70.9482,
            "count": 4
           },
           {
            "bin_start": 70.9482,
            "bin_end": 74.8651,
            "count": 12
           },
           {
            "bin_start": 74.8651,
            "bin_end": 78.782,
            "count": 5
           }
          ]
         }
        },
        {
         "name": "pop",
         "dtype": "int64",
         "stats": {
          "unique_count": 63,
          "nan_count": 0,
          "min": "1133066",
          "max": "1318683096",
          "histogram": [
           {
            "bin_start": 1133066,
            "bin_end": 132888069,
            "count": 58
           },
           {
            "bin_start": 132888069,
            "bin_end": 264643072,
            "count": 3
           },
           {
            "bin_start": 264643072,
            "bin_end": 396398075,
            "count": 0
           },
           {
            "bin_start": 396398075,
            "bin_end": 528153078,
            "count": 0
           },
           {
            "bin_start": 528153078,
            "bin_end": 659908081,
            "count": 0
           },
           {
            "bin_start": 659908081,
            "bin_end": 791663084,
            "count": 0
           },
           {
            "bin_start": 791663084,
            "bin_end": 923418087,
            "count": 0
           },
           {
            "bin_start": 923418087,
            "bin_end": 1055173090,
            "count": 0
           },
           {
            "bin_start": 1055173090,
            "bin_end": 1186928093,
            "count": 1
           },
           {
            "bin_start": 1186928093,
            "bin_end": 1318683096,
            "count": 1
           }
          ]
         }
        },
        {
         "name": "gdpPercap",
         "dtype": "float64",
         "stats": {
          "unique_count": 63,
          "nan_count": 0,
          "min": "414.5073415",
          "max": "13206.48452",
          "histogram": [
           {
            "bin_start": 414.5073415,
            "bin_end": 1693.7050593499998,
            "count": 27
           },
           {
            "bin_start": 1693.7050593499998,
            "bin_end": 2972.9027772,
            "count": 10
           },
           {
            "bin_start": 2972.9027772,
            "bin_end": 4252.100495049999,
            "count": 6
           },
           {
            "bin_start": 4252.100495049999,
            "bin_end": 5531.298212899999,
            "count": 4
           },
           {
            "bin_start": 5531.298212899999,
            "bin_end": 6810.495930749999,
            "count": 1
           },
           {
            "bin_start": 6810.495930749999,
            "bin_end": 8089.693648599999,
            "count": 4
           },
           {
            "bin_start": 8089.693648599999,
            "bin_end": 9368.89136645,
            "count": 2
           },
           {
            "bin_start": 9368.89136645,
            "bin_end": 10648.0890843,
            "count": 2
           },
           {
            "bin_start": 10648.0890843,
            "bin_end": 11927.28680215,
            "count": 2
           },
           {
            "bin_start": 11927.28680215,
            "bin_end": 13206.48452,
            "count": 5
           }
          ]
         }
        },
        {
         "name": "iso_alpha",
         "dtype": "object",
         "stats": {
          "unique_count": 63,
          "nan_count": 0,
          "categories": [
           {
            "name": "AGO",
            "count": 1
           },
           {
            "name": "BEN",
            "count": 1
           },
           {
            "name": "61 others",
            "count": 61
           }
          ]
         }
        },
        {
         "name": "iso_num",
         "dtype": "int64",
         "stats": {
          "unique_count": 63,
          "nan_count": 0,
          "min": "24",
          "max": "894",
          "histogram": [
           {
            "bin_start": 24,
            "bin_end": 111,
            "count": 6
           },
           {
            "bin_start": 111,
            "bin_end": 198,
            "count": 8
           },
           {
            "bin_start": 198,
            "bin_end": 285,
            "count": 7
           },
           {
            "bin_start": 285,
            "bin_end": 372,
            "count": 7
           },
           {
            "bin_start": 372,
            "bin_end": 459,
            "count": 7
           },
           {
            "bin_start": 459,
            "bin_end": 546,
            "count": 5
           },
           {
            "bin_start": 546,
            "bin_end": 633,
            "count": 8
           },
           {
            "bin_start": 633,
            "bin_end": 720,
            "count": 6
           },
           {
            "bin_start": 720,
            "bin_end": 807,
            "count": 5
           },
           {
            "bin_start": 807,
            "bin_end": 894,
            "count": 4
           }
          ]
         }
        },
        {
         "name": "_deepnote_index_column",
         "dtype": "int64"
        }
       ],
       "rows": [
        {
         "country": "Angola",
         "continent": "Africa",
         "year": 2007,
         "lifeExp": 42.731,
         "pop": 12420476,
         "gdpPercap": 4797.231267,
         "iso_alpha": "AGO",
         "iso_num": 24,
         "_deepnote_index_column": 47
        },
        {
         "country": "Benin",
         "continent": "Africa",
         "year": 2007,
         "lifeExp": 56.728,
         "pop": 8078314,
         "gdpPercap": 1441.284873,
         "iso_alpha": "BEN",
         "iso_num": 204,
         "_deepnote_index_column": 131
        },
        {
         "country": "Bolivia",
         "continent": "Americas",
         "year": 2007,
         "lifeExp": 65.554,
         "pop": 9119152,
         "gdpPercap": 3822.137084,
         "iso_alpha": "BOL",
         "iso_num": 68,
         "_deepnote_index_column": 143
        },
        {
         "country": "Botswana",
         "continent": "Africa",
         "year": 2007,
         "lifeExp": 50.728,
         "pop": 1639131,
         "gdpPercap": 12569.85177,
         "iso_alpha": "BWA",
         "iso_num": 72,
         "_deepnote_index_column": 167
        },
        {
         "country": "Brazil",
         "continent": "Americas",
         "year": 2007,
         "lifeExp": 72.39,
         "pop": 190010647,
         "gdpPercap": 9065.800825,
         "iso_alpha": "BRA",
         "iso_num": 76,
         "_deepnote_index_column": 179
        },
        {
         "country": "Burkina Faso",
         "continent": "Africa",
         "year": 2007,
         "lifeExp": 52.295,
         "pop": 14326203,
         "gdpPercap": 1217.032994,
         "iso_alpha": "BFA",
         "iso_num": 854,
         "_deepnote_index_column": 203
        },
        {
         "country": "Burundi",
         "continent": "Africa",
         "year": 2007,
         "lifeExp": 49.58,
         "pop": 8390505,
         "gdpPercap": 430.0706916,
         "iso_alpha": "BDI",
         "iso_num": 108,
         "_deepnote_index_column": 215
        },
        {
         "country": "Cambodia",
         "continent": "Asia",
         "year": 2007,
         "lifeExp": 59.723,
         "pop": 14131858,
         "gdpPercap": 1713.778686,
         "iso_alpha": "KHM",
         "iso_num": 116,
         "_deepnote_index_column": 227
        },
        {
         "country": "Cameroon",
         "continent": "Africa",
         "year": 2007,
         "lifeExp": 50.43,
         "pop": 17696293,
         "gdpPercap": 2042.09524,
         "iso_alpha": "CMR",
         "iso_num": 120,
         "_deepnote_index_column": 239
        },
        {
         "country": "Central African Republic",
         "continent": "Africa",
         "year": 2007,
         "lifeExp": 44.74100000000001,
         "pop": 4369038,
         "gdpPercap": 706.016537,
         "iso_alpha": "CAF",
         "iso_num": 140,
         "_deepnote_index_column": 263
        }
       ]
      },
      "text/plain": "        country continent  year  lifeExp       pop     gdpPercap iso_alpha  \\\n47       Angola    Africa  2007   42.731  12420476   4797.231267       AGO   \n131       Benin    Africa  2007   56.728   8078314   1441.284873       BEN   \n143     Bolivia  Americas  2007   65.554   9119152   3822.137084       BOL   \n167    Botswana    Africa  2007   50.728   1639131  12569.851770       BWA   \n...         ...       ...   ...      ...       ...           ...       ...   \n1643  Venezuela  Americas  2007   73.747  26084662  11415.805690       VEN   \n1655    Vietnam      Asia  2007   74.249  85262356   2441.576404       VNM   \n1691     Zambia    Africa  2007   42.384  11746035   1271.211593       ZMB   \n1703   Zimbabwe    Africa  2007   43.487  12311143    469.709298       ZWE   \n\n      iso_num  \n47         24  \n131       204  \n143        68  \n167        72  \n...       ...  \n1643      862  \n1655      704  \n1691      894  \n1703      716  \n\n[63 rows x 8 columns]",
      "text/html": "<div>\n<style scoped>\n    .dataframe tbody tr th:only-of-type {\n        vertical-align: middle;\n    }\n\n    .dataframe tbody tr th {\n        vertical-align: top;\n    }\n\n    .dataframe thead th {\n        text-align: right;\n    }\n</style>\n<table border=\"1\" class=\"dataframe\">\n  <thead>\n    <tr style=\"text-align: right;\">\n      <th></th>\n      <th>country</th>\n      <th>continent</th>\n      <th>year</th>\n      <th>lifeExp</th>\n      <th>pop</th>\n      <th>gdpPercap</th>\n      <th>iso_alpha</th>\n      <th>iso_num</th>\n    </tr>\n  </thead>\n  <tbody>\n    <tr>\n      <th>47</th>\n      <td>Angola</td>\n      <td>Africa</td>\n      <td>2007</td>\n      <td>42.731</td>\n      <td>12420476</td>\n      <td>4797.231267</td>\n      <td>AGO</td>\n      <td>24</td>\n    </tr>\n    <tr>\n      <th>131</th>\n      <td>Benin</td>\n      <td>Africa</td>\n      <td>2007</td>\n      <td>56.728</td>\n      <td>8078314</td>\n      <td>1441.284873</td>\n      <td>BEN</td>\n      <td>204</td>\n    </tr>\n    <tr>\n      <th>143</th>\n      <td>Bolivia</td>\n      <td>Americas</td>\n      <td>2007</td>\n      <td>65.554</td>\n      <td>9119152</td>\n      <td>3822.137084</td>\n      <td>BOL</td>\n      <td>68</td>\n    </tr>\n    <tr>\n      <th>167</th>\n      <td>Botswana</td>\n      <td>Africa</td>\n      <td>2007</td>\n      <td>50.728</td>\n      <td>1639131</td>\n      <td>12569.851770</td>\n      <td>BWA</td>\n      <td>72</td>\n    </tr>\n    <tr>\n      <th>...</th>\n      <td>...</td>\n      <td>...</td>\n      <td>...</td>\n      <td>...</td>\n      <td>...</td>\n      <td>...</td>\n      <td>...</td>\n      <td>...</td>\n    </tr>\n    <tr>\n      <th>1643</th>\n      <td>Venezuela</td>\n      <td>Americas</td>\n      <td>2007</td>\n      <td>73.747</td>\n      <td>26084662</td>\n      <td>11415.805690</td>\n      <td>VEN</td>\n      <td>862</td>\n    </tr>\n    <tr>\n      <th>1655</th>\n      <td>Vietnam</td>\n      <td>Asia</td>\n      <td>2007</td>\n      <td>74.249</td>\n      <td>85262356</td>\n      <td>2441.576404</td>\n      <td>VNM</td>\n      <td>704</td>\n    </tr>\n    <tr>\n      <th>1691</th>\n      <td>Zambia</td>\n      <td>Africa</td>\n      <td>2007</td>\n      <td>42.384</td>\n      <td>11746035</td>\n      <td>1271.211593</td>\n      <td>ZMB</td>\n      <td>894</td>\n    </tr>\n    <tr>\n      <th>1703</th>\n      <td>Zimbabwe</td>\n      <td>Africa</td>\n      <td>2007</td>\n      <td>43.487</td>\n      <td>12311143</td>\n      <td>469.709298</td>\n      <td>ZWE</td>\n      <td>716</td>\n    </tr>\n  </tbody>\n</table>\n<p>63 rows × 8 columns</p>\n</div>"
     },
     "metadata": {}
    }
   ]
  },
  {
   "cell_type": "code",
   "source": "gapminder = px.data.gapminder() \ngapminder['country'].unique()\n",
   "metadata": {
    "cell_id": "83afbea201b94f61b1944d2f787cc26d",
    "tags": [],
    "deepnote_to_be_reexecuted": false,
    "source_hash": "58ba3897",
    "execution_start": 1660881027810,
    "execution_millis": 14,
    "deepnote_cell_type": "code",
    "deepnote_cell_height": 631
   },
   "outputs": [
    {
     "output_type": "execute_result",
     "execution_count": 39,
     "data": {
      "text/plain": "array(['Afghanistan', 'Albania', 'Algeria', 'Angola', 'Argentina',\n       'Australia', 'Austria', 'Bahrain', 'Bangladesh', 'Belgium',\n       'Benin', 'Bolivia', 'Bosnia and Herzegovina', 'Botswana', 'Brazil',\n       'Bulgaria', 'Burkina Faso', 'Burundi', 'Cambodia', 'Cameroon',\n       'Canada', 'Central African Republic', 'Chad', 'Chile', 'China',\n       'Colombia', 'Comoros', 'Congo, Dem. Rep.', 'Congo, Rep.',\n       'Costa Rica', \"Cote d'Ivoire\", 'Croatia', 'Cuba', 'Czech Republic',\n       'Denmark', 'Djibouti', 'Dominican Republic', 'Ecuador', 'Egypt',\n       'El Salvador', 'Equatorial Guinea', 'Eritrea', 'Ethiopia',\n       'Finland', 'France', 'Gabon', 'Gambia', 'Germany', 'Ghana',\n       'Greece', 'Guatemala', 'Guinea', 'Guinea-Bissau', 'Haiti',\n       'Honduras', 'Hong Kong, China', 'Hungary', 'Iceland', 'India',\n       'Indonesia', 'Iran', 'Iraq', 'Ireland', 'Israel', 'Italy',\n       'Jamaica', 'Japan', 'Jordan', 'Kenya', 'Korea, Dem. Rep.',\n       'Korea, Rep.', 'Kuwait', 'Lebanon', 'Lesotho', 'Liberia', 'Libya',\n       'Madagascar', 'Malawi', 'Malaysia', 'Mali', 'Mauritania',\n       'Mauritius', 'Mexico', 'Mongolia', 'Montenegro', 'Morocco',\n       'Mozambique', 'Myanmar', 'Namibia', 'Nepal', 'Netherlands',\n       'New Zealand', 'Nicaragua', 'Niger', 'Nigeria', 'Norway', 'Oman',\n       'Pakistan', 'Panama', 'Paraguay', 'Peru', 'Philippines', 'Poland',\n       'Portugal', 'Puerto Rico', 'Reunion', 'Romania', 'Rwanda',\n       'Sao Tome and Principe', 'Saudi Arabia', 'Senegal', 'Serbia',\n       'Sierra Leone', 'Singapore', 'Slovak Republic', 'Slovenia',\n       'Somalia', 'South Africa', 'Spain', 'Sri Lanka', 'Sudan',\n       'Swaziland', 'Sweden', 'Switzerland', 'Syria', 'Taiwan',\n       'Tanzania', 'Thailand', 'Togo', 'Trinidad and Tobago', 'Tunisia',\n       'Turkey', 'Uganda', 'United Kingdom', 'United States', 'Uruguay',\n       'Venezuela', 'Vietnam', 'West Bank and Gaza', 'Yemen, Rep.',\n       'Zambia', 'Zimbabwe'], dtype=object)"
     },
     "metadata": {}
    }
   ],
   "execution_count": 39
  },
  {
   "cell_type": "code",
   "source": "for item in emitters:\n    if item in list(df_emitters['country'].values):\n        pass\n    else:\n        print(item)",
   "metadata": {
    "cell_id": "70955c9c99734bf7b899c36d0150b84c",
    "tags": [],
    "deepnote_to_be_reexecuted": false,
    "source_hash": "76361958",
    "execution_start": 1660880712110,
    "execution_millis": 3,
    "deepnote_cell_type": "code",
    "deepnote_cell_height": 502.1875,
    "deepnote_output_heights": [
     610
    ]
   },
   "outputs": [
    {
     "name": "stdout",
     "text": "Suriname\nFrench Guiana\nGuyana\nLao Peoples Democratic Republic\nCongo\nDemocratic Republic of Congo\nKyrgyzstan\nPapua New Guinea\nRussia\nSouth Sudan\nTajikistan\nAzerbaijan\nDominican Rep.\nEquitorial Guinea\nKazakhstan\nUkraine\nUzbekistan\n",
     "output_type": "stream"
    }
   ],
   "execution_count": 34
  },
  {
   "cell_type": "code",
   "source": "for item in df.country:\n    print(item)",
   "metadata": {
    "cell_id": "69c7689309854d0384d65c22212b2d32",
    "tags": [],
    "deepnote_to_be_reexecuted": false,
    "source_hash": "ab060ca7",
    "execution_start": 1660880828910,
    "execution_millis": 7,
    "deepnote_cell_type": "code",
    "deepnote_cell_height": 714,
    "deepnote_output_heights": [
     192.875
    ]
   },
   "outputs": [
    {
     "name": "stdout",
     "text": "Afghanistan\nAlbania\nAlgeria\nAngola\nArgentina\nAustralia\nAustria\nBahrain\nBangladesh\nBelgium\nBenin\nBolivia\nBosnia and Herzegovina\nBotswana\nBrazil\nBulgaria\nBurkina Faso\nBurundi\nCambodia\nCameroon\nCanada\nCentral African Republic\nChad\nChile\nChina\nColombia\nComoros\nCongo, Dem. Rep.\nCongo, Rep.\nCosta Rica\nCote d'Ivoire\nCroatia\nCuba\nCzech Republic\nDenmark\nDjibouti\nDominican Republic\nEcuador\nEgypt\nEl Salvador\nEquatorial Guinea\nEritrea\nEthiopia\nFinland\nFrance\nGabon\nGambia\nGermany\nGhana\nGreece\nGuatemala\nGuinea\nGuinea-Bissau\nHaiti\nHonduras\nHong Kong, China\nHungary\nIceland\nIndia\nIndonesia\nIran\nIraq\nIreland\nIsrael\nItaly\nJamaica\nJapan\nJordan\nKenya\nKorea, Dem. Rep.\nKorea, Rep.\nKuwait\nLebanon\nLesotho\nLiberia\nLibya\nMadagascar\nMalawi\nMalaysia\nMali\nMauritania\nMauritius\nMexico\nMongolia\nMontenegro\nMorocco\nMozambique\nMyanmar\nNamibia\nNepal\nNetherlands\nNew Zealand\nNicaragua\nNiger\nNigeria\nNorway\nOman\nPakistan\nPanama\nParaguay\nPeru\nPhilippines\nPoland\nPortugal\nPuerto Rico\nReunion\nRomania\nRwanda\nSao Tome and Principe\nSaudi Arabia\nSenegal\nSerbia\nSierra Leone\nSingapore\nSlovak Republic\nSlovenia\nSomalia\nSouth Africa\nSpain\nSri Lanka\nSudan\nSwaziland\nSweden\nSwitzerland\nSyria\nTaiwan\nTanzania\nThailand\nTogo\nTrinidad and Tobago\nTunisia\nTurkey\nUganda\nUnited Kingdom\nUnited States\nUruguay\nVenezuela\nVietnam\nWest Bank and Gaza\nYemen, Rep.\nZambia\nZimbabwe\n",
     "output_type": "stream"
    }
   ],
   "execution_count": 36
  },
  {
   "cell_type": "code",
   "metadata": {
    "cell_id": "00020-db558293-c327-45d8-a052-39177912c544",
    "deepnote_to_be_reexecuted": true,
    "source_hash": "4eb78fcf",
    "deepnote_cell_type": "code",
    "deepnote_cell_height": 385,
    "deepnote_output_heights": [
     234
    ]
   },
   "source": "df_emission_sectors=pd.DataFrame([GlobalHgInventry]).T.reset_index()\ndf_emission_sectors=df_emission_sectors.rename(columns={\"index\": \"Emission Sectors\", 0: \"Emissions Amount,t\"})\ndf_emission_sectors\n",
   "outputs": [
    {
     "data": {
      "text/html": "<div>\n<style scoped>\n    .dataframe tbody tr th:only-of-type {\n        vertical-align: middle;\n    }\n\n    .dataframe tbody tr th {\n        vertical-align: top;\n    }\n\n    .dataframe thead th {\n        text-align: right;\n    }\n</style>\n<table border=\"1\" class=\"dataframe\">\n  <thead>\n    <tr style=\"text-align: right;\">\n      <th></th>\n      <th>Emission Sectors</th>\n      <th>Emissions Amount,t</th>\n    </tr>\n  </thead>\n  <tbody>\n    <tr>\n      <th>0</th>\n      <td>Fuel combustion</td>\n      <td>533</td>\n    </tr>\n    <tr>\n      <th>1</th>\n      <td>Industry Sectors</td>\n      <td>614</td>\n    </tr>\n    <tr>\n      <th>2</th>\n      <td>Intentional Use(including product waste)</td>\n      <td>239</td>\n    </tr>\n    <tr>\n      <th>3</th>\n      <td>Artisanal and Small Scale Gold Mining</td>\n      <td>838</td>\n    </tr>\n    <tr>\n      <th>4</th>\n      <td>Total</td>\n      <td>2220</td>\n    </tr>\n    <tr>\n      <th>5</th>\n      <td>Total Lower</td>\n      <td>2000</td>\n    </tr>\n    <tr>\n      <th>6</th>\n      <td>Total Upper</td>\n      <td>2820</td>\n    </tr>\n  </tbody>\n</table>\n</div>",
      "text/plain": "                           Emission Sectors  Emissions Amount,t\n0                           Fuel combustion                 533\n1                          Industry Sectors                 614\n2  Intentional Use(including product waste)                 239\n3     Artisanal and Small Scale Gold Mining                 838\n4                                     Total                2220\n5                               Total Lower                2000\n6                               Total Upper                2820"
     },
     "execution_count": 21,
     "metadata": {},
     "output_type": "execute_result"
    }
   ],
   "execution_count": null
  },
  {
   "cell_type": "code",
   "metadata": {
    "cell_id": "00021-81ee568c-5441-4813-a439-8026ce6bc0b1",
    "deepnote_to_be_reexecuted": true,
    "source_hash": "a7177324",
    "deepnote_cell_type": "code",
    "deepnote_cell_height": 749,
    "deepnote_output_heights": [
     526
    ]
   },
   "source": "fig = px.bar(df_emission_sectors[:4], x=\"Emission Sectors\", y=\"Emissions Amount,t\", color=\"Emission Sectors\",\n             orientation=\"v\", hover_name=\"Emissions Amount,t\",\n             color_discrete_sequence=[\n                 \"orange\", \"red\", \"green\", \"blue\"],\n             title=\"Hg Emission Sectors\"\n             )\n \nfig.show()",
   "outputs": [
    {
     "data": {
      "application/vnd.plotly.v1+json": {
       "config": {
        "plotlyServerURL": "https://plot.ly"
       },
       "data": [
        {
         "alignmentgroup": "True",
         "hovertemplate": "<b>%{hovertext}</b><br><br>Emission Sectors=%{x}<br>Emissions Amount,t=%{y}<extra></extra>",
         "hovertext": [
          533
         ],
         "legendgroup": "Fuel combustion",
         "marker": {
          "color": "orange",
          "pattern": {
           "shape": ""
          }
         },
         "name": "Fuel combustion",
         "offsetgroup": "Fuel combustion",
         "orientation": "v",
         "showlegend": true,
         "textposition": "auto",
         "type": "bar",
         "x": [
          "Fuel combustion"
         ],
         "xaxis": "x",
         "y": [
          533
         ],
         "yaxis": "y"
        },
        {
         "alignmentgroup": "True",
         "hovertemplate": "<b>%{hovertext}</b><br><br>Emission Sectors=%{x}<br>Emissions Amount,t=%{y}<extra></extra>",
         "hovertext": [
          614
         ],
         "legendgroup": "Industry Sectors",
         "marker": {
          "color": "red",
          "pattern": {
           "shape": ""
          }
         },
         "name": "Industry Sectors",
         "offsetgroup": "Industry Sectors",
         "orientation": "v",
         "showlegend": true,
         "textposition": "auto",
         "type": "bar",
         "x": [
          "Industry Sectors"
         ],
         "xaxis": "x",
         "y": [
          614
         ],
         "yaxis": "y"
        },
        {
         "alignmentgroup": "True",
         "hovertemplate": "<b>%{hovertext}</b><br><br>Emission Sectors=%{x}<br>Emissions Amount,t=%{y}<extra></extra>",
         "hovertext": [
          239
         ],
         "legendgroup": "Intentional Use(including product waste)",
         "marker": {
          "color": "green",
          "pattern": {
           "shape": ""
          }
         },
         "name": "Intentional Use(including product waste)",
         "offsetgroup": "Intentional Use(including product waste)",
         "orientation": "v",
         "showlegend": true,
         "textposition": "auto",
         "type": "bar",
         "x": [
          "Intentional Use(including product waste)"
         ],
         "xaxis": "x",
         "y": [
          239
         ],
         "yaxis": "y"
        },
        {
         "alignmentgroup": "True",
         "hovertemplate": "<b>%{hovertext}</b><br><br>Emission Sectors=%{x}<br>Emissions Amount,t=%{y}<extra></extra>",
         "hovertext": [
          838
         ],
         "legendgroup": "Artisanal and Small Scale Gold Mining",
         "marker": {
          "color": "blue",
          "pattern": {
           "shape": ""
          }
         },
         "name": "Artisanal and Small Scale Gold Mining",
         "offsetgroup": "Artisanal and Small Scale Gold Mining",
         "orientation": "v",
         "showlegend": true,
         "textposition": "auto",
         "type": "bar",
         "x": [
          "Artisanal and Small Scale Gold Mining"
         ],
         "xaxis": "x",
         "y": [
          838
         ],
         "yaxis": "y"
        }
       ],
       "layout": {
        "barmode": "relative",
        "legend": {
         "title": {
          "text": "Emission Sectors"
         },
         "tracegroupgap": 0
        },
        "template": {
         "data": {
          "bar": [
           {
            "error_x": {
             "color": "#2a3f5f"
            },
            "error_y": {
             "color": "#2a3f5f"
            },
            "marker": {
             "line": {
              "color": "#E5ECF6",
              "width": 0.5
             },
             "pattern": {
              "fillmode": "overlay",
              "size": 10,
              "solidity": 0.2
             }
            },
            "type": "bar"
           }
          ],
          "barpolar": [
           {
            "marker": {
             "line": {
              "color": "#E5ECF6",
              "width": 0.5
             },
             "pattern": {
              "fillmode": "overlay",
              "size": 10,
              "solidity": 0.2
             }
            },
            "type": "barpolar"
           }
          ],
          "carpet": [
           {
            "aaxis": {
             "endlinecolor": "#2a3f5f",
             "gridcolor": "white",
             "linecolor": "white",
             "minorgridcolor": "white",
             "startlinecolor": "#2a3f5f"
            },
            "baxis": {
             "endlinecolor": "#2a3f5f",
             "gridcolor": "white",
             "linecolor": "white",
             "minorgridcolor": "white",
             "startlinecolor": "#2a3f5f"
            },
            "type": "carpet"
           }
          ],
          "choropleth": [
           {
            "colorbar": {
             "outlinewidth": 0,
             "ticks": ""
            },
            "type": "choropleth"
           }
          ],
          "contour": [
           {
            "colorbar": {
             "outlinewidth": 0,
             "ticks": ""
            },
            "colorscale": [
             [
              0,
              "#0d0887"
             ],
             [
              0.1111111111111111,
              "#46039f"
             ],
             [
              0.2222222222222222,
              "#7201a8"
             ],
             [
              0.3333333333333333,
              "#9c179e"
             ],
             [
              0.4444444444444444,
              "#bd3786"
             ],
             [
              0.5555555555555556,
              "#d8576b"
             ],
             [
              0.6666666666666666,
              "#ed7953"
             ],
             [
              0.7777777777777778,
              "#fb9f3a"
             ],
             [
              0.8888888888888888,
              "#fdca26"
             ],
             [
              1,
              "#f0f921"
             ]
            ],
            "type": "contour"
           }
          ],
          "contourcarpet": [
           {
            "colorbar": {
             "outlinewidth": 0,
             "ticks": ""
            },
            "type": "contourcarpet"
           }
          ],
          "heatmap": [
           {
            "colorbar": {
             "outlinewidth": 0,
             "ticks": ""
            },
            "colorscale": [
             [
              0,
              "#0d0887"
             ],
             [
              0.1111111111111111,
              "#46039f"
             ],
             [
              0.2222222222222222,
              "#7201a8"
             ],
             [
              0.3333333333333333,
              "#9c179e"
             ],
             [
              0.4444444444444444,
              "#bd3786"
             ],
             [
              0.5555555555555556,
              "#d8576b"
             ],
             [
              0.6666666666666666,
              "#ed7953"
             ],
             [
              0.7777777777777778,
              "#fb9f3a"
             ],
             [
              0.8888888888888888,
              "#fdca26"
             ],
             [
              1,
              "#f0f921"
             ]
            ],
            "type": "heatmap"
           }
          ],
          "heatmapgl": [
           {
            "colorbar": {
             "outlinewidth": 0,
             "ticks": ""
            },
            "colorscale": [
             [
              0,
              "#0d0887"
             ],
             [
              0.1111111111111111,
              "#46039f"
             ],
             [
              0.2222222222222222,
              "#7201a8"
             ],
             [
              0.3333333333333333,
              "#9c179e"
             ],
             [
              0.4444444444444444,
              "#bd3786"
             ],
             [
              0.5555555555555556,
              "#d8576b"
             ],
             [
              0.6666666666666666,
              "#ed7953"
             ],
             [
              0.7777777777777778,
              "#fb9f3a"
             ],
             [
              0.8888888888888888,
              "#fdca26"
             ],
             [
              1,
              "#f0f921"
             ]
            ],
            "type": "heatmapgl"
           }
          ],
          "histogram": [
           {
            "marker": {
             "pattern": {
              "fillmode": "overlay",
              "size": 10,
              "solidity": 0.2
             }
            },
            "type": "histogram"
           }
          ],
          "histogram2d": [
           {
            "colorbar": {
             "outlinewidth": 0,
             "ticks": ""
            },
            "colorscale": [
             [
              0,
              "#0d0887"
             ],
             [
              0.1111111111111111,
              "#46039f"
             ],
             [
              0.2222222222222222,
              "#7201a8"
             ],
             [
              0.3333333333333333,
              "#9c179e"
             ],
             [
              0.4444444444444444,
              "#bd3786"
             ],
             [
              0.5555555555555556,
              "#d8576b"
             ],
             [
              0.6666666666666666,
              "#ed7953"
             ],
             [
              0.7777777777777778,
              "#fb9f3a"
             ],
             [
              0.8888888888888888,
              "#fdca26"
             ],
             [
              1,
              "#f0f921"
             ]
            ],
            "type": "histogram2d"
           }
          ],
          "histogram2dcontour": [
           {
            "colorbar": {
             "outlinewidth": 0,
             "ticks": ""
            },
            "colorscale": [
             [
              0,
              "#0d0887"
             ],
             [
              0.1111111111111111,
              "#46039f"
             ],
             [
              0.2222222222222222,
              "#7201a8"
             ],
             [
              0.3333333333333333,
              "#9c179e"
             ],
             [
              0.4444444444444444,
              "#bd3786"
             ],
             [
              0.5555555555555556,
              "#d8576b"
             ],
             [
              0.6666666666666666,
              "#ed7953"
             ],
             [
              0.7777777777777778,
              "#fb9f3a"
             ],
             [
              0.8888888888888888,
              "#fdca26"
             ],
             [
              1,
              "#f0f921"
             ]
            ],
            "type": "histogram2dcontour"
           }
          ],
          "mesh3d": [
           {
            "colorbar": {
             "outlinewidth": 0,
             "ticks": ""
            },
            "type": "mesh3d"
           }
          ],
          "parcoords": [
           {
            "line": {
             "colorbar": {
              "outlinewidth": 0,
              "ticks": ""
             }
            },
            "type": "parcoords"
           }
          ],
          "pie": [
           {
            "automargin": true,
            "type": "pie"
           }
          ],
          "scatter": [
           {
            "marker": {
             "colorbar": {
              "outlinewidth": 0,
              "ticks": ""
             }
            },
            "type": "scatter"
           }
          ],
          "scatter3d": [
           {
            "line": {
             "colorbar": {
              "outlinewidth": 0,
              "ticks": ""
             }
            },
            "marker": {
             "colorbar": {
              "outlinewidth": 0,
              "ticks": ""
             }
            },
            "type": "scatter3d"
           }
          ],
          "scattercarpet": [
           {
            "marker": {
             "colorbar": {
              "outlinewidth": 0,
              "ticks": ""
             }
            },
            "type": "scattercarpet"
           }
          ],
          "scattergeo": [
           {
            "marker": {
             "colorbar": {
              "outlinewidth": 0,
              "ticks": ""
             }
            },
            "type": "scattergeo"
           }
          ],
          "scattergl": [
           {
            "marker": {
             "colorbar": {
              "outlinewidth": 0,
              "ticks": ""
             }
            },
            "type": "scattergl"
           }
          ],
          "scattermapbox": [
           {
            "marker": {
             "colorbar": {
              "outlinewidth": 0,
              "ticks": ""
             }
            },
            "type": "scattermapbox"
           }
          ],
          "scatterpolar": [
           {
            "marker": {
             "colorbar": {
              "outlinewidth": 0,
              "ticks": ""
             }
            },
            "type": "scatterpolar"
           }
          ],
          "scatterpolargl": [
           {
            "marker": {
             "colorbar": {
              "outlinewidth": 0,
              "ticks": ""
             }
            },
            "type": "scatterpolargl"
           }
          ],
          "scatterternary": [
           {
            "marker": {
             "colorbar": {
              "outlinewidth": 0,
              "ticks": ""
             }
            },
            "type": "scatterternary"
           }
          ],
          "surface": [
           {
            "colorbar": {
             "outlinewidth": 0,
             "ticks": ""
            },
            "colorscale": [
             [
              0,
              "#0d0887"
             ],
             [
              0.1111111111111111,
              "#46039f"
             ],
             [
              0.2222222222222222,
              "#7201a8"
             ],
             [
              0.3333333333333333,
              "#9c179e"
             ],
             [
              0.4444444444444444,
              "#bd3786"
             ],
             [
              0.5555555555555556,
              "#d8576b"
             ],
             [
              0.6666666666666666,
              "#ed7953"
             ],
             [
              0.7777777777777778,
              "#fb9f3a"
             ],
             [
              0.8888888888888888,
              "#fdca26"
             ],
             [
              1,
              "#f0f921"
             ]
            ],
            "type": "surface"
           }
          ],
          "table": [
           {
            "cells": {
             "fill": {
              "color": "#EBF0F8"
             },
             "line": {
              "color": "white"
             }
            },
            "header": {
             "fill": {
              "color": "#C8D4E3"
             },
             "line": {
              "color": "white"
             }
            },
            "type": "table"
           }
          ]
         },
         "layout": {
          "annotationdefaults": {
           "arrowcolor": "#2a3f5f",
           "arrowhead": 0,
           "arrowwidth": 1
          },
          "autotypenumbers": "strict",
          "coloraxis": {
           "colorbar": {
            "outlinewidth": 0,
            "ticks": ""
           }
          },
          "colorscale": {
           "diverging": [
            [
             0,
             "#8e0152"
            ],
            [
             0.1,
             "#c51b7d"
            ],
            [
             0.2,
             "#de77ae"
            ],
            [
             0.3,
             "#f1b6da"
            ],
            [
             0.4,
             "#fde0ef"
            ],
            [
             0.5,
             "#f7f7f7"
            ],
            [
             0.6,
             "#e6f5d0"
            ],
            [
             0.7,
             "#b8e186"
            ],
            [
             0.8,
             "#7fbc41"
            ],
            [
             0.9,
             "#4d9221"
            ],
            [
             1,
             "#276419"
            ]
           ],
           "sequential": [
            [
             0,
             "#0d0887"
            ],
            [
             0.1111111111111111,
             "#46039f"
            ],
            [
             0.2222222222222222,
             "#7201a8"
            ],
            [
             0.3333333333333333,
             "#9c179e"
            ],
            [
             0.4444444444444444,
             "#bd3786"
            ],
            [
             0.5555555555555556,
             "#d8576b"
            ],
            [
             0.6666666666666666,
             "#ed7953"
            ],
            [
             0.7777777777777778,
             "#fb9f3a"
            ],
            [
             0.8888888888888888,
             "#fdca26"
            ],
            [
             1,
             "#f0f921"
            ]
           ],
           "sequentialminus": [
            [
             0,
             "#0d0887"
            ],
            [
             0.1111111111111111,
             "#46039f"
            ],
            [
             0.2222222222222222,
             "#7201a8"
            ],
            [
             0.3333333333333333,
             "#9c179e"
            ],
            [
             0.4444444444444444,
             "#bd3786"
            ],
            [
             0.5555555555555556,
             "#d8576b"
            ],
            [
             0.6666666666666666,
             "#ed7953"
            ],
            [
             0.7777777777777778,
             "#fb9f3a"
            ],
            [
             0.8888888888888888,
             "#fdca26"
            ],
            [
             1,
             "#f0f921"
            ]
           ]
          },
          "colorway": [
           "#636efa",
           "#EF553B",
           "#00cc96",
           "#ab63fa",
           "#FFA15A",
           "#19d3f3",
           "#FF6692",
           "#B6E880",
           "#FF97FF",
           "#FECB52"
          ],
          "font": {
           "color": "#2a3f5f"
          },
          "geo": {
           "bgcolor": "white",
           "lakecolor": "white",
           "landcolor": "#E5ECF6",
           "showlakes": true,
           "showland": true,
           "subunitcolor": "white"
          },
          "hoverlabel": {
           "align": "left"
          },
          "hovermode": "closest",
          "mapbox": {
           "style": "light"
          },
          "paper_bgcolor": "white",
          "plot_bgcolor": "#E5ECF6",
          "polar": {
           "angularaxis": {
            "gridcolor": "white",
            "linecolor": "white",
            "ticks": ""
           },
           "bgcolor": "#E5ECF6",
           "radialaxis": {
            "gridcolor": "white",
            "linecolor": "white",
            "ticks": ""
           }
          },
          "scene": {
           "xaxis": {
            "backgroundcolor": "#E5ECF6",
            "gridcolor": "white",
            "gridwidth": 2,
            "linecolor": "white",
            "showbackground": true,
            "ticks": "",
            "zerolinecolor": "white"
           },
           "yaxis": {
            "backgroundcolor": "#E5ECF6",
            "gridcolor": "white",
            "gridwidth": 2,
            "linecolor": "white",
            "showbackground": true,
            "ticks": "",
            "zerolinecolor": "white"
           },
           "zaxis": {
            "backgroundcolor": "#E5ECF6",
            "gridcolor": "white",
            "gridwidth": 2,
            "linecolor": "white",
            "showbackground": true,
            "ticks": "",
            "zerolinecolor": "white"
           }
          },
          "shapedefaults": {
           "line": {
            "color": "#2a3f5f"
           }
          },
          "ternary": {
           "aaxis": {
            "gridcolor": "white",
            "linecolor": "white",
            "ticks": ""
           },
           "baxis": {
            "gridcolor": "white",
            "linecolor": "white",
            "ticks": ""
           },
           "bgcolor": "#E5ECF6",
           "caxis": {
            "gridcolor": "white",
            "linecolor": "white",
            "ticks": ""
           }
          },
          "title": {
           "x": 0.05
          },
          "xaxis": {
           "automargin": true,
           "gridcolor": "white",
           "linecolor": "white",
           "ticks": "",
           "title": {
            "standoff": 15
           },
           "zerolinecolor": "white",
           "zerolinewidth": 2
          },
          "yaxis": {
           "automargin": true,
           "gridcolor": "white",
           "linecolor": "white",
           "ticks": "",
           "title": {
            "standoff": 15
           },
           "zerolinecolor": "white",
           "zerolinewidth": 2
          }
         }
        },
        "title": {
         "text": "Hg Emission Sectors"
        },
        "xaxis": {
         "anchor": "y",
         "categoryarray": [
          "Fuel combustion",
          "Industry Sectors",
          "Intentional Use(including product waste)",
          "Artisanal and Small Scale Gold Mining"
         ],
         "categoryorder": "array",
         "domain": [
          0,
          1
         ],
         "title": {
          "text": "Emission Sectors"
         }
        },
        "yaxis": {
         "anchor": "x",
         "domain": [
          0,
          1
         ],
         "title": {
          "text": "Emissions Amount,t"
         }
        }
       }
      },
      "text/html": "<div>                            <div id=\"f22031b5-ee27-4b2a-965c-76c2fb870328\" class=\"plotly-graph-div\" style=\"height:525px; width:100%;\"></div>            <script type=\"text/javascript\">                require([\"plotly\"], function(Plotly) {                    window.PLOTLYENV=window.PLOTLYENV || {};                                    if (document.getElementById(\"f22031b5-ee27-4b2a-965c-76c2fb870328\")) {                    Plotly.newPlot(                        \"f22031b5-ee27-4b2a-965c-76c2fb870328\",                        [{\"alignmentgroup\":\"True\",\"hovertemplate\":\"<b>%{hovertext}</b><br><br>Emission Sectors=%{x}<br>Emissions Amount,t=%{y}<extra></extra>\",\"hovertext\":[533.0],\"legendgroup\":\"Fuel combustion\",\"marker\":{\"color\":\"orange\",\"pattern\":{\"shape\":\"\"}},\"name\":\"Fuel combustion\",\"offsetgroup\":\"Fuel combustion\",\"orientation\":\"v\",\"showlegend\":true,\"textposition\":\"auto\",\"x\":[\"Fuel combustion\"],\"xaxis\":\"x\",\"y\":[533],\"yaxis\":\"y\",\"type\":\"bar\"},{\"alignmentgroup\":\"True\",\"hovertemplate\":\"<b>%{hovertext}</b><br><br>Emission Sectors=%{x}<br>Emissions Amount,t=%{y}<extra></extra>\",\"hovertext\":[614.0],\"legendgroup\":\"Industry Sectors\",\"marker\":{\"color\":\"red\",\"pattern\":{\"shape\":\"\"}},\"name\":\"Industry Sectors\",\"offsetgroup\":\"Industry Sectors\",\"orientation\":\"v\",\"showlegend\":true,\"textposition\":\"auto\",\"x\":[\"Industry Sectors\"],\"xaxis\":\"x\",\"y\":[614],\"yaxis\":\"y\",\"type\":\"bar\"},{\"alignmentgroup\":\"True\",\"hovertemplate\":\"<b>%{hovertext}</b><br><br>Emission Sectors=%{x}<br>Emissions Amount,t=%{y}<extra></extra>\",\"hovertext\":[239.0],\"legendgroup\":\"Intentional Use(including product waste)\",\"marker\":{\"color\":\"green\",\"pattern\":{\"shape\":\"\"}},\"name\":\"Intentional Use(including product waste)\",\"offsetgroup\":\"Intentional Use(including product waste)\",\"orientation\":\"v\",\"showlegend\":true,\"textposition\":\"auto\",\"x\":[\"Intentional Use(including product waste)\"],\"xaxis\":\"x\",\"y\":[239],\"yaxis\":\"y\",\"type\":\"bar\"},{\"alignmentgroup\":\"True\",\"hovertemplate\":\"<b>%{hovertext}</b><br><br>Emission Sectors=%{x}<br>Emissions Amount,t=%{y}<extra></extra>\",\"hovertext\":[838.0],\"legendgroup\":\"Artisanal and Small Scale Gold Mining\",\"marker\":{\"color\":\"blue\",\"pattern\":{\"shape\":\"\"}},\"name\":\"Artisanal and Small Scale Gold Mining\",\"offsetgroup\":\"Artisanal and Small Scale Gold Mining\",\"orientation\":\"v\",\"showlegend\":true,\"textposition\":\"auto\",\"x\":[\"Artisanal and Small Scale Gold Mining\"],\"xaxis\":\"x\",\"y\":[838],\"yaxis\":\"y\",\"type\":\"bar\"}],                        {\"template\":{\"data\":{\"bar\":[{\"error_x\":{\"color\":\"#2a3f5f\"},\"error_y\":{\"color\":\"#2a3f5f\"},\"marker\":{\"line\":{\"color\":\"#E5ECF6\",\"width\":0.5},\"pattern\":{\"fillmode\":\"overlay\",\"size\":10,\"solidity\":0.2}},\"type\":\"bar\"}],\"barpolar\":[{\"marker\":{\"line\":{\"color\":\"#E5ECF6\",\"width\":0.5},\"pattern\":{\"fillmode\":\"overlay\",\"size\":10,\"solidity\":0.2}},\"type\":\"barpolar\"}],\"carpet\":[{\"aaxis\":{\"endlinecolor\":\"#2a3f5f\",\"gridcolor\":\"white\",\"linecolor\":\"white\",\"minorgridcolor\":\"white\",\"startlinecolor\":\"#2a3f5f\"},\"baxis\":{\"endlinecolor\":\"#2a3f5f\",\"gridcolor\":\"white\",\"linecolor\":\"white\",\"minorgridcolor\":\"white\",\"startlinecolor\":\"#2a3f5f\"},\"type\":\"carpet\"}],\"choropleth\":[{\"colorbar\":{\"outlinewidth\":0,\"ticks\":\"\"},\"type\":\"choropleth\"}],\"contour\":[{\"colorbar\":{\"outlinewidth\":0,\"ticks\":\"\"},\"colorscale\":[[0.0,\"#0d0887\"],[0.1111111111111111,\"#46039f\"],[0.2222222222222222,\"#7201a8\"],[0.3333333333333333,\"#9c179e\"],[0.4444444444444444,\"#bd3786\"],[0.5555555555555556,\"#d8576b\"],[0.6666666666666666,\"#ed7953\"],[0.7777777777777778,\"#fb9f3a\"],[0.8888888888888888,\"#fdca26\"],[1.0,\"#f0f921\"]],\"type\":\"contour\"}],\"contourcarpet\":[{\"colorbar\":{\"outlinewidth\":0,\"ticks\":\"\"},\"type\":\"contourcarpet\"}],\"heatmap\":[{\"colorbar\":{\"outlinewidth\":0,\"ticks\":\"\"},\"colorscale\":[[0.0,\"#0d0887\"],[0.1111111111111111,\"#46039f\"],[0.2222222222222222,\"#7201a8\"],[0.3333333333333333,\"#9c179e\"],[0.4444444444444444,\"#bd3786\"],[0.5555555555555556,\"#d8576b\"],[0.6666666666666666,\"#ed7953\"],[0.7777777777777778,\"#fb9f3a\"],[0.8888888888888888,\"#fdca26\"],[1.0,\"#f0f921\"]],\"type\":\"heatmap\"}],\"heatmapgl\":[{\"colorbar\":{\"outlinewidth\":0,\"ticks\":\"\"},\"colorscale\":[[0.0,\"#0d0887\"],[0.1111111111111111,\"#46039f\"],[0.2222222222222222,\"#7201a8\"],[0.3333333333333333,\"#9c179e\"],[0.4444444444444444,\"#bd3786\"],[0.5555555555555556,\"#d8576b\"],[0.6666666666666666,\"#ed7953\"],[0.7777777777777778,\"#fb9f3a\"],[0.8888888888888888,\"#fdca26\"],[1.0,\"#f0f921\"]],\"type\":\"heatmapgl\"}],\"histogram\":[{\"marker\":{\"pattern\":{\"fillmode\":\"overlay\",\"size\":10,\"solidity\":0.2}},\"type\":\"histogram\"}],\"histogram2d\":[{\"colorbar\":{\"outlinewidth\":0,\"ticks\":\"\"},\"colorscale\":[[0.0,\"#0d0887\"],[0.1111111111111111,\"#46039f\"],[0.2222222222222222,\"#7201a8\"],[0.3333333333333333,\"#9c179e\"],[0.4444444444444444,\"#bd3786\"],[0.5555555555555556,\"#d8576b\"],[0.6666666666666666,\"#ed7953\"],[0.7777777777777778,\"#fb9f3a\"],[0.8888888888888888,\"#fdca26\"],[1.0,\"#f0f921\"]],\"type\":\"histogram2d\"}],\"histogram2dcontour\":[{\"colorbar\":{\"outlinewidth\":0,\"ticks\":\"\"},\"colorscale\":[[0.0,\"#0d0887\"],[0.1111111111111111,\"#46039f\"],[0.2222222222222222,\"#7201a8\"],[0.3333333333333333,\"#9c179e\"],[0.4444444444444444,\"#bd3786\"],[0.5555555555555556,\"#d8576b\"],[0.6666666666666666,\"#ed7953\"],[0.7777777777777778,\"#fb9f3a\"],[0.8888888888888888,\"#fdca26\"],[1.0,\"#f0f921\"]],\"type\":\"histogram2dcontour\"}],\"mesh3d\":[{\"colorbar\":{\"outlinewidth\":0,\"ticks\":\"\"},\"type\":\"mesh3d\"}],\"parcoords\":[{\"line\":{\"colorbar\":{\"outlinewidth\":0,\"ticks\":\"\"}},\"type\":\"parcoords\"}],\"pie\":[{\"automargin\":true,\"type\":\"pie\"}],\"scatter\":[{\"marker\":{\"colorbar\":{\"outlinewidth\":0,\"ticks\":\"\"}},\"type\":\"scatter\"}],\"scatter3d\":[{\"line\":{\"colorbar\":{\"outlinewidth\":0,\"ticks\":\"\"}},\"marker\":{\"colorbar\":{\"outlinewidth\":0,\"ticks\":\"\"}},\"type\":\"scatter3d\"}],\"scattercarpet\":[{\"marker\":{\"colorbar\":{\"outlinewidth\":0,\"ticks\":\"\"}},\"type\":\"scattercarpet\"}],\"scattergeo\":[{\"marker\":{\"colorbar\":{\"outlinewidth\":0,\"ticks\":\"\"}},\"type\":\"scattergeo\"}],\"scattergl\":[{\"marker\":{\"colorbar\":{\"outlinewidth\":0,\"ticks\":\"\"}},\"type\":\"scattergl\"}],\"scattermapbox\":[{\"marker\":{\"colorbar\":{\"outlinewidth\":0,\"ticks\":\"\"}},\"type\":\"scattermapbox\"}],\"scatterpolar\":[{\"marker\":{\"colorbar\":{\"outlinewidth\":0,\"ticks\":\"\"}},\"type\":\"scatterpolar\"}],\"scatterpolargl\":[{\"marker\":{\"colorbar\":{\"outlinewidth\":0,\"ticks\":\"\"}},\"type\":\"scatterpolargl\"}],\"scatterternary\":[{\"marker\":{\"colorbar\":{\"outlinewidth\":0,\"ticks\":\"\"}},\"type\":\"scatterternary\"}],\"surface\":[{\"colorbar\":{\"outlinewidth\":0,\"ticks\":\"\"},\"colorscale\":[[0.0,\"#0d0887\"],[0.1111111111111111,\"#46039f\"],[0.2222222222222222,\"#7201a8\"],[0.3333333333333333,\"#9c179e\"],[0.4444444444444444,\"#bd3786\"],[0.5555555555555556,\"#d8576b\"],[0.6666666666666666,\"#ed7953\"],[0.7777777777777778,\"#fb9f3a\"],[0.8888888888888888,\"#fdca26\"],[1.0,\"#f0f921\"]],\"type\":\"surface\"}],\"table\":[{\"cells\":{\"fill\":{\"color\":\"#EBF0F8\"},\"line\":{\"color\":\"white\"}},\"header\":{\"fill\":{\"color\":\"#C8D4E3\"},\"line\":{\"color\":\"white\"}},\"type\":\"table\"}]},\"layout\":{\"annotationdefaults\":{\"arrowcolor\":\"#2a3f5f\",\"arrowhead\":0,\"arrowwidth\":1},\"autotypenumbers\":\"strict\",\"coloraxis\":{\"colorbar\":{\"outlinewidth\":0,\"ticks\":\"\"}},\"colorscale\":{\"diverging\":[[0,\"#8e0152\"],[0.1,\"#c51b7d\"],[0.2,\"#de77ae\"],[0.3,\"#f1b6da\"],[0.4,\"#fde0ef\"],[0.5,\"#f7f7f7\"],[0.6,\"#e6f5d0\"],[0.7,\"#b8e186\"],[0.8,\"#7fbc41\"],[0.9,\"#4d9221\"],[1,\"#276419\"]],\"sequential\":[[0.0,\"#0d0887\"],[0.1111111111111111,\"#46039f\"],[0.2222222222222222,\"#7201a8\"],[0.3333333333333333,\"#9c179e\"],[0.4444444444444444,\"#bd3786\"],[0.5555555555555556,\"#d8576b\"],[0.6666666666666666,\"#ed7953\"],[0.7777777777777778,\"#fb9f3a\"],[0.8888888888888888,\"#fdca26\"],[1.0,\"#f0f921\"]],\"sequentialminus\":[[0.0,\"#0d0887\"],[0.1111111111111111,\"#46039f\"],[0.2222222222222222,\"#7201a8\"],[0.3333333333333333,\"#9c179e\"],[0.4444444444444444,\"#bd3786\"],[0.5555555555555556,\"#d8576b\"],[0.6666666666666666,\"#ed7953\"],[0.7777777777777778,\"#fb9f3a\"],[0.8888888888888888,\"#fdca26\"],[1.0,\"#f0f921\"]]},\"colorway\":[\"#636efa\",\"#EF553B\",\"#00cc96\",\"#ab63fa\",\"#FFA15A\",\"#19d3f3\",\"#FF6692\",\"#B6E880\",\"#FF97FF\",\"#FECB52\"],\"font\":{\"color\":\"#2a3f5f\"},\"geo\":{\"bgcolor\":\"white\",\"lakecolor\":\"white\",\"landcolor\":\"#E5ECF6\",\"showlakes\":true,\"showland\":true,\"subunitcolor\":\"white\"},\"hoverlabel\":{\"align\":\"left\"},\"hovermode\":\"closest\",\"mapbox\":{\"style\":\"light\"},\"paper_bgcolor\":\"white\",\"plot_bgcolor\":\"#E5ECF6\",\"polar\":{\"angularaxis\":{\"gridcolor\":\"white\",\"linecolor\":\"white\",\"ticks\":\"\"},\"bgcolor\":\"#E5ECF6\",\"radialaxis\":{\"gridcolor\":\"white\",\"linecolor\":\"white\",\"ticks\":\"\"}},\"scene\":{\"xaxis\":{\"backgroundcolor\":\"#E5ECF6\",\"gridcolor\":\"white\",\"gridwidth\":2,\"linecolor\":\"white\",\"showbackground\":true,\"ticks\":\"\",\"zerolinecolor\":\"white\"},\"yaxis\":{\"backgroundcolor\":\"#E5ECF6\",\"gridcolor\":\"white\",\"gridwidth\":2,\"linecolor\":\"white\",\"showbackground\":true,\"ticks\":\"\",\"zerolinecolor\":\"white\"},\"zaxis\":{\"backgroundcolor\":\"#E5ECF6\",\"gridcolor\":\"white\",\"gridwidth\":2,\"linecolor\":\"white\",\"showbackground\":true,\"ticks\":\"\",\"zerolinecolor\":\"white\"}},\"shapedefaults\":{\"line\":{\"color\":\"#2a3f5f\"}},\"ternary\":{\"aaxis\":{\"gridcolor\":\"white\",\"linecolor\":\"white\",\"ticks\":\"\"},\"baxis\":{\"gridcolor\":\"white\",\"linecolor\":\"white\",\"ticks\":\"\"},\"bgcolor\":\"#E5ECF6\",\"caxis\":{\"gridcolor\":\"white\",\"linecolor\":\"white\",\"ticks\":\"\"}},\"title\":{\"x\":0.05},\"xaxis\":{\"automargin\":true,\"gridcolor\":\"white\",\"linecolor\":\"white\",\"ticks\":\"\",\"title\":{\"standoff\":15},\"zerolinecolor\":\"white\",\"zerolinewidth\":2},\"yaxis\":{\"automargin\":true,\"gridcolor\":\"white\",\"linecolor\":\"white\",\"ticks\":\"\",\"title\":{\"standoff\":15},\"zerolinecolor\":\"white\",\"zerolinewidth\":2}}},\"xaxis\":{\"anchor\":\"y\",\"domain\":[0.0,1.0],\"title\":{\"text\":\"Emission Sectors\"},\"categoryorder\":\"array\",\"categoryarray\":[\"Fuel combustion\",\"Industry Sectors\",\"Intentional Use(including product waste)\",\"Artisanal and Small Scale Gold Mining\"]},\"yaxis\":{\"anchor\":\"x\",\"domain\":[0.0,1.0],\"title\":{\"text\":\"Emissions Amount,t\"}},\"legend\":{\"title\":{\"text\":\"Emission Sectors\"},\"tracegroupgap\":0},\"title\":{\"text\":\"Hg Emission Sectors\"},\"barmode\":\"relative\"},                        {\"responsive\": true}                    ).then(function(){\n                            \nvar gd = document.getElementById('f22031b5-ee27-4b2a-965c-76c2fb870328');\nvar x = new MutationObserver(function (mutations, observer) {{\n        var display = window.getComputedStyle(gd).display;\n        if (!display || display === 'none') {{\n            console.log([gd, 'removed!']);\n            Plotly.purge(gd);\n            observer.disconnect();\n        }}\n}});\n\n// Listen for the removal of the full notebook cells\nvar notebookContainer = gd.closest('#notebook-container');\nif (notebookContainer) {{\n    x.observe(notebookContainer, {childList: true});\n}}\n\n// Listen for the clearing of the current output cell\nvar outputEl = gd.closest('.output');\nif (outputEl) {{\n    x.observe(outputEl, {childList: true});\n}}\n\n                        })                };                });            </script>        </div>"
     },
     "metadata": {},
     "output_type": "display_data"
    }
   ],
   "execution_count": null
  },
  {
   "cell_type": "code",
   "metadata": {
    "cell_id": "00022-bfdb730d-c099-4074-93a8-7038d4b72f1d",
    "deepnote_to_be_reexecuted": true,
    "source_hash": "be2c5d0b",
    "deepnote_cell_type": "code",
    "deepnote_cell_height": 239,
    "deepnote_output_heights": [
     147
    ]
   },
   "source": "df_emission_sectors[:4]",
   "outputs": [
    {
     "data": {
      "text/html": "<div>\n<style scoped>\n    .dataframe tbody tr th:only-of-type {\n        vertical-align: middle;\n    }\n\n    .dataframe tbody tr th {\n        vertical-align: top;\n    }\n\n    .dataframe thead th {\n        text-align: right;\n    }\n</style>\n<table border=\"1\" class=\"dataframe\">\n  <thead>\n    <tr style=\"text-align: right;\">\n      <th></th>\n      <th>Emission Sectors</th>\n      <th>Emissions Amount,t</th>\n    </tr>\n  </thead>\n  <tbody>\n    <tr>\n      <th>0</th>\n      <td>Fuel combustion</td>\n      <td>533</td>\n    </tr>\n    <tr>\n      <th>1</th>\n      <td>Industry Sectors</td>\n      <td>614</td>\n    </tr>\n    <tr>\n      <th>2</th>\n      <td>Intentional Use(including product waste)</td>\n      <td>239</td>\n    </tr>\n    <tr>\n      <th>3</th>\n      <td>Artisanal and Small Scale Gold Mining</td>\n      <td>838</td>\n    </tr>\n  </tbody>\n</table>\n</div>",
      "text/plain": "                           Emission Sectors  Emissions Amount,t\n0                           Fuel combustion                 533\n1                          Industry Sectors                 614\n2  Intentional Use(including product waste)                 239\n3     Artisanal and Small Scale Gold Mining                 838"
     },
     "execution_count": 23,
     "metadata": {},
     "output_type": "execute_result"
    }
   ],
   "execution_count": null
  },
  {
   "cell_type": "code",
   "metadata": {
    "cell_id": "00023-2387980c-0766-4d10-8eb7-24d71874ecf9",
    "deepnote_to_be_reexecuted": true,
    "source_hash": "84a1ca1",
    "deepnote_cell_type": "code",
    "deepnote_cell_height": 112.1875,
    "deepnote_output_heights": [
     20.1875
    ]
   },
   "source": "list(df_emission_sectors[:4]['Emissions Amount,t'])",
   "outputs": [
    {
     "data": {
      "text/plain": "[533, 614, 239, 838]"
     },
     "execution_count": 39,
     "metadata": {},
     "output_type": "execute_result"
    }
   ],
   "execution_count": null
  },
  {
   "cell_type": "code",
   "metadata": {
    "cell_id": "00024-8d87220d-64c7-45f1-accd-de1d00729de0",
    "deepnote_to_be_reexecuted": true,
    "source_hash": "55736f3f",
    "deepnote_cell_type": "code",
    "deepnote_cell_height": 911,
    "deepnote_output_heights": [
     526
    ]
   },
   "source": "import plotly.graph_objects as go\n\nlabels = list(df_emission_sectors[:4]['Emission Sectors'])\nvalues = list(df_emission_sectors[:4]['Emissions Amount,t'])\ncolors=[ \"blue\", \"red\", \"green\",\"orange\"]\nind_names=['533 Mg', '614 Mg', '239 Mg', '838 Mg']\n\n# Use `hole` to create a donut-like pie chart\nfig = go.Figure(data=[go.Pie(  labels=labels, values=values,text=ind_names, textinfo='text+percent',pull=[0, 0, 0, 0.05],marker_colors=colors)])\nfig.update_traces(hoverinfo='label+percent', textfont_size=14,\n                  marker=dict(colors=colors))\nname='07-24-22_gma2018_hg-emissions_by-industry.pdf'\nsavepath='/home/tzd/fs03/d1/tzd/Data_analysis/MIT_TPP_thesis/figures/'+name\n# fig.savefig(savepath,bbox_inches='tight')\nfig.write_image(savepath)\nfig.show()\n",
   "outputs": [
    {
     "data": {
      "application/vnd.plotly.v1+json": {
       "config": {
        "plotlyServerURL": "https://plot.ly"
       },
       "data": [
        {
         "hoverinfo": "label+percent",
         "labels": [
          "Fuel combustion",
          "Industry Sectors",
          "Intentional Use(including product waste)",
          "Artisanal and Small Scale Gold Mining"
         ],
         "marker": {
          "colors": [
           "blue",
           "red",
           "green",
           "orange"
          ]
         },
         "pull": [
          0,
          0,
          0,
          0.05
         ],
         "text": [
          "533 Mg",
          "614 Mg",
          "239 Mg",
          "838 Mg"
         ],
         "textfont": {
          "size": 14
         },
         "textinfo": "text+percent",
         "type": "pie",
         "values": [
          533,
          614,
          239,
          838
         ]
        }
       ],
       "layout": {
        "template": {
         "data": {
          "bar": [
           {
            "error_x": {
             "color": "#2a3f5f"
            },
            "error_y": {
             "color": "#2a3f5f"
            },
            "marker": {
             "line": {
              "color": "#E5ECF6",
              "width": 0.5
             },
             "pattern": {
              "fillmode": "overlay",
              "size": 10,
              "solidity": 0.2
             }
            },
            "type": "bar"
           }
          ],
          "barpolar": [
           {
            "marker": {
             "line": {
              "color": "#E5ECF6",
              "width": 0.5
             },
             "pattern": {
              "fillmode": "overlay",
              "size": 10,
              "solidity": 0.2
             }
            },
            "type": "barpolar"
           }
          ],
          "carpet": [
           {
            "aaxis": {
             "endlinecolor": "#2a3f5f",
             "gridcolor": "white",
             "linecolor": "white",
             "minorgridcolor": "white",
             "startlinecolor": "#2a3f5f"
            },
            "baxis": {
             "endlinecolor": "#2a3f5f",
             "gridcolor": "white",
             "linecolor": "white",
             "minorgridcolor": "white",
             "startlinecolor": "#2a3f5f"
            },
            "type": "carpet"
           }
          ],
          "choropleth": [
           {
            "colorbar": {
             "outlinewidth": 0,
             "ticks": ""
            },
            "type": "choropleth"
           }
          ],
          "contour": [
           {
            "colorbar": {
             "outlinewidth": 0,
             "ticks": ""
            },
            "colorscale": [
             [
              0,
              "#0d0887"
             ],
             [
              0.1111111111111111,
              "#46039f"
             ],
             [
              0.2222222222222222,
              "#7201a8"
             ],
             [
              0.3333333333333333,
              "#9c179e"
             ],
             [
              0.4444444444444444,
              "#bd3786"
             ],
             [
              0.5555555555555556,
              "#d8576b"
             ],
             [
              0.6666666666666666,
              "#ed7953"
             ],
             [
              0.7777777777777778,
              "#fb9f3a"
             ],
             [
              0.8888888888888888,
              "#fdca26"
             ],
             [
              1,
              "#f0f921"
             ]
            ],
            "type": "contour"
           }
          ],
          "contourcarpet": [
           {
            "colorbar": {
             "outlinewidth": 0,
             "ticks": ""
            },
            "type": "contourcarpet"
           }
          ],
          "heatmap": [
           {
            "colorbar": {
             "outlinewidth": 0,
             "ticks": ""
            },
            "colorscale": [
             [
              0,
              "#0d0887"
             ],
             [
              0.1111111111111111,
              "#46039f"
             ],
             [
              0.2222222222222222,
              "#7201a8"
             ],
             [
              0.3333333333333333,
              "#9c179e"
             ],
             [
              0.4444444444444444,
              "#bd3786"
             ],
             [
              0.5555555555555556,
              "#d8576b"
             ],
             [
              0.6666666666666666,
              "#ed7953"
             ],
             [
              0.7777777777777778,
              "#fb9f3a"
             ],
             [
              0.8888888888888888,
              "#fdca26"
             ],
             [
              1,
              "#f0f921"
             ]
            ],
            "type": "heatmap"
           }
          ],
          "heatmapgl": [
           {
            "colorbar": {
             "outlinewidth": 0,
             "ticks": ""
            },
            "colorscale": [
             [
              0,
              "#0d0887"
             ],
             [
              0.1111111111111111,
              "#46039f"
             ],
             [
              0.2222222222222222,
              "#7201a8"
             ],
             [
              0.3333333333333333,
              "#9c179e"
             ],
             [
              0.4444444444444444,
              "#bd3786"
             ],
             [
              0.5555555555555556,
              "#d8576b"
             ],
             [
              0.6666666666666666,
              "#ed7953"
             ],
             [
              0.7777777777777778,
              "#fb9f3a"
             ],
             [
              0.8888888888888888,
              "#fdca26"
             ],
             [
              1,
              "#f0f921"
             ]
            ],
            "type": "heatmapgl"
           }
          ],
          "histogram": [
           {
            "marker": {
             "pattern": {
              "fillmode": "overlay",
              "size": 10,
              "solidity": 0.2
             }
            },
            "type": "histogram"
           }
          ],
          "histogram2d": [
           {
            "colorbar": {
             "outlinewidth": 0,
             "ticks": ""
            },
            "colorscale": [
             [
              0,
              "#0d0887"
             ],
             [
              0.1111111111111111,
              "#46039f"
             ],
             [
              0.2222222222222222,
              "#7201a8"
             ],
             [
              0.3333333333333333,
              "#9c179e"
             ],
             [
              0.4444444444444444,
              "#bd3786"
             ],
             [
              0.5555555555555556,
              "#d8576b"
             ],
             [
              0.6666666666666666,
              "#ed7953"
             ],
             [
              0.7777777777777778,
              "#fb9f3a"
             ],
             [
              0.8888888888888888,
              "#fdca26"
             ],
             [
              1,
              "#f0f921"
             ]
            ],
            "type": "histogram2d"
           }
          ],
          "histogram2dcontour": [
           {
            "colorbar": {
             "outlinewidth": 0,
             "ticks": ""
            },
            "colorscale": [
             [
              0,
              "#0d0887"
             ],
             [
              0.1111111111111111,
              "#46039f"
             ],
             [
              0.2222222222222222,
              "#7201a8"
             ],
             [
              0.3333333333333333,
              "#9c179e"
             ],
             [
              0.4444444444444444,
              "#bd3786"
             ],
             [
              0.5555555555555556,
              "#d8576b"
             ],
             [
              0.6666666666666666,
              "#ed7953"
             ],
             [
              0.7777777777777778,
              "#fb9f3a"
             ],
             [
              0.8888888888888888,
              "#fdca26"
             ],
             [
              1,
              "#f0f921"
             ]
            ],
            "type": "histogram2dcontour"
           }
          ],
          "mesh3d": [
           {
            "colorbar": {
             "outlinewidth": 0,
             "ticks": ""
            },
            "type": "mesh3d"
           }
          ],
          "parcoords": [
           {
            "line": {
             "colorbar": {
              "outlinewidth": 0,
              "ticks": ""
             }
            },
            "type": "parcoords"
           }
          ],
          "pie": [
           {
            "automargin": true,
            "type": "pie"
           }
          ],
          "scatter": [
           {
            "marker": {
             "colorbar": {
              "outlinewidth": 0,
              "ticks": ""
             }
            },
            "type": "scatter"
           }
          ],
          "scatter3d": [
           {
            "line": {
             "colorbar": {
              "outlinewidth": 0,
              "ticks": ""
             }
            },
            "marker": {
             "colorbar": {
              "outlinewidth": 0,
              "ticks": ""
             }
            },
            "type": "scatter3d"
           }
          ],
          "scattercarpet": [
           {
            "marker": {
             "colorbar": {
              "outlinewidth": 0,
              "ticks": ""
             }
            },
            "type": "scattercarpet"
           }
          ],
          "scattergeo": [
           {
            "marker": {
             "colorbar": {
              "outlinewidth": 0,
              "ticks": ""
             }
            },
            "type": "scattergeo"
           }
          ],
          "scattergl": [
           {
            "marker": {
             "colorbar": {
              "outlinewidth": 0,
              "ticks": ""
             }
            },
            "type": "scattergl"
           }
          ],
          "scattermapbox": [
           {
            "marker": {
             "colorbar": {
              "outlinewidth": 0,
              "ticks": ""
             }
            },
            "type": "scattermapbox"
           }
          ],
          "scatterpolar": [
           {
            "marker": {
             "colorbar": {
              "outlinewidth": 0,
              "ticks": ""
             }
            },
            "type": "scatterpolar"
           }
          ],
          "scatterpolargl": [
           {
            "marker": {
             "colorbar": {
              "outlinewidth": 0,
              "ticks": ""
             }
            },
            "type": "scatterpolargl"
           }
          ],
          "scatterternary": [
           {
            "marker": {
             "colorbar": {
              "outlinewidth": 0,
              "ticks": ""
             }
            },
            "type": "scatterternary"
           }
          ],
          "surface": [
           {
            "colorbar": {
             "outlinewidth": 0,
             "ticks": ""
            },
            "colorscale": [
             [
              0,
              "#0d0887"
             ],
             [
              0.1111111111111111,
              "#46039f"
             ],
             [
              0.2222222222222222,
              "#7201a8"
             ],
             [
              0.3333333333333333,
              "#9c179e"
             ],
             [
              0.4444444444444444,
              "#bd3786"
             ],
             [
              0.5555555555555556,
              "#d8576b"
             ],
             [
              0.6666666666666666,
              "#ed7953"
             ],
             [
              0.7777777777777778,
              "#fb9f3a"
             ],
             [
              0.8888888888888888,
              "#fdca26"
             ],
             [
              1,
              "#f0f921"
             ]
            ],
            "type": "surface"
           }
          ],
          "table": [
           {
            "cells": {
             "fill": {
              "color": "#EBF0F8"
             },
             "line": {
              "color": "white"
             }
            },
            "header": {
             "fill": {
              "color": "#C8D4E3"
             },
             "line": {
              "color": "white"
             }
            },
            "type": "table"
           }
          ]
         },
         "layout": {
          "annotationdefaults": {
           "arrowcolor": "#2a3f5f",
           "arrowhead": 0,
           "arrowwidth": 1
          },
          "autotypenumbers": "strict",
          "coloraxis": {
           "colorbar": {
            "outlinewidth": 0,
            "ticks": ""
           }
          },
          "colorscale": {
           "diverging": [
            [
             0,
             "#8e0152"
            ],
            [
             0.1,
             "#c51b7d"
            ],
            [
             0.2,
             "#de77ae"
            ],
            [
             0.3,
             "#f1b6da"
            ],
            [
             0.4,
             "#fde0ef"
            ],
            [
             0.5,
             "#f7f7f7"
            ],
            [
             0.6,
             "#e6f5d0"
            ],
            [
             0.7,
             "#b8e186"
            ],
            [
             0.8,
             "#7fbc41"
            ],
            [
             0.9,
             "#4d9221"
            ],
            [
             1,
             "#276419"
            ]
           ],
           "sequential": [
            [
             0,
             "#0d0887"
            ],
            [
             0.1111111111111111,
             "#46039f"
            ],
            [
             0.2222222222222222,
             "#7201a8"
            ],
            [
             0.3333333333333333,
             "#9c179e"
            ],
            [
             0.4444444444444444,
             "#bd3786"
            ],
            [
             0.5555555555555556,
             "#d8576b"
            ],
            [
             0.6666666666666666,
             "#ed7953"
            ],
            [
             0.7777777777777778,
             "#fb9f3a"
            ],
            [
             0.8888888888888888,
             "#fdca26"
            ],
            [
             1,
             "#f0f921"
            ]
           ],
           "sequentialminus": [
            [
             0,
             "#0d0887"
            ],
            [
             0.1111111111111111,
             "#46039f"
            ],
            [
             0.2222222222222222,
             "#7201a8"
            ],
            [
             0.3333333333333333,
             "#9c179e"
            ],
            [
             0.4444444444444444,
             "#bd3786"
            ],
            [
             0.5555555555555556,
             "#d8576b"
            ],
            [
             0.6666666666666666,
             "#ed7953"
            ],
            [
             0.7777777777777778,
             "#fb9f3a"
            ],
            [
             0.8888888888888888,
             "#fdca26"
            ],
            [
             1,
             "#f0f921"
            ]
           ]
          },
          "colorway": [
           "#636efa",
           "#EF553B",
           "#00cc96",
           "#ab63fa",
           "#FFA15A",
           "#19d3f3",
           "#FF6692",
           "#B6E880",
           "#FF97FF",
           "#FECB52"
          ],
          "font": {
           "color": "#2a3f5f"
          },
          "geo": {
           "bgcolor": "white",
           "lakecolor": "white",
           "landcolor": "#E5ECF6",
           "showlakes": true,
           "showland": true,
           "subunitcolor": "white"
          },
          "hoverlabel": {
           "align": "left"
          },
          "hovermode": "closest",
          "mapbox": {
           "style": "light"
          },
          "paper_bgcolor": "white",
          "plot_bgcolor": "#E5ECF6",
          "polar": {
           "angularaxis": {
            "gridcolor": "white",
            "linecolor": "white",
            "ticks": ""
           },
           "bgcolor": "#E5ECF6",
           "radialaxis": {
            "gridcolor": "white",
            "linecolor": "white",
            "ticks": ""
           }
          },
          "scene": {
           "xaxis": {
            "backgroundcolor": "#E5ECF6",
            "gridcolor": "white",
            "gridwidth": 2,
            "linecolor": "white",
            "showbackground": true,
            "ticks": "",
            "zerolinecolor": "white"
           },
           "yaxis": {
            "backgroundcolor": "#E5ECF6",
            "gridcolor": "white",
            "gridwidth": 2,
            "linecolor": "white",
            "showbackground": true,
            "ticks": "",
            "zerolinecolor": "white"
           },
           "zaxis": {
            "backgroundcolor": "#E5ECF6",
            "gridcolor": "white",
            "gridwidth": 2,
            "linecolor": "white",
            "showbackground": true,
            "ticks": "",
            "zerolinecolor": "white"
           }
          },
          "shapedefaults": {
           "line": {
            "color": "#2a3f5f"
           }
          },
          "ternary": {
           "aaxis": {
            "gridcolor": "white",
            "linecolor": "white",
            "ticks": ""
           },
           "baxis": {
            "gridcolor": "white",
            "linecolor": "white",
            "ticks": ""
           },
           "bgcolor": "#E5ECF6",
           "caxis": {
            "gridcolor": "white",
            "linecolor": "white",
            "ticks": ""
           }
          },
          "title": {
           "x": 0.05
          },
          "xaxis": {
           "automargin": true,
           "gridcolor": "white",
           "linecolor": "white",
           "ticks": "",
           "title": {
            "standoff": 15
           },
           "zerolinecolor": "white",
           "zerolinewidth": 2
          },
          "yaxis": {
           "automargin": true,
           "gridcolor": "white",
           "linecolor": "white",
           "ticks": "",
           "title": {
            "standoff": 15
           },
           "zerolinecolor": "white",
           "zerolinewidth": 2
          }
         }
        }
       }
      },
      "text/html": "<div>                            <div id=\"45900ca3-2c3a-4f72-bc2d-8313994b7c20\" class=\"plotly-graph-div\" style=\"height:525px; width:100%;\"></div>            <script type=\"text/javascript\">                require([\"plotly\"], function(Plotly) {                    window.PLOTLYENV=window.PLOTLYENV || {};                                    if (document.getElementById(\"45900ca3-2c3a-4f72-bc2d-8313994b7c20\")) {                    Plotly.newPlot(                        \"45900ca3-2c3a-4f72-bc2d-8313994b7c20\",                        [{\"labels\":[\"Fuel combustion\",\"Industry Sectors\",\"Intentional Use(including product waste)\",\"Artisanal and Small Scale Gold Mining\"],\"marker\":{\"colors\":[\"blue\",\"red\",\"green\",\"orange\"]},\"pull\":[0,0,0,0.05],\"text\":[\"533 Mg\",\"614 Mg\",\"239 Mg\",\"838 Mg\"],\"textinfo\":\"text+percent\",\"values\":[533,614,239,838],\"type\":\"pie\",\"textfont\":{\"size\":14},\"hoverinfo\":\"label+percent\"}],                        {\"template\":{\"data\":{\"bar\":[{\"error_x\":{\"color\":\"#2a3f5f\"},\"error_y\":{\"color\":\"#2a3f5f\"},\"marker\":{\"line\":{\"color\":\"#E5ECF6\",\"width\":0.5},\"pattern\":{\"fillmode\":\"overlay\",\"size\":10,\"solidity\":0.2}},\"type\":\"bar\"}],\"barpolar\":[{\"marker\":{\"line\":{\"color\":\"#E5ECF6\",\"width\":0.5},\"pattern\":{\"fillmode\":\"overlay\",\"size\":10,\"solidity\":0.2}},\"type\":\"barpolar\"}],\"carpet\":[{\"aaxis\":{\"endlinecolor\":\"#2a3f5f\",\"gridcolor\":\"white\",\"linecolor\":\"white\",\"minorgridcolor\":\"white\",\"startlinecolor\":\"#2a3f5f\"},\"baxis\":{\"endlinecolor\":\"#2a3f5f\",\"gridcolor\":\"white\",\"linecolor\":\"white\",\"minorgridcolor\":\"white\",\"startlinecolor\":\"#2a3f5f\"},\"type\":\"carpet\"}],\"choropleth\":[{\"colorbar\":{\"outlinewidth\":0,\"ticks\":\"\"},\"type\":\"choropleth\"}],\"contour\":[{\"colorbar\":{\"outlinewidth\":0,\"ticks\":\"\"},\"colorscale\":[[0.0,\"#0d0887\"],[0.1111111111111111,\"#46039f\"],[0.2222222222222222,\"#7201a8\"],[0.3333333333333333,\"#9c179e\"],[0.4444444444444444,\"#bd3786\"],[0.5555555555555556,\"#d8576b\"],[0.6666666666666666,\"#ed7953\"],[0.7777777777777778,\"#fb9f3a\"],[0.8888888888888888,\"#fdca26\"],[1.0,\"#f0f921\"]],\"type\":\"contour\"}],\"contourcarpet\":[{\"colorbar\":{\"outlinewidth\":0,\"ticks\":\"\"},\"type\":\"contourcarpet\"}],\"heatmap\":[{\"colorbar\":{\"outlinewidth\":0,\"ticks\":\"\"},\"colorscale\":[[0.0,\"#0d0887\"],[0.1111111111111111,\"#46039f\"],[0.2222222222222222,\"#7201a8\"],[0.3333333333333333,\"#9c179e\"],[0.4444444444444444,\"#bd3786\"],[0.5555555555555556,\"#d8576b\"],[0.6666666666666666,\"#ed7953\"],[0.7777777777777778,\"#fb9f3a\"],[0.8888888888888888,\"#fdca26\"],[1.0,\"#f0f921\"]],\"type\":\"heatmap\"}],\"heatmapgl\":[{\"colorbar\":{\"outlinewidth\":0,\"ticks\":\"\"},\"colorscale\":[[0.0,\"#0d0887\"],[0.1111111111111111,\"#46039f\"],[0.2222222222222222,\"#7201a8\"],[0.3333333333333333,\"#9c179e\"],[0.4444444444444444,\"#bd3786\"],[0.5555555555555556,\"#d8576b\"],[0.6666666666666666,\"#ed7953\"],[0.7777777777777778,\"#fb9f3a\"],[0.8888888888888888,\"#fdca26\"],[1.0,\"#f0f921\"]],\"type\":\"heatmapgl\"}],\"histogram\":[{\"marker\":{\"pattern\":{\"fillmode\":\"overlay\",\"size\":10,\"solidity\":0.2}},\"type\":\"histogram\"}],\"histogram2d\":[{\"colorbar\":{\"outlinewidth\":0,\"ticks\":\"\"},\"colorscale\":[[0.0,\"#0d0887\"],[0.1111111111111111,\"#46039f\"],[0.2222222222222222,\"#7201a8\"],[0.3333333333333333,\"#9c179e\"],[0.4444444444444444,\"#bd3786\"],[0.5555555555555556,\"#d8576b\"],[0.6666666666666666,\"#ed7953\"],[0.7777777777777778,\"#fb9f3a\"],[0.8888888888888888,\"#fdca26\"],[1.0,\"#f0f921\"]],\"type\":\"histogram2d\"}],\"histogram2dcontour\":[{\"colorbar\":{\"outlinewidth\":0,\"ticks\":\"\"},\"colorscale\":[[0.0,\"#0d0887\"],[0.1111111111111111,\"#46039f\"],[0.2222222222222222,\"#7201a8\"],[0.3333333333333333,\"#9c179e\"],[0.4444444444444444,\"#bd3786\"],[0.5555555555555556,\"#d8576b\"],[0.6666666666666666,\"#ed7953\"],[0.7777777777777778,\"#fb9f3a\"],[0.8888888888888888,\"#fdca26\"],[1.0,\"#f0f921\"]],\"type\":\"histogram2dcontour\"}],\"mesh3d\":[{\"colorbar\":{\"outlinewidth\":0,\"ticks\":\"\"},\"type\":\"mesh3d\"}],\"parcoords\":[{\"line\":{\"colorbar\":{\"outlinewidth\":0,\"ticks\":\"\"}},\"type\":\"parcoords\"}],\"pie\":[{\"automargin\":true,\"type\":\"pie\"}],\"scatter\":[{\"marker\":{\"colorbar\":{\"outlinewidth\":0,\"ticks\":\"\"}},\"type\":\"scatter\"}],\"scatter3d\":[{\"line\":{\"colorbar\":{\"outlinewidth\":0,\"ticks\":\"\"}},\"marker\":{\"colorbar\":{\"outlinewidth\":0,\"ticks\":\"\"}},\"type\":\"scatter3d\"}],\"scattercarpet\":[{\"marker\":{\"colorbar\":{\"outlinewidth\":0,\"ticks\":\"\"}},\"type\":\"scattercarpet\"}],\"scattergeo\":[{\"marker\":{\"colorbar\":{\"outlinewidth\":0,\"ticks\":\"\"}},\"type\":\"scattergeo\"}],\"scattergl\":[{\"marker\":{\"colorbar\":{\"outlinewidth\":0,\"ticks\":\"\"}},\"type\":\"scattergl\"}],\"scattermapbox\":[{\"marker\":{\"colorbar\":{\"outlinewidth\":0,\"ticks\":\"\"}},\"type\":\"scattermapbox\"}],\"scatterpolar\":[{\"marker\":{\"colorbar\":{\"outlinewidth\":0,\"ticks\":\"\"}},\"type\":\"scatterpolar\"}],\"scatterpolargl\":[{\"marker\":{\"colorbar\":{\"outlinewidth\":0,\"ticks\":\"\"}},\"type\":\"scatterpolargl\"}],\"scatterternary\":[{\"marker\":{\"colorbar\":{\"outlinewidth\":0,\"ticks\":\"\"}},\"type\":\"scatterternary\"}],\"surface\":[{\"colorbar\":{\"outlinewidth\":0,\"ticks\":\"\"},\"colorscale\":[[0.0,\"#0d0887\"],[0.1111111111111111,\"#46039f\"],[0.2222222222222222,\"#7201a8\"],[0.3333333333333333,\"#9c179e\"],[0.4444444444444444,\"#bd3786\"],[0.5555555555555556,\"#d8576b\"],[0.6666666666666666,\"#ed7953\"],[0.7777777777777778,\"#fb9f3a\"],[0.8888888888888888,\"#fdca26\"],[1.0,\"#f0f921\"]],\"type\":\"surface\"}],\"table\":[{\"cells\":{\"fill\":{\"color\":\"#EBF0F8\"},\"line\":{\"color\":\"white\"}},\"header\":{\"fill\":{\"color\":\"#C8D4E3\"},\"line\":{\"color\":\"white\"}},\"type\":\"table\"}]},\"layout\":{\"annotationdefaults\":{\"arrowcolor\":\"#2a3f5f\",\"arrowhead\":0,\"arrowwidth\":1},\"autotypenumbers\":\"strict\",\"coloraxis\":{\"colorbar\":{\"outlinewidth\":0,\"ticks\":\"\"}},\"colorscale\":{\"diverging\":[[0,\"#8e0152\"],[0.1,\"#c51b7d\"],[0.2,\"#de77ae\"],[0.3,\"#f1b6da\"],[0.4,\"#fde0ef\"],[0.5,\"#f7f7f7\"],[0.6,\"#e6f5d0\"],[0.7,\"#b8e186\"],[0.8,\"#7fbc41\"],[0.9,\"#4d9221\"],[1,\"#276419\"]],\"sequential\":[[0.0,\"#0d0887\"],[0.1111111111111111,\"#46039f\"],[0.2222222222222222,\"#7201a8\"],[0.3333333333333333,\"#9c179e\"],[0.4444444444444444,\"#bd3786\"],[0.5555555555555556,\"#d8576b\"],[0.6666666666666666,\"#ed7953\"],[0.7777777777777778,\"#fb9f3a\"],[0.8888888888888888,\"#fdca26\"],[1.0,\"#f0f921\"]],\"sequentialminus\":[[0.0,\"#0d0887\"],[0.1111111111111111,\"#46039f\"],[0.2222222222222222,\"#7201a8\"],[0.3333333333333333,\"#9c179e\"],[0.4444444444444444,\"#bd3786\"],[0.5555555555555556,\"#d8576b\"],[0.6666666666666666,\"#ed7953\"],[0.7777777777777778,\"#fb9f3a\"],[0.8888888888888888,\"#fdca26\"],[1.0,\"#f0f921\"]]},\"colorway\":[\"#636efa\",\"#EF553B\",\"#00cc96\",\"#ab63fa\",\"#FFA15A\",\"#19d3f3\",\"#FF6692\",\"#B6E880\",\"#FF97FF\",\"#FECB52\"],\"font\":{\"color\":\"#2a3f5f\"},\"geo\":{\"bgcolor\":\"white\",\"lakecolor\":\"white\",\"landcolor\":\"#E5ECF6\",\"showlakes\":true,\"showland\":true,\"subunitcolor\":\"white\"},\"hoverlabel\":{\"align\":\"left\"},\"hovermode\":\"closest\",\"mapbox\":{\"style\":\"light\"},\"paper_bgcolor\":\"white\",\"plot_bgcolor\":\"#E5ECF6\",\"polar\":{\"angularaxis\":{\"gridcolor\":\"white\",\"linecolor\":\"white\",\"ticks\":\"\"},\"bgcolor\":\"#E5ECF6\",\"radialaxis\":{\"gridcolor\":\"white\",\"linecolor\":\"white\",\"ticks\":\"\"}},\"scene\":{\"xaxis\":{\"backgroundcolor\":\"#E5ECF6\",\"gridcolor\":\"white\",\"gridwidth\":2,\"linecolor\":\"white\",\"showbackground\":true,\"ticks\":\"\",\"zerolinecolor\":\"white\"},\"yaxis\":{\"backgroundcolor\":\"#E5ECF6\",\"gridcolor\":\"white\",\"gridwidth\":2,\"linecolor\":\"white\",\"showbackground\":true,\"ticks\":\"\",\"zerolinecolor\":\"white\"},\"zaxis\":{\"backgroundcolor\":\"#E5ECF6\",\"gridcolor\":\"white\",\"gridwidth\":2,\"linecolor\":\"white\",\"showbackground\":true,\"ticks\":\"\",\"zerolinecolor\":\"white\"}},\"shapedefaults\":{\"line\":{\"color\":\"#2a3f5f\"}},\"ternary\":{\"aaxis\":{\"gridcolor\":\"white\",\"linecolor\":\"white\",\"ticks\":\"\"},\"baxis\":{\"gridcolor\":\"white\",\"linecolor\":\"white\",\"ticks\":\"\"},\"bgcolor\":\"#E5ECF6\",\"caxis\":{\"gridcolor\":\"white\",\"linecolor\":\"white\",\"ticks\":\"\"}},\"title\":{\"x\":0.05},\"xaxis\":{\"automargin\":true,\"gridcolor\":\"white\",\"linecolor\":\"white\",\"ticks\":\"\",\"title\":{\"standoff\":15},\"zerolinecolor\":\"white\",\"zerolinewidth\":2},\"yaxis\":{\"automargin\":true,\"gridcolor\":\"white\",\"linecolor\":\"white\",\"ticks\":\"\",\"title\":{\"standoff\":15},\"zerolinecolor\":\"white\",\"zerolinewidth\":2}}}},                        {\"responsive\": true}                    ).then(function(){\n                            \nvar gd = document.getElementById('45900ca3-2c3a-4f72-bc2d-8313994b7c20');\nvar x = new MutationObserver(function (mutations, observer) {{\n        var display = window.getComputedStyle(gd).display;\n        if (!display || display === 'none') {{\n            console.log([gd, 'removed!']);\n            Plotly.purge(gd);\n            observer.disconnect();\n        }}\n}});\n\n// Listen for the removal of the full notebook cells\nvar notebookContainer = gd.closest('#notebook-container');\nif (notebookContainer) {{\n    x.observe(notebookContainer, {childList: true});\n}}\n\n// Listen for the clearing of the current output cell\nvar outputEl = gd.closest('.output');\nif (outputEl) {{\n    x.observe(outputEl, {childList: true});\n}}\n\n                        })                };                });            </script>        </div>"
     },
     "metadata": {},
     "output_type": "display_data"
    }
   ],
   "execution_count": null
  },
  {
   "cell_type": "code",
   "metadata": {
    "cell_id": "00025-c1d5a7f5-756f-424f-941f-b13e40a0c092",
    "deepnote_to_be_reexecuted": true,
    "source_hash": "5f3b39ad",
    "deepnote_cell_type": "code",
    "deepnote_cell_height": 433.1875,
    "deepnote_output_heights": [
     323.1875
    ]
   },
   "source": "NAPHG=pd.DataFrame(pd.read_csv('NAPsubmits.csv'))\nNAPHG",
   "outputs": [
    {
     "data": {
      "text/html": "<div>\n<style scoped>\n    .dataframe tbody tr th:only-of-type {\n        vertical-align: middle;\n    }\n\n    .dataframe tbody tr th {\n        vertical-align: top;\n    }\n\n    .dataframe thead th {\n        text-align: right;\n    }\n</style>\n<table border=\"1\" class=\"dataframe\">\n  <thead>\n    <tr style=\"text-align: right;\">\n      <th></th>\n      <th>Country</th>\n      <th>NAP_Mercury_use t/y</th>\n      <th>GMA_Mercury_use t/y</th>\n      <th>Target%</th>\n      <th>Taget_year</th>\n    </tr>\n  </thead>\n  <tbody>\n    <tr>\n      <th>0</th>\n      <td>Central African Republic</td>\n      <td>0.0000</td>\n      <td>8.0</td>\n      <td>NaN</td>\n      <td>NaN</td>\n    </tr>\n    <tr>\n      <th>1</th>\n      <td>Congo</td>\n      <td>0.0200</td>\n      <td>1.5</td>\n      <td>NaN</td>\n      <td>NaN</td>\n    </tr>\n    <tr>\n      <th>2</th>\n      <td>Lao PDR</td>\n      <td>0.2295</td>\n      <td>3.0</td>\n      <td>NaN</td>\n      <td>NaN</td>\n    </tr>\n    <tr>\n      <th>3</th>\n      <td>Mongolia</td>\n      <td>0.2350</td>\n      <td>11.5</td>\n      <td>NaN</td>\n      <td>NaN</td>\n    </tr>\n    <tr>\n      <th>...</th>\n      <td>...</td>\n      <td>...</td>\n      <td>...</td>\n      <td>...</td>\n      <td>...</td>\n    </tr>\n    <tr>\n      <th>13</th>\n      <td>Madagascar</td>\n      <td>31.1000</td>\n      <td>1.5</td>\n      <td>50%</td>\n      <td>2022.0</td>\n    </tr>\n    <tr>\n      <th>14</th>\n      <td>Mali</td>\n      <td>33.3000</td>\n      <td>12.5</td>\n      <td>10%</td>\n      <td>2023.0</td>\n    </tr>\n    <tr>\n      <th>15</th>\n      <td>Guinea</td>\n      <td>42.1000</td>\n      <td>19.1</td>\n      <td>50%</td>\n      <td>2022.0</td>\n    </tr>\n    <tr>\n      <th>16</th>\n      <td>Burkina Faso</td>\n      <td>77.6000</td>\n      <td>35.1</td>\n      <td>50%</td>\n      <td>2024.0</td>\n    </tr>\n  </tbody>\n</table>\n<p>17 rows × 5 columns</p>\n</div>",
      "text/plain": "                     Country  NAP_Mercury_use t/y  GMA_Mercury_use t/y  \\\n0   Central African Republic               0.0000                  8.0   \n1                      Congo               0.0200                  1.5   \n2                    Lao PDR               0.2295                  3.0   \n3                   Mongolia               0.2350                 11.5   \n..                       ...                  ...                  ...   \n13                Madagascar              31.1000                  1.5   \n14                      Mali              33.3000                 12.5   \n15                    Guinea              42.1000                 19.1   \n16              Burkina Faso              77.6000                 35.1   \n\n   Target%  Taget_year  \n0      NaN         NaN  \n1      NaN         NaN  \n2      NaN         NaN  \n3      NaN         NaN  \n..     ...         ...  \n13     50%      2022.0  \n14     10%      2023.0  \n15     50%      2022.0  \n16     50%      2024.0  \n\n[17 rows x 5 columns]"
     },
     "execution_count": 25,
     "metadata": {},
     "output_type": "execute_result"
    }
   ],
   "execution_count": null
  },
  {
   "cell_type": "code",
   "metadata": {
    "cell_id": "00026-9e5aaf87-9c69-4509-8a1f-d05a7e560890",
    "deepnote_to_be_reexecuted": true,
    "source_hash": "84930344",
    "deepnote_cell_type": "code",
    "deepnote_cell_height": 112.1875,
    "deepnote_output_heights": [
     20.1875
    ]
   },
   "source": "savenap",
   "outputs": [
    {
     "data": {
      "text/plain": "'/home/tzd/fs03/d1/tzd/Data_analysis/MIT_TPP_thesis/figures/07-24-22_global-hg-emission-estimates_vs_nap_estimates.pdf'"
     },
     "execution_count": 33,
     "metadata": {},
     "output_type": "execute_result"
    }
   ],
   "execution_count": null
  },
  {
   "cell_type": "code",
   "metadata": {
    "cell_id": "00027-9a6044f7-1c6a-4cfb-a257-1a7ab69a79e9",
    "deepnote_to_be_reexecuted": true,
    "source_hash": "3d9384f6",
    "deepnote_cell_type": "code",
    "deepnote_cell_height": 842.78125,
    "deepnote_output_heights": [
     241.78125
    ]
   },
   "source": "\nimport matplotlib.pyplot as plt\nsns.set_theme(style=\"whitegrid\")\n\n# Initialize the matplotlib figure\nfig, ax = plt.subplots(figsize=(12, 5))\n\n# Load the example car crash dataset\ncrashes = sns.load_dataset(\"car_crashes\").sort_values(\"total\", ascending=False)\n\n# Plot the total crashes\nsns.set_color_codes(\"muted\")\n\nsns.barplot(x=\"NAP_Mercury_use t/y\", y=\"Country\", data=NAPHG,\n            label=\"National Action Plan\", color=\"b\")\n\n#Plot the crashes where alcohol was involved\nsns.set_color_codes(\"pastel\")\nsns.barplot(x=\"GMA_Mercury_use t/y\", y=\"Country\", data=NAPHG,\n            label=\"Global Mercury Assessment\", color=\"b\",alpha=0.75)\n\n# Add a legend and informative axis label\nax.legend(ncol=2, loc=\"upper right\", frameon=True)\nax.set(xlim=(0, 100), ylabel=\"\",\n       xlabel=\"ASGM Mercury Emissions Mg/y\")\nsns.despine(left=True, bottom=True)\nname='07-24-22_global-hg-emission-estimates_vs_nap_estimates.pdf'\nsavepath='/home/tzd/fs03/d1/tzd/Data_analysis/MIT_TPP_thesis/figures/'+name\nfig.savefig(savepath,bbox_inches='tight')",
   "outputs": [
    {
     "data": {
      "image/png": "[encoded data removed]",
      "text/plain": "<Figure size 1800x750 with 1 Axes>"
     },
     "metadata": {
      "image/png": {
       "width": 1742,
       "height": 669
      }
     },
     "output_type": "display_data"
    }
   ],
   "execution_count": null
  },
  {
   "cell_type": "code",
   "metadata": {
    "cell_id": "00028-4e384aad-1250-48ef-bbf1-c48a7f67ad5d",
    "deepnote_to_be_reexecuted": true,
    "source_hash": "b623e53d",
    "deepnote_cell_type": "code",
    "deepnote_cell_height": 76
   },
   "source": "",
   "execution_count": null,
   "outputs": []
  },
  {
   "cell_type": "markdown",
   "source": "<a style='text-decoration:none;line-height:16px;display:flex;color:#5B5B62;padding:10px;justify-content:end;' href='https://deepnote.com?utm_source=created-in-deepnote-cell&projectId=062c0bf9-42c4-47d5-bc83-fb7cbde5be86' target=\"_blank\">\n<img alt='Created in deepnote.com' style='display:inline;max-height:16px;margin:0px;margin-right:7.5px;' src='data:image/svg+xml;base64,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' > </img>\nCreated in <span style='font-weight:600;margin-left:4px;'>Deepnote</span></a>",
   "metadata": {
    "tags": [],
    "created_in_deepnote_cell": true,
    "deepnote_cell_type": "markdown"
   }
  }
 ],
 "nbformat": 4,
 "nbformat_minor": 2,
 "metadata": {
  "kernelspec": {
   "display_name": "Python 3.9.12 ('Jlab')",
   "language": "python",
   "name": "python3"
  },
  "language_info": {
   "codemirror_mode": {
    "name": "ipython",
    "version": 3
   },
   "file_extension": ".py",
   "mimetype": "text/x-python",
   "name": "python",
   "nbconvert_exporter": "python",
   "pygments_lexer": "ipython3",
   "version": "3.9.12"
  },
  "orig_nbformat": 4,
  "vscode": {
   "interpreter": {
    "hash": "1392ff8a49593784dc97e5d400e35db794538c8cbbd54a22fcd4a0a7b48f4946"
   }
  },
  "deepnote_notebook_id": "d69bca09-b697-40b6-bd5c-6d85ae17a2ea",
  "deepnote": {},
  "deepnote_execution_queue": []
 }
}