{
 "cells": [
  {
   "cell_type": "code",
   "metadata": {
    "cell_id": "00001-9903a70f-32da-4314-b894-2150c2aef315",
    "deepnote_to_be_reexecuted": false,
    "source_hash": "acb7a871",
    "execution_start": 1660913237519,
    "execution_millis": 2339,
    "deepnote_cell_type": "code",
    "deepnote_cell_height": 423
   },
   "source": "import numpy as np\nimport pandas as pd\nimport matplotlib.pyplot as plt\nimport plotly.express as px\nimport seaborn as sns\nimport os\nfrom gamap_colormap import WhGrYlRd  # import the \"WhGrYlRd\" variable from my custom Python script\nimport matplotlib.pyplot as plt\nimport matplotlib as mpl\nfrom matplotlib.ticker import ScalarFormatter,AutoMinorLocator \nplt.style.use(\n    \"https://github.com/aeturrell/coding-for-economists/raw/main/plot_style.txt\"\n)\nmpl.rcParams.update({\"lines.linewidth\": 1.2})\n# Set max rows displayed for readability\npd.set_option(\"display.max_rows\", 8)\nimport warnings\nwarnings.filterwarnings(\"ignore\")\n\n",
   "execution_count": 1,
   "outputs": []
  },
  {
   "cell_type": "code",
   "metadata": {
    "cell_id": "00002-5018a136-0cc0-4ace-b597-0ad6c6ea3dec",
    "deepnote_to_be_reexecuted": false,
    "source_hash": "81f4bcd9",
    "execution_start": 1660913239862,
    "execution_millis": 4,
    "deepnote_cell_type": "code",
    "deepnote_cell_height": 81
   },
   "source": "# os.chdir('/home/tzd/fs03/d1/tzd/Data_analysis/MIT_TPP_thesis/JPnotebooks/GMA2018')",
   "execution_count": 2,
   "outputs": []
  },
  {
   "cell_type": "code",
   "metadata": {
    "cell_id": "00003-c7e2f8c0-9a1d-4796-b928-cf1164fdc00b",
    "deepnote_to_be_reexecuted": false,
    "source_hash": "f193b781",
    "execution_start": 1660913239873,
    "execution_millis": 4,
    "deepnote_cell_type": "code",
    "deepnote_cell_height": 202
   },
   "source": "GlobalHgInventry={\n'Fuel combustion':533,\n'Industry Sectors':614,\n'Intentional Use(including product waste)':239,\n'Artisanal and Small Scale Gold Mining':838,\n'Total':2220,\n'Total Lower':2000,\n'Total Upper':2820}",
   "execution_count": 3,
   "outputs": []
  },
  {
   "cell_type": "code",
   "metadata": {
    "cell_id": "00004-91b8ae03-2ab1-4a05-8162-0fe782df0f15",
    "deepnote_to_be_reexecuted": false,
    "source_hash": "cb894b86",
    "execution_start": 1660913239880,
    "execution_millis": 13,
    "deepnote_cell_type": "code",
    "deepnote_cell_height": 387
   },
   "source": "ASGM_perRegion={\n'Australia, New Zealand & Oceania':0.0,\n'Central America and the Caribbean':14.3,\n'CIS & other European countries':12.7,\n'East and Southeast Asia':214,\n'EU28':0.0,\n'Middle Eastern States':0.225,\n'North Africa':0.0,\n'North America':0.0,\n'South America':340,\n'South Asia':4.50,\n'Sub-Saharan Africa':252\n}\ndf_asgmPregion=pd.DataFrame([ASGM_perRegion])\ndf_asgmPregion=df_asgmPregion.T\ndf_asgmPregion=df_asgmPregion.sort_values(by=[0])\ndf_asgmPregion=df_asgmPregion.reset_index()\ndf_asgmPregion=df_asgmPregion.rename(columns={'index':'World Regions',0:\"ASGM Emission(t)\"})",
   "execution_count": 4,
   "outputs": []
  },
  {
   "cell_type": "code",
   "metadata": {
    "cell_id": "00005-7b9bb244-f490-48cf-8e68-be7271caee8d",
    "deepnote_to_be_reexecuted": false,
    "source_hash": "84dc9de9",
    "execution_start": 1660913239895,
    "execution_millis": 35,
    "deepnote_cell_type": "code",
    "deepnote_cell_height": 595
   },
   "source": "df_asgmPregion",
   "execution_count": 5,
   "outputs": [
    {
     "output_type": "execute_result",
     "execution_count": 5,
     "data": {
      "application/vnd.deepnote.dataframe.v3+json": {
       "column_count": 2,
       "row_count": 11,
       "columns": [
        {
         "name": "World Regions",
         "dtype": "object",
         "stats": {
          "unique_count": 11,
          "nan_count": 0,
          "categories": [
           {
            "name": "Australia, New Zealand & Oceania",
            "count": 1
           },
           {
            "name": "EU28",
            "count": 1
           },
           {
            "name": "9 others",
            "count": 9
           }
          ]
         }
        },
        {
         "name": "ASGM Emission(t)",
         "dtype": "float64",
         "stats": {
          "unique_count": 8,
          "nan_count": 0,
          "min": "0.0",
          "max": "340.0",
          "histogram": [
           {
            "bin_start": 0,
            "bin_end": 34,
            "count": 8
           },
           {
            "bin_start": 34,
            "bin_end": 68,
            "count": 0
           },
           {
            "bin_start": 68,
            "bin_end": 102,
            "count": 0
           },
           {
            "bin_start": 102,
            "bin_end": 136,
            "count": 0
           },
           {
            "bin_start": 136,
            "bin_end": 170,
            "count": 0
           },
           {
            "bin_start": 170,
            "bin_end": 204,
            "count": 0
           },
           {
            "bin_start": 204,
            "bin_end": 238,
            "count": 1
           },
           {
            "bin_start": 238,
            "bin_end": 272,
            "count": 1
           },
           {
            "bin_start": 272,
            "bin_end": 306,
            "count": 0
           },
           {
            "bin_start": 306,
            "bin_end": 340,
            "count": 1
           }
          ]
         }
        },
        {
         "name": "_deepnote_index_column",
         "dtype": "int64"
        }
       ],
       "rows": [
        {
         "World Regions": "Australia, New Zealand & Oceania",
         "ASGM Emission(t)": 0,
         "_deepnote_index_column": 0
        },
        {
         "World Regions": "EU28",
         "ASGM Emission(t)": 0,
         "_deepnote_index_column": 1
        },
        {
         "World Regions": "North Africa",
         "ASGM Emission(t)": 0,
         "_deepnote_index_column": 2
        },
        {
         "World Regions": "North America",
         "ASGM Emission(t)": 0,
         "_deepnote_index_column": 3
        },
        {
         "World Regions": "Middle Eastern States",
         "ASGM Emission(t)": 0.225,
         "_deepnote_index_column": 4
        },
        {
         "World Regions": "South Asia",
         "ASGM Emission(t)": 4.5,
         "_deepnote_index_column": 5
        },
        {
         "World Regions": "CIS & other European countries",
         "ASGM Emission(t)": 12.7,
         "_deepnote_index_column": 6
        },
        {
         "World Regions": "Central America and the Caribbean",
         "ASGM Emission(t)": 14.3,
         "_deepnote_index_column": 7
        },
        {
         "World Regions": "East and Southeast Asia",
         "ASGM Emission(t)": 214,
         "_deepnote_index_column": 8
        },
        {
         "World Regions": "Sub-Saharan Africa",
         "ASGM Emission(t)": 252,
         "_deepnote_index_column": 9
        }
       ]
      },
      "text/plain": "                        World Regions  ASGM Emission(t)\n0    Australia, New Zealand & Oceania               0.0\n1                                EU28               0.0\n2                        North Africa               0.0\n3                       North America               0.0\n..                                ...               ...\n7   Central America and the Caribbean              14.3\n8             East and Southeast Asia             214.0\n9                  Sub-Saharan Africa             252.0\n10                      South America             340.0\n\n[11 rows x 2 columns]",
      "text/html": "<div>\n<style scoped>\n    .dataframe tbody tr th:only-of-type {\n        vertical-align: middle;\n    }\n\n    .dataframe tbody tr th {\n        vertical-align: top;\n    }\n\n    .dataframe thead th {\n        text-align: right;\n    }\n</style>\n<table border=\"1\" class=\"dataframe\">\n  <thead>\n    <tr style=\"text-align: right;\">\n      <th></th>\n      <th>World Regions</th>\n      <th>ASGM Emission(t)</th>\n    </tr>\n  </thead>\n  <tbody>\n    <tr>\n      <th>0</th>\n      <td>Australia, New Zealand &amp; Oceania</td>\n      <td>0.0</td>\n    </tr>\n    <tr>\n      <th>1</th>\n      <td>EU28</td>\n      <td>0.0</td>\n    </tr>\n    <tr>\n      <th>2</th>\n      <td>North Africa</td>\n      <td>0.0</td>\n    </tr>\n    <tr>\n      <th>3</th>\n      <td>North America</td>\n      <td>0.0</td>\n    </tr>\n    <tr>\n      <th>...</th>\n      <td>...</td>\n      <td>...</td>\n    </tr>\n    <tr>\n      <th>7</th>\n      <td>Central America and the Caribbean</td>\n      <td>14.3</td>\n    </tr>\n    <tr>\n      <th>8</th>\n      <td>East and Southeast Asia</td>\n      <td>214.0</td>\n    </tr>\n    <tr>\n      <th>9</th>\n      <td>Sub-Saharan Africa</td>\n      <td>252.0</td>\n    </tr>\n    <tr>\n      <th>10</th>\n      <td>South America</td>\n      <td>340.0</td>\n    </tr>\n  </tbody>\n</table>\n<p>11 rows × 2 columns</p>\n</div>"
     },
     "metadata": {}
    }
   ]
  },
  {
   "cell_type": "code",
   "metadata": {
    "cell_id": "00006-eca6a363-2aa3-4aad-a175-0a3c42cfcef2",
    "deepnote_to_be_reexecuted": false,
    "source_hash": "201a1f63",
    "execution_start": 1660913239979,
    "execution_millis": 3,
    "deepnote_cell_type": "code",
    "deepnote_cell_height": 112.1875,
    "deepnote_output_heights": [
     20.1875
    ]
   },
   "source": "(214+252+340)/df_asgmPregion['ASGM Emission(t)'].sum()",
   "execution_count": 6,
   "outputs": [
    {
     "output_type": "execute_result",
     "execution_count": 6,
     "data": {
      "text/plain": "0.9621295771285326"
     },
     "metadata": {}
    }
   ]
  },
  {
   "cell_type": "code",
   "metadata": {
    "cell_id": "00007-fb58b597-1971-41cd-bf75-df07e88d0f39",
    "deepnote_to_be_reexecuted": false,
    "source_hash": "4dc253a3",
    "execution_start": 1660913239980,
    "execution_millis": 532,
    "deepnote_cell_type": "code",
    "deepnote_cell_height": 927.0625,
    "deepnote_output_heights": [
     212.0625,
     389
    ]
   },
   "source": "\n\n# Make a barplot\nchart=sns.barplot(\n    x=\"World Regions\", \n    y=\"ASGM Emission(t)\", \n    data=df_asgmPregion, \n    color='#FFA500'\n);\n# Rotate tick labels\nchart.set_xticklabels(chart.get_xticklabels(), rotation=45,horizontalalignment='right')\n",
   "execution_count": 7,
   "outputs": [
    {
     "output_type": "execute_result",
     "execution_count": 7,
     "data": {
      "text/plain": "[Text(0, 0, 'Australia, New Zealand & Oceania'),\n Text(1, 0, 'EU28'),\n Text(2, 0, 'North Africa'),\n Text(3, 0, 'North America'),\n Text(4, 0, 'Middle Eastern States'),\n Text(5, 0, 'South Asia'),\n Text(6, 0, 'CIS & other European countries'),\n Text(7, 0, 'Central America and the Caribbean'),\n Text(8, 0, 'East and Southeast Asia'),\n Text(9, 0, 'Sub-Saharan Africa'),\n Text(10, 0, 'South America')]"
     },
     "metadata": {}
    },
    {
     "data": {
      "text/plain": "<Figure size 432x288 with 1 Axes>",
      "image/png": "[encoded data removed]"
     },
     "metadata": {
      "needs_background": "light",
      "image/png": {
       "width": 462,
       "height": 388
      }
     },
     "output_type": "display_data"
    }
   ]
  },
  {
   "cell_type": "code",
   "metadata": {
    "cell_id": "00008-e6b79741-d789-4540-b482-23a79b5586fe",
    "deepnote_to_be_reexecuted": false,
    "source_hash": "d2976386",
    "execution_start": 1660913240509,
    "execution_millis": 9,
    "deepnote_cell_type": "code",
    "deepnote_cell_height": 112.1875,
    "deepnote_output_heights": [
     20.1875
    ]
   },
   "source": "((8*1393.23)+(2*1432.90))",
   "execution_count": 8,
   "outputs": [
    {
     "output_type": "execute_result",
     "execution_count": 8,
     "data": {
      "text/plain": "14011.64"
     },
     "metadata": {}
    }
   ]
  },
  {
   "cell_type": "code",
   "metadata": {
    "cell_id": "00009-770bd7a3-d322-497a-811d-7b9506e91d9b",
    "deepnote_to_be_reexecuted": false,
    "source_hash": "7d4647a5",
    "execution_start": 1660913240548,
    "execution_millis": 0,
    "deepnote_cell_type": "code",
    "deepnote_cell_height": 513
   },
   "source": "# ASGM Artisanal and small-scale gold mining 679 838\n# BIO Biomass burning (domestic, industrial and power plant) 49.5 51.9\n# CEM Cement production (raw materials and fuel, excluding coal)a 187 233\n# CREM Cremation emissions 4.91 3.77\n# CSP Chlor-alkali production (mercury process) 21.0 15.2\n# NFMP Non-ferrous metal production (primary Al, Cu, Pb, Zn)a 151 228\n# NFMP-AU Large-scale gold production) 73.1 84.5\n# NFMP-HG Mercury production) 12.2 13.8\n# OR Oil refining 13.1 14.4\n# PISP Pig iron and steel production (primary)a 26.7 29.8\n# SC-DR-coal Stationary combustion of coal (domestic/residential, transportation) 54.4 55.8\n# SC-DR-gas Stationary combustion of gas (domestic/residential, transportation) 0.162 0.165\n# SC-DR-oil Stationary combustion of oil (domestic/residential, transportation) 2.63 2.70\n# SC-IND-coal Stationary combustion of coal (industrial) 123 126\n# SC-IND-gas Stationary combustion of gas (industrial) 0.115 0.123\n# SC-IND-oil Stationary combustion of oil (industrial) 3.05 1.40\n# SC-PP-coal Stationary combustion of coal (power plants) 268 292\n# SC-PP-gas Stationary combustion of gas (power plants) 0.319 0.349\n# SC-PP-oil Stationary combustion of oil (power plants) 2.58 2.44\n# SSC Secondary steel production 9.69 10.1\n# VCM Vinyl-chloride monomer (mercury catalyst) b 58.3\n# WASOTH Waste (other waste)c 115 147\n# WI Waste incineration (controlled burning)c 15.4 15.0\n# Total 1810 2220\n# a",
   "execution_count": 9,
   "outputs": []
  },
  {
   "cell_type": "code",
   "metadata": {
    "cell_id": "00010-5363322e-3051-4e90-a451-0e0714b3b01b",
    "deepnote_to_be_reexecuted": false,
    "source_hash": "c6008019",
    "execution_start": 1660913240548,
    "execution_millis": 1,
    "deepnote_cell_type": "code",
    "deepnote_cell_height": 94
   },
   "source": "ASGM_emissions=pd.read_csv('hgASGM.csv')\nASGM_emissions['Country']=ASGM_emissions['Country'].str.strip()",
   "execution_count": 10,
   "outputs": []
  },
  {
   "cell_type": "code",
   "metadata": {
    "cell_id": "00011-e6abb0cc-a62b-4a4c-80f1-3c57a6ede993",
    "deepnote_to_be_reexecuted": false,
    "source_hash": "b06b303c",
    "execution_start": 1660913240549,
    "execution_millis": 3,
    "deepnote_cell_type": "code",
    "deepnote_cell_height": 347.25
   },
   "source": "air_emissions=pd.DataFrame(ASGM_emissions['Country'])\nprint(air_emissions)",
   "execution_count": 11,
   "outputs": [
    {
     "name": "stdout",
     "text": "       Country\n0      Bolivia\n1       Guinea\n2    Nicaragua\n3         Peru\n..         ...\n75    Eswatini\n76     Ukraine\n77  Uzbekistan\n78      Zambia\n\n[79 rows x 1 columns]\n",
     "output_type": "stream"
    }
   ]
  },
  {
   "cell_type": "code",
   "metadata": {
    "cell_id": "00013-7df5f5e5-56a1-4f77-b3b8-4cb0c157974f",
    "deepnote_to_be_reexecuted": false,
    "source_hash": "490efc51",
    "execution_start": 1660913240604,
    "execution_millis": 0,
    "deepnote_cell_type": "code",
    "deepnote_cell_height": 76
   },
   "source": "air_emissions['Emissions, t']=ASGM_emissions['Mean air emission, t']",
   "execution_count": 12,
   "outputs": []
  },
  {
   "cell_type": "code",
   "metadata": {
    "cell_id": "00015-500cdf1f-b878-408a-a145-8bdf1b98290f",
    "deepnote_to_be_reexecuted": false,
    "source_hash": "88009a35",
    "execution_start": 1660913240605,
    "execution_millis": 4,
    "deepnote_cell_type": "code",
    "deepnote_cell_height": 595
   },
   "source": "air_emissions",
   "execution_count": 13,
   "outputs": [
    {
     "output_type": "execute_result",
     "execution_count": 13,
     "data": {
      "application/vnd.deepnote.dataframe.v3+json": {
       "column_count": 2,
       "row_count": 79,
       "columns": [
        {
         "name": "Country",
         "dtype": "object",
         "stats": {
          "unique_count": 79,
          "nan_count": 0,
          "categories": [
           {
            "name": "Bolivia",
            "count": 1
           },
           {
            "name": "Guinea",
            "count": 1
           },
           {
            "name": "77 others",
            "count": 77
           }
          ]
         }
        },
        {
         "name": "Emissions, t",
         "dtype": "float64",
         "stats": {
          "unique_count": 36,
          "nan_count": 0,
          "min": "0.1",
          "max": "124.5",
          "histogram": [
           {
            "bin_start": 0.1,
            "bin_end": 12.540000000000001,
            "count": 63
           },
           {
            "bin_start": 12.540000000000001,
            "bin_end": 24.980000000000004,
            "count": 4
           },
           {
            "bin_start": 24.980000000000004,
            "bin_end": 37.42000000000001,
            "count": 5
           },
           {
            "bin_start": 37.42000000000001,
            "bin_end": 49.86000000000001,
            "count": 2
           },
           {
            "bin_start": 49.86000000000001,
            "bin_end": 62.300000000000004,
            "count": 3
           },
           {
            "bin_start": 62.300000000000004,
            "bin_end": 74.74000000000001,
            "count": 0
           },
           {
            "bin_start": 74.74000000000001,
            "bin_end": 87.18,
            "count": 0
           },
           {
            "bin_start": 87.18,
            "bin_end": 99.62,
            "count": 0
           },
           {
            "bin_start": 99.62,
            "bin_end": 112.06,
            "count": 1
           },
           {
            "bin_start": 112.06,
            "bin_end": 124.5,
            "count": 1
           }
          ]
         }
        },
        {
         "name": "_deepnote_index_column",
         "dtype": "int64"
        }
       ],
       "rows": [
        {
         "Country": "Bolivia",
         "Emissions, t": 40.5,
         "_deepnote_index_column": 0
        },
        {
         "Country": "Guinea",
         "Emissions, t": 14.3,
         "_deepnote_index_column": 1
        },
        {
         "Country": "Nicaragua",
         "Emissions, t": 0.7,
         "_deepnote_index_column": 2
        },
        {
         "Country": "Peru",
         "Emissions, t": 110.4,
         "_deepnote_index_column": 3
        },
        {
         "Country": "Senegal",
         "Emissions, t": 2.3,
         "_deepnote_index_column": 4
        },
        {
         "Country": "Suriname",
         "Emissions, t": 14.3,
         "_deepnote_index_column": 5
        },
        {
         "Country": "Brazil",
         "Emissions, t": 49.9,
         "_deepnote_index_column": 6
        },
        {
         "Country": "Burkina Faso",
         "Emissions, t": 26.3,
         "_deepnote_index_column": 7
        },
        {
         "Country": "Cambodia",
         "Emissions, t": 3.6,
         "_deepnote_index_column": 8
        },
        {
         "Country": "Colombia",
         "Emissions, t": 51,
         "_deepnote_index_column": 9
        }
       ]
      },
      "text/plain": "       Country  Emissions, t\n0      Bolivia          40.5\n1       Guinea          14.3\n2    Nicaragua           0.7\n3         Peru         110.4\n..         ...           ...\n75    Eswatini           0.2\n76     Ukraine           0.2\n77  Uzbekistan           0.2\n78      Zambia           0.2\n\n[79 rows x 2 columns]",
      "text/html": "<div>\n<style scoped>\n    .dataframe tbody tr th:only-of-type {\n        vertical-align: middle;\n    }\n\n    .dataframe tbody tr th {\n        vertical-align: top;\n    }\n\n    .dataframe thead th {\n        text-align: right;\n    }\n</style>\n<table border=\"1\" class=\"dataframe\">\n  <thead>\n    <tr style=\"text-align: right;\">\n      <th></th>\n      <th>Country</th>\n      <th>Emissions, t</th>\n    </tr>\n  </thead>\n  <tbody>\n    <tr>\n      <th>0</th>\n      <td>Bolivia</td>\n      <td>40.5</td>\n    </tr>\n    <tr>\n      <th>1</th>\n      <td>Guinea</td>\n      <td>14.3</td>\n    </tr>\n    <tr>\n      <th>2</th>\n      <td>Nicaragua</td>\n      <td>0.7</td>\n    </tr>\n    <tr>\n      <th>3</th>\n      <td>Peru</td>\n      <td>110.4</td>\n    </tr>\n    <tr>\n      <th>...</th>\n      <td>...</td>\n      <td>...</td>\n    </tr>\n    <tr>\n      <th>75</th>\n      <td>Eswatini</td>\n      <td>0.2</td>\n    </tr>\n    <tr>\n      <th>76</th>\n      <td>Ukraine</td>\n      <td>0.2</td>\n    </tr>\n    <tr>\n      <th>77</th>\n      <td>Uzbekistan</td>\n      <td>0.2</td>\n    </tr>\n    <tr>\n      <th>78</th>\n      <td>Zambia</td>\n      <td>0.2</td>\n    </tr>\n  </tbody>\n</table>\n<p>79 rows × 2 columns</p>\n</div>"
     },
     "metadata": {}
    }
   ]
  },
  {
   "cell_type": "code",
   "metadata": {
    "cell_id": "00016-2e5a48b0-3052-4c49-998a-cd33fe0fdc09",
    "deepnote_to_be_reexecuted": false,
    "source_hash": "a62895b6",
    "execution_start": 1660913240613,
    "execution_millis": 2,
    "deepnote_cell_type": "code",
    "deepnote_cell_height": 153
   },
   "source": "# fig = px.treemap(air_emissions, path=[px.Constant('Average Air Emissions from ASGM Activities'),'Country'], \n#                 values='Emissions, t',\n#                 color='Emissions, t',\n#                 color_continuous_scale='reds')\n# fig.show()",
   "execution_count": 14,
   "outputs": []
  },
  {
   "cell_type": "code",
   "metadata": {
    "cell_id": "00017-c3f9aabc-da25-4fd6-a55b-f798a2d98981",
    "deepnote_to_be_reexecuted": false,
    "source_hash": "b623e53d",
    "execution_start": 1660913240622,
    "execution_millis": 19743086,
    "deepnote_cell_type": "code",
    "deepnote_cell_height": 76
   },
   "source": "",
   "execution_count": 14,
   "outputs": []
  },
  {
   "cell_type": "code",
   "metadata": {
    "cell_id": "00018-e4c7acb5-53d5-4b94-876b-bc86d03261c7",
    "deepnote_to_be_reexecuted": false,
    "source_hash": "39d3514",
    "execution_start": 1660913240670,
    "execution_millis": 893,
    "deepnote_cell_type": "code",
    "deepnote_cell_height": 1089.609375,
    "deepnote_output_heights": [
     560.609375
    ]
   },
   "source": "\n\n# Initialize the matplotlib figure\nsns.set_style(\"whitegrid\")\nfig,ax = plt.subplots(figsize=(8, 10))\nplot_data = air_emissions.drop(0, axis=0).sort_values(by='Emissions, t', ascending=False)\nplot_data=plot_data[plot_data['Emissions, t']>1]\n\nlatam_emitters=['Peru','Colombia','Brazil ','Bolivia','Suriname','Ecuador','French Guiana','Venezuela','Guyana','Chile','Honduras','Mexico']\n# Load the example car crash dataset\n# crashes = sns.load_dataset(\"car_crashes\").sort_values(\"total\", ascending=False)\ncolors = [\"blue\" if i not in latam_emitters else \"red\" for i in plot_data.Country]\n# Plot the total crashes\nsns.set_color_codes(\"muted\")\n\nsns.barplot(x=\"Emissions, t\", y=\"Country\", data=plot_data ,\n            label=\"Emissions\", palette=colors)\n\n\nax.set(xlim=(0, 126), ylabel=\"\",\n       xlabel=\"GMA 2018 ASGM Hg$^0$ Emission Estimates (Mgy$^{-1}$)\")\nsns.despine(left=True, bottom=True)\n# name='07-14-22_gma2018_top-asgm-emmiting-countries.pdf'\n# savepath='/home/tzd/fs03/d1/tzd/Data_analysis/MIT_TPP_thesis/figures/'+name\n# fig.savefig(savepath,bbox_inches='tight')",
   "execution_count": 15,
   "outputs": [
    {
     "data": {
      "text/plain": "<Figure size 576x720 with 1 Axes>",
      "image/png": "[encoded data removed]"
     },
     "metadata": {
      "image/png": {
       "width": 670,
       "height": 598
      }
     },
     "output_type": "display_data"
    }
   ]
  },
  {
   "cell_type": "code",
   "metadata": {
    "cell_id": "a32e9638b8a94ef29e8385ab75cb4f89",
    "tags": [],
    "deepnote_to_be_reexecuted": false,
    "source_hash": "1a71bb17",
    "execution_start": 1660913241568,
    "execution_millis": 6,
    "deepnote_cell_type": "code",
    "deepnote_cell_height": 117
   },
   "source": "df_countries=pd.read_csv('/work/MIT_TPP_thesis/JPnotebooks/GMA2018/countries.csv')\ndf_countries['NAME']=df_countries['NAME'].str.strip()\ndf_countries['ISO']= df_countries['ISO'].str.strip()",
   "execution_count": 16,
   "outputs": []
  },
  {
   "cell_type": "code",
   "metadata": {
    "cell_id": "44f2385ccb7a4d79a1297b5071d3dc81",
    "tags": [],
    "deepnote_to_be_reexecuted": false,
    "source_hash": "9428331c",
    "execution_start": 1660913241582,
    "execution_millis": 19,
    "deepnote_table_state": {
     "pageSize": 10,
     "pageIndex": 0,
     "filters": [],
     "sortBy": []
    },
    "deepnote_table_loading": false,
    "deepnote_cell_type": "code",
    "deepnote_cell_height": 631
   },
   "source": "asgm_list=list(air_emissions['Country'])\niso=df_countries[df_countries['NAME'].isin(asgm_list)]\niso",
   "execution_count": 17,
   "outputs": [
    {
     "output_type": "execute_result",
     "execution_count": 17,
     "data": {
      "application/vnd.deepnote.dataframe.v3+json": {
       "column_count": 2,
       "row_count": 79,
       "columns": [
        {
         "name": "ISO",
         "dtype": "object",
         "stats": {
          "unique_count": 79,
          "nan_count": 0,
          "categories": [
           {
            "name": "AGO",
            "count": 1
           },
           {
            "name": "AZE",
            "count": 1
           },
           {
            "name": "77 others",
            "count": 77
           }
          ]
         }
        },
        {
         "name": "NAME",
         "dtype": "object",
         "stats": {
          "unique_count": 79,
          "nan_count": 0,
          "categories": [
           {
            "name": "Angola",
            "count": 1
           },
           {
            "name": "Azerbaijan",
            "count": 1
           },
           {
            "name": "77 others",
            "count": 77
           }
          ]
         }
        },
        {
         "name": "_deepnote_index_column",
         "dtype": "int64"
        }
       ],
       "rows": [
        {
         "ISO": "AGO",
         "NAME": "Angola",
         "_deepnote_index_column": 2
        },
        {
         "ISO": "AZE",
         "NAME": "Azerbaijan",
         "_deepnote_index_column": 16
        },
        {
         "ISO": "BDI",
         "NAME": "Burundi",
         "_deepnote_index_column": 17
        },
        {
         "ISO": "BEN",
         "NAME": "Benin",
         "_deepnote_index_column": 19
        },
        {
         "ISO": "BFA",
         "NAME": "Burkina Faso",
         "_deepnote_index_column": 21
        },
        {
         "ISO": "BOL",
         "NAME": "Bolivia",
         "_deepnote_index_column": 31
        },
        {
         "ISO": "BRA",
         "NAME": "Brazil",
         "_deepnote_index_column": 32
        },
        {
         "ISO": "BWA",
         "NAME": "Botswana",
         "_deepnote_index_column": 37
        },
        {
         "ISO": "CAF",
         "NAME": "Central African Republic",
         "_deepnote_index_column": 38
        },
        {
         "ISO": "CHL",
         "NAME": "Chile",
         "_deepnote_index_column": 42
        }
       ]
      },
      "text/plain": "     ISO          NAME\n2    AGO        Angola\n16   AZE    Azerbaijan\n17   BDI       Burundi\n19   BEN         Benin\n..   ...           ...\n241  VNM      Viet Nam\n246  ZAF  South Africa\n247  ZMB        Zambia\n248  ZWE      Zimbabwe\n\n[79 rows x 2 columns]",
      "text/html": "<div>\n<style scoped>\n    .dataframe tbody tr th:only-of-type {\n        vertical-align: middle;\n    }\n\n    .dataframe tbody tr th {\n        vertical-align: top;\n    }\n\n    .dataframe thead th {\n        text-align: right;\n    }\n</style>\n<table border=\"1\" class=\"dataframe\">\n  <thead>\n    <tr style=\"text-align: right;\">\n      <th></th>\n      <th>ISO</th>\n      <th>NAME</th>\n    </tr>\n  </thead>\n  <tbody>\n    <tr>\n      <th>2</th>\n      <td>AGO</td>\n      <td>Angola</td>\n    </tr>\n    <tr>\n      <th>16</th>\n      <td>AZE</td>\n      <td>Azerbaijan</td>\n    </tr>\n    <tr>\n      <th>17</th>\n      <td>BDI</td>\n      <td>Burundi</td>\n    </tr>\n    <tr>\n      <th>19</th>\n      <td>BEN</td>\n      <td>Benin</td>\n    </tr>\n    <tr>\n      <th>...</th>\n      <td>...</td>\n      <td>...</td>\n    </tr>\n    <tr>\n      <th>241</th>\n      <td>VNM</td>\n      <td>Viet Nam</td>\n    </tr>\n    <tr>\n      <th>246</th>\n      <td>ZAF</td>\n      <td>South Africa</td>\n    </tr>\n    <tr>\n      <th>247</th>\n      <td>ZMB</td>\n      <td>Zambia</td>\n    </tr>\n    <tr>\n      <th>248</th>\n      <td>ZWE</td>\n      <td>Zimbabwe</td>\n    </tr>\n  </tbody>\n</table>\n<p>79 rows × 2 columns</p>\n</div>"
     },
     "metadata": {}
    }
   ]
  },
  {
   "cell_type": "code",
   "metadata": {
    "cell_id": "4cf8cc8c6a6243528a4617ef671bdd30",
    "tags": [],
    "deepnote_to_be_reexecuted": false,
    "source_hash": "92ee85a5",
    "execution_start": 1660913241604,
    "execution_millis": 12,
    "deepnote_cell_type": "code",
    "deepnote_cell_height": 112.1875,
    "deepnote_output_heights": [
     20.1875
    ]
   },
   "source": "len(iso)",
   "execution_count": 18,
   "outputs": [
    {
     "output_type": "execute_result",
     "execution_count": 18,
     "data": {
      "text/plain": "79"
     },
     "metadata": {}
    }
   ]
  },
  {
   "cell_type": "code",
   "metadata": {
    "cell_id": "dfcd22c5c70a4173817ea1191d913d15",
    "tags": [],
    "deepnote_to_be_reexecuted": false,
    "source_hash": "4d0972ea",
    "execution_start": 1660913241610,
    "execution_millis": 783,
    "deepnote_cell_type": "code",
    "deepnote_cell_height": 130.1875,
    "deepnote_output_heights": [
     20.1875
    ]
   },
   "source": "emitters=list(ASGM_emissions['Country'].values)\nlen(emitters)",
   "execution_count": 19,
   "outputs": [
    {
     "output_type": "execute_result",
     "execution_count": 19,
     "data": {
      "text/plain": "79"
     },
     "metadata": {}
    }
   ]
  },
  {
   "cell_type": "code",
   "metadata": {
    "cell_id": "a5a2526af35b41f78c6cf7964eafc5a1",
    "tags": [],
    "deepnote_to_be_reexecuted": false,
    "source_hash": "ae2f66a1",
    "execution_start": 1660913241622,
    "execution_millis": 0,
    "deepnote_table_state": {
     "pageSize": 100,
     "pageIndex": 0,
     "filters": [],
     "sortBy": []
    },
    "deepnote_table_loading": false,
    "deepnote_cell_type": "code",
    "deepnote_cell_height": 94
   },
   "source": "# df_emitters=df[df['country'].isin(emitters)]\n# print(len(df_emitters))",
   "execution_count": 20,
   "outputs": []
  },
  {
   "cell_type": "code",
   "metadata": {
    "cell_id": "00019-1556048b-c895-4c85-a801-1dd223635b02",
    "deepnote_to_be_reexecuted": false,
    "source_hash": "4cd5f94b",
    "execution_start": 1660913241627,
    "execution_millis": 5,
    "deepnote_table_state": {
     "pageSize": 100,
     "pageIndex": 0,
     "filters": [],
     "sortBy": []
    },
    "deepnote_table_loading": false,
    "deepnote_table_invalid": false,
    "deepnote_cell_type": "code",
    "deepnote_cell_height": 81
   },
   "source": "df_asgm_air_hg=air_emissions.merge(iso,how='left',left_on='Country',right_on='NAME')",
   "execution_count": 21,
   "outputs": []
  },
  {
   "cell_type": "code",
   "metadata": {
    "cell_id": "ea4190d6b3534beb9458b9d1ba267011",
    "tags": [],
    "deepnote_to_be_reexecuted": false,
    "source_hash": "d16ae6e5",
    "execution_start": 1660913241639,
    "execution_millis": 783,
    "deepnote_cell_type": "code",
    "deepnote_cell_height": 634.25,
    "deepnote_output_heights": [
     231.25
    ]
   },
   "source": "# WhGrYlRd.colors\nimport matplotlib.pyplot as plt\nfrom matplotlib.colors import to_hex, to_rgb, CSS4_COLORS, LinearSegmentedColormap, ListedColormap\nfrom matplotlib.cm import ScalarMappable\ndef find_closest_name(col):\n    rv, gv, bv = to_rgb(col)\n    min_colors = {}\n    for col in CSS4_COLORS:\n        rc, gc, bc = to_rgb(col)\n        min_colors[(rc - rv) ** 2 + (gc - gv) ** 2 + (bc - bv) ** 2] = col\n    closest = min(min_colors.keys())\n    return min_colors[closest], np.sqrt(closest)\n\nvals = np.linspace(0, 1, 12)\n[(val, to_hex(WhGrYlRd(val))) for val in vals]\n\nsemi_wgyr = [find_closest_name(WhGrYlRd(val))[0] for val in vals]\nsemi_wgyr",
   "execution_count": 22,
   "outputs": [
    {
     "output_type": "execute_result",
     "execution_count": 22,
     "data": {
      "text/plain": "['white',\n 'paleturquoise',\n 'lightskyblue',\n 'mediumturquoise',\n 'lightgreen',\n 'greenyellow',\n 'gold',\n 'darkorange',\n 'red',\n 'red',\n 'darkred',\n 'maroon']"
     },
     "metadata": {}
    }
   ]
  },
  {
   "cell_type": "code",
   "source": "import plotly.express as px\nimport plotly.graph_objects as go\n\nfig = go.Figure(data=go.Choropleth( \n                    locations=df_asgm_air_hg['ISO'],\n                    z=df_asgm_air_hg[\"Emissions, t\"].astype(float), # lifeExp is a column of gapminder\n                    # hover_name=df_asgm_air_hg[\"Country\"],\n                    colorscale = semi_wgyr,#'Reds',\n                    colorbar_orientation = 'h',\n                    colorbar_title = \"ASGM Mercury Emission Estimates (tons/year)\",\n                    colorbar_titleside = 'bottom',\n                    colorbar_y = 0,\n                    # range_color=(0, df_asgm_air_hg[\"Emissions, t\"].max())\n                    colorbar_len = 0.75,\n                    # colorbar_ticklabelstep=10\n                    \n                    ))# column to add to hover information)\n# fig.update_layout(colorbar=dict(\n#     len=0.5,\n#     orientation='h'\n# ))\n# fig.update_layout(coloraxis_colorbar_y=-0.3)\n# fig.data[0].colorbar.x=-0.1\nfig.update_geos(fitbounds=\"locations\", visible=False,\n                    showcountries=True)\nfig.update_layout(height=500, margin={\"r\":0,\"t\":0,\"l\":0,\"b\":0})\nfig.write_image(\"/work/MIT_TPP_thesis/figures/07-14-22_gma2018_-asgm-emmiting-countries.pdf\")\nfig.show()",
   "metadata": {
    "cell_id": "cfa7717df5744d4a9b14d8f7c288e3a3",
    "tags": [],
    "deepnote_to_be_reexecuted": false,
    "source_hash": "a979ad7a",
    "execution_start": 1660913241691,
    "execution_millis": 1676,
    "deepnote_cell_type": "code",
    "deepnote_cell_height": 1184,
    "deepnote_output_heights": [
     501
    ]
   },
   "execution_count": 23,
   "outputs": [
    {
     "data": {
      "text/html": "<html>\n<head><meta charset=\"utf-8\" /></head>\n<body>\n    <div>            <script src=\"https://cdnjs.cloudflare.com/ajax/libs/mathjax/2.7.5/MathJax.js?config=TeX-AMS-MML_SVG\"></script><script type=\"text/javascript\">if (window.MathJax && window.MathJax.Hub && window.MathJax.Hub.Config) {window.MathJax.Hub.Config({SVG: {font: \"STIX-Web\"}});}</script>                <script type=\"text/javascript\">window.PlotlyConfig = {MathJaxConfig: 'local'};</script>\n        <script src=\"https://cdn.plot.ly/plotly-2.12.1.min.js\"></script>                <div id=\"7502f196-3183-4a44-b131-dc4dd553228c\" class=\"plotly-graph-div\" style=\"height:500px; width:100%;\"></div>            <script type=\"text/javascript\">                                    window.PLOTLYENV=window.PLOTLYENV || {};                                    if (document.getElementById(\"7502f196-3183-4a44-b131-dc4dd553228c\")) {                    Plotly.newPlot(                        \"7502f196-3183-4a44-b131-dc4dd553228c\",                        [{\"colorbar\":{\"len\":0.75,\"orientation\":\"h\",\"title\":{\"side\":\"bottom\",\"text\":\"ASGM Mercury Emission Estimates (tons/year)\"},\"y\":0},\"colorscale\":[[0.0,\"white\"],[0.09090909090909091,\"paleturquoise\"],[0.18181818181818182,\"lightskyblue\"],[0.2727272727272727,\"mediumturquoise\"],[0.36363636363636365,\"lightgreen\"],[0.45454545454545453,\"greenyellow\"],[0.5454545454545454,\"gold\"],[0.6363636363636364,\"darkorange\"],[0.7272727272727273,\"red\"],[0.8181818181818182,\"red\"],[0.9090909090909091,\"darkred\"],[1.0,\"maroon\"]],\"locations\":[\"BOL\",\"GIN\",\"NIC\",\"PER\",\"SEN\",\"SUR\",\"BRA\",\"BFA\",\"KHM\",\"COL\",\"ECU\",\"GUF\",\"GHA\",\"GUY\",\"HND\",\"IND\",\"IDN\",\"LAO\",\"MLI\",\"MNG\",\"MOZ\",\"NGA\",\"PHL\",\"SLE\",\"VEN\",\"ZWE\",\"BWA\",\"CMR\",\"CAF\",\"CHL\",\"CHN\",\"COG\",\"COD\",\"GTM\",\"KEN\",\"KGZ\",\"MDG\",\"MYS\",\"MEX\",\"MMR\",\"PAN\",\"PNG\",\"RUS\",\"ZAF\",\"SDN\",\"TJK\",\"TZA\",\"THA\",\"TGO\",\"UGA\",\"VNM\",\"AGO\",\"AZE\",\"BEN\",\"BDI\",\"TCD\",\"CRI\",\"CIV\",\"DOM\",\"SLV\",\"GNQ\",\"ERI\",\"ETH\",\"GAB\",\"GMB\",\"GNB\",\"IRN\",\"KAZ\",\"LSO\",\"LBR\",\"MWI\",\"MRT\",\"NER\",\"PRY\",\"RWA\",\"SWZ\",\"UKR\",\"UZB\",\"ZMB\"],\"z\":[40.5,14.3,0.7,110.4,2.3,14.3,49.9,26.3,3.6,51.0,26.4,5.6,41.3,11.3,2.4,4.5,124.5,2.3,9.4,5.5,3.0,15.0,23.6,8.3,34.4,7.8,0.4,1.1,6.0,1.9,33.8,1.1,11.3,0.7,2.6,3.6,1.1,1.7,3.6,11.3,0.7,3.3,5.2,1.7,62.3,3.0,26.3,1.1,3.0,3.0,3.6,0.2,0.2,0.2,0.2,0.2,0.1,0.2,0.2,0.2,0.2,0.2,0.2,0.2,0.2,0.2,0.2,0.2,0.2,0.2,0.2,0.2,0.2,0.2,0.2,0.2,0.2,0.2,0.2],\"type\":\"choropleth\"}],                        {\"template\":{\"data\":{\"histogram2dcontour\":[{\"type\":\"histogram2dcontour\",\"colorbar\":{\"outlinewidth\":0,\"ticks\":\"\"},\"colorscale\":[[0.0,\"#0d0887\"],[0.1111111111111111,\"#46039f\"],[0.2222222222222222,\"#7201a8\"],[0.3333333333333333,\"#9c179e\"],[0.4444444444444444,\"#bd3786\"],[0.5555555555555556,\"#d8576b\"],[0.6666666666666666,\"#ed7953\"],[0.7777777777777778,\"#fb9f3a\"],[0.8888888888888888,\"#fdca26\"],[1.0,\"#f0f921\"]]}],\"choropleth\":[{\"type\":\"choropleth\",\"colorbar\":{\"outlinewidth\":0,\"ticks\":\"\"}}],\"histogram2d\":[{\"type\":\"histogram2d\",\"colorbar\":{\"outlinewidth\":0,\"ticks\":\"\"},\"colorscale\":[[0.0,\"#0d0887\"],[0.1111111111111111,\"#46039f\"],[0.2222222222222222,\"#7201a8\"],[0.3333333333333333,\"#9c179e\"],[0.4444444444444444,\"#bd3786\"],[0.5555555555555556,\"#d8576b\"],[0.6666666666666666,\"#ed7953\"],[0.7777777777777778,\"#fb9f3a\"],[0.8888888888888888,\"#fdca26\"],[1.0,\"#f0f921\"]]}],\"heatmap\":[{\"type\":\"heatmap\",\"colorbar\":{\"outlinewidth\":0,\"ticks\":\"\"},\"colorscale\":[[0.0,\"#0d0887\"],[0.1111111111111111,\"#46039f\"],[0.2222222222222222,\"#7201a8\"],[0.3333333333333333,\"#9c179e\"],[0.4444444444444444,\"#bd3786\"],[0.5555555555555556,\"#d8576b\"],[0.6666666666666666,\"#ed7953\"],[0.7777777777777778,\"#fb9f3a\"],[0.8888888888888888,\"#fdca26\"],[1.0,\"#f0f921\"]]}],\"heatmapgl\":[{\"type\":\"heatmapgl\",\"colorbar\":{\"outlinewidth\":0,\"ticks\":\"\"},\"colorscale\":[[0.0,\"#0d0887\"],[0.1111111111111111,\"#46039f\"],[0.2222222222222222,\"#7201a8\"],[0.3333333333333333,\"#9c179e\"],[0.4444444444444444,\"#bd3786\"],[0.5555555555555556,\"#d8576b\"],[0.6666666666666666,\"#ed7953\"],[0.7777777777777778,\"#fb9f3a\"],[0.8888888888888888,\"#fdca26\"],[1.0,\"#f0f921\"]]}],\"contourcarpet\":[{\"type\":\"contourcarpet\",\"colorbar\":{\"outlinewidth\":0,\"ticks\":\"\"}}],\"contour\":[{\"type\":\"contour\",\"colorbar\":{\"outlinewidth\":0,\"ticks\":\"\"},\"colorscale\":[[0.0,\"#0d0887\"],[0.1111111111111111,\"#46039f\"],[0.2222222222222222,\"#7201a8\"],[0.3333333333333333,\"#9c179e\"],[0.4444444444444444,\"#bd3786\"],[0.5555555555555556,\"#d8576b\"],[0.6666666666666666,\"#ed7953\"],[0.7777777777777778,\"#fb9f3a\"],[0.8888888888888888,\"#fdca26\"],[1.0,\"#f0f921\"]]}],\"surface\":[{\"type\":\"surface\",\"colorbar\":{\"outlinewidth\":0,\"ticks\":\"\"},\"colorscale\":[[0.0,\"#0d0887\"],[0.1111111111111111,\"#46039f\"],[0.2222222222222222,\"#7201a8\"],[0.3333333333333333,\"#9c179e\"],[0.4444444444444444,\"#bd3786\"],[0.5555555555555556,\"#d8576b\"],[0.6666666666666666,\"#ed7953\"],[0.7777777777777778,\"#fb9f3a\"],[0.8888888888888888,\"#fdca26\"],[1.0,\"#f0f921\"]]}],\"mesh3d\":[{\"type\":\"mesh3d\",\"colorbar\":{\"outlinewidth\":0,\"ticks\":\"\"}}],\"scatter\":[{\"fillpattern\":{\"fillmode\":\"overlay\",\"size\":10,\"solidity\":0.2},\"type\":\"scatter\"}],\"parcoords\":[{\"type\":\"parcoords\",\"line\":{\"colorbar\":{\"outlinewidth\":0,\"ticks\":\"\"}}}],\"scatterpolargl\":[{\"type\":\"scatterpolargl\",\"marker\":{\"colorbar\":{\"outlinewidth\":0,\"ticks\":\"\"}}}],\"bar\":[{\"error_x\":{\"color\":\"#2a3f5f\"},\"error_y\":{\"color\":\"#2a3f5f\"},\"marker\":{\"line\":{\"color\":\"#E5ECF6\",\"width\":0.5},\"pattern\":{\"fillmode\":\"overlay\",\"size\":10,\"solidity\":0.2}},\"type\":\"bar\"}],\"scattergeo\":[{\"type\":\"scattergeo\",\"marker\":{\"colorbar\":{\"outlinewidth\":0,\"ticks\":\"\"}}}],\"scatterpolar\":[{\"type\":\"scatterpolar\",\"marker\":{\"colorbar\":{\"outlinewidth\":0,\"ticks\":\"\"}}}],\"histogram\":[{\"marker\":{\"pattern\":{\"fillmode\":\"overlay\",\"size\":10,\"solidity\":0.2}},\"type\":\"histogram\"}],\"scattergl\":[{\"type\":\"scattergl\",\"marker\":{\"colorbar\":{\"outlinewidth\":0,\"ticks\":\"\"}}}],\"scatter3d\":[{\"type\":\"scatter3d\",\"line\":{\"colorbar\":{\"outlinewidth\":0,\"ticks\":\"\"}},\"marker\":{\"colorbar\":{\"outlinewidth\":0,\"ticks\":\"\"}}}],\"scattermapbox\":[{\"type\":\"scattermapbox\",\"marker\":{\"colorbar\":{\"outlinewidth\":0,\"ticks\":\"\"}}}],\"scatterternary\":[{\"type\":\"scatterternary\",\"marker\":{\"colorbar\":{\"outlinewidth\":0,\"ticks\":\"\"}}}],\"scattercarpet\":[{\"type\":\"scattercarpet\",\"marker\":{\"colorbar\":{\"outlinewidth\":0,\"ticks\":\"\"}}}],\"carpet\":[{\"aaxis\":{\"endlinecolor\":\"#2a3f5f\",\"gridcolor\":\"white\",\"linecolor\":\"white\",\"minorgridcolor\":\"white\",\"startlinecolor\":\"#2a3f5f\"},\"baxis\":{\"endlinecolor\":\"#2a3f5f\",\"gridcolor\":\"white\",\"linecolor\":\"white\",\"minorgridcolor\":\"white\",\"startlinecolor\":\"#2a3f5f\"},\"type\":\"carpet\"}],\"table\":[{\"cells\":{\"fill\":{\"color\":\"#EBF0F8\"},\"line\":{\"color\":\"white\"}},\"header\":{\"fill\":{\"color\":\"#C8D4E3\"},\"line\":{\"color\":\"white\"}},\"type\":\"table\"}],\"barpolar\":[{\"marker\":{\"line\":{\"color\":\"#E5ECF6\",\"width\":0.5},\"pattern\":{\"fillmode\":\"overlay\",\"size\":10,\"solidity\":0.2}},\"type\":\"barpolar\"}],\"pie\":[{\"automargin\":true,\"type\":\"pie\"}]},\"layout\":{\"autotypenumbers\":\"strict\",\"colorway\":[\"#636efa\",\"#EF553B\",\"#00cc96\",\"#ab63fa\",\"#FFA15A\",\"#19d3f3\",\"#FF6692\",\"#B6E880\",\"#FF97FF\",\"#FECB52\"],\"font\":{\"color\":\"#2a3f5f\"},\"hovermode\":\"closest\",\"hoverlabel\":{\"align\":\"left\"},\"paper_bgcolor\":\"white\",\"plot_bgcolor\":\"#E5ECF6\",\"polar\":{\"bgcolor\":\"#E5ECF6\",\"angularaxis\":{\"gridcolor\":\"white\",\"linecolor\":\"white\",\"ticks\":\"\"},\"radialaxis\":{\"gridcolor\":\"white\",\"linecolor\":\"white\",\"ticks\":\"\"}},\"ternary\":{\"bgcolor\":\"#E5ECF6\",\"aaxis\":{\"gridcolor\":\"white\",\"linecolor\":\"white\",\"ticks\":\"\"},\"baxis\":{\"gridcolor\":\"white\",\"linecolor\":\"white\",\"ticks\":\"\"},\"caxis\":{\"gridcolor\":\"white\",\"linecolor\":\"white\",\"ticks\":\"\"}},\"coloraxis\":{\"colorbar\":{\"outlinewidth\":0,\"ticks\":\"\"}},\"colorscale\":{\"sequential\":[[0.0,\"#0d0887\"],[0.1111111111111111,\"#46039f\"],[0.2222222222222222,\"#7201a8\"],[0.3333333333333333,\"#9c179e\"],[0.4444444444444444,\"#bd3786\"],[0.5555555555555556,\"#d8576b\"],[0.6666666666666666,\"#ed7953\"],[0.7777777777777778,\"#fb9f3a\"],[0.8888888888888888,\"#fdca26\"],[1.0,\"#f0f921\"]],\"sequentialminus\":[[0.0,\"#0d0887\"],[0.1111111111111111,\"#46039f\"],[0.2222222222222222,\"#7201a8\"],[0.3333333333333333,\"#9c179e\"],[0.4444444444444444,\"#bd3786\"],[0.5555555555555556,\"#d8576b\"],[0.6666666666666666,\"#ed7953\"],[0.7777777777777778,\"#fb9f3a\"],[0.8888888888888888,\"#fdca26\"],[1.0,\"#f0f921\"]],\"diverging\":[[0,\"#8e0152\"],[0.1,\"#c51b7d\"],[0.2,\"#de77ae\"],[0.3,\"#f1b6da\"],[0.4,\"#fde0ef\"],[0.5,\"#f7f7f7\"],[0.6,\"#e6f5d0\"],[0.7,\"#b8e186\"],[0.8,\"#7fbc41\"],[0.9,\"#4d9221\"],[1,\"#276419\"]]},\"xaxis\":{\"gridcolor\":\"white\",\"linecolor\":\"white\",\"ticks\":\"\",\"title\":{\"standoff\":15},\"zerolinecolor\":\"white\",\"automargin\":true,\"zerolinewidth\":2},\"yaxis\":{\"gridcolor\":\"white\",\"linecolor\":\"white\",\"ticks\":\"\",\"title\":{\"standoff\":15},\"zerolinecolor\":\"white\",\"automargin\":true,\"zerolinewidth\":2},\"scene\":{\"xaxis\":{\"backgroundcolor\":\"#E5ECF6\",\"gridcolor\":\"white\",\"linecolor\":\"white\",\"showbackground\":true,\"ticks\":\"\",\"zerolinecolor\":\"white\",\"gridwidth\":2},\"yaxis\":{\"backgroundcolor\":\"#E5ECF6\",\"gridcolor\":\"white\",\"linecolor\":\"white\",\"showbackground\":true,\"ticks\":\"\",\"zerolinecolor\":\"white\",\"gridwidth\":2},\"zaxis\":{\"backgroundcolor\":\"#E5ECF6\",\"gridcolor\":\"white\",\"linecolor\":\"white\",\"showbackground\":true,\"ticks\":\"\",\"zerolinecolor\":\"white\",\"gridwidth\":2}},\"shapedefaults\":{\"line\":{\"color\":\"#2a3f5f\"}},\"annotationdefaults\":{\"arrowcolor\":\"#2a3f5f\",\"arrowhead\":0,\"arrowwidth\":1},\"geo\":{\"bgcolor\":\"white\",\"landcolor\":\"#E5ECF6\",\"subunitcolor\":\"white\",\"showland\":true,\"showlakes\":true,\"lakecolor\":\"white\"},\"title\":{\"x\":0.05},\"mapbox\":{\"style\":\"light\"}}},\"geo\":{\"fitbounds\":\"locations\",\"visible\":false,\"showcountries\":true},\"margin\":{\"r\":0,\"t\":0,\"l\":0,\"b\":0},\"height\":500},                        {\"responsive\": true}                    ).then(function(){\n                            \nvar gd = document.getElementById('7502f196-3183-4a44-b131-dc4dd553228c');\nvar x = new MutationObserver(function (mutations, observer) {{\n        var display = window.getComputedStyle(gd).display;\n        if (!display || display === 'none') {{\n            console.log([gd, 'removed!']);\n            Plotly.purge(gd);\n            observer.disconnect();\n        }}\n}});\n\n// Listen for the removal of the full notebook cells\nvar notebookContainer = gd.closest('#notebook-container');\nif (notebookContainer) {{\n    x.observe(notebookContainer, {childList: true});\n}}\n\n// Listen for the clearing of the current output cell\nvar outputEl = gd.closest('.output');\nif (outputEl) {{\n    x.observe(outputEl, {childList: true});\n}}\n\n                        })                };                            </script>        </div>\n</body>\n</html>"
     },
     "metadata": {},
     "output_type": "display_data"
    }
   ]
  },
  {
   "cell_type": "code",
   "metadata": {
    "cell_id": "70955c9c99734bf7b899c36d0150b84c",
    "tags": [],
    "deepnote_to_be_reexecuted": false,
    "source_hash": "cee4db5a",
    "execution_start": 1660913243386,
    "execution_millis": 24,
    "deepnote_cell_type": "code",
    "deepnote_cell_height": 3532
   },
   "source": "# for item in asgm_list:\n#     if item in list(iso['NAME'].values):\n#         print\n#         pass\n#     else:\n#         print(item)\ndf_asgm_air_hg",
   "execution_count": 24,
   "outputs": [
    {
     "output_type": "execute_result",
     "execution_count": 24,
     "data": {
      "application/vnd.deepnote.dataframe.v3+json": {
       "column_count": 4,
       "row_count": 79,
       "columns": [
        {
         "name": "Country",
         "dtype": "object",
         "stats": {
          "unique_count": 79,
          "nan_count": 0,
          "categories": [
           {
            "name": "Bolivia",
            "count": 1
           },
           {
            "name": "Guinea",
            "count": 1
           },
           {
            "name": "77 others",
            "count": 77
           }
          ]
         }
        },
        {
         "name": "Emissions, t",
         "dtype": "float64",
         "stats": {
          "unique_count": 36,
          "nan_count": 0,
          "min": "0.1",
          "max": "124.5",
          "histogram": [
           {
            "bin_start": 0.1,
            "bin_end": 12.540000000000001,
            "count": 63
           },
           {
            "bin_start": 12.540000000000001,
            "bin_end": 24.980000000000004,
            "count": 4
           },
           {
            "bin_start": 24.980000000000004,
            "bin_end": 37.42000000000001,
            "count": 5
           },
           {
            "bin_start": 37.42000000000001,
            "bin_end": 49.86000000000001,
            "count": 2
           },
           {
            "bin_start": 49.86000000000001,
            "bin_end": 62.300000000000004,
            "count": 3
           },
           {
            "bin_start": 62.300000000000004,
            "bin_end": 74.74000000000001,
            "count": 0
           },
           {
            "bin_start": 74.74000000000001,
            "bin_end": 87.18,
            "count": 0
           },
           {
            "bin_start": 87.18,
            "bin_end": 99.62,
            "count": 0
           },
           {
            "bin_start": 99.62,
            "bin_end": 112.06,
            "count": 1
           },
           {
            "bin_start": 112.06,
            "bin_end": 124.5,
            "count": 1
           }
          ]
         }
        },
        {
         "name": "ISO",
         "dtype": "object",
         "stats": {
          "unique_count": 79,
          "nan_count": 0,
          "categories": [
           {
            "name": "BOL",
            "count": 1
           },
           {
            "name": "GIN",
            "count": 1
           },
           {
            "name": "77 others",
            "count": 77
           }
          ]
         }
        },
        {
         "name": "NAME",
         "dtype": "object",
         "stats": {
          "unique_count": 79,
          "nan_count": 0,
          "categories": [
           {
            "name": "Bolivia",
            "count": 1
           },
           {
            "name": "Guinea",
            "count": 1
           },
           {
            "name": "77 others",
            "count": 77
           }
          ]
         }
        },
        {
         "name": "_deepnote_index_column",
         "dtype": "int64"
        }
       ],
       "rows": [
        {
         "Country": "Bolivia",
         "Emissions, t": 40.5,
         "ISO": "BOL",
         "NAME": "Bolivia",
         "_deepnote_index_column": 0
        },
        {
         "Country": "Guinea",
         "Emissions, t": 14.3,
         "ISO": "GIN",
         "NAME": "Guinea",
         "_deepnote_index_column": 1
        },
        {
         "Country": "Nicaragua",
         "Emissions, t": 0.7,
         "ISO": "NIC",
         "NAME": "Nicaragua",
         "_deepnote_index_column": 2
        },
        {
         "Country": "Peru",
         "Emissions, t": 110.4,
         "ISO": "PER",
         "NAME": "Peru",
         "_deepnote_index_column": 3
        },
        {
         "Country": "Senegal",
         "Emissions, t": 2.3,
         "ISO": "SEN",
         "NAME": "Senegal",
         "_deepnote_index_column": 4
        },
        {
         "Country": "Suriname",
         "Emissions, t": 14.3,
         "ISO": "SUR",
         "NAME": "Suriname",
         "_deepnote_index_column": 5
        },
        {
         "Country": "Brazil",
         "Emissions, t": 49.9,
         "ISO": "BRA",
         "NAME": "Brazil",
         "_deepnote_index_column": 6
        },
        {
         "Country": "Burkina Faso",
         "Emissions, t": 26.3,
         "ISO": "BFA",
         "NAME": "Burkina Faso",
         "_deepnote_index_column": 7
        },
        {
         "Country": "Cambodia",
         "Emissions, t": 3.6,
         "ISO": "KHM",
         "NAME": "Cambodia",
         "_deepnote_index_column": 8
        },
        {
         "Country": "Colombia",
         "Emissions, t": 51,
         "ISO": "COL",
         "NAME": "Colombia",
         "_deepnote_index_column": 9
        },
        {
         "Country": "Ecuador",
         "Emissions, t": 26.4,
         "ISO": "ECU",
         "NAME": "Ecuador",
         "_deepnote_index_column": 10
        },
        {
         "Country": "French Guiana",
         "Emissions, t": 5.6,
         "ISO": "GUF",
         "NAME": "French Guiana",
         "_deepnote_index_column": 11
        },
        {
         "Country": "Ghana",
         "Emissions, t": 41.3,
         "ISO": "GHA",
         "NAME": "Ghana",
         "_deepnote_index_column": 12
        },
        {
         "Country": "Guyana",
         "Emissions, t": 11.3,
         "ISO": "GUY",
         "NAME": "Guyana",
         "_deepnote_index_column": 13
        },
        {
         "Country": "Honduras",
         "Emissions, t": 2.4,
         "ISO": "HND",
         "NAME": "Honduras",
         "_deepnote_index_column": 14
        },
        {
         "Country": "India",
         "Emissions, t": 4.5,
         "ISO": "IND",
         "NAME": "India",
         "_deepnote_index_column": 15
        },
        {
         "Country": "Indonesia",
         "Emissions, t": 124.5,
         "ISO": "IDN",
         "NAME": "Indonesia",
         "_deepnote_index_column": 16
        },
        {
         "Country": "Lao People's Democratic Republic",
         "Emissions, t": 2.3,
         "ISO": "LAO",
         "NAME": "Lao People's Democratic Republic",
         "_deepnote_index_column": 17
        },
        {
         "Country": "Mali",
         "Emissions, t": 9.4,
         "ISO": "MLI",
         "NAME": "Mali",
         "_deepnote_index_column": 18
        },
        {
         "Country": "Mongolia",
         "Emissions, t": 5.5,
         "ISO": "MNG",
         "NAME": "Mongolia",
         "_deepnote_index_column": 19
        },
        {
         "Country": "Mozambique",
         "Emissions, t": 3,
         "ISO": "MOZ",
         "NAME": "Mozambique",
         "_deepnote_index_column": 20
        },
        {
         "Country": "Nigeria",
         "Emissions, t": 15,
         "ISO": "NGA",
         "NAME": "Nigeria",
         "_deepnote_index_column": 21
        },
        {
         "Country": "Philippines",
         "Emissions, t": 23.6,
         "ISO": "PHL",
         "NAME": "Philippines",
         "_deepnote_index_column": 22
        },
        {
         "Country": "Sierra Leone",
         "Emissions, t": 8.3,
         "ISO": "SLE",
         "NAME": "Sierra Leone",
         "_deepnote_index_column": 23
        },
        {
         "Country": "Venezuela",
         "Emissions, t": 34.4,
         "ISO": "VEN",
         "NAME": "Venezuela",
         "_deepnote_index_column": 24
        },
        {
         "Country": "Zimbabwe",
         "Emissions, t": 7.8,
         "ISO": "ZWE",
         "NAME": "Zimbabwe",
         "_deepnote_index_column": 25
        },
        {
         "Country": "Botswana",
         "Emissions, t": 0.4,
         "ISO": "BWA",
         "NAME": "Botswana",
         "_deepnote_index_column": 26
        },
        {
         "Country": "Cameroon",
         "Emissions, t": 1.1,
         "ISO": "CMR",
         "NAME": "Cameroon",
         "_deepnote_index_column": 27
        },
        {
         "Country": "Central African Republic",
         "Emissions, t": 6,
         "ISO": "CAF",
         "NAME": "Central African Republic",
         "_deepnote_index_column": 28
        },
        {
         "Country": "Chile",
         "Emissions, t": 1.9,
         "ISO": "CHL",
         "NAME": "Chile",
         "_deepnote_index_column": 29
        },
        {
         "Country": "China",
         "Emissions, t": 33.8,
         "ISO": "CHN",
         "NAME": "China",
         "_deepnote_index_column": 30
        },
        {
         "Country": "Congo",
         "Emissions, t": 1.1,
         "ISO": "COG",
         "NAME": "Congo",
         "_deepnote_index_column": 31
        },
        {
         "Country": "Democratic Republic of Congo",
         "Emissions, t": 11.3,
         "ISO": "COD",
         "NAME": "Democratic Republic of Congo",
         "_deepnote_index_column": 32
        },
        {
         "Country": "Guatemala",
         "Emissions, t": 0.7,
         "ISO": "GTM",
         "NAME": "Guatemala",
         "_deepnote_index_column": 33
        },
        {
         "Country": "Kenya",
         "Emissions, t": 2.6,
         "ISO": "KEN",
         "NAME": "Kenya",
         "_deepnote_index_column": 34
        },
        {
         "Country": "Kyrgyzstan",
         "Emissions, t": 3.6,
         "ISO": "KGZ",
         "NAME": "Kyrgyzstan",
         "_deepnote_index_column": 35
        },
        {
         "Country": "Madagascar",
         "Emissions, t": 1.1,
         "ISO": "MDG",
         "NAME": "Madagascar",
         "_deepnote_index_column": 36
        },
        {
         "Country": "Malaysia",
         "Emissions, t": 1.7,
         "ISO": "MYS",
         "NAME": "Malaysia",
         "_deepnote_index_column": 37
        },
        {
         "Country": "Mexico",
         "Emissions, t": 3.6,
         "ISO": "MEX",
         "NAME": "Mexico",
         "_deepnote_index_column": 38
        },
        {
         "Country": "Myanmar",
         "Emissions, t": 11.3,
         "ISO": "MMR",
         "NAME": "Myanmar",
         "_deepnote_index_column": 39
        },
        {
         "Country": "Panama",
         "Emissions, t": 0.7,
         "ISO": "PAN",
         "NAME": "Panama",
         "_deepnote_index_column": 40
        },
        {
         "Country": "Papua New Guinea",
         "Emissions, t": 3.3,
         "ISO": "PNG",
         "NAME": "Papua New Guinea",
         "_deepnote_index_column": 41
        },
        {
         "Country": "Russian Federation",
         "Emissions, t": 5.2,
         "ISO": "RUS",
         "NAME": "Russian Federation",
         "_deepnote_index_column": 42
        },
        {
         "Country": "South Africa",
         "Emissions, t": 1.7,
         "ISO": "ZAF",
         "NAME": "South Africa",
         "_deepnote_index_column": 43
        },
        {
         "Country": "Sudan",
         "Emissions, t": 62.3,
         "ISO": "SDN",
         "NAME": "Sudan",
         "_deepnote_index_column": 44
        },
        {
         "Country": "Tajikistan",
         "Emissions, t": 3,
         "ISO": "TJK",
         "NAME": "Tajikistan",
         "_deepnote_index_column": 45
        },
        {
         "Country": "Tanzania",
         "Emissions, t": 26.3,
         "ISO": "TZA",
         "NAME": "Tanzania",
         "_deepnote_index_column": 46
        },
        {
         "Country": "Thailand",
         "Emissions, t": 1.1,
         "ISO": "THA",
         "NAME": "Thailand",
         "_deepnote_index_column": 47
        },
        {
         "Country": "Togo",
         "Emissions, t": 3,
         "ISO": "TGO",
         "NAME": "Togo",
         "_deepnote_index_column": 48
        },
        {
         "Country": "Uganda",
         "Emissions, t": 3,
         "ISO": "UGA",
         "NAME": "Uganda",
         "_deepnote_index_column": 49
        },
        {
         "Country": "Viet Nam",
         "Emissions, t": 3.6,
         "ISO": "VNM",
         "NAME": "Viet Nam",
         "_deepnote_index_column": 50
        },
        {
         "Country": "Angola",
         "Emissions, t": 0.2,
         "ISO": "AGO",
         "NAME": "Angola",
         "_deepnote_index_column": 51
        },
        {
         "Country": "Azerbaijan",
         "Emissions, t": 0.2,
         "ISO": "AZE",
         "NAME": "Azerbaijan",
         "_deepnote_index_column": 52
        },
        {
         "Country": "Benin",
         "Emissions, t": 0.2,
         "ISO": "BEN",
         "NAME": "Benin",
         "_deepnote_index_column": 53
        },
        {
         "Country": "Burundi",
         "Emissions, t": 0.2,
         "ISO": "BDI",
         "NAME": "Burundi",
         "_deepnote_index_column": 54
        },
        {
         "Country": "Chad",
         "Emissions, t": 0.2,
         "ISO": "TCD",
         "NAME": "Chad",
         "_deepnote_index_column": 55
        },
        {
         "Country": "Costa Rica",
         "Emissions, t": 0.1,
         "ISO": "CRI",
         "NAME": "Costa Rica",
         "_deepnote_index_column": 56
        },
        {
         "Country": "Côte d'Ivoire",
         "Emissions, t": 0.2,
         "ISO": "CIV",
         "NAME": "Côte d'Ivoire",
         "_deepnote_index_column": 57
        },
        {
         "Country": "Dominican Republic",
         "Emissions, t": 0.2,
         "ISO": "DOM",
         "NAME": "Dominican Republic",
         "_deepnote_index_column": 58
        },
        {
         "Country": "El Salvador",
         "Emissions, t": 0.2,
         "ISO": "SLV",
         "NAME": "El Salvador",
         "_deepnote_index_column": 59
        },
        {
         "Country": "Equatorial Guinea",
         "Emissions, t": 0.2,
         "ISO": "GNQ",
         "NAME": "Equatorial Guinea",
         "_deepnote_index_column": 60
        },
        {
         "Country": "Eritrea",
         "Emissions, t": 0.2,
         "ISO": "ERI",
         "NAME": "Eritrea",
         "_deepnote_index_column": 61
        },
        {
         "Country": "Ethiopia",
         "Emissions, t": 0.2,
         "ISO": "ETH",
         "NAME": "Ethiopia",
         "_deepnote_index_column": 62
        },
        {
         "Country": "Gabon",
         "Emissions, t": 0.2,
         "ISO": "GAB",
         "NAME": "Gabon",
         "_deepnote_index_column": 63
        },
        {
         "Country": "Gambia",
         "Emissions, t": 0.2,
         "ISO": "GMB",
         "NAME": "Gambia",
         "_deepnote_index_column": 64
        },
        {
         "Country": "Guinea-Bissau",
         "Emissions, t": 0.2,
         "ISO": "GNB",
         "NAME": "Guinea-Bissau",
         "_deepnote_index_column": 65
        },
        {
         "Country": "Iran (Islamic Republic of)",
         "Emissions, t": 0.2,
         "ISO": "IRN",
         "NAME": "Iran (Islamic Republic of)",
         "_deepnote_index_column": 66
        },
        {
         "Country": "Kazakhstan",
         "Emissions, t": 0.2,
         "ISO": "KAZ",
         "NAME": "Kazakhstan",
         "_deepnote_index_column": 67
        },
        {
         "Country": "Lesotho",
         "Emissions, t": 0.2,
         "ISO": "LSO",
         "NAME": "Lesotho",
         "_deepnote_index_column": 68
        },
        {
         "Country": "Liberia",
         "Emissions, t": 0.2,
         "ISO": "LBR",
         "NAME": "Liberia",
         "_deepnote_index_column": 69
        },
        {
         "Country": "Malawi",
         "Emissions, t": 0.2,
         "ISO": "MWI",
         "NAME": "Malawi",
         "_deepnote_index_column": 70
        },
        {
         "Country": "Mauritania",
         "Emissions, t": 0.2,
         "ISO": "MRT",
         "NAME": "Mauritania",
         "_deepnote_index_column": 71
        },
        {
         "Country": "Niger",
         "Emissions, t": 0.2,
         "ISO": "NER",
         "NAME": "Niger",
         "_deepnote_index_column": 72
        },
        {
         "Country": "Paraguay",
         "Emissions, t": 0.2,
         "ISO": "PRY",
         "NAME": "Paraguay",
         "_deepnote_index_column": 73
        },
        {
         "Country": "Rwanda",
         "Emissions, t": 0.2,
         "ISO": "RWA",
         "NAME": "Rwanda",
         "_deepnote_index_column": 74
        },
        {
         "Country": "Eswatini",
         "Emissions, t": 0.2,
         "ISO": "SWZ",
         "NAME": "Eswatini",
         "_deepnote_index_column": 75
        },
        {
         "Country": "Ukraine",
         "Emissions, t": 0.2,
         "ISO": "UKR",
         "NAME": "Ukraine",
         "_deepnote_index_column": 76
        },
        {
         "Country": "Uzbekistan",
         "Emissions, t": 0.2,
         "ISO": "UZB",
         "NAME": "Uzbekistan",
         "_deepnote_index_column": 77
        },
        {
         "Country": "Zambia",
         "Emissions, t": 0.2,
         "ISO": "ZMB",
         "NAME": "Zambia",
         "_deepnote_index_column": 78
        }
       ]
      },
      "text/plain": "       Country  Emissions, t  ISO        NAME\n0      Bolivia          40.5  BOL     Bolivia\n1       Guinea          14.3  GIN      Guinea\n2    Nicaragua           0.7  NIC   Nicaragua\n3         Peru         110.4  PER        Peru\n..         ...           ...  ...         ...\n75    Eswatini           0.2  SWZ    Eswatini\n76     Ukraine           0.2  UKR     Ukraine\n77  Uzbekistan           0.2  UZB  Uzbekistan\n78      Zambia           0.2  ZMB      Zambia\n\n[79 rows x 4 columns]",
      "text/html": "<div>\n<style scoped>\n    .dataframe tbody tr th:only-of-type {\n        vertical-align: middle;\n    }\n\n    .dataframe tbody tr th {\n        vertical-align: top;\n    }\n\n    .dataframe thead th {\n        text-align: right;\n    }\n</style>\n<table border=\"1\" class=\"dataframe\">\n  <thead>\n    <tr style=\"text-align: right;\">\n      <th></th>\n      <th>Country</th>\n      <th>Emissions, t</th>\n      <th>ISO</th>\n      <th>NAME</th>\n    </tr>\n  </thead>\n  <tbody>\n    <tr>\n      <th>0</th>\n      <td>Bolivia</td>\n      <td>40.5</td>\n      <td>BOL</td>\n      <td>Bolivia</td>\n    </tr>\n    <tr>\n      <th>1</th>\n      <td>Guinea</td>\n      <td>14.3</td>\n      <td>GIN</td>\n      <td>Guinea</td>\n    </tr>\n    <tr>\n      <th>2</th>\n      <td>Nicaragua</td>\n      <td>0.7</td>\n      <td>NIC</td>\n      <td>Nicaragua</td>\n    </tr>\n    <tr>\n      <th>3</th>\n      <td>Peru</td>\n      <td>110.4</td>\n      <td>PER</td>\n      <td>Peru</td>\n    </tr>\n    <tr>\n      <th>...</th>\n      <td>...</td>\n      <td>...</td>\n      <td>...</td>\n      <td>...</td>\n    </tr>\n    <tr>\n      <th>75</th>\n      <td>Eswatini</td>\n      <td>0.2</td>\n      <td>SWZ</td>\n      <td>Eswatini</td>\n    </tr>\n    <tr>\n      <th>76</th>\n      <td>Ukraine</td>\n      <td>0.2</td>\n      <td>UKR</td>\n      <td>Ukraine</td>\n    </tr>\n    <tr>\n      <th>77</th>\n      <td>Uzbekistan</td>\n      <td>0.2</td>\n      <td>UZB</td>\n      <td>Uzbekistan</td>\n    </tr>\n    <tr>\n      <th>78</th>\n      <td>Zambia</td>\n      <td>0.2</td>\n      <td>ZMB</td>\n      <td>Zambia</td>\n    </tr>\n  </tbody>\n</table>\n<p>79 rows × 4 columns</p>\n</div>"
     },
     "metadata": {}
    }
   ]
  },
  {
   "cell_type": "code",
   "metadata": {
    "cell_id": "038778e1ade04a7b8dc296f5f02e0f21",
    "tags": [],
    "deepnote_to_be_reexecuted": false,
    "source_hash": "c5d1c6ab",
    "execution_start": 1660913243454,
    "execution_millis": 1982,
    "deepnote_cell_type": "code",
    "deepnote_cell_height": 248.375
   },
   "source": "df = px.data.gapminder().query(\"country == 'Canada'\")\nfig = px.bar(df_asgm_air_hg, x='year', y='pop',\n             hover_data=[\"Emissions, t\"], color=\"Emissions, t\",\n             #labels={'pop':'population of Canada'}, \n             height=400)\nfig.show()",
   "execution_count": 25,
   "outputs": [
    {
     "output_type": "error",
     "ename": "ValueError",
     "evalue": "Value of 'x' is not the name of a column in 'data_frame'. Expected one of ['Country', 'Emissions, t', 'ISO', 'NAME'] but received: year",
     "traceback": [
      "\u001b[0;31m---------------------------------------------------------------------------\u001b[0m",
      "\u001b[0;31mValueError\u001b[0m                                Traceback (most recent call last)",
      "Input \u001b[0;32mIn [25]\u001b[0m, in \u001b[0;36m<cell line: 2>\u001b[0;34m()\u001b[0m\n\u001b[1;32m      1\u001b[0m df \u001b[38;5;241m=\u001b[39m px\u001b[38;5;241m.\u001b[39mdata\u001b[38;5;241m.\u001b[39mgapminder()\u001b[38;5;241m.\u001b[39mquery(\u001b[38;5;124m\"\u001b[39m\u001b[38;5;124mcountry == \u001b[39m\u001b[38;5;124m'\u001b[39m\u001b[38;5;124mCanada\u001b[39m\u001b[38;5;124m'\u001b[39m\u001b[38;5;124m\"\u001b[39m)\n\u001b[0;32m----> 2\u001b[0m fig \u001b[38;5;241m=\u001b[39m \u001b[43mpx\u001b[49m\u001b[38;5;241;43m.\u001b[39;49m\u001b[43mbar\u001b[49m\u001b[43m(\u001b[49m\u001b[43mdf_asgm_air_hg\u001b[49m\u001b[43m,\u001b[49m\u001b[43m \u001b[49m\u001b[43mx\u001b[49m\u001b[38;5;241;43m=\u001b[39;49m\u001b[38;5;124;43m'\u001b[39;49m\u001b[38;5;124;43myear\u001b[39;49m\u001b[38;5;124;43m'\u001b[39;49m\u001b[43m,\u001b[49m\u001b[43m \u001b[49m\u001b[43my\u001b[49m\u001b[38;5;241;43m=\u001b[39;49m\u001b[38;5;124;43m'\u001b[39;49m\u001b[38;5;124;43mpop\u001b[39;49m\u001b[38;5;124;43m'\u001b[39;49m\u001b[43m,\u001b[49m\n\u001b[1;32m      3\u001b[0m \u001b[43m             \u001b[49m\u001b[43mhover_data\u001b[49m\u001b[38;5;241;43m=\u001b[39;49m\u001b[43m[\u001b[49m\u001b[38;5;124;43m\"\u001b[39;49m\u001b[38;5;124;43mEmissions, t\u001b[39;49m\u001b[38;5;124;43m\"\u001b[39;49m\u001b[43m]\u001b[49m\u001b[43m,\u001b[49m\u001b[43m \u001b[49m\u001b[43mcolor\u001b[49m\u001b[38;5;241;43m=\u001b[39;49m\u001b[38;5;124;43m\"\u001b[39;49m\u001b[38;5;124;43mEmissions, t\u001b[39;49m\u001b[38;5;124;43m\"\u001b[39;49m\u001b[43m,\u001b[49m\n\u001b[1;32m      4\u001b[0m \u001b[43m             \u001b[49m\u001b[38;5;66;43;03m#labels={'pop':'population of Canada'}, \u001b[39;49;00m\n\u001b[1;32m      5\u001b[0m \u001b[43m             \u001b[49m\u001b[43mheight\u001b[49m\u001b[38;5;241;43m=\u001b[39;49m\u001b[38;5;241;43m400\u001b[39;49m\u001b[43m)\u001b[49m\n\u001b[1;32m      6\u001b[0m fig\u001b[38;5;241m.\u001b[39mshow()\n",
      "File \u001b[0;32m/shared-libs/python3.9/py/lib/python3.9/site-packages/plotly/express/_chart_types.py:373\u001b[0m, in \u001b[0;36mbar\u001b[0;34m(data_frame, x, y, color, pattern_shape, facet_row, facet_col, facet_col_wrap, facet_row_spacing, facet_col_spacing, hover_name, hover_data, custom_data, text, base, error_x, error_x_minus, error_y, error_y_minus, animation_frame, animation_group, category_orders, labels, color_discrete_sequence, color_discrete_map, color_continuous_scale, pattern_shape_sequence, pattern_shape_map, range_color, color_continuous_midpoint, opacity, orientation, barmode, log_x, log_y, range_x, range_y, text_auto, title, template, width, height)\u001b[0m\n\u001b[1;32m    325\u001b[0m \u001b[38;5;28;01mdef\u001b[39;00m \u001b[38;5;21mbar\u001b[39m(\n\u001b[1;32m    326\u001b[0m     data_frame\u001b[38;5;241m=\u001b[39m\u001b[38;5;28;01mNone\u001b[39;00m,\n\u001b[1;32m    327\u001b[0m     x\u001b[38;5;241m=\u001b[39m\u001b[38;5;28;01mNone\u001b[39;00m,\n\u001b[0;32m   (...)\u001b[0m\n\u001b[1;32m    367\u001b[0m     height\u001b[38;5;241m=\u001b[39m\u001b[38;5;28;01mNone\u001b[39;00m,\n\u001b[1;32m    368\u001b[0m ) \u001b[38;5;241m-\u001b[39m\u001b[38;5;241m>\u001b[39m go\u001b[38;5;241m.\u001b[39mFigure:\n\u001b[1;32m    369\u001b[0m     \u001b[38;5;124;03m\"\"\"\u001b[39;00m\n\u001b[1;32m    370\u001b[0m \u001b[38;5;124;03m    In a bar plot, each row of `data_frame` is represented as a rectangular\u001b[39;00m\n\u001b[1;32m    371\u001b[0m \u001b[38;5;124;03m    mark.\u001b[39;00m\n\u001b[1;32m    372\u001b[0m \u001b[38;5;124;03m    \"\"\"\u001b[39;00m\n\u001b[0;32m--> 373\u001b[0m     \u001b[38;5;28;01mreturn\u001b[39;00m \u001b[43mmake_figure\u001b[49m\u001b[43m(\u001b[49m\n\u001b[1;32m    374\u001b[0m \u001b[43m        \u001b[49m\u001b[43margs\u001b[49m\u001b[38;5;241;43m=\u001b[39;49m\u001b[38;5;28;43mlocals\u001b[39;49m\u001b[43m(\u001b[49m\u001b[43m)\u001b[49m\u001b[43m,\u001b[49m\n\u001b[1;32m    375\u001b[0m \u001b[43m        \u001b[49m\u001b[43mconstructor\u001b[49m\u001b[38;5;241;43m=\u001b[39;49m\u001b[43mgo\u001b[49m\u001b[38;5;241;43m.\u001b[39;49m\u001b[43mBar\u001b[49m\u001b[43m,\u001b[49m\n\u001b[1;32m    376\u001b[0m \u001b[43m        \u001b[49m\u001b[43mtrace_patch\u001b[49m\u001b[38;5;241;43m=\u001b[39;49m\u001b[38;5;28;43mdict\u001b[39;49m\u001b[43m(\u001b[49m\u001b[43mtextposition\u001b[49m\u001b[38;5;241;43m=\u001b[39;49m\u001b[38;5;124;43m\"\u001b[39;49m\u001b[38;5;124;43mauto\u001b[39;49m\u001b[38;5;124;43m\"\u001b[39;49m\u001b[43m)\u001b[49m\u001b[43m,\u001b[49m\n\u001b[1;32m    377\u001b[0m \u001b[43m        \u001b[49m\u001b[43mlayout_patch\u001b[49m\u001b[38;5;241;43m=\u001b[39;49m\u001b[38;5;28;43mdict\u001b[39;49m\u001b[43m(\u001b[49m\u001b[43mbarmode\u001b[49m\u001b[38;5;241;43m=\u001b[39;49m\u001b[43mbarmode\u001b[49m\u001b[43m)\u001b[49m\u001b[43m,\u001b[49m\n\u001b[1;32m    378\u001b[0m \u001b[43m    \u001b[49m\u001b[43m)\u001b[49m\n",
      "File \u001b[0;32m/shared-libs/python3.9/py/lib/python3.9/site-packages/plotly/express/_core.py:1990\u001b[0m, in \u001b[0;36mmake_figure\u001b[0;34m(args, constructor, trace_patch, layout_patch)\u001b[0m\n\u001b[1;32m   1987\u001b[0m layout_patch \u001b[38;5;241m=\u001b[39m layout_patch \u001b[38;5;129;01mor\u001b[39;00m {}\n\u001b[1;32m   1988\u001b[0m apply_default_cascade(args)\n\u001b[0;32m-> 1990\u001b[0m args \u001b[38;5;241m=\u001b[39m \u001b[43mbuild_dataframe\u001b[49m\u001b[43m(\u001b[49m\u001b[43margs\u001b[49m\u001b[43m,\u001b[49m\u001b[43m \u001b[49m\u001b[43mconstructor\u001b[49m\u001b[43m)\u001b[49m\n\u001b[1;32m   1991\u001b[0m \u001b[38;5;28;01mif\u001b[39;00m constructor \u001b[38;5;129;01min\u001b[39;00m [go\u001b[38;5;241m.\u001b[39mTreemap, go\u001b[38;5;241m.\u001b[39mSunburst, go\u001b[38;5;241m.\u001b[39mIcicle] \u001b[38;5;129;01mand\u001b[39;00m args[\u001b[38;5;124m\"\u001b[39m\u001b[38;5;124mpath\u001b[39m\u001b[38;5;124m\"\u001b[39m] \u001b[38;5;129;01mis\u001b[39;00m \u001b[38;5;129;01mnot\u001b[39;00m \u001b[38;5;28;01mNone\u001b[39;00m:\n\u001b[1;32m   1992\u001b[0m     args \u001b[38;5;241m=\u001b[39m process_dataframe_hierarchy(args)\n",
      "File \u001b[0;32m/shared-libs/python3.9/py/lib/python3.9/site-packages/plotly/express/_core.py:1405\u001b[0m, in \u001b[0;36mbuild_dataframe\u001b[0;34m(args, constructor)\u001b[0m\n\u001b[1;32m   1402\u001b[0m     args[\u001b[38;5;124m\"\u001b[39m\u001b[38;5;124mcolor\u001b[39m\u001b[38;5;124m\"\u001b[39m] \u001b[38;5;241m=\u001b[39m \u001b[38;5;28;01mNone\u001b[39;00m\n\u001b[1;32m   1403\u001b[0m \u001b[38;5;66;03m# now that things have been prepped, we do the systematic rewriting of `args`\u001b[39;00m\n\u001b[0;32m-> 1405\u001b[0m df_output, wide_id_vars \u001b[38;5;241m=\u001b[39m \u001b[43mprocess_args_into_dataframe\u001b[49m\u001b[43m(\u001b[49m\n\u001b[1;32m   1406\u001b[0m \u001b[43m    \u001b[49m\u001b[43margs\u001b[49m\u001b[43m,\u001b[49m\u001b[43m \u001b[49m\u001b[43mwide_mode\u001b[49m\u001b[43m,\u001b[49m\u001b[43m \u001b[49m\u001b[43mvar_name\u001b[49m\u001b[43m,\u001b[49m\u001b[43m \u001b[49m\u001b[43mvalue_name\u001b[49m\n\u001b[1;32m   1407\u001b[0m \u001b[43m\u001b[49m\u001b[43m)\u001b[49m\n\u001b[1;32m   1409\u001b[0m \u001b[38;5;66;03m# now that `df_output` exists and `args` contains only references, we complete\u001b[39;00m\n\u001b[1;32m   1410\u001b[0m \u001b[38;5;66;03m# the special-case and wide-mode handling by further rewriting args and/or mutating\u001b[39;00m\n\u001b[1;32m   1411\u001b[0m \u001b[38;5;66;03m# df_output\u001b[39;00m\n\u001b[1;32m   1413\u001b[0m count_name \u001b[38;5;241m=\u001b[39m _escape_col_name(df_output, \u001b[38;5;124m\"\u001b[39m\u001b[38;5;124mcount\u001b[39m\u001b[38;5;124m\"\u001b[39m, [var_name, value_name])\n",
      "File \u001b[0;32m/shared-libs/python3.9/py/lib/python3.9/site-packages/plotly/express/_core.py:1207\u001b[0m, in \u001b[0;36mprocess_args_into_dataframe\u001b[0;34m(args, wide_mode, var_name, value_name)\u001b[0m\n\u001b[1;32m   1205\u001b[0m         \u001b[38;5;28;01mif\u001b[39;00m argument \u001b[38;5;241m==\u001b[39m \u001b[38;5;124m\"\u001b[39m\u001b[38;5;124mindex\u001b[39m\u001b[38;5;124m\"\u001b[39m:\n\u001b[1;32m   1206\u001b[0m             err_msg \u001b[38;5;241m+\u001b[39m\u001b[38;5;241m=\u001b[39m \u001b[38;5;124m\"\u001b[39m\u001b[38;5;130;01m\\n\u001b[39;00m\u001b[38;5;124m To use the index, pass it in directly as `df.index`.\u001b[39m\u001b[38;5;124m\"\u001b[39m\n\u001b[0;32m-> 1207\u001b[0m         \u001b[38;5;28;01mraise\u001b[39;00m \u001b[38;5;167;01mValueError\u001b[39;00m(err_msg)\n\u001b[1;32m   1208\u001b[0m \u001b[38;5;28;01melif\u001b[39;00m length \u001b[38;5;129;01mand\u001b[39;00m \u001b[38;5;28mlen\u001b[39m(df_input[argument]) \u001b[38;5;241m!=\u001b[39m length:\n\u001b[1;32m   1209\u001b[0m     \u001b[38;5;28;01mraise\u001b[39;00m \u001b[38;5;167;01mValueError\u001b[39;00m(\n\u001b[1;32m   1210\u001b[0m         \u001b[38;5;124m\"\u001b[39m\u001b[38;5;124mAll arguments should have the same length. \u001b[39m\u001b[38;5;124m\"\u001b[39m\n\u001b[1;32m   1211\u001b[0m         \u001b[38;5;124m\"\u001b[39m\u001b[38;5;124mThe length of column argument `df[\u001b[39m\u001b[38;5;132;01m%s\u001b[39;00m\u001b[38;5;124m]` is \u001b[39m\u001b[38;5;132;01m%d\u001b[39;00m\u001b[38;5;124m, whereas the \u001b[39m\u001b[38;5;124m\"\u001b[39m\n\u001b[0;32m   (...)\u001b[0m\n\u001b[1;32m   1218\u001b[0m         )\n\u001b[1;32m   1219\u001b[0m     )\n",
      "\u001b[0;31mValueError\u001b[0m: Value of 'x' is not the name of a column in 'data_frame'. Expected one of ['Country', 'Emissions, t', 'ISO', 'NAME'] but received: year"
     ]
    }
   ]
  },
  {
   "cell_type": "code",
   "metadata": {
    "cell_id": "69c7689309854d0384d65c22212b2d32",
    "tags": [],
    "deepnote_to_be_reexecuted": true,
    "source_hash": "ab060ca7",
    "execution_start": 1660884758605,
    "execution_millis": 6,
    "deepnote_cell_type": "code",
    "deepnote_cell_height": 714
   },
   "source": "for item in df.country:\n    print(item)",
   "execution_count": null,
   "outputs": [
    {
     "name": "stdout",
     "text": "Afghanistan\nAlbania\nAlgeria\nAngola\nArgentina\nAustralia\nAustria\nBahrain\nBangladesh\nBelgium\nBenin\nBolivia\nBosnia and Herzegovina\nBotswana\nBrazil\nBulgaria\nBurkina Faso\nBurundi\nCambodia\nCameroon\nCanada\nCentral African Republic\nChad\nChile\nChina\nColombia\nComoros\nCongo, Dem. Rep.\nCongo, Rep.\nCosta Rica\nCote d'Ivoire\nCroatia\nCuba\nCzech Republic\nDenmark\nDjibouti\nDominican Republic\nEcuador\nEgypt\nEl Salvador\nEquatorial Guinea\nEritrea\nEthiopia\nFinland\nFrance\nGabon\nGambia\nGermany\nGhana\nGreece\nGuatemala\nGuinea\nGuinea-Bissau\nHaiti\nHonduras\nHong Kong, China\nHungary\nIceland\nIndia\nIndonesia\nIran\nIraq\nIreland\nIsrael\nItaly\nJamaica\nJapan\nJordan\nKenya\nKorea, Dem. Rep.\nKorea, Rep.\nKuwait\nLebanon\nLesotho\nLiberia\nLibya\nMadagascar\nMalawi\nMalaysia\nMali\nMauritania\nMauritius\nMexico\nMongolia\nMontenegro\nMorocco\nMozambique\nMyanmar\nNamibia\nNepal\nNetherlands\nNew Zealand\nNicaragua\nNiger\nNigeria\nNorway\nOman\nPakistan\nPanama\nParaguay\nPeru\nPhilippines\nPoland\nPortugal\nPuerto Rico\nReunion\nRomania\nRwanda\nSao Tome and Principe\nSaudi Arabia\nSenegal\nSerbia\nSierra Leone\nSingapore\nSlovak Republic\nSlovenia\nSomalia\nSouth Africa\nSpain\nSri Lanka\nSudan\nSwaziland\nSweden\nSwitzerland\nSyria\nTaiwan\nTanzania\nThailand\nTogo\nTrinidad and Tobago\nTunisia\nTurkey\nUganda\nUnited Kingdom\nUnited States\nUruguay\nVenezuela\nVietnam\nWest Bank and Gaza\nYemen, Rep.\nZambia\nZimbabwe\n",
     "output_type": "stream"
    }
   ]
  },
  {
   "cell_type": "code",
   "metadata": {
    "cell_id": "00020-db558293-c327-45d8-a052-39177912c544",
    "deepnote_to_be_reexecuted": true,
    "source_hash": "4eb78fcf",
    "execution_start": 1660884758610,
    "execution_millis": 29,
    "deepnote_cell_type": "code",
    "deepnote_cell_height": 531
   },
   "source": "df_emission_sectors=pd.DataFrame([GlobalHgInventry]).T.reset_index()\ndf_emission_sectors=df_emission_sectors.rename(columns={\"index\": \"Emission Sectors\", 0: \"Emissions Amount,t\"})\ndf_emission_sectors\n",
   "execution_count": null,
   "outputs": [
    {
     "output_type": "execute_result",
     "execution_count": 26,
     "data": {
      "application/vnd.deepnote.dataframe.v3+json": {
       "column_count": 2,
       "row_count": 7,
       "columns": [
        {
         "name": "Emission Sectors",
         "dtype": "object",
         "stats": {
          "unique_count": 7,
          "nan_count": 0,
          "categories": [
           {
            "name": "Fuel combustion",
            "count": 1
           },
           {
            "name": "Industry Sectors",
            "count": 1
           },
           {
            "name": "5 others",
            "count": 5
           }
          ]
         }
        },
        {
         "name": "Emissions Amount,t",
         "dtype": "int64",
         "stats": {
          "unique_count": 7,
          "nan_count": 0,
          "min": "239",
          "max": "2820",
          "histogram": [
           {
            "bin_start": 239,
            "bin_end": 497.1,
            "count": 1
           },
           {
            "bin_start": 497.1,
            "bin_end": 755.2,
            "count": 2
           },
           {
            "bin_start": 755.2,
            "bin_end": 1013.3000000000001,
            "count": 1
           },
           {
            "bin_start": 1013.3000000000001,
            "bin_end": 1271.4,
            "count": 0
           },
           {
            "bin_start": 1271.4,
            "bin_end": 1529.5,
            "count": 0
           },
           {
            "bin_start": 1529.5,
            "bin_end": 1787.6000000000001,
            "count": 0
           },
           {
            "bin_start": 1787.6000000000001,
            "bin_end": 2045.7000000000003,
            "count": 1
           },
           {
            "bin_start": 2045.7000000000003,
            "bin_end": 2303.8,
            "count": 1
           },
           {
            "bin_start": 2303.8,
            "bin_end": 2561.9,
            "count": 0
           },
           {
            "bin_start": 2561.9,
            "bin_end": 2820,
            "count": 1
           }
          ]
         }
        },
        {
         "name": "_deepnote_index_column",
         "dtype": "int64"
        }
       ],
       "rows": [
        {
         "Emission Sectors": "Fuel combustion",
         "Emissions Amount,t": 533,
         "_deepnote_index_column": 0
        },
        {
         "Emission Sectors": "Industry Sectors",
         "Emissions Amount,t": 614,
         "_deepnote_index_column": 1
        },
        {
         "Emission Sectors": "Intentional Use(including product waste)",
         "Emissions Amount,t": 239,
         "_deepnote_index_column": 2
        },
        {
         "Emission Sectors": "Artisanal and Small Scale Gold Mining",
         "Emissions Amount,t": 838,
         "_deepnote_index_column": 3
        },
        {
         "Emission Sectors": "Total",
         "Emissions Amount,t": 2220,
         "_deepnote_index_column": 4
        },
        {
         "Emission Sectors": "Total Lower",
         "Emissions Amount,t": 2000,
         "_deepnote_index_column": 5
        },
        {
         "Emission Sectors": "Total Upper",
         "Emissions Amount,t": 2820,
         "_deepnote_index_column": 6
        }
       ]
      },
      "text/plain": "                           Emission Sectors  Emissions Amount,t\n0                           Fuel combustion                 533\n1                          Industry Sectors                 614\n2  Intentional Use(including product waste)                 239\n3     Artisanal and Small Scale Gold Mining                 838\n4                                     Total                2220\n5                               Total Lower                2000\n6                               Total Upper                2820",
      "text/html": "<div>\n<style scoped>\n    .dataframe tbody tr th:only-of-type {\n        vertical-align: middle;\n    }\n\n    .dataframe tbody tr th {\n        vertical-align: top;\n    }\n\n    .dataframe thead th {\n        text-align: right;\n    }\n</style>\n<table border=\"1\" class=\"dataframe\">\n  <thead>\n    <tr style=\"text-align: right;\">\n      <th></th>\n      <th>Emission Sectors</th>\n      <th>Emissions Amount,t</th>\n    </tr>\n  </thead>\n  <tbody>\n    <tr>\n      <th>0</th>\n      <td>Fuel combustion</td>\n      <td>533</td>\n    </tr>\n    <tr>\n      <th>1</th>\n      <td>Industry Sectors</td>\n      <td>614</td>\n    </tr>\n    <tr>\n      <th>2</th>\n      <td>Intentional Use(including product waste)</td>\n      <td>239</td>\n    </tr>\n    <tr>\n      <th>3</th>\n      <td>Artisanal and Small Scale Gold Mining</td>\n      <td>838</td>\n    </tr>\n    <tr>\n      <th>4</th>\n      <td>Total</td>\n      <td>2220</td>\n    </tr>\n    <tr>\n      <th>5</th>\n      <td>Total Lower</td>\n      <td>2000</td>\n    </tr>\n    <tr>\n      <th>6</th>\n      <td>Total Upper</td>\n      <td>2820</td>\n    </tr>\n  </tbody>\n</table>\n</div>"
     },
     "metadata": {}
    }
   ]
  },
  {
   "cell_type": "code",
   "metadata": {
    "cell_id": "00021-81ee568c-5441-4813-a439-8026ce6bc0b1",
    "deepnote_to_be_reexecuted": true,
    "source_hash": "a7177324",
    "execution_start": 1660884758638,
    "execution_millis": 66,
    "deepnote_cell_type": "code",
    "deepnote_cell_height": 749
   },
   "source": "fig = px.bar(df_emission_sectors[:4], x=\"Emission Sectors\", y=\"Emissions Amount,t\", color=\"Emission Sectors\",\n             orientation=\"v\", hover_name=\"Emissions Amount,t\",\n             color_discrete_sequence=[\n                 \"orange\", \"red\", \"green\", \"blue\"],\n             title=\"Hg Emission Sectors\"\n             )\n \nfig.show()",
   "execution_count": null,
   "outputs": [
    {
     "data": {
      "text/html": "<html>\n<head><meta charset=\"utf-8\" /></head>\n<body>\n    <div>            <script src=\"https://cdnjs.cloudflare.com/ajax/libs/mathjax/2.7.5/MathJax.js?config=TeX-AMS-MML_SVG\"></script><script type=\"text/javascript\">if (window.MathJax && window.MathJax.Hub && window.MathJax.Hub.Config) {window.MathJax.Hub.Config({SVG: {font: \"STIX-Web\"}});}</script>                <script type=\"text/javascript\">window.PlotlyConfig = {MathJaxConfig: 'local'};</script>\n        <script src=\"https://cdn.plot.ly/plotly-2.12.1.min.js\"></script>                <div id=\"f140d2c2-0a62-4d5d-a6f4-2faca84d617a\" class=\"plotly-graph-div\" style=\"height:525px; width:100%;\"></div>            <script type=\"text/javascript\">                                    window.PLOTLYENV=window.PLOTLYENV || {};                                    if (document.getElementById(\"f140d2c2-0a62-4d5d-a6f4-2faca84d617a\")) {                    Plotly.newPlot(                        \"f140d2c2-0a62-4d5d-a6f4-2faca84d617a\",                        [{\"alignmentgroup\":\"True\",\"hovertemplate\":\"<b>%{hovertext}</b><br><br>Emission Sectors=%{x}<br>Emissions Amount,t=%{y}<extra></extra>\",\"hovertext\":[533.0],\"legendgroup\":\"Fuel combustion\",\"marker\":{\"color\":\"orange\",\"pattern\":{\"shape\":\"\"}},\"name\":\"Fuel combustion\",\"offsetgroup\":\"Fuel combustion\",\"orientation\":\"v\",\"showlegend\":true,\"textposition\":\"auto\",\"x\":[\"Fuel combustion\"],\"xaxis\":\"x\",\"y\":[533],\"yaxis\":\"y\",\"type\":\"bar\"},{\"alignmentgroup\":\"True\",\"hovertemplate\":\"<b>%{hovertext}</b><br><br>Emission Sectors=%{x}<br>Emissions Amount,t=%{y}<extra></extra>\",\"hovertext\":[614.0],\"legendgroup\":\"Industry Sectors\",\"marker\":{\"color\":\"red\",\"pattern\":{\"shape\":\"\"}},\"name\":\"Industry Sectors\",\"offsetgroup\":\"Industry Sectors\",\"orientation\":\"v\",\"showlegend\":true,\"textposition\":\"auto\",\"x\":[\"Industry Sectors\"],\"xaxis\":\"x\",\"y\":[614],\"yaxis\":\"y\",\"type\":\"bar\"},{\"alignmentgroup\":\"True\",\"hovertemplate\":\"<b>%{hovertext}</b><br><br>Emission Sectors=%{x}<br>Emissions Amount,t=%{y}<extra></extra>\",\"hovertext\":[239.0],\"legendgroup\":\"Intentional Use(including product waste)\",\"marker\":{\"color\":\"green\",\"pattern\":{\"shape\":\"\"}},\"name\":\"Intentional Use(including product waste)\",\"offsetgroup\":\"Intentional Use(including product waste)\",\"orientation\":\"v\",\"showlegend\":true,\"textposition\":\"auto\",\"x\":[\"Intentional Use(including product waste)\"],\"xaxis\":\"x\",\"y\":[239],\"yaxis\":\"y\",\"type\":\"bar\"},{\"alignmentgroup\":\"True\",\"hovertemplate\":\"<b>%{hovertext}</b><br><br>Emission Sectors=%{x}<br>Emissions Amount,t=%{y}<extra></extra>\",\"hovertext\":[838.0],\"legendgroup\":\"Artisanal and Small Scale Gold Mining\",\"marker\":{\"color\":\"blue\",\"pattern\":{\"shape\":\"\"}},\"name\":\"Artisanal and Small Scale Gold Mining\",\"offsetgroup\":\"Artisanal and Small Scale Gold Mining\",\"orientation\":\"v\",\"showlegend\":true,\"textposition\":\"auto\",\"x\":[\"Artisanal and Small Scale Gold Mining\"],\"xaxis\":\"x\",\"y\":[838],\"yaxis\":\"y\",\"type\":\"bar\"}],                        {\"template\":{\"data\":{\"histogram2dcontour\":[{\"type\":\"histogram2dcontour\",\"colorbar\":{\"outlinewidth\":0,\"ticks\":\"\"},\"colorscale\":[[0.0,\"#0d0887\"],[0.1111111111111111,\"#46039f\"],[0.2222222222222222,\"#7201a8\"],[0.3333333333333333,\"#9c179e\"],[0.4444444444444444,\"#bd3786\"],[0.5555555555555556,\"#d8576b\"],[0.6666666666666666,\"#ed7953\"],[0.7777777777777778,\"#fb9f3a\"],[0.8888888888888888,\"#fdca26\"],[1.0,\"#f0f921\"]]}],\"choropleth\":[{\"type\":\"choropleth\",\"colorbar\":{\"outlinewidth\":0,\"ticks\":\"\"}}],\"histogram2d\":[{\"type\":\"histogram2d\",\"colorbar\":{\"outlinewidth\":0,\"ticks\":\"\"},\"colorscale\":[[0.0,\"#0d0887\"],[0.1111111111111111,\"#46039f\"],[0.2222222222222222,\"#7201a8\"],[0.3333333333333333,\"#9c179e\"],[0.4444444444444444,\"#bd3786\"],[0.5555555555555556,\"#d8576b\"],[0.6666666666666666,\"#ed7953\"],[0.7777777777777778,\"#fb9f3a\"],[0.8888888888888888,\"#fdca26\"],[1.0,\"#f0f921\"]]}],\"heatmap\":[{\"type\":\"heatmap\",\"colorbar\":{\"outlinewidth\":0,\"ticks\":\"\"},\"colorscale\":[[0.0,\"#0d0887\"],[0.1111111111111111,\"#46039f\"],[0.2222222222222222,\"#7201a8\"],[0.3333333333333333,\"#9c179e\"],[0.4444444444444444,\"#bd3786\"],[0.5555555555555556,\"#d8576b\"],[0.6666666666666666,\"#ed7953\"],[0.7777777777777778,\"#fb9f3a\"],[0.8888888888888888,\"#fdca26\"],[1.0,\"#f0f921\"]]}],\"heatmapgl\":[{\"type\":\"heatmapgl\",\"colorbar\":{\"outlinewidth\":0,\"ticks\":\"\"},\"colorscale\":[[0.0,\"#0d0887\"],[0.1111111111111111,\"#46039f\"],[0.2222222222222222,\"#7201a8\"],[0.3333333333333333,\"#9c179e\"],[0.4444444444444444,\"#bd3786\"],[0.5555555555555556,\"#d8576b\"],[0.6666666666666666,\"#ed7953\"],[0.7777777777777778,\"#fb9f3a\"],[0.8888888888888888,\"#fdca26\"],[1.0,\"#f0f921\"]]}],\"contourcarpet\":[{\"type\":\"contourcarpet\",\"colorbar\":{\"outlinewidth\":0,\"ticks\":\"\"}}],\"contour\":[{\"type\":\"contour\",\"colorbar\":{\"outlinewidth\":0,\"ticks\":\"\"},\"colorscale\":[[0.0,\"#0d0887\"],[0.1111111111111111,\"#46039f\"],[0.2222222222222222,\"#7201a8\"],[0.3333333333333333,\"#9c179e\"],[0.4444444444444444,\"#bd3786\"],[0.5555555555555556,\"#d8576b\"],[0.6666666666666666,\"#ed7953\"],[0.7777777777777778,\"#fb9f3a\"],[0.8888888888888888,\"#fdca26\"],[1.0,\"#f0f921\"]]}],\"surface\":[{\"type\":\"surface\",\"colorbar\":{\"outlinewidth\":0,\"ticks\":\"\"},\"colorscale\":[[0.0,\"#0d0887\"],[0.1111111111111111,\"#46039f\"],[0.2222222222222222,\"#7201a8\"],[0.3333333333333333,\"#9c179e\"],[0.4444444444444444,\"#bd3786\"],[0.5555555555555556,\"#d8576b\"],[0.6666666666666666,\"#ed7953\"],[0.7777777777777778,\"#fb9f3a\"],[0.8888888888888888,\"#fdca26\"],[1.0,\"#f0f921\"]]}],\"mesh3d\":[{\"type\":\"mesh3d\",\"colorbar\":{\"outlinewidth\":0,\"ticks\":\"\"}}],\"scatter\":[{\"fillpattern\":{\"fillmode\":\"overlay\",\"size\":10,\"solidity\":0.2},\"type\":\"scatter\"}],\"parcoords\":[{\"type\":\"parcoords\",\"line\":{\"colorbar\":{\"outlinewidth\":0,\"ticks\":\"\"}}}],\"scatterpolargl\":[{\"type\":\"scatterpolargl\",\"marker\":{\"colorbar\":{\"outlinewidth\":0,\"ticks\":\"\"}}}],\"bar\":[{\"error_x\":{\"color\":\"#2a3f5f\"},\"error_y\":{\"color\":\"#2a3f5f\"},\"marker\":{\"line\":{\"color\":\"#E5ECF6\",\"width\":0.5},\"pattern\":{\"fillmode\":\"overlay\",\"size\":10,\"solidity\":0.2}},\"type\":\"bar\"}],\"scattergeo\":[{\"type\":\"scattergeo\",\"marker\":{\"colorbar\":{\"outlinewidth\":0,\"ticks\":\"\"}}}],\"scatterpolar\":[{\"type\":\"scatterpolar\",\"marker\":{\"colorbar\":{\"outlinewidth\":0,\"ticks\":\"\"}}}],\"histogram\":[{\"marker\":{\"pattern\":{\"fillmode\":\"overlay\",\"size\":10,\"solidity\":0.2}},\"type\":\"histogram\"}],\"scattergl\":[{\"type\":\"scattergl\",\"marker\":{\"colorbar\":{\"outlinewidth\":0,\"ticks\":\"\"}}}],\"scatter3d\":[{\"type\":\"scatter3d\",\"line\":{\"colorbar\":{\"outlinewidth\":0,\"ticks\":\"\"}},\"marker\":{\"colorbar\":{\"outlinewidth\":0,\"ticks\":\"\"}}}],\"scattermapbox\":[{\"type\":\"scattermapbox\",\"marker\":{\"colorbar\":{\"outlinewidth\":0,\"ticks\":\"\"}}}],\"scatterternary\":[{\"type\":\"scatterternary\",\"marker\":{\"colorbar\":{\"outlinewidth\":0,\"ticks\":\"\"}}}],\"scattercarpet\":[{\"type\":\"scattercarpet\",\"marker\":{\"colorbar\":{\"outlinewidth\":0,\"ticks\":\"\"}}}],\"carpet\":[{\"aaxis\":{\"endlinecolor\":\"#2a3f5f\",\"gridcolor\":\"white\",\"linecolor\":\"white\",\"minorgridcolor\":\"white\",\"startlinecolor\":\"#2a3f5f\"},\"baxis\":{\"endlinecolor\":\"#2a3f5f\",\"gridcolor\":\"white\",\"linecolor\":\"white\",\"minorgridcolor\":\"white\",\"startlinecolor\":\"#2a3f5f\"},\"type\":\"carpet\"}],\"table\":[{\"cells\":{\"fill\":{\"color\":\"#EBF0F8\"},\"line\":{\"color\":\"white\"}},\"header\":{\"fill\":{\"color\":\"#C8D4E3\"},\"line\":{\"color\":\"white\"}},\"type\":\"table\"}],\"barpolar\":[{\"marker\":{\"line\":{\"color\":\"#E5ECF6\",\"width\":0.5},\"pattern\":{\"fillmode\":\"overlay\",\"size\":10,\"solidity\":0.2}},\"type\":\"barpolar\"}],\"pie\":[{\"automargin\":true,\"type\":\"pie\"}]},\"layout\":{\"autotypenumbers\":\"strict\",\"colorway\":[\"#636efa\",\"#EF553B\",\"#00cc96\",\"#ab63fa\",\"#FFA15A\",\"#19d3f3\",\"#FF6692\",\"#B6E880\",\"#FF97FF\",\"#FECB52\"],\"font\":{\"color\":\"#2a3f5f\"},\"hovermode\":\"closest\",\"hoverlabel\":{\"align\":\"left\"},\"paper_bgcolor\":\"white\",\"plot_bgcolor\":\"#E5ECF6\",\"polar\":{\"bgcolor\":\"#E5ECF6\",\"angularaxis\":{\"gridcolor\":\"white\",\"linecolor\":\"white\",\"ticks\":\"\"},\"radialaxis\":{\"gridcolor\":\"white\",\"linecolor\":\"white\",\"ticks\":\"\"}},\"ternary\":{\"bgcolor\":\"#E5ECF6\",\"aaxis\":{\"gridcolor\":\"white\",\"linecolor\":\"white\",\"ticks\":\"\"},\"baxis\":{\"gridcolor\":\"white\",\"linecolor\":\"white\",\"ticks\":\"\"},\"caxis\":{\"gridcolor\":\"white\",\"linecolor\":\"white\",\"ticks\":\"\"}},\"coloraxis\":{\"colorbar\":{\"outlinewidth\":0,\"ticks\":\"\"}},\"colorscale\":{\"sequential\":[[0.0,\"#0d0887\"],[0.1111111111111111,\"#46039f\"],[0.2222222222222222,\"#7201a8\"],[0.3333333333333333,\"#9c179e\"],[0.4444444444444444,\"#bd3786\"],[0.5555555555555556,\"#d8576b\"],[0.6666666666666666,\"#ed7953\"],[0.7777777777777778,\"#fb9f3a\"],[0.8888888888888888,\"#fdca26\"],[1.0,\"#f0f921\"]],\"sequentialminus\":[[0.0,\"#0d0887\"],[0.1111111111111111,\"#46039f\"],[0.2222222222222222,\"#7201a8\"],[0.3333333333333333,\"#9c179e\"],[0.4444444444444444,\"#bd3786\"],[0.5555555555555556,\"#d8576b\"],[0.6666666666666666,\"#ed7953\"],[0.7777777777777778,\"#fb9f3a\"],[0.8888888888888888,\"#fdca26\"],[1.0,\"#f0f921\"]],\"diverging\":[[0,\"#8e0152\"],[0.1,\"#c51b7d\"],[0.2,\"#de77ae\"],[0.3,\"#f1b6da\"],[0.4,\"#fde0ef\"],[0.5,\"#f7f7f7\"],[0.6,\"#e6f5d0\"],[0.7,\"#b8e186\"],[0.8,\"#7fbc41\"],[0.9,\"#4d9221\"],[1,\"#276419\"]]},\"xaxis\":{\"gridcolor\":\"white\",\"linecolor\":\"white\",\"ticks\":\"\",\"title\":{\"standoff\":15},\"zerolinecolor\":\"white\",\"automargin\":true,\"zerolinewidth\":2},\"yaxis\":{\"gridcolor\":\"white\",\"linecolor\":\"white\",\"ticks\":\"\",\"title\":{\"standoff\":15},\"zerolinecolor\":\"white\",\"automargin\":true,\"zerolinewidth\":2},\"scene\":{\"xaxis\":{\"backgroundcolor\":\"#E5ECF6\",\"gridcolor\":\"white\",\"linecolor\":\"white\",\"showbackground\":true,\"ticks\":\"\",\"zerolinecolor\":\"white\",\"gridwidth\":2},\"yaxis\":{\"backgroundcolor\":\"#E5ECF6\",\"gridcolor\":\"white\",\"linecolor\":\"white\",\"showbackground\":true,\"ticks\":\"\",\"zerolinecolor\":\"white\",\"gridwidth\":2},\"zaxis\":{\"backgroundcolor\":\"#E5ECF6\",\"gridcolor\":\"white\",\"linecolor\":\"white\",\"showbackground\":true,\"ticks\":\"\",\"zerolinecolor\":\"white\",\"gridwidth\":2}},\"shapedefaults\":{\"line\":{\"color\":\"#2a3f5f\"}},\"annotationdefaults\":{\"arrowcolor\":\"#2a3f5f\",\"arrowhead\":0,\"arrowwidth\":1},\"geo\":{\"bgcolor\":\"white\",\"landcolor\":\"#E5ECF6\",\"subunitcolor\":\"white\",\"showland\":true,\"showlakes\":true,\"lakecolor\":\"white\"},\"title\":{\"x\":0.05},\"mapbox\":{\"style\":\"light\"}}},\"xaxis\":{\"anchor\":\"y\",\"domain\":[0.0,1.0],\"title\":{\"text\":\"Emission Sectors\"},\"categoryorder\":\"array\",\"categoryarray\":[\"Fuel combustion\",\"Industry Sectors\",\"Intentional Use(including product waste)\",\"Artisanal and Small Scale Gold Mining\"]},\"yaxis\":{\"anchor\":\"x\",\"domain\":[0.0,1.0],\"title\":{\"text\":\"Emissions Amount,t\"}},\"legend\":{\"title\":{\"text\":\"Emission Sectors\"},\"tracegroupgap\":0},\"title\":{\"text\":\"Hg Emission Sectors\"},\"barmode\":\"relative\"},                        {\"responsive\": true}                    ).then(function(){\n                            \nvar gd = document.getElementById('f140d2c2-0a62-4d5d-a6f4-2faca84d617a');\nvar x = new MutationObserver(function (mutations, observer) {{\n        var display = window.getComputedStyle(gd).display;\n        if (!display || display === 'none') {{\n            console.log([gd, 'removed!']);\n            Plotly.purge(gd);\n            observer.disconnect();\n        }}\n}});\n\n// Listen for the removal of the full notebook cells\nvar notebookContainer = gd.closest('#notebook-container');\nif (notebookContainer) {{\n    x.observe(notebookContainer, {childList: true});\n}}\n\n// Listen for the clearing of the current output cell\nvar outputEl = gd.closest('.output');\nif (outputEl) {{\n    x.observe(outputEl, {childList: true});\n}}\n\n                        })                };                            </script>        </div>\n</body>\n</html>"
     },
     "metadata": {},
     "output_type": "display_data"
    }
   ]
  },
  {
   "cell_type": "code",
   "metadata": {
    "cell_id": "00022-bfdb730d-c099-4074-93a8-7038d4b72f1d",
    "deepnote_to_be_reexecuted": true,
    "source_hash": "be2c5d0b",
    "execution_start": 1660884758703,
    "execution_millis": 18,
    "deepnote_cell_type": "code",
    "deepnote_cell_height": 349
   },
   "source": "df_emission_sectors[:4]",
   "execution_count": null,
   "outputs": [
    {
     "output_type": "execute_result",
     "execution_count": 28,
     "data": {
      "application/vnd.deepnote.dataframe.v3+json": {
       "column_count": 2,
       "row_count": 4,
       "columns": [
        {
         "name": "Emission Sectors",
         "dtype": "object",
         "stats": {
          "unique_count": 4,
          "nan_count": 0,
          "categories": [
           {
            "name": "Fuel combustion",
            "count": 1
           },
           {
            "name": "Industry Sectors",
            "count": 1
           },
           {
            "name": "2 others",
            "count": 2
           }
          ]
         }
        },
        {
         "name": "Emissions Amount,t",
         "dtype": "int64",
         "stats": {
          "unique_count": 4,
          "nan_count": 0,
          "min": "239",
          "max": "838",
          "histogram": [
           {
            "bin_start": 239,
            "bin_end": 298.9,
            "count": 1
           },
           {
            "bin_start": 298.9,
            "bin_end": 358.8,
            "count": 0
           },
           {
            "bin_start": 358.8,
            "bin_end": 418.7,
            "count": 0
           },
           {
            "bin_start": 418.7,
            "bin_end": 478.6,
            "count": 0
           },
           {
            "bin_start": 478.6,
            "bin_end": 538.5,
            "count": 1
           },
           {
            "bin_start": 538.5,
            "bin_end": 598.4,
            "count": 0
           },
           {
            "bin_start": 598.4,
            "bin_end": 658.3,
            "count": 1
           },
           {
            "bin_start": 658.3,
            "bin_end": 718.2,
            "count": 0
           },
           {
            "bin_start": 718.2,
            "bin_end": 778.1,
            "count": 0
           },
           {
            "bin_start": 778.1,
            "bin_end": 838,
            "count": 1
           }
          ]
         }
        },
        {
         "name": "_deepnote_index_column",
         "dtype": "int64"
        }
       ],
       "rows": [
        {
         "Emission Sectors": "Fuel combustion",
         "Emissions Amount,t": 533,
         "_deepnote_index_column": 0
        },
        {
         "Emission Sectors": "Industry Sectors",
         "Emissions Amount,t": 614,
         "_deepnote_index_column": 1
        },
        {
         "Emission Sectors": "Intentional Use(including product waste)",
         "Emissions Amount,t": 239,
         "_deepnote_index_column": 2
        },
        {
         "Emission Sectors": "Artisanal and Small Scale Gold Mining",
         "Emissions Amount,t": 838,
         "_deepnote_index_column": 3
        }
       ]
      },
      "text/plain": "                           Emission Sectors  Emissions Amount,t\n0                           Fuel combustion                 533\n1                          Industry Sectors                 614\n2  Intentional Use(including product waste)                 239\n3     Artisanal and Small Scale Gold Mining                 838",
      "text/html": "<div>\n<style scoped>\n    .dataframe tbody tr th:only-of-type {\n        vertical-align: middle;\n    }\n\n    .dataframe tbody tr th {\n        vertical-align: top;\n    }\n\n    .dataframe thead th {\n        text-align: right;\n    }\n</style>\n<table border=\"1\" class=\"dataframe\">\n  <thead>\n    <tr style=\"text-align: right;\">\n      <th></th>\n      <th>Emission Sectors</th>\n      <th>Emissions Amount,t</th>\n    </tr>\n  </thead>\n  <tbody>\n    <tr>\n      <th>0</th>\n      <td>Fuel combustion</td>\n      <td>533</td>\n    </tr>\n    <tr>\n      <th>1</th>\n      <td>Industry Sectors</td>\n      <td>614</td>\n    </tr>\n    <tr>\n      <th>2</th>\n      <td>Intentional Use(including product waste)</td>\n      <td>239</td>\n    </tr>\n    <tr>\n      <th>3</th>\n      <td>Artisanal and Small Scale Gold Mining</td>\n      <td>838</td>\n    </tr>\n  </tbody>\n</table>\n</div>"
     },
     "metadata": {}
    }
   ]
  },
  {
   "cell_type": "code",
   "metadata": {
    "cell_id": "00023-2387980c-0766-4d10-8eb7-24d71874ecf9",
    "deepnote_to_be_reexecuted": true,
    "source_hash": "84a1ca1",
    "execution_start": 1660884758767,
    "execution_millis": 2,
    "deepnote_cell_type": "code",
    "deepnote_cell_height": 112.1875
   },
   "source": "list(df_emission_sectors[:4]['Emissions Amount,t'])",
   "execution_count": null,
   "outputs": [
    {
     "output_type": "execute_result",
     "execution_count": 29,
     "data": {
      "text/plain": "[533, 614, 239, 838]"
     },
     "metadata": {}
    }
   ]
  },
  {
   "cell_type": "code",
   "metadata": {
    "cell_id": "00024-8d87220d-64c7-45f1-accd-de1d00729de0",
    "deepnote_to_be_reexecuted": true,
    "source_hash": "55736f3f",
    "execution_start": 1660884758767,
    "execution_millis": 2400,
    "deepnote_cell_type": "code",
    "deepnote_cell_height": 470.5625
   },
   "source": "import plotly.graph_objects as go\n\nlabels = list(df_emission_sectors[:4]['Emission Sectors'])\nvalues = list(df_emission_sectors[:4]['Emissions Amount,t'])\ncolors=[ \"blue\", \"red\", \"green\",\"orange\"]\nind_names=['533 Mg', '614 Mg', '239 Mg', '838 Mg']\n\n# Use `hole` to create a donut-like pie chart\nfig = go.Figure(data=[go.Pie(  labels=labels, values=values,text=ind_names, textinfo='text+percent',pull=[0, 0, 0, 0.05],marker_colors=colors)])\nfig.update_traces(hoverinfo='label+percent', textfont_size=14,\n                  marker=dict(colors=colors))\nname='07-24-22_gma2018_hg-emissions_by-industry.pdf'\nsavepath='/home/tzd/fs03/d1/tzd/Data_analysis/MIT_TPP_thesis/figures/'+name\n# fig.savefig(savepath,bbox_inches='tight')\nfig.write_image(savepath)\nfig.show()\n",
   "execution_count": null,
   "outputs": [
    {
     "output_type": "error",
     "ename": "FileNotFoundError",
     "evalue": "[Errno 2] No such file or directory: '/home/tzd/fs03/d1/tzd/Data_analysis/MIT_TPP_thesis/figures/07-24-22_gma2018_hg-emissions_by-industry.pdf'",
     "traceback": [
      "\u001b[0;31m---------------------------------------------------------------------------\u001b[0m",
      "\u001b[0;31mFileNotFoundError\u001b[0m                         Traceback (most recent call last)",
      "Input \u001b[0;32mIn [30]\u001b[0m, in \u001b[0;36m<cell line: 15>\u001b[0;34m()\u001b[0m\n\u001b[1;32m     13\u001b[0m savepath\u001b[38;5;241m=\u001b[39m\u001b[38;5;124m'\u001b[39m\u001b[38;5;124m/home/tzd/fs03/d1/tzd/Data_analysis/MIT_TPP_thesis/figures/\u001b[39m\u001b[38;5;124m'\u001b[39m\u001b[38;5;241m+\u001b[39mname\n\u001b[1;32m     14\u001b[0m \u001b[38;5;66;03m# fig.savefig(savepath,bbox_inches='tight')\u001b[39;00m\n\u001b[0;32m---> 15\u001b[0m \u001b[43mfig\u001b[49m\u001b[38;5;241;43m.\u001b[39;49m\u001b[43mwrite_image\u001b[49m\u001b[43m(\u001b[49m\u001b[43msavepath\u001b[49m\u001b[43m)\u001b[49m\n\u001b[1;32m     16\u001b[0m fig\u001b[38;5;241m.\u001b[39mshow()\n",
      "File \u001b[0;32m/shared-libs/python3.9/py/lib/python3.9/site-packages/plotly/basedatatypes.py:3829\u001b[0m, in \u001b[0;36mBaseFigure.write_image\u001b[0;34m(self, *args, **kwargs)\u001b[0m\n\u001b[1;32m   3769\u001b[0m \u001b[38;5;124;03m\"\"\"\u001b[39;00m\n\u001b[1;32m   3770\u001b[0m \u001b[38;5;124;03mConvert a figure to a static image and write it to a file or writeable\u001b[39;00m\n\u001b[1;32m   3771\u001b[0m \u001b[38;5;124;03mobject\u001b[39;00m\n\u001b[0;32m   (...)\u001b[0m\n\u001b[1;32m   3825\u001b[0m \u001b[38;5;124;03mNone\u001b[39;00m\n\u001b[1;32m   3826\u001b[0m \u001b[38;5;124;03m\"\"\"\u001b[39;00m\n\u001b[1;32m   3827\u001b[0m \u001b[38;5;28;01mimport\u001b[39;00m \u001b[38;5;21;01mplotly\u001b[39;00m\u001b[38;5;21;01m.\u001b[39;00m\u001b[38;5;21;01mio\u001b[39;00m \u001b[38;5;28;01mas\u001b[39;00m \u001b[38;5;21;01mpio\u001b[39;00m\n\u001b[0;32m-> 3829\u001b[0m \u001b[38;5;28;01mreturn\u001b[39;00m \u001b[43mpio\u001b[49m\u001b[38;5;241;43m.\u001b[39;49m\u001b[43mwrite_image\u001b[49m\u001b[43m(\u001b[49m\u001b[38;5;28;43mself\u001b[39;49m\u001b[43m,\u001b[49m\u001b[43m \u001b[49m\u001b[38;5;241;43m*\u001b[39;49m\u001b[43margs\u001b[49m\u001b[43m,\u001b[49m\u001b[43m \u001b[49m\u001b[38;5;241;43m*\u001b[39;49m\u001b[38;5;241;43m*\u001b[39;49m\u001b[43mkwargs\u001b[49m\u001b[43m)\u001b[49m\n",
      "File \u001b[0;32m/shared-libs/python3.9/py/lib/python3.9/site-packages/plotly/io/_kaleido.py:297\u001b[0m, in \u001b[0;36mwrite_image\u001b[0;34m(fig, file, format, scale, width, height, validate, engine)\u001b[0m\n\u001b[1;32m    287\u001b[0m         \u001b[38;5;28;01mraise\u001b[39;00m \u001b[38;5;167;01mValueError\u001b[39;00m(\n\u001b[1;32m    288\u001b[0m             \u001b[38;5;124;03m\"\"\"\u001b[39;00m\n\u001b[1;32m    289\u001b[0m \u001b[38;5;124;03mThe 'file' argument '{file}' is not a string, pathlib.Path object, or file descriptor.\u001b[39;00m\n\u001b[0;32m   (...)\u001b[0m\n\u001b[1;32m    292\u001b[0m             )\n\u001b[1;32m    293\u001b[0m         )\n\u001b[1;32m    294\u001b[0m     \u001b[38;5;28;01melse\u001b[39;00m:\n\u001b[1;32m    295\u001b[0m         \u001b[38;5;66;03m# We previously succeeded in interpreting `file` as a pathlib object.\u001b[39;00m\n\u001b[1;32m    296\u001b[0m         \u001b[38;5;66;03m# Now we can use `write_bytes()`.\u001b[39;00m\n\u001b[0;32m--> 297\u001b[0m         \u001b[43mpath\u001b[49m\u001b[38;5;241;43m.\u001b[39;49m\u001b[43mwrite_bytes\u001b[49m\u001b[43m(\u001b[49m\u001b[43mimg_data\u001b[49m\u001b[43m)\u001b[49m\n",
      "File \u001b[0;32m/usr/local/lib/python3.9/pathlib.py:1275\u001b[0m, in \u001b[0;36mPath.write_bytes\u001b[0;34m(self, data)\u001b[0m\n\u001b[1;32m   1273\u001b[0m \u001b[38;5;66;03m# type-check for the buffer interface before truncating the file\u001b[39;00m\n\u001b[1;32m   1274\u001b[0m view \u001b[38;5;241m=\u001b[39m \u001b[38;5;28mmemoryview\u001b[39m(data)\n\u001b[0;32m-> 1275\u001b[0m \u001b[38;5;28;01mwith\u001b[39;00m \u001b[38;5;28;43mself\u001b[39;49m\u001b[38;5;241;43m.\u001b[39;49m\u001b[43mopen\u001b[49m\u001b[43m(\u001b[49m\u001b[43mmode\u001b[49m\u001b[38;5;241;43m=\u001b[39;49m\u001b[38;5;124;43m'\u001b[39;49m\u001b[38;5;124;43mwb\u001b[39;49m\u001b[38;5;124;43m'\u001b[39;49m\u001b[43m)\u001b[49m \u001b[38;5;28;01mas\u001b[39;00m f:\n\u001b[1;32m   1276\u001b[0m     \u001b[38;5;28;01mreturn\u001b[39;00m f\u001b[38;5;241m.\u001b[39mwrite(view)\n",
      "File \u001b[0;32m/usr/local/lib/python3.9/pathlib.py:1252\u001b[0m, in \u001b[0;36mPath.open\u001b[0;34m(self, mode, buffering, encoding, errors, newline)\u001b[0m\n\u001b[1;32m   1246\u001b[0m \u001b[38;5;28;01mdef\u001b[39;00m \u001b[38;5;21mopen\u001b[39m(\u001b[38;5;28mself\u001b[39m, mode\u001b[38;5;241m=\u001b[39m\u001b[38;5;124m'\u001b[39m\u001b[38;5;124mr\u001b[39m\u001b[38;5;124m'\u001b[39m, buffering\u001b[38;5;241m=\u001b[39m\u001b[38;5;241m-\u001b[39m\u001b[38;5;241m1\u001b[39m, encoding\u001b[38;5;241m=\u001b[39m\u001b[38;5;28;01mNone\u001b[39;00m,\n\u001b[1;32m   1247\u001b[0m          errors\u001b[38;5;241m=\u001b[39m\u001b[38;5;28;01mNone\u001b[39;00m, newline\u001b[38;5;241m=\u001b[39m\u001b[38;5;28;01mNone\u001b[39;00m):\n\u001b[1;32m   1248\u001b[0m     \u001b[38;5;124;03m\"\"\"\u001b[39;00m\n\u001b[1;32m   1249\u001b[0m \u001b[38;5;124;03m    Open the file pointed by this path and return a file object, as\u001b[39;00m\n\u001b[1;32m   1250\u001b[0m \u001b[38;5;124;03m    the built-in open() function does.\u001b[39;00m\n\u001b[1;32m   1251\u001b[0m \u001b[38;5;124;03m    \"\"\"\u001b[39;00m\n\u001b[0;32m-> 1252\u001b[0m     \u001b[38;5;28;01mreturn\u001b[39;00m \u001b[43mio\u001b[49m\u001b[38;5;241;43m.\u001b[39;49m\u001b[43mopen\u001b[49m\u001b[43m(\u001b[49m\u001b[38;5;28;43mself\u001b[39;49m\u001b[43m,\u001b[49m\u001b[43m \u001b[49m\u001b[43mmode\u001b[49m\u001b[43m,\u001b[49m\u001b[43m \u001b[49m\u001b[43mbuffering\u001b[49m\u001b[43m,\u001b[49m\u001b[43m \u001b[49m\u001b[43mencoding\u001b[49m\u001b[43m,\u001b[49m\u001b[43m \u001b[49m\u001b[43merrors\u001b[49m\u001b[43m,\u001b[49m\u001b[43m \u001b[49m\u001b[43mnewline\u001b[49m\u001b[43m,\u001b[49m\n\u001b[1;32m   1253\u001b[0m \u001b[43m                   \u001b[49m\u001b[43mopener\u001b[49m\u001b[38;5;241;43m=\u001b[39;49m\u001b[38;5;28;43mself\u001b[39;49m\u001b[38;5;241;43m.\u001b[39;49m\u001b[43m_opener\u001b[49m\u001b[43m)\u001b[49m\n",
      "File \u001b[0;32m/usr/local/lib/python3.9/pathlib.py:1120\u001b[0m, in \u001b[0;36mPath._opener\u001b[0;34m(self, name, flags, mode)\u001b[0m\n\u001b[1;32m   1118\u001b[0m \u001b[38;5;28;01mdef\u001b[39;00m \u001b[38;5;21m_opener\u001b[39m(\u001b[38;5;28mself\u001b[39m, name, flags, mode\u001b[38;5;241m=\u001b[39m\u001b[38;5;241m0o666\u001b[39m):\n\u001b[1;32m   1119\u001b[0m     \u001b[38;5;66;03m# A stub for the opener argument to built-in open()\u001b[39;00m\n\u001b[0;32m-> 1120\u001b[0m     \u001b[38;5;28;01mreturn\u001b[39;00m \u001b[38;5;28;43mself\u001b[39;49m\u001b[38;5;241;43m.\u001b[39;49m\u001b[43m_accessor\u001b[49m\u001b[38;5;241;43m.\u001b[39;49m\u001b[43mopen\u001b[49m\u001b[43m(\u001b[49m\u001b[38;5;28;43mself\u001b[39;49m\u001b[43m,\u001b[49m\u001b[43m \u001b[49m\u001b[43mflags\u001b[49m\u001b[43m,\u001b[49m\u001b[43m \u001b[49m\u001b[43mmode\u001b[49m\u001b[43m)\u001b[49m\n",
      "\u001b[0;31mFileNotFoundError\u001b[0m: [Errno 2] No such file or directory: '/home/tzd/fs03/d1/tzd/Data_analysis/MIT_TPP_thesis/figures/07-24-22_gma2018_hg-emissions_by-industry.pdf'"
     ]
    }
   ]
  },
  {
   "cell_type": "code",
   "metadata": {
    "cell_id": "00025-c1d5a7f5-756f-424f-941f-b13e40a0c092",
    "deepnote_to_be_reexecuted": true,
    "source_hash": "5f3b39ad",
    "deepnote_cell_type": "code",
    "deepnote_cell_height": 433.1875
   },
   "source": "NAPHG=pd.DataFrame(pd.read_csv('NAPsubmits.csv'))\nNAPHG",
   "execution_count": null,
   "outputs": [
    {
     "data": {
      "text/html": "<div>\n<style scoped>\n    .dataframe tbody tr th:only-of-type {\n        vertical-align: middle;\n    }\n\n    .dataframe tbody tr th {\n        vertical-align: top;\n    }\n\n    .dataframe thead th {\n        text-align: right;\n    }\n</style>\n<table border=\"1\" class=\"dataframe\">\n  <thead>\n    <tr style=\"text-align: right;\">\n      <th></th>\n      <th>Country</th>\n      <th>NAP_Mercury_use t/y</th>\n      <th>GMA_Mercury_use t/y</th>\n      <th>Target%</th>\n      <th>Taget_year</th>\n    </tr>\n  </thead>\n  <tbody>\n    <tr>\n      <th>0</th>\n      <td>Central African Republic</td>\n      <td>0.0000</td>\n      <td>8.0</td>\n      <td>NaN</td>\n      <td>NaN</td>\n    </tr>\n    <tr>\n      <th>1</th>\n      <td>Congo</td>\n      <td>0.0200</td>\n      <td>1.5</td>\n      <td>NaN</td>\n      <td>NaN</td>\n    </tr>\n    <tr>\n      <th>2</th>\n      <td>Lao PDR</td>\n      <td>0.2295</td>\n      <td>3.0</td>\n      <td>NaN</td>\n      <td>NaN</td>\n    </tr>\n    <tr>\n      <th>3</th>\n      <td>Mongolia</td>\n      <td>0.2350</td>\n      <td>11.5</td>\n      <td>NaN</td>\n      <td>NaN</td>\n    </tr>\n    <tr>\n      <th>...</th>\n      <td>...</td>\n      <td>...</td>\n      <td>...</td>\n      <td>...</td>\n      <td>...</td>\n    </tr>\n    <tr>\n      <th>13</th>\n      <td>Madagascar</td>\n      <td>31.1000</td>\n      <td>1.5</td>\n      <td>50%</td>\n      <td>2022.0</td>\n    </tr>\n    <tr>\n      <th>14</th>\n      <td>Mali</td>\n      <td>33.3000</td>\n      <td>12.5</td>\n      <td>10%</td>\n      <td>2023.0</td>\n    </tr>\n    <tr>\n      <th>15</th>\n      <td>Guinea</td>\n      <td>42.1000</td>\n      <td>19.1</td>\n      <td>50%</td>\n      <td>2022.0</td>\n    </tr>\n    <tr>\n      <th>16</th>\n      <td>Burkina Faso</td>\n      <td>77.6000</td>\n      <td>35.1</td>\n      <td>50%</td>\n      <td>2024.0</td>\n    </tr>\n  </tbody>\n</table>\n<p>17 rows × 5 columns</p>\n</div>",
      "text/plain": "                     Country  NAP_Mercury_use t/y  GMA_Mercury_use t/y  \\\n0   Central African Republic               0.0000                  8.0   \n1                      Congo               0.0200                  1.5   \n2                    Lao PDR               0.2295                  3.0   \n3                   Mongolia               0.2350                 11.5   \n..                       ...                  ...                  ...   \n13                Madagascar              31.1000                  1.5   \n14                      Mali              33.3000                 12.5   \n15                    Guinea              42.1000                 19.1   \n16              Burkina Faso              77.6000                 35.1   \n\n   Target%  Taget_year  \n0      NaN         NaN  \n1      NaN         NaN  \n2      NaN         NaN  \n3      NaN         NaN  \n..     ...         ...  \n13     50%      2022.0  \n14     10%      2023.0  \n15     50%      2022.0  \n16     50%      2024.0  \n\n[17 rows x 5 columns]"
     },
     "execution_count": 25,
     "metadata": {},
     "output_type": "execute_result"
    }
   ]
  },
  {
   "cell_type": "code",
   "metadata": {
    "cell_id": "00026-9e5aaf87-9c69-4509-8a1f-d05a7e560890",
    "deepnote_to_be_reexecuted": true,
    "source_hash": "84930344",
    "deepnote_cell_type": "code",
    "deepnote_cell_height": 112.1875
   },
   "source": "savenap",
   "execution_count": null,
   "outputs": [
    {
     "data": {
      "text/plain": "'/home/tzd/fs03/d1/tzd/Data_analysis/MIT_TPP_thesis/figures/07-24-22_global-hg-emission-estimates_vs_nap_estimates.pdf'"
     },
     "execution_count": 33,
     "metadata": {},
     "output_type": "execute_result"
    }
   ]
  },
  {
   "cell_type": "code",
   "metadata": {
    "cell_id": "00027-9a6044f7-1c6a-4cfb-a257-1a7ab69a79e9",
    "deepnote_to_be_reexecuted": true,
    "source_hash": "3d9384f6",
    "deepnote_cell_type": "code",
    "deepnote_cell_height": 843,
    "deepnote_output_heights": [
     242
    ]
   },
   "source": "\nimport matplotlib.pyplot as plt\nsns.set_theme(style=\"whitegrid\")\n\n# Initialize the matplotlib figure\nfig, ax = plt.subplots(figsize=(12, 5))\n\n# Load the example car crash dataset\ncrashes = sns.load_dataset(\"car_crashes\").sort_values(\"total\", ascending=False)\n\n# Plot the total crashes\nsns.set_color_codes(\"muted\")\n\nsns.barplot(x=\"NAP_Mercury_use t/y\", y=\"Country\", data=NAPHG,\n            label=\"National Action Plan\", color=\"b\")\n\n#Plot the crashes where alcohol was involved\nsns.set_color_codes(\"pastel\")\nsns.barplot(x=\"GMA_Mercury_use t/y\", y=\"Country\", data=NAPHG,\n            label=\"Global Mercury Assessment\", color=\"b\",alpha=0.75)\n\n# Add a legend and informative axis label\nax.legend(ncol=2, loc=\"upper right\", frameon=True)\nax.set(xlim=(0, 100), ylabel=\"\",\n       xlabel=\"ASGM Mercury Emissions Mg/y\")\nsns.despine(left=True, bottom=True)\nname='07-24-22_global-hg-emission-estimates_vs_nap_estimates.pdf'\nsavepath='/home/tzd/fs03/d1/tzd/Data_analysis/MIT_TPP_thesis/figures/'+name\nfig.savefig(savepath,bbox_inches='tight')",
   "execution_count": null,
   "outputs": [
    {
     "data": {
      "image/png": "[encoded data removed]",
      "text/plain": "<Figure size 1800x750 with 1 Axes>"
     },
     "metadata": {
      "image/png": {
       "width": 1742,
       "height": 669
      }
     },
     "output_type": "display_data"
    }
   ]
  },
  {
   "cell_type": "code",
   "metadata": {
    "cell_id": "00028-4e384aad-1250-48ef-bbf1-c48a7f67ad5d",
    "deepnote_to_be_reexecuted": true,
    "source_hash": "b623e53d",
    "deepnote_cell_type": "code",
    "deepnote_cell_height": 76
   },
   "source": "",
   "execution_count": null,
   "outputs": []
  },
  {
   "cell_type": "markdown",
   "source": "<a style='text-decoration:none;line-height:16px;display:flex;color:#5B5B62;padding:10px;justify-content:end;' href='https://deepnote.com?utm_source=created-in-deepnote-cell&projectId=062c0bf9-42c4-47d5-bc83-fb7cbde5be86' target=\"_blank\">\n<img alt='Created in deepnote.com' style='display:inline;max-height:16px;margin:0px;margin-right:7.5px;' src='data:image/svg+xml;base64,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' > </img>\nCreated in <span style='font-weight:600;margin-left:4px;'>Deepnote</span></a>",
   "metadata": {
    "tags": [],
    "created_in_deepnote_cell": true,
    "deepnote_cell_type": "markdown"
   }
  }
 ],
 "nbformat": 4,
 "nbformat_minor": 2,
 "metadata": {
  "kernelspec": {
   "display_name": "Python 3.9.12 ('Jlab')",
   "language": "python",
   "name": "python3"
  },
  "language_info": {
   "codemirror_mode": {
    "name": "ipython",
    "version": 3
   },
   "file_extension": ".py",
   "mimetype": "text/x-python",
   "name": "python",
   "nbconvert_exporter": "python",
   "pygments_lexer": "ipython3",
   "version": "3.9.12"
  },
  "orig_nbformat": 4,
  "vscode": {
   "interpreter": {
    "hash": "1392ff8a49593784dc97e5d400e35db794538c8cbbd54a22fcd4a0a7b48f4946"
   }
  },
  "deepnote_notebook_id": "d69bca09-b697-40b6-bd5c-6d85ae17a2ea",
  "deepnote": {},
  "deepnote_execution_queue": []
 }
}