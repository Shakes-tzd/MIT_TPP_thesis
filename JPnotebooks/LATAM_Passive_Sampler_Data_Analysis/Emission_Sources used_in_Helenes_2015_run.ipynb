{
 "cells": [
  {
   "cell_type": "markdown",
   "metadata": {},
   "source": [
    "# Inputs used by Helene in GMA 2018 runs\n"
   ]
  },
  {
   "cell_type": "code",
   "execution_count": null,
   "metadata": {},
   "outputs": [],
   "source": [
    "# GMA_ASGM          :       true\n",
    "# GMA_POWERGEN      :       true\n",
    "# GMA_INTW          :       true\n",
    "# NATURAL           :       true\n",
    "# SOILDIST          :       true\n",
    "# BrOx_GC           :       true\n",
    "# BrOx_GMI          :       true\n",
    "# LRED_JNO2         :       true"
   ]
  },
  {
   "cell_type": "code",
   "execution_count": null,
   "metadata": {},
   "outputs": [],
   "source": [
    "# GMA_ASGM_HG0 /net/fs03/d1/angot/postdoc/GMA_2018/emissions_inventory/GMA_emissions_ASGM_Hg0.0.25x0.25.2015.nc emi_hg_0 2015/1/1/0 C xy kg/m2/s Hg0 \n",
    "# GMA_IND_HG0 /net/fs03/d1/angot/postdoc/GMA_2018/emissions_inventory/GMA_emissions_INDS_Hg0.0.25x0.25.2015.nc emi_hg_0 2015/1/1/0 C xy kg/m2/s Hg0 \n",
    "# GMA_INTW_HG0 /net/fs03/d1/angot/postdoc/GMA_2018/emissions_inventory/GMA_emissions_INTW_Hg0.0.25x0.25.2015.nc emi_hg_0 2015/1/1/0 C xy kg/m2/s Hg0 \n",
    "# GMA_POWERGEN_HG0 /net/fs03/d1/angot/postdoc/GMA_2018/emissions_inventory/GMA_emissions_POWERGEN_Hg0.0.25x0.25.2015.nc emi_hg_0 2015/1/1/0 C xy kg/m2/s Hg0\n",
    "# "
   ]
  },
  {
   "cell_type": "code",
   "execution_count": null,
   "metadata": {},
   "outputs": [],
   "source": [
    "GMA_emissions"
   ]
  }
 ],
 "metadata": {
  "kernelspec": {
   "display_name": "Python 3",
   "language": "python",
   "name": "python3"
  },
  "language_info": {
   "codemirror_mode": {
    "name": "ipython",
    "version": 3
   },
   "file_extension": ".py",
   "mimetype": "text/x-python",
   "name": "python",
   "nbconvert_exporter": "python",
   "pygments_lexer": "ipython3",
   "version": "3.8.6"
  }
 },
 "nbformat": 4,
 "nbformat_minor": 4
}
