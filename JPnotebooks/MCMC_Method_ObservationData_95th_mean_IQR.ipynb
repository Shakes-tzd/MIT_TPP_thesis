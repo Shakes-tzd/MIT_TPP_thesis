{
 "cells": [
  {
   "cell_type": "markdown",
   "metadata": {
    "iooxa": {
     "id": {
      "block": "VK2B38xFKem5EsmZ7oGM",
      "project": "J4aS4MEiOL7h1cpaHIvX",
      "version": 1
     }
    },
    "tags": []
   },
   "source": [
    "# Set Up functions for getting Data"
   ]
  },
  {
   "cell_type": "code",
   "execution_count": 1,
   "metadata": {
    "execution": {
     "iopub.execute_input": "2022-05-17T04:14:51.975370Z",
     "iopub.status.busy": "2022-05-17T04:14:51.975059Z",
     "iopub.status.idle": "2022-05-17T04:14:56.985427Z",
     "shell.execute_reply": "2022-05-17T04:14:56.984992Z",
     "shell.execute_reply.started": "2022-05-17T04:14:51.975295Z"
    },
    "iooxa": {
     "id": {
      "block": "IY2G3X94VDFBMKGFbCv1",
      "project": "J4aS4MEiOL7h1cpaHIvX",
      "version": 1
     },
     "outputId": {
      "block": "VzzOAKfT5YhUcJdhAhlv",
      "project": "J4aS4MEiOL7h1cpaHIvX",
      "version": 1
     }
    },
    "tags": []
   },
   "outputs": [
    {
     "name": "stdout",
     "output_type": "stream",
     "text": [
      "boxes().shape[0]\n",
      "# getNoASGM():       => Hg0no_ASGM dataframe; in correct units\n",
      "# get_model(region): => Hg0_modified; in correct units (takes gridbox region in Peru as input)\n",
      "# getLoRes():        => Hg0 baseline with ASGM low resulution in correct units\n",
      "# getHiRes():        => Hg0 baseline with ASGM high resulution in correct units\n",
      "# getNoASGM():       => Hg0 baseline without ASGM low resulution in correct units\n",
      "# get_obs_d():       => obs_Hg0; original observations daily mean values\n",
      "# get_detrended_obs(): => Obs_detrended; return detrended observations\n",
      "# get_detrended_model(model): => This function takes in a dataframe of model outputs \n",
      "                                and returns the detrended version of that model output\n",
      "# getObsIQR(obs): This function takes observations and returns the IQR \n",
      "# getIQR_Dd(model): This function takes in a dataframe of model outputs and returns the detrended IQR\n",
      "# getIQR(model): => This function takes in a dataframe of model outputs and returns the IQR\n",
      "# getBoxesAround() \n",
      "# GBaroundIQRs()\n",
      "# GBaroundMean()\n",
      "# GBaround90th()\n",
      "\n",
      " Copy the collowing code to get the constant term\n",
      "getConst(refnum): refnum is the number of reference grid cells required \n",
      "\n",
      " \n",
      " Copy the regions included in calculation following code to get the constant term\n",
      "\n",
      "Spun_sigs=multiSite('spun',refnum)\n",
      "Npun_sigs = multiSite('npun',refnum)\n",
      "Mdd_sigs = multiSite('mdd',refnum)\n",
      "Aqp_sigs = multiSite('aqp',refnum)\n",
      "Apr_sigs = multiSite('apr',refnum) :refnum is the number of reference grid cells required \n"
     ]
    },
    {
     "name": "stderr",
     "output_type": "stream",
     "text": [
      "/home/tzd/anaconda3/envs/Jlab/lib/python3.9/site-packages/pandas/core/ops/array_ops.py:73: FutureWarning: Comparison of Timestamp with datetime.date is deprecated in order to match the standard library behavior. In a future version these will be considered non-comparable. Use 'ts == pd.Timestamp(date)' or 'ts.date() == date' instead.\n",
      "  result = libops.scalar_compare(x.ravel(), y, op)\n",
      "/home/tzd/anaconda3/envs/Jlab/lib/python3.9/site-packages/pandas/core/ops/array_ops.py:73: FutureWarning: Comparison of Timestamp with datetime.date is deprecated in order to match the standard library behavior. In a future version these will be considered non-comparable. Use 'ts == pd.Timestamp(date)' or 'ts.date() == date' instead.\n",
      "  result = libops.scalar_compare(x.ravel(), y, op)\n",
      "/home/tzd/anaconda3/envs/Jlab/lib/python3.9/site-packages/pandas/core/ops/array_ops.py:73: FutureWarning: Comparison of Timestamp with datetime.date is deprecated in order to match the standard library behavior. In a future version these will be considered non-comparable. Use 'ts == pd.Timestamp(date)' or 'ts.date() == date' instead.\n",
      "  result = libops.scalar_compare(x.ravel(), y, op)\n"
     ]
    }
   ],
   "source": [
    "import os\n",
    "os.chdir('/home/tzd/fs03/d1/tzd/Data_analysis/RAworkflow')\n",
    "%run ./My_Modules/DataSetUP10VAR.ipynb\n",
    "#FmodelDF\n"
   ]
  },
  {
   "cell_type": "markdown",
   "metadata": {
    "iooxa": {
     "id": {
      "block": "nEXhUcAp2bnCFvZBxrSQ",
      "project": "J4aS4MEiOL7h1cpaHIvX",
      "version": 1
     }
    },
    "tags": []
   },
   "source": [
    "# Import modules "
   ]
  },
  {
   "cell_type": "code",
   "execution_count": 2,
   "metadata": {
    "execution": {
     "iopub.execute_input": "2022-05-17T04:15:03.649124Z",
     "iopub.status.busy": "2022-05-17T04:15:03.648850Z",
     "iopub.status.idle": "2022-05-17T04:15:03.660251Z",
     "shell.execute_reply": "2022-05-17T04:15:03.659893Z",
     "shell.execute_reply.started": "2022-05-17T04:15:03.649102Z"
    },
    "iooxa": {
     "id": {
      "block": "xxNtSguElOej2ofAczCq",
      "project": "J4aS4MEiOL7h1cpaHIvX",
      "version": 1
     },
     "outputId": null
    },
    "tags": []
   },
   "outputs": [],
   "source": [
    "import numpy as np\n",
    "import matplotlib.pyplot as plt\n",
    "import emcee\n",
    "import corner\n",
    "from scipy.stats import norm,iqr,bootstrap\n"
   ]
  },
  {
   "cell_type": "markdown",
   "metadata": {
    "iooxa": {
     "id": {
      "block": "scmxCiklEQYh7cUuXPmO",
      "project": "J4aS4MEiOL7h1cpaHIvX",
      "version": 1
     }
    },
    "tags": []
   },
   "source": [
    "# Formular for Calculating Emission Signal from each gridbox"
   ]
  },
  {
   "cell_type": "markdown",
   "metadata": {
    "iooxa": {
     "id": {
      "block": "bG5eKBZigAFiSODrQYf4",
      "project": "J4aS4MEiOL7h1cpaHIvX",
      "version": 1
     }
    },
    "tags": []
   },
   "source": [
    "\n",
    "$$\\small{Y_{signal}} =\\small\\frac{(X_{modified}-X_{base})}{(M_1-M_0)}\\small{(M-M_o)}$$\n",
    "\n",
    "* $\\small{Y_{signal}}$ : The Emission signal from a gridbox\n",
    "\n",
    "* $X_{modified}$ : The modified emissions GEOS Chem output __(model output)__\n",
    "* $X_{base}$ : The baseline emissions GEOS Chem output __(model output)__\n",
    "* $M_1$ : The Hg mass after modification __(known)__\n",
    "* $M_0$ : The Hg mass before modification __(known)__\n",
    "* $M$ : The intended Hg emissions mass __(unknown)__\n",
    "\n",
    "The above equation can be expanded in to separate the uknowns from the known information so that $M$ can be used as a parameter in our optimization\n",
    "\n",
    "$$\\small{Y_{signal}} =\\small\\frac{(X_{modified}-X_{base})}{(M_1-M_0)}M-\\small\\frac{(X_{modified}-X_{base})}{(M_1-M_0)}M_o$$\n",
    "\n",
    "let $$W_{region}=\\small\\frac{(X_{modified}-X_{base})}{(M_1-M_0)}$$\n",
    "\n",
    "hence the above equation becomes:\n",
    "$$\\small{Y_{signal}} =W_{region}M-W_{region}M_o$$"
   ]
  },
  {
   "cell_type": "markdown",
   "metadata": {
    "iooxa": {
     "id": {
      "block": "l66G1VIK5or2N0uTnbvP",
      "project": "J4aS4MEiOL7h1cpaHIvX",
      "version": 1
     }
    },
    "tags": []
   },
   "source": [
    "## Optimization of combined signal from differnt gridboxes "
   ]
  },
  {
   "cell_type": "markdown",
   "metadata": {
    "iooxa": {
     "id": {
      "block": "z3XcVTSRZGNMlAEwVmTC",
      "project": "J4aS4MEiOL7h1cpaHIvX",
      "version": 1
     }
    },
    "tags": []
   },
   "source": [
    "\n",
    "The modified model output at Chalcataya accounting for signals from the different regions is given by the equation: \n",
    "\n",
    "$$Hg_{(modified)}= HgSignal_{(MdD )}+ HgSignal_{(S-Puno)} + HgSignal_{(N-Puno)}+ HgSignal_{(Apurimac)}+ HgSignal_{(Arequipa)}+HgBaseline_{(No-ASGM)}$$\n",
    "\n",
    "$$Hg_{(modified)}= (W_{(MdD)}M-W_{(MdD)}M_o)+ (W_{(S-Puno)}M-W_{(S-Puno)}M_o) + (W_{(N-Puno)}M-W_{(N-Puno)}M_o)+ (W_{(Apurimac)}M-W_{(Apurimac)}M_o)+  (W_{(Arequipa)}M-W_{(Arequipa)}M_o)+HgBaseline_{(No-ASGM)}$$\n",
    "\n",
    "$M$  is the parameter that we want to modify hence let $θ=M$ and combine all the  $−𝑊_{(𝑀𝑑𝐷)}𝑀$  in to one constant  $Z$  which leads to the simplified equation:\n",
    "\n",
    "$$Hg_{(modified)}= (HgBaseline_{(no-ASGM)}θ_0 + Z\\theta_1 + W_{(mdd)}θ_2+ W_{(s-pun)}θ_3 + W_{(n-pun)}θ_4+ W_{(aprc)}θ_5+  W_{(aqpa)}θ_6$$\n",
    "\n"
   ]
  },
  {
   "cell_type": "markdown",
   "metadata": {
    "iooxa": {
     "id": {
      "block": "uHOfKBCaXOSMhT40M0mX",
      "project": "J4aS4MEiOL7h1cpaHIvX",
      "version": 1
     }
    },
    "tags": []
   },
   "source": [
    "# Model Function Equations"
   ]
  },
  {
   "cell_type": "markdown",
   "metadata": {
    "iooxa": {
     "id": {
      "block": "C2JDldHiGrJesRt30DU7",
      "project": "J4aS4MEiOL7h1cpaHIvX",
      "version": 1
     }
    },
    "tags": []
   },
   "source": [
    "## Representation"
   ]
  },
  {
   "cell_type": "markdown",
   "metadata": {
    "iooxa": {
     "id": {
      "block": "Fp8AEogrvBTR75njsM6D",
      "project": "J4aS4MEiOL7h1cpaHIvX",
      "version": 1
     }
    },
    "tags": []
   },
   "source": [
    "$$Y = f(theta)$$\n",
    "\n",
    "$$let\\ Constant\\ = (HgBaseline_{(no-ASGM)}θ_0 + Z\\theta_1$$ \n",
    "$$where\\ \\theta_0 =\\theta_1=1$$\n",
    "\n",
    "$$Y=\\begin{bmatrix} Constant & W_{(mdd)} & W_{(s-pun)} & W_{(n-pun)} &W_{(aprc)} &W_{(aqpa)}\\end{bmatrix} × \\begin{bmatrix} \\theta_0 \\\\θ_1 \\\\ θ_2\\\\ θ_3\\\\ θ_4\\\\ θ_5 \\end{bmatrix}$$ \n"
   ]
  },
  {
   "cell_type": "markdown",
   "metadata": {
    "iooxa": {
     "id": {
      "block": "WASipFZZ8xELldCWLTyi",
      "project": "J4aS4MEiOL7h1cpaHIvX",
      "version": 1
     }
    },
    "tags": []
   },
   "source": [
    "# Analysis"
   ]
  },
  {
   "cell_type": "markdown",
   "metadata": {
    "iooxa": {
     "id": {
      "block": "u8CcrsSoP7x5a86sI6a5",
      "project": "J4aS4MEiOL7h1cpaHIvX",
      "version": 1
     }
    },
    "tags": []
   },
   "source": [
    "## Initialize the constants"
   ]
  },
  {
   "cell_type": "code",
   "execution_count": 3,
   "metadata": {
    "execution": {
     "iopub.execute_input": "2022-05-17T04:15:09.858671Z",
     "iopub.status.busy": "2022-05-17T04:15:09.858392Z",
     "iopub.status.idle": "2022-05-17T04:15:09.862423Z",
     "shell.execute_reply": "2022-05-17T04:15:09.862057Z",
     "shell.execute_reply.started": "2022-05-17T04:15:09.858649Z"
    },
    "iooxa": {
     "id": {
      "block": "dcYaos1y9PGsgol55pU1",
      "project": "J4aS4MEiOL7h1cpaHIvX",
      "version": 1
     },
     "outputId": null
    },
    "tags": []
   },
   "outputs": [],
   "source": [
    "def initEmcee(RefSiteNum):\n",
    "    #RefSiteNum = RefSiteNum\n",
    "    regions = ['spun','npun','mdd','aqp','apr']\n",
    "    ConstantTerm=getConst(RefSiteNum,regions)\n",
    "    Spun_sigs=multiSiteSignal('spun',RefSiteNum).to_numpy()\n",
    "    Npun_sigs = multiSiteSignal('npun',RefSiteNum).to_numpy()\n",
    "    Mdd_sigs =multiSiteSignal('mdd',RefSiteNum).to_numpy()\n",
    "    Aqp_sigs = multiSiteSignal('aqp',RefSiteNum).to_numpy()\n",
    "    Apr_sigs =multiSiteSignal('apr',RefSiteNum).to_numpy()\n",
    "    return ConstantTerm,Spun_sigs,Npun_sigs,Mdd_sigs,Aqp_sigs,Apr_sigs"
   ]
  },
  {
   "cell_type": "markdown",
   "metadata": {
    "iooxa": {
     "id": {
      "block": "gIhUynCzOFubKQy6R7oQ",
      "project": "J4aS4MEiOL7h1cpaHIvX",
      "version": 1
     }
    },
    "tags": []
   },
   "source": [
    "## Set Up the Model"
   ]
  },
  {
   "cell_type": "code",
   "execution_count": 4,
   "metadata": {
    "execution": {
     "iopub.execute_input": "2022-05-17T04:15:14.042228Z",
     "iopub.status.busy": "2022-05-17T04:15:14.041968Z",
     "iopub.status.idle": "2022-05-17T04:15:14.047930Z",
     "shell.execute_reply": "2022-05-17T04:15:14.047578Z",
     "shell.execute_reply.started": "2022-05-17T04:15:14.042211Z"
    },
    "iooxa": {
     "id": {
      "block": "XP9lnFA4tRqWo0gDh2wZ",
      "project": "J4aS4MEiOL7h1cpaHIvX",
      "version": 1
     },
     "outputId": null
    },
    "tags": []
   },
   "outputs": [],
   "source": [
    "def set_metric(metric_type):\n",
    "    if metric_type=='95th':\n",
    "        print(\"model metric is 95th percentile\")\n",
    "        def model(theta):\n",
    "            \"\"\"Dummy model used here for Bayesian analysis (replace with actual GEOS-Chem function):\n",
    "                Model: Y = f(theta) where theta is a set of parameters:\n",
    "                    Emissions: E1, E2, and E3\n",
    "            \"\"\"\n",
    "            Espun, Enpun, Emdd, Eaqp, Eapr=theta\n",
    "            \n",
    "            modified=ConstantTerm+ (Espun*Spun_sigs) + (Enpun*Npun_sigs) + (Emdd*Mdd_sigs) +(Eaqp*Aqp_sigs) +Eapr*Apr_sigs \n",
    "            \n",
    "            summary =pd.DataFrame(modified)\n",
    "            model_out = list(summary.apply(find_95th))\n",
    "\n",
    "            return model_out\n",
    "    elif metric_type=='mean':\n",
    "        print(\"model metric is mean\")\n",
    "        def model(theta):\n",
    "            Espun, Enpun, Emdd, Eaqp, Eapr=theta\n",
    "            \n",
    "            modified=ConstantTerm+ (Espun*Spun_sigs) + (Enpun*Npun_sigs) + (Emdd*Mdd_sigs) +(Eaqp*Aqp_sigs) +Eapr*Apr_sigs \n",
    "            model_out = list(modified.mean(axis=0))\n",
    "\n",
    "            return model_out\n",
    "    else:\n",
    "        print(\"model metric is IQR\")\n",
    "        def model(theta):\n",
    "            Espun, Enpun, Emdd, Eaqp, Eapr=theta\n",
    "            \n",
    "            modified=ConstantTerm+ (Espun*Spun_sigs) + (Enpun*Npun_sigs) + (Emdd*Mdd_sigs) +(Eaqp*Aqp_sigs) +Eapr*Apr_sigs \n",
    "            model_out = list(iqr(modified, axis=0))\n",
    "\n",
    "            return model_out\n",
    "    return model"
   ]
  },
  {
   "cell_type": "markdown",
   "metadata": {
    "iooxa": {
     "id": {
      "block": "NvCKbL3555K4fGyLDeke",
      "project": "J4aS4MEiOL7h1cpaHIvX",
      "version": 1
     }
    },
    "tags": []
   },
   "source": [
    "### Sanity Check"
   ]
  },
  {
   "cell_type": "markdown",
   "metadata": {
    "iooxa": {
     "id": {
      "block": "U2CC7RzhyFMe6YRkK1F5",
      "project": "J4aS4MEiOL7h1cpaHIvX",
      "version": 1
     }
    }
   },
   "source": [
    "#### Initialize constants "
   ]
  },
  {
   "cell_type": "code",
   "execution_count": 5,
   "metadata": {
    "execution": {
     "iopub.execute_input": "2022-05-17T04:15:19.998445Z",
     "iopub.status.busy": "2022-05-17T04:15:19.998169Z",
     "iopub.status.idle": "2022-05-17T04:15:20.000814Z",
     "shell.execute_reply": "2022-05-17T04:15:20.000422Z",
     "shell.execute_reply.started": "2022-05-17T04:15:19.998424Z"
    },
    "iooxa": {
     "id": {
      "block": "xgryBFh0c0mHe5CyVVoE",
      "project": "J4aS4MEiOL7h1cpaHIvX",
      "version": 1
     },
     "outputId": null
    },
    "tags": []
   },
   "outputs": [],
   "source": [
    "# ConstantTerm,Spun_sigs,Npun_sigs,Mdd_sigs,Aqp_sigs,Apr_sigs=initEmcee(2)"
   ]
  },
  {
   "cell_type": "markdown",
   "metadata": {
    "iooxa": {
     "id": {
      "block": "I2uJqyLIyWhouiMlVuXr",
      "project": "J4aS4MEiOL7h1cpaHIvX",
      "version": 1
     }
    }
   },
   "source": [
    "#### Run model function"
   ]
  },
  {
   "cell_type": "code",
   "execution_count": 6,
   "metadata": {
    "execution": {
     "iopub.execute_input": "2022-05-17T04:15:21.609812Z",
     "iopub.status.busy": "2022-05-17T04:15:21.609639Z",
     "iopub.status.idle": "2022-05-17T04:15:21.611973Z",
     "shell.execute_reply": "2022-05-17T04:15:21.611637Z",
     "shell.execute_reply.started": "2022-05-17T04:15:21.609795Z"
    },
    "iooxa": {
     "id": {
      "block": "cZtKnJvJ3CJDh48C0js1",
      "project": "J4aS4MEiOL7h1cpaHIvX",
      "version": 1
     },
     "outputId": null
    },
    "partialCollapse": true,
    "tags": []
   },
   "outputs": [],
   "source": [
    "# #Testing Modelling function\n",
    "# thet = [10,13,60,25,1]\n",
    "# model = set_metric('90th')\n",
    "\n",
    "# print('The 90th for [10,13,60,25,1] percentiles are')\n",
    "# print(model(thet))\n",
    "# print('The 90th for [14,13,40,25,10] percentiles are')\n",
    "# print(model([14,13,40,25,10]))\n",
    "\n",
    "# print('\\n The means are')\n",
    "# model = set_metric('mean')\n",
    "# print(model(thet))\n",
    "# print('\\n The means for [14,13,40,25,10] are:')\n",
    "# print(model([14,13,40,25,10]))\n",
    "\n",
    "# print('\\n The IQRs are')\n",
    "# model = set_metric('iqr')\n",
    "# print(model(thet))\n",
    "# print('\\n The IQRs for [14,13,40,25,10] are:')\n",
    "# print(model([14,13,40,25,10]))\n",
    "\n"
   ]
  },
  {
   "cell_type": "markdown",
   "metadata": {
    "iooxa": {
     "id": {
      "block": "nu3ORfXXT9gwqunW2usF",
      "project": "J4aS4MEiOL7h1cpaHIvX",
      "version": 1
     }
    },
    "tags": []
   },
   "source": [
    "## Set Up MCMC Parameters"
   ]
  },
  {
   "cell_type": "code",
   "execution_count": 7,
   "metadata": {
    "execution": {
     "iopub.execute_input": "2022-05-17T04:15:30.089905Z",
     "iopub.status.busy": "2022-05-17T04:15:30.089644Z",
     "iopub.status.idle": "2022-05-17T04:15:30.093077Z",
     "shell.execute_reply": "2022-05-17T04:15:30.092704Z",
     "shell.execute_reply.started": "2022-05-17T04:15:30.089884Z"
    },
    "iooxa": {
     "id": {
      "block": "WDxaum7eHodddpTMTXRD",
      "project": "J4aS4MEiOL7h1cpaHIvX",
      "version": 1
     },
     "outputId": null
    },
    "tags": []
   },
   "outputs": [],
   "source": [
    "def lnlike(theta, y_obs, y_err):\n",
    "\n",
    "   \"\"\"Calculating log likelihood assuming iid Gaussian errors\n",
    "       Parameters\n",
    "       ----------\n",
    "       theta : parameters\n",
    "       y_obs : observed value (e.g. of IQR)\n",
    "       y_err : error in observed value (e.g. of IQR)\"\"\"\n",
    "   y = model(theta) # calculate modelled output\n",
    "    # calculate log-likelihood that observed value is drawn from normal\n",
    "    # distribution with mean y (modelled value) and sigma = y_err\n",
    "   # if len(y)== 1:\n",
    "   #    LnLike = norm.logpdf(y_obs, y, y_err)\n",
    "   # else:\n",
    "   #    print('somehting is wrong')\n",
    "   LnLike = sum(norm.logpdf(y_obs, y, y_err))\n",
    "   return LnLike"
   ]
  },
  {
   "cell_type": "code",
   "execution_count": 8,
   "metadata": {
    "execution": {
     "iopub.execute_input": "2022-05-17T04:15:30.789480Z",
     "iopub.status.busy": "2022-05-17T04:15:30.789205Z",
     "iopub.status.idle": "2022-05-17T04:15:30.793323Z",
     "shell.execute_reply": "2022-05-17T04:15:30.792939Z",
     "shell.execute_reply.started": "2022-05-17T04:15:30.789455Z"
    },
    "iooxa": {
     "id": {
      "block": "tLfZQ2imJ2pqchhNphZu",
      "project": "J4aS4MEiOL7h1cpaHIvX",
      "version": 1
     },
     "outputId": null
    },
    "tags": []
   },
   "outputs": [],
   "source": [
    "def lnprior(theta):\n",
    "    \"\"\"Apply prior assumption bounds (i.e. upper and lower bounds of variables)\n",
    "       Parameters\n",
    "       ----------\n",
    "       theta : parameters    \n",
    "    \"\"\"\n",
    "    \n",
    "    E1, E2, E3, E4, E5 = theta\n",
    "    \n",
    "    # Prior assumptions for emissions - vary between 0 and 100 (can adjust this):\n",
    "    min_emiss = 0\n",
    "    max_emiss = 100 \n",
    "    \n",
    "    if E1 <= min_emiss or E2 <= min_emiss or E3 <= min_emiss or E4 <= min_emiss or E5 <= min_emiss: # enforce lower bound\n",
    "        return -np.inf\n",
    "    elif E1 >= max_emiss or E2 >= max_emiss or E3 >= max_emiss or E4 >= max_emiss or E5 >= max_emiss: # enforce upper bound\n",
    "        return -np.inf\n",
    "    else: # all values within prior bounds\n",
    "        return 0.0\n",
    "    "
   ]
  },
  {
   "cell_type": "code",
   "execution_count": 9,
   "metadata": {
    "execution": {
     "iopub.execute_input": "2022-05-17T04:15:31.723428Z",
     "iopub.status.busy": "2022-05-17T04:15:31.723126Z",
     "iopub.status.idle": "2022-05-17T04:15:31.726155Z",
     "shell.execute_reply": "2022-05-17T04:15:31.725811Z",
     "shell.execute_reply.started": "2022-05-17T04:15:31.723410Z"
    },
    "iooxa": {
     "id": {
      "block": "T1FdiPzIVjwtmPf53f3b",
      "project": "J4aS4MEiOL7h1cpaHIvX",
      "version": 1
     },
     "outputId": null
    },
    "tags": []
   },
   "outputs": [],
   "source": [
    "def lnprob(theta, y_obs, y_err):\n",
    "    \"\"\"Overall function that calculates log likelihood probability\n",
    "       Parameters\n",
    "       ----------\n",
    "       theta : parameters  \n",
    "       y_obs : observed value (e.g. of IQR)   \n",
    "       y_err : error in observed value (e.g. of IQR)      \n",
    "    \"\"\"\n",
    "    \n",
    "    lp = lnprior(theta) #call lnprior\n",
    "    if not np.isfinite(lp): # check if lp is non-zero:\n",
    "        return -np.inf\n",
    "    else: #recall if lp not -inf, its 0, so this just returns likelihood\n",
    "        return lp + lnlike(theta, y_obs, y_err) \n"
   ]
  },
  {
   "cell_type": "markdown",
   "metadata": {
    "iooxa": {
     "id": {
      "block": "EOakxe6jPVxuNx1VFY2g",
      "project": "J4aS4MEiOL7h1cpaHIvX",
      "version": 1
     }
    },
    "tags": [],
    "toc-hr-collapsed": true
   },
   "source": [
    "### Sanity Check"
   ]
  },
  {
   "cell_type": "code",
   "execution_count": 10,
   "metadata": {
    "execution": {
     "iopub.execute_input": "2022-05-17T04:15:34.302955Z",
     "iopub.status.busy": "2022-05-17T04:15:34.302713Z",
     "iopub.status.idle": "2022-05-17T04:15:34.304760Z",
     "shell.execute_reply": "2022-05-17T04:15:34.304430Z",
     "shell.execute_reply.started": "2022-05-17T04:15:34.302939Z"
    },
    "iooxa": {
     "id": {
      "block": "2zLe0KtlVctvvE21NuFt",
      "project": "J4aS4MEiOL7h1cpaHIvX",
      "version": 1
     },
     "outputId": null
    },
    "partialCollapse": true,
    "tags": []
   },
   "outputs": [],
   "source": [
    "# import numpy as np\n",
    "# rng = np.random.default_rng()\n",
    "# from scipy.stats import norm\n",
    "# dist = norm(loc=2, scale=4)  # our \"unknown\" distribution\n",
    "# data = dist.rvs(size=100, random_state=rng)\n"
   ]
  },
  {
   "cell_type": "code",
   "execution_count": 11,
   "metadata": {
    "execution": {
     "iopub.execute_input": "2022-05-17T04:15:34.543050Z",
     "iopub.status.busy": "2022-05-17T04:15:34.542793Z",
     "iopub.status.idle": "2022-05-17T04:15:34.544876Z",
     "shell.execute_reply": "2022-05-17T04:15:34.544542Z",
     "shell.execute_reply.started": "2022-05-17T04:15:34.543034Z"
    },
    "iooxa": {
     "id": {
      "block": "aVd0DPuiYriwd83DpX56",
      "project": "J4aS4MEiOL7h1cpaHIvX",
      "version": 1
     },
     "outputId": null
    },
    "partialCollapse": true,
    "tags": []
   },
   "outputs": [],
   "source": [
    "# import numpy as np\n",
    "# from sklearn.experimental import enable_iterative_imputer\n",
    "# from sklearn.impute import IterativeImputer\n",
    "# from sklearn.linear_model import LinearRegression\n",
    "# X=np.array(list(obs_Hg0_d['value'])).reshape(-1, 1)\n",
    "# lr = LinearRegression()\n",
    "# imp = IterativeImputer(estimator=lr,missing_values=np.nan, max_iter=10, verbose=2, imputation_order='roman',random_state=0)\n",
    "# X=imp.fit_transform(X)\n",
    "# X"
   ]
  },
  {
   "cell_type": "code",
   "execution_count": 12,
   "metadata": {
    "execution": {
     "iopub.execute_input": "2022-05-17T04:15:34.803294Z",
     "iopub.status.busy": "2022-05-17T04:15:34.803035Z",
     "iopub.status.idle": "2022-05-17T04:15:34.805026Z",
     "shell.execute_reply": "2022-05-17T04:15:34.804692Z",
     "shell.execute_reply.started": "2022-05-17T04:15:34.803278Z"
    },
    "iooxa": {
     "id": {
      "block": "6n6lXbkS7TgIEugyv1e9",
      "project": "J4aS4MEiOL7h1cpaHIvX",
      "version": 1
     },
     "outputId": null
    },
    "tags": []
   },
   "outputs": [],
   "source": [
    "# get_detrended_obs()[get_detrended_obs()['value'].isnull()==True]"
   ]
  },
  {
   "cell_type": "code",
   "execution_count": 13,
   "metadata": {
    "execution": {
     "iopub.execute_input": "2022-05-17T04:15:36.287523Z",
     "iopub.status.busy": "2022-05-17T04:15:36.287325Z",
     "iopub.status.idle": "2022-05-17T04:15:36.289344Z",
     "shell.execute_reply": "2022-05-17T04:15:36.289002Z",
     "shell.execute_reply.started": "2022-05-17T04:15:36.287508Z"
    },
    "iooxa": {
     "id": {
      "block": "0sd3KtKA96iltZLsmkPl",
      "project": "J4aS4MEiOL7h1cpaHIvX",
      "version": 1
     },
     "outputId": null
    },
    "tags": []
   },
   "outputs": [],
   "source": [
    "# def fun_95th(sample,axis): #function for calculating iqr\n",
    "#     iqr = np.quantile(sample, 0.975,axis) - np.quantile(sample, 0.025,axis) \n",
    "#     return iqr"
   ]
  },
  {
   "cell_type": "code",
   "execution_count": 14,
   "metadata": {
    "execution": {
     "iopub.execute_input": "2022-05-17T04:15:36.328474Z",
     "iopub.status.busy": "2022-05-17T04:15:36.328196Z",
     "iopub.status.idle": "2022-05-17T04:15:36.330156Z",
     "shell.execute_reply": "2022-05-17T04:15:36.329822Z",
     "shell.execute_reply.started": "2022-05-17T04:15:36.328455Z"
    },
    "iooxa": {
     "id": {
      "block": "UK4s9OGhwCkqEqfN17jJ",
      "project": "J4aS4MEiOL7h1cpaHIvX",
      "version": 1
     },
     "outputId": null
    },
    "tags": []
   },
   "outputs": [],
   "source": [
    "# refsitenum = 0\n",
    "# data = get_detrended_obs().to_numpy()\n",
    "# res = bootstrap((data,), fun_95th)\n",
    "# np.array(res.standard_error).mean()"
   ]
  },
  {
   "cell_type": "code",
   "execution_count": 15,
   "metadata": {
    "execution": {
     "iopub.execute_input": "2022-05-17T04:15:36.522827Z",
     "iopub.status.busy": "2022-05-17T04:15:36.522617Z",
     "iopub.status.idle": "2022-05-17T04:15:36.524548Z",
     "shell.execute_reply": "2022-05-17T04:15:36.524204Z",
     "shell.execute_reply.started": "2022-05-17T04:15:36.522811Z"
    },
    "iooxa": {
     "id": {
      "block": "Yr0BRd95xR7pjyGhb8cK",
      "project": "J4aS4MEiOL7h1cpaHIvX",
      "version": 1
     },
     "outputId": null
    },
    "tags": []
   },
   "outputs": [],
   "source": [
    "# refsitenum = 1\n",
    "# data=getBoxesAround(refsitenum).values\n",
    "# res = bootstrap((data,), np.mean)\n",
    "# (np.array(res.standard_error)).mean()"
   ]
  },
  {
   "cell_type": "code",
   "execution_count": null,
   "metadata": {
    "execution": {
     "iopub.execute_input": "2022-04-11T03:10:34.274480Z",
     "iopub.status.busy": "2022-04-11T03:10:34.274185Z",
     "iopub.status.idle": "2022-04-11T03:10:34.276308Z",
     "shell.execute_reply": "2022-04-11T03:10:34.275977Z",
     "shell.execute_reply.started": "2022-04-11T03:10:34.274465Z"
    },
    "iooxa": {
     "id": {
      "block": "j4KzN9bwPzCXDBuGbL3c",
      "project": "J4aS4MEiOL7h1cpaHIvX",
      "version": 1
     },
     "outputId": null
    },
    "tags": []
   },
   "outputs": [],
   "source": [
    "# refsitenum = 1\n",
    "# ConstantTerm,Spun_sigs,Npun_sigs,Mdd_sigs,Aqp_sigs,Apr_sigs=initEmcee(refsitenum)\n",
    "# initial = np.array([7.75, 11.66, 1.39, 13.63, 18.99])\n",
    "# print(np.array(getBoxesAround(refsitenum).mean()))\n",
    "# model = set_metric('mean')\n",
    "# print('model output')\n",
    "# model(initial)"
   ]
  },
  {
   "cell_type": "markdown",
   "metadata": {
    "iooxa": {
     "id": {
      "block": "Ss9mLmuzPoVm2UVb0rJu",
      "project": "J4aS4MEiOL7h1cpaHIvX",
      "version": 1
     }
    },
    "tags": []
   },
   "source": [
    "## Set Up Run"
   ]
  },
  {
   "cell_type": "code",
   "execution_count": 16,
   "metadata": {
    "execution": {
     "iopub.execute_input": "2022-05-17T04:15:43.007987Z",
     "iopub.status.busy": "2022-05-17T04:15:43.007714Z",
     "iopub.status.idle": "2022-05-17T04:15:43.010896Z",
     "shell.execute_reply": "2022-05-17T04:15:43.010482Z",
     "shell.execute_reply.started": "2022-05-17T04:15:43.007966Z"
    },
    "iooxa": {
     "id": {
      "block": "WF1IsPEX8ROQhmKloabY",
      "project": "J4aS4MEiOL7h1cpaHIvX",
      "version": 1
     },
     "outputId": null
    },
    "tags": []
   },
   "outputs": [],
   "source": [
    "def fun_95th(sample,axis): #function for calculating iqr\n",
    "    iqr = np.quantile(sample, 0.975,axis) - np.quantile(sample, 0.025,axis) \n",
    "    return iqr"
   ]
  },
  {
   "cell_type": "code",
   "execution_count": 17,
   "metadata": {
    "execution": {
     "iopub.execute_input": "2022-05-17T04:15:51.192842Z",
     "iopub.status.busy": "2022-05-17T04:15:51.192590Z",
     "iopub.status.idle": "2022-05-17T04:15:51.195064Z",
     "shell.execute_reply": "2022-05-17T04:15:51.194687Z",
     "shell.execute_reply.started": "2022-05-17T04:15:51.192822Z"
    },
    "iooxa": {
     "id": {
      "block": "ewA31vlY7NVtLgW3pYhD",
      "project": "J4aS4MEiOL7h1cpaHIvX",
      "version": 1
     },
     "outputId": null
    },
    "jupyter": {
     "source_hidden": true
    },
    "partialCollapse": true,
    "tags": []
   },
   "outputs": [],
   "source": [
    "# fun_95th(get_detrended_obs().value,0)"
   ]
  },
  {
   "cell_type": "code",
   "execution_count": 18,
   "metadata": {
    "execution": {
     "iopub.execute_input": "2022-05-17T04:15:52.711407Z",
     "iopub.status.busy": "2022-05-17T04:15:52.711150Z",
     "iopub.status.idle": "2022-05-17T04:15:52.713839Z",
     "shell.execute_reply": "2022-05-17T04:15:52.713496Z",
     "shell.execute_reply.started": "2022-05-17T04:15:52.711389Z"
    },
    "iooxa": {
     "id": {
      "block": "H1huRNgddmHsIiU4bMjO",
      "project": "J4aS4MEiOL7h1cpaHIvX",
      "version": 1
     },
     "outputId": null
    },
    "tags": []
   },
   "outputs": [],
   "source": [
    "def fun_iqr(sample,axis): #function for calculating 95th percentile range\n",
    "    result = np.quantile(sample, 0.75,axis) - np.quantile(sample, 0.25,axis) \n",
    "    return result"
   ]
  },
  {
   "cell_type": "code",
   "execution_count": 21,
   "metadata": {
    "execution": {
     "iopub.execute_input": "2022-05-17T04:19:20.806874Z",
     "iopub.status.busy": "2022-05-17T04:19:20.806596Z",
     "iopub.status.idle": "2022-05-17T04:19:20.813841Z",
     "shell.execute_reply": "2022-05-17T04:19:20.813461Z",
     "shell.execute_reply.started": "2022-05-17T04:19:20.806853Z"
    },
    "iooxa": {
     "id": {
      "block": "uG9yn6RZtbldFQYXBrCi",
      "project": "J4aS4MEiOL7h1cpaHIvX",
      "version": 1
     },
     "outputId": null
    },
    "tags": []
   },
   "outputs": [],
   "source": [
    "def run_simulation(RefSiteNum,metric,init):\n",
    "    \n",
    "    \n",
    "    #theta_true = (E1_true, E2_true, E3_true,E4_true, E5_true)\n",
    "    if metric == '95th':\n",
    "        y_true = fun_95th(obs_Hg0_d['value'],0)\n",
    "        data = obs_Hg0_d['value'].to_numpy()\n",
    "        res = bootstrap((data,), fun_95th)\n",
    "        y_err = (np.array(res.standard_error)).mean()\n",
    "        print(f\"The true value of y is: {y_true} \\n \")\n",
    "        print(f\"the error is: {y_err}\")\n",
    "    elif metric == 'mean':\n",
    "        y_true = obs_Hg0_d['value'].mean()\n",
    "        data = obs_Hg0_d['value'].to_numpy()\n",
    "        res = bootstrap((data,), np.mean)\n",
    "        y_err = (np.array(res.standard_error)).mean()\n",
    "        print(f\"The true value of y is: {y_true} \\n\")\n",
    "        print(f\"the error is: {y_err}\")\n",
    "    else:\n",
    "        y_true = getObsIQR(obs_Hg0_d)\n",
    "        data=obs_Hg0_d['value']\n",
    "        res = bootstrap((data,), fun_iqr)\n",
    "        y_err = (np.array(res.standard_error)).mean()\n",
    "\n",
    "    initial = init\n",
    "\n",
    "    ndim = len(initial)\n",
    "    # hyperparameter for jump size between guesses\n",
    "    step_size = 1e-5 \n",
    "    # number of chains to run simultaneously and their length\n",
    "    nwalkers = 100\n",
    "    niter = 1000\n",
    "\n",
    "    # setting initial guesses for all of the chains\n",
    "    p0 = [np.array(initial) + step_size * np.random.randn(ndim) for i in range(nwalkers)]\n",
    "\n",
    "    sampler = emcee.EnsembleSampler(nwalkers,ndim,lnprob, args=(y_true, y_err))\n",
    "    print(\"Running burn-in...\")\n",
    "    p0, _, _ = sampler.run_mcmc(p0, 500)\n",
    "    sampler.reset()\n",
    "\n",
    "    print(\"Running production...\")\n",
    "    pos, prob, state = sampler.run_mcmc(p0, niter)\n",
    "    return sampler"
   ]
  },
  {
   "cell_type": "code",
   "execution_count": 20,
   "metadata": {
    "execution": {
     "iopub.execute_input": "2022-05-17T04:16:16.137588Z",
     "iopub.status.busy": "2022-05-17T04:16:16.137296Z",
     "iopub.status.idle": "2022-05-17T04:16:16.143348Z",
     "shell.execute_reply": "2022-05-17T04:16:16.142957Z",
     "shell.execute_reply.started": "2022-05-17T04:16:16.137566Z"
    },
    "iooxa": {
     "id": {
      "block": "5mxlDa7hMy8MRlCEWTgk",
      "project": "J4aS4MEiOL7h1cpaHIvX",
      "version": 1
     },
     "outputId": null
    },
    "tags": []
   },
   "outputs": [],
   "source": [
    "def run_simulation_error(RefSiteNum,metric,init,error):\n",
    "    \n",
    "    \n",
    "    #theta_true = (E1_true, E2_true, E3_true,E4_true, E5_true)\n",
    "    if metric == '95th':\n",
    "        y_true = fun_95th(get_detrended_obs().value,0)\n",
    "        y_err = error\n",
    "        print(f\"The true value of y is: {y_true} \\n \")\n",
    "        print(f\"the error is: {y_err}\")\n",
    "    elif metric == 'mean':\n",
    "        y_true = obs_Hg0_d['value'].mean()\n",
    "        y_err = error\n",
    "        print(f\"The true value of y is: {y_true} \\n\")\n",
    "        print(f\"the error is: {y_err}\")\n",
    "    else:\n",
    "        y_true = getObsIQR(get_detrended_obs())\n",
    "        y_err = error\n",
    "\n",
    "    initial = init\n",
    "\n",
    "    ndim = len(initial)\n",
    "    # hyperparameter for jump size between guesses\n",
    "    step_size = 1e-5 \n",
    "    # number of chains to run simultaneously and their length\n",
    "    nwalkers = 50\n",
    "    niter = 1000\n",
    "\n",
    "    # setting initial guesses for all of the chains\n",
    "    p0 = [np.array(initial) + step_size * np.random.randn(ndim) for i in range(nwalkers)]\n",
    "\n",
    "    sampler = emcee.EnsembleSampler(nwalkers,ndim,lnprob, args=(y_true, y_err))\n",
    "    print(\"Running burn-in...\")\n",
    "    p0, _, _ = sampler.run_mcmc(p0, 500)\n",
    "    sampler.reset()\n",
    "\n",
    "    print(\"Running production...\")\n",
    "    pos, prob, state = sampler.run_mcmc(p0, niter)\n",
    "    return sampler"
   ]
  },
  {
   "cell_type": "code",
   "execution_count": null,
   "metadata": {},
   "outputs": [],
   "source": []
  }
 ],
 "metadata": {
  "interpreter": {
   "hash": "ae3921d027b6d86ac5cdd494f71f3e94eda0143dea569d3d83847618f361e8e8"
  },
  "iooxa": {
   "id": {
    "block": "Y7L8kQz1DhlqMOvYID6l",
    "project": "J4aS4MEiOL7h1cpaHIvX",
    "version": 1
   }
  },
  "kernelspec": {
   "display_name": "Jlab",
   "language": "python",
   "name": "jlab"
  },
  "language_info": {
   "codemirror_mode": {
    "name": "ipython",
    "version": 3
   },
   "file_extension": ".py",
   "mimetype": "text/x-python",
   "name": "python",
   "nbconvert_exporter": "python",
   "pygments_lexer": "ipython3",
   "version": "3.9.11"
  },
  "toc-autonumbering": true,
  "toc-showcode": false,
  "toc-showtags": true
 },
 "nbformat": 4,
 "nbformat_minor": 4
}
